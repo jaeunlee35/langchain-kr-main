{
 "cells": [
  {
   "cell_type": "code",
   "execution_count": 2,
   "metadata": {},
   "outputs": [
    {
     "data": {
      "text/plain": [
       "True"
      ]
     },
     "execution_count": 2,
     "metadata": {},
     "output_type": "execute_result"
    }
   ],
   "source": [
    "# API KEY를 환경변수로 관리하기 위한 설정 파일\n",
    "from dotenv import load_dotenv\n",
    "\n",
    "# API KEY 정보로드\n",
    "load_dotenv()"
   ]
  },
  {
   "cell_type": "markdown",
   "metadata": {},
   "source": [
    "## 도구(Tools)\n"
   ]
  },
  {
   "cell_type": "markdown",
   "metadata": {},
   "source": [
    "### 검색: TavilySearchResults\n"
   ]
  },
  {
   "cell_type": "code",
   "execution_count": 3,
   "metadata": {},
   "outputs": [],
   "source": [
    "from langchain_community.tools.tavily_search import TavilySearchResults\n",
    "\n",
    "search = TavilySearchResults()\n",
    "search.max_results = 10"
   ]
  },
  {
   "cell_type": "code",
   "execution_count": 4,
   "metadata": {},
   "outputs": [
    {
     "data": {
      "text/plain": [
       "10"
      ]
     },
     "execution_count": 4,
     "metadata": {},
     "output_type": "execute_result"
    }
   ],
   "source": [
    "result = search.run(\"테디노트 저자에 대해서 알아봐 줘\")\n",
    "len(result)"
   ]
  },
  {
   "cell_type": "code",
   "execution_count": 5,
   "metadata": {},
   "outputs": [
    {
     "name": "stdout",
     "output_type": "stream",
     "text": [
      "[{'url': 'https://teddylee777.github.io/lectures/', 'content': '️ 테디노트 유튜브(YouTube) ️ 머신러닝 스터디 혼자 해보기; 아래에 나열된 강의는 모두 제가 직접 촬영 및 진행한 내 새끼같은 강의들입니다. 강의에 대한 후기를 먼저 보시면 아시겠지만, 감사하게도 많은 분들이 수강하고 좋은 평가를 남겨 주셨습니다.'}, {'url': 'https://teddylee777.github.io/', 'content': '데이터와 인공지능을 좋아하는 개발자 노트. [Assistants API] Code Interpreter, Retrieval, Functions 활용법 2024년 02월 13일 34 분 소요 . OpenAI의 새로운 Assistants API는 대화와 더불어 강력한 도구 접근성을 제공합니다.'}, {'url': 'https://teddylee777.github.io/thoughts/데이터분석-인공지능-서적-추천/', 'content': '① 테디노트 유튜브 - 구경하러 가기! ② LangChain 한국어 튜토리얼 바로가기 👀. 데이터 분석/인공지능을 공부하려는 분들께 경험을 토대로 학습 방법과 책 추천 (1) 2020년 02월 07일 4 분 소요 목차. 테디노트 책 출간 소식 전해 드립니다~^^'}, {'url': 'https://www.udemy.com/user/teddynote/', 'content': 'Teddynote 테디노트 is a Udemy instructor with educational courses available for enrollment. Check out the latest courses taught by Teddynote 테디노트'}, {'url': 'https://comidoc.net/instructor/teddynote', 'content': 'Teddynote 테디노트 데이터분석, 머신러닝, 딥러닝의 대중화를 꿈꿉니다.'}, {'url': 'https://www.inflearn.com/course/테디노트-한방-판다스', 'content': \"테디노트를 소개합니다 📖. 안녕하세요, 데이터 분석 블로그와 유튜브 채널 ' 테디노트 '를 운영하고 있는 이경록입니다. 제가 처음 데이터분석을 공부할 당시에는 교육기관이나 자료가 많지 않아서 독학을 하는데 어려움이 많았습니다. 때문에 여러 시행착오도 ...\"}, {'url': 'https://namu.wiki/w/박진성(프로게이머)', 'content': '테디 장군: 2018년 스프링 1라운드 skt 전 2세트에 클템이 잘 큰 페이커의 라이즈를 보고 대장군 드립을 치다가 테디의 활약으로 진에어가 역전하자 테디에게 옮겨서 한 것이 그 시작이다. 이후 특유의 과감한 앞포지션과 인간 넥서스 역할 때문에 이 별명이 ...'}, {'url': 'https://www.inflearn.com/course/테디노트-파이썬', 'content': \"테디노트의 'Note Series' 무료 강의입니다. 이 강의는 파이썬 입문자를 대상으로 합니다. 막막한 파이썬 공부를 따라만 해도 공부가 될 수 있도록 별도의 전자책 교재를 제공합니다. 더 많은 강의는 유튜브 채널 '테디노트'에서 만나보세요. 배워요! 파이썬의 기초를 ...\"}, {'url': 'https://wikidocs.net/profile/info/book/10226', 'content': '저자: 테디노트, Min 판다스는 파이썬에서 가장 널리 쓰이는 라이브러리 가운데 하나입니다. 데이터 분석 전문가가 파이썬으로 데이터 분석을 한다면, 아마 대부분은 가장 먼저 판다스 라이브러리를 임포트할 것입니다. 데이터 분석을 위한 필수 요소로 널리 ...'}, {'url': 'https://www.udemy.com/course/pandas-i/', 'content': '테디노트(깃헙 블로그) 머신러닝 혼자서 스터디 . 파이썬 딥러닝 텐서플로 (정보문화사, 2021) 테디노트의 다른 강의가 궁금하다면? Google 공인! 텐서플로(TensorFlow) 개발자 자격증 취득 [테디노트] 한 방으로 끝내는 파이썬Python (전자책 포함)'}]\n"
     ]
    }
   ],
   "source": [
    "print(result)"
   ]
  },
  {
   "cell_type": "code",
   "execution_count": 6,
   "metadata": {},
   "outputs": [],
   "source": [
    "from langchain_openai import ChatOpenAI\n",
    "\n",
    "llm = ChatOpenAI(model=\"gpt-3.5-turbo\", temperature=0)"
   ]
  },
  {
   "cell_type": "code",
   "execution_count": 7,
   "metadata": {},
   "outputs": [
    {
     "data": {
      "text/plain": [
       "[SystemMessagePromptTemplate(prompt=PromptTemplate(input_variables=[], template='You are a helpful assistant')),\n",
       " MessagesPlaceholder(variable_name='chat_history', optional=True),\n",
       " HumanMessagePromptTemplate(prompt=PromptTemplate(input_variables=['input'], template='{input}')),\n",
       " MessagesPlaceholder(variable_name='agent_scratchpad')]"
      ]
     },
     "execution_count": 7,
     "metadata": {},
     "output_type": "execute_result"
    }
   ],
   "source": [
    "from langchain import hub\n",
    "\n",
    "# Get the prompt to use - you can modify this!\n",
    "prompt = hub.pull(\"hwchase17/openai-functions-agent\")\n",
    "prompt.messages"
   ]
  },
  {
   "cell_type": "code",
   "execution_count": 8,
   "metadata": {},
   "outputs": [],
   "source": [
    "from langchain.agents import create_openai_functions_agent, tool\n",
    "\n",
    "agent_tools = [TavilySearchResults()]\n",
    "agent = create_openai_functions_agent(llm, agent_tools, prompt)"
   ]
  },
  {
   "cell_type": "code",
   "execution_count": 9,
   "metadata": {},
   "outputs": [],
   "source": [
    "from langchain.agents import AgentExecutor\n",
    "\n",
    "agent_executor = AgentExecutor(agent=agent, tools=agent_tools, verbose=True)"
   ]
  },
  {
   "cell_type": "code",
   "execution_count": 10,
   "metadata": {},
   "outputs": [
    {
     "name": "stdout",
     "output_type": "stream",
     "text": [
      "\n",
      "\n",
      "\u001b[1m> Entering new AgentExecutor chain...\u001b[0m\n",
      "\u001b[32;1m\u001b[1;3mHello! How can I assist you today?\u001b[0m\n",
      "\n",
      "\u001b[1m> Finished chain.\u001b[0m\n"
     ]
    },
    {
     "data": {
      "text/plain": [
       "{'input': 'hi!', 'output': 'Hello! How can I assist you today?'}"
      ]
     },
     "execution_count": 10,
     "metadata": {},
     "output_type": "execute_result"
    }
   ],
   "source": [
    "agent_executor.invoke({\"input\": \"hi!\"})"
   ]
  },
  {
   "cell_type": "code",
   "execution_count": 11,
   "metadata": {},
   "outputs": [
    {
     "name": "stdout",
     "output_type": "stream",
     "text": [
      "\n",
      "\n",
      "\u001b[1m> Entering new AgentExecutor chain...\u001b[0m\n",
      "\u001b[32;1m\u001b[1;3m\n",
      "Invoking: `tavily_search_results_json` with `{'query': '테디노트 teddylee777 github'}`\n",
      "\n",
      "\n",
      "\u001b[0m\u001b[36;1m\u001b[1;3m[{'url': 'https://github.com/teddylee777/machine-learning', 'content': '경사하강법 기본 개념 (수학편) - 테디노트; 경사하강법 파이썬 코드로 구현 - 테디노트; 경사법 이해 - 바람님; 오차 역전파 (Back Propagation) Yes you should understand backprop; Stanford - CS231n - Introduction to Neural Networks; Stanford - CS231n - Backpropagation(한글설명) - Kyoseok Song님'}, {'url': 'https://github.com/teddylee777/langchain-kr', 'content': '🔒 본 내용의 저작권은 2024년 테디노트에 있습니다. 모든 권리는 저작권자에게 있으며, teddylee777@gmail.com 으로 문의할 수 있습니다. 본 내용의 무단 전재 및 재배포를 금지합니다. 본 내용의 전체 혹은 일부를 인용할 경우, 출처를 명확히 밝혀주시기 바랍니다.'}, {'url': 'https://teddylee777.github.io/', 'content': 'Teddy\\n💻 Creator & Data Lover\\n최근 포스트\\n[2024년 UPDATE] OpenAI Python API 튜토리얼 - Whisper API를 사용하여 TTS, STT 구현하기(3)\\n2024년 01월 08일\\n4 분 소요\\n이번 튜토리얼은 OpenAI 의 Whisper API 를 사용하여 음성을 텍스트로 변환하는 STT, 그리고 텍스트를 음성으로 변환하는 방법에 대해 알아보겠습니다.\\n + 웹사이트 정보 추출 - 스키마 활용법 (6)\\n2023년 10월 03일\\n6 분 소요\\n이번 포스팅에서는 랭체인(LangChain) 을 활용하여 웹사이트 본문을 스크래핑한 뒤, 형식(schema) 에 맞게 정보 추출 하는 방법에 대해 알아보겠습니다.\\n + PDF 기반 질의응답(Question-Answering) (8)\\n2023년 10월 13일\\n2 분 소요\\n이번 포스팅에서는 랭체인(LangChain) 을 활용하여 PDF 문서를 로드하고, 문서의 내용에 기반하여 질의응답(Question-Answering) 하는 방법에 대해 알아보겠습니다.\\n + PDF 문서요약, Map-Reduce (7)\\n2023년 10월 06일\\n11 분 소요\\n이번 포스팅에서는 랭체인(LangChain) 을 활용하여 PDF 문서를 로드하고, 문서의 내용을 요약 하는 방법에 대해 알아보겠습니다.\\n 랭체인(langchain) + 정형데이터(CSV, Excel) - ChatGPT 기반 데이터분석 (4)\\n2023년 10월 02일\\n4 분 소요\\n이번 포스팅에서는 랭체인(LangChain) 을 활용하여 정형데이터(CSV, Excel) 에 대한 ChatGPT 기반 질의응답을 통해 데이터 분석하는 방법 에 대해 알아보겠습니다.'}, {'url': 'https://github.com/teddylee777/openai-api-kr', 'content': '🔒 본 내용의 저작권은 2024년 테디노트에 있습니다. 모든 권리는 저작권자에게 있으며, teddylee777@gmail.com 으로 문의할 수 있습니다. 본 내용의 무단 전재 및 재배포를 금지합니다. 본 내용의 전체 혹은 일부를 인용할 경우, 출처를 명확히 밝혀주시기 바랍니다.'}, {'url': 'https://github.com/teddylee777', 'content': '️ 코드스테이츠 X 테디노트 - 깃헙 블로그 제작하기 강의. ️ SK그룹 - 2023년 상반기 텐서플로우 딥러닝 과정 강의. ️ S-Oil - 파이썬 데이터 분석, 머신러닝 과정 강의. ️ GS칼텍스 - 2023년 상반기 CDS 파이썬 데이터 분석, 머신러닝, 딥러닝(PyTorch) 과정 강의.'}]\u001b[0m\u001b[32;1m\u001b[1;3m테디노트(teddylee777)의 GitHub 주소는 [여기](https://github.com/teddylee777)입니다.\u001b[0m\n",
      "\n",
      "\u001b[1m> Finished chain.\u001b[0m\n"
     ]
    }
   ],
   "source": [
    "result = agent_executor.invoke(\n",
    "    {\"input\": \"테디노트(teddylee777)의 github 주소를 알려줘\"}\n",
    ")"
   ]
  },
  {
   "cell_type": "code",
   "execution_count": 12,
   "metadata": {},
   "outputs": [
    {
     "name": "stdout",
     "output_type": "stream",
     "text": [
      "테디노트(teddylee777)의 GitHub 주소는 [여기](https://github.com/teddylee777)입니다.\n"
     ]
    }
   ],
   "source": [
    "print(result[\"output\"])"
   ]
  },
  {
   "cell_type": "code",
   "execution_count": 13,
   "metadata": {},
   "outputs": [
    {
     "name": "stdout",
     "output_type": "stream",
     "text": [
      "\n",
      "\n",
      "\u001b[1m> Entering new AgentExecutor chain...\u001b[0m\n",
      "\u001b[32;1m\u001b[1;3m\n",
      "Invoking: `tavily_search_results_json` with `{'query': '판교 몽중헌 전화번호'}`\n",
      "\n",
      "\n",
      "\u001b[0m\u001b[36;1m\u001b[1;3m[{'url': 'https://m.blog.naver.com/soh_y_/223176564604', 'content': '몽중헌 판교점. 다양한 딤섬을 즐길 수 있는 분위기 좋은 중식당. • 주소 / 경기 성남시 분당구 분당내곡로 131. 판교 테크원타워 2층. • 주차 / 주차 가능. • 전화번호 / 031-601-7574. • 운영시간 / 월~금 11:30~22:00. 브레이크 타임 15:00~17:30. 라스트 오더 21:00.'}, {'url': 'http://www.mongjungheon.co.kr/pangyo.jsp', 'content': '전화번호 031.601.7574 주소 경기도 성남시 분당구 분당내곡로 131 판교 테크원 타워 2f 대중교통 지하철 신분당선 판교역 1번 출구로 나온 뒤, 우측 판교 테크원 타워 2f 제휴 상품권. cj상품권, cj외식전용상품권 *지류 상품권에 한해 적용 가능. 제휴 카드'}, {'url': 'https://app.catchtable.co.kr/ct/shop/mongjungheon_pg', 'content': '중식 | 판교 몽중헌 판교점 ... - 판교 테크원 타워 건물 내 지하 주차장을 이용 부탁드리며 , 2시간 이용가능 합니다. ... 전화번호 031-601-7574. 잘못된 정보가 있나요? 수정이 필요하거나 폐점한 매장이라면 알려주세요! 저장 1,136. 예약하기 ...'}, {'url': 'https://blog.naver.com/PostView.naver?blogId=pdi0903&logNo=222685325353&directAccess=false', 'content': '몽중헌 판교점. 경기 성남시 분당구 분당내곡로 131, 판교테크원타워 2층. 매장전화번호) 031-601-7574. 영업시간) 11:30 ~ 22:00. (브레이크타임 15:00 ~ 17:30) 존재하지 않는 이미지입니다. 판교테크원타워는 판교역 1번출구로 나오면. 바로 보이는 이곳. 존재하지 않는 ...'}, {'url': 'https://www.siksinhot.com/P/1455887', 'content': '몽중헌 판교점입니다. 홍콩 본토의 맛을 재현한 중식레스토랑입니다. 경기, 분당-판교에 위치하고 있습니다. ... 경기 성남시 분당구 판교역로 146번 길 20 현대백화점 9층 지번 : 백현동 541 전화번호 : 050713521963 영업시간 : 10:30~ 오후 9:00 *출처 : ...'}]\u001b[0m\u001b[32;1m\u001b[1;3m판교 몽중헌의 전화번호는 031-601-7574 입니다.\u001b[0m\n",
      "\n",
      "\u001b[1m> Finished chain.\u001b[0m\n"
     ]
    }
   ],
   "source": [
    "result = agent_executor.invoke({\"input\": \"판교 몽중헌의 전화번호를 알려줘\"})"
   ]
  },
  {
   "cell_type": "code",
   "execution_count": 14,
   "metadata": {},
   "outputs": [
    {
     "data": {
      "text/plain": [
       "'판교 몽중헌의 전화번호는 031-601-7574 입니다.'"
      ]
     },
     "execution_count": 14,
     "metadata": {},
     "output_type": "execute_result"
    }
   ],
   "source": [
    "result[\"output\"]"
   ]
  }
 ],
 "metadata": {
  "kernelspec": {
   "display_name": "py-test",
   "language": "python",
   "name": "python3"
  },
  "language_info": {
   "codemirror_mode": {
    "name": "ipython",
    "version": 3
   },
   "file_extension": ".py",
   "mimetype": "text/x-python",
   "name": "python",
   "nbconvert_exporter": "python",
   "pygments_lexer": "ipython3",
   "version": "3.10.13"
  }
 },
 "nbformat": 4,
 "nbformat_minor": 2
}
