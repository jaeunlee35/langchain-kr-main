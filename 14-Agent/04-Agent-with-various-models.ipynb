{
 "cells": [
  {
   "cell_type": "markdown",
   "id": "d904ebb6",
   "metadata": {},
   "source": [
    "## Agent\n",
    "\n",
    "에이전트 프레임워크를 가장 잘 이해하기 위해서, 온라인에서 정보를 찾는 도구 하나와 우리가 인덱스로 로드한 특정 데이터를 찾는 도구 하나를 가진 에이전트를 만들어 보겠습니다.\n",
    "\n",
    "### 단계별 추적을 위한 LangSmith 설정\n",
    "\n",
    "LangChain으로 구축한 애플리케이션은 여러 단계에 걸쳐 LLM 호출을 여러 번 사용하게 됩니다.\n",
    "\n",
    "단계별로 호출되는 로직이 더 복잡해짐에 따라, 체인이나 에이전트 내부에서 정확히 무슨 일이 일어나고 있는지 조사할 수 있는 능력이 매우 중요해집니다. 이를 위한 최선의 방법은 [LangSmith](https://smith.langchain.com)를 사용하는 것입니다.\n",
    "\n",
    "LangSmith가 필수는 아니지만, 매우 유용한 도구입니다. LangSmith를 사용하고 싶다면, 위의 링크에서 가입한 후, 로깅 추적을 시작하기 위해 환경 변수를 설정해야 합니다.\n",
    "\n",
    "## 도구(Tools)\n",
    "\n",
    "Agent 가 활용할 도구를 정의하여 Agent 가 추론(reasoning)을 수행할 때 활용하도록 만들 수 있습니다.\n",
    "\n",
    "Tavily Search 는 그 중 대표적인 **검색 도구** 입니다. 검색을 통해 최신 정보에 접근하여 검색 결과를 가지고 답변을 생성할 수 있습니다. 도구는 이처럼 검색 도구 뿐만아니라 Python 코드를 실행할 수 있는 도구, 직접 정의한 함수를 실행하는 도구 등 다양한 종류와 방법론을 제공합니다.\n"
   ]
  },
  {
   "cell_type": "markdown",
   "id": "27328084",
   "metadata": {},
   "source": [
    "### 검색도구: Tavily Search\n",
    "\n",
    "LangChain에는 Tavily 검색 엔진을 도구로 쉽게 사용할 수 있는 내장 도구가 있습니다.\n",
    "\n",
    "Tavily Search 를 사용하기 위해서는 API KEY를 발급 받아야 합니다.\n",
    "\n",
    "- [Tavily Search API 발급받기](https://app.tavily.com/sign-in)\n",
    "\n",
    "발급 받은 API KEY 를 다음과 같이 환경변수에 등록 합니다.\n",
    "\n",
    "아래 코드의 주석을 풀고 발급받은 API KEY 를 설정합니다.\n"
   ]
  },
  {
   "cell_type": "code",
   "execution_count": 1,
   "id": "50d1b459",
   "metadata": {},
   "outputs": [],
   "source": [
    "import os\n",
    "\n",
    "# TAVILY API KEY를 기입합니다.\n",
    "# os.environ[\"TAVILY_API_KEY\"] = \"TAVILY API KEY 입력\"\n",
    "\n",
    "# 디버깅을 위한 프로젝트명을 기입합니다.\n",
    "os.environ[\"LANGCHAIN_PROJECT\"] = \"AGENT TUTORIAL\"\n",
    "os.environ[\"LANGCHAIN_TRACING_V2\"] = \"true\""
   ]
  },
  {
   "cell_type": "code",
   "execution_count": 2,
   "id": "6e82eaf9",
   "metadata": {},
   "outputs": [
    {
     "data": {
      "text/plain": [
       "True"
      ]
     },
     "execution_count": 2,
     "metadata": {},
     "output_type": "execute_result"
    }
   ],
   "source": [
    "# API KEY를 환경변수로 관리하기 위한 설정 파일\n",
    "from dotenv import load_dotenv\n",
    "\n",
    "# API KEY 정보로드\n",
    "load_dotenv()"
   ]
  },
  {
   "cell_type": "code",
   "execution_count": 3,
   "id": "9ecdb860",
   "metadata": {},
   "outputs": [],
   "source": [
    "# TavilySearchResults 클래스를 langchain_community.tools.tavily_search 모듈에서 가져옵니다.\n",
    "from langchain_community.tools.tavily_search import TavilySearchResults\n",
    "\n",
    "# TavilySearchResults 클래스의 인스턴스를 생성합니다\n",
    "# k=5은 검색 결과를 5개까지 가져오겠다는 의미입니다\n",
    "search = TavilySearchResults(k=5)"
   ]
  },
  {
   "cell_type": "markdown",
   "id": "2e659b03",
   "metadata": {},
   "source": [
    "`search.invoke` 함수는 주어진 문자열에 대한 검색을 실행합니다.\n",
    "\n",
    "`invoke()` 함수에 검색하고 싶은 검색어를 넣어 검색을 수행합니다.\n"
   ]
  },
  {
   "cell_type": "code",
   "execution_count": 4,
   "id": "7d65db4b",
   "metadata": {},
   "outputs": [
    {
     "data": {
      "text/plain": [
       "[{'url': 'https://app.catchtable.co.kr/ct/shop/mongjungheon_pg',\n",
       "  'content': '중식 | 판교 몽중헌 판교점 ... - 판교 테크원 타워 건물 내 지하 주차장을 이용 부탁드리며 , 2시간 이용가능 합니다. 주류 및 콜키지 안내 ... 전화번호 031-601-7574 ...'},\n",
       " {'url': 'https://blog.naver.com/PostView.naver?blogId=pdi0903&logNo=222685325353&directAccess=false',\n",
       "  'content': \"ㅋㅋ\\n\\u200b\\n메인 메뉴판 보실게요\\n\\u200b\\n\\u200b\\n사진을 찍다가 지쳐하니까\\n앞에 일행이 메뉴판을 들어줬습니다\\nㅋㅋㅋㅋㅋ\\n민망..\\n\\u200b\\n저희 일행은\\n딤섬 4종류\\u200b\\n하교(통새우) ₩12,000\\n구채교(새우와 부추) ₩12,000\\n근채교(새우, 돼지고기, 샐러리, 칠리페퍼) ₩12,000\\n상하이소롱포(상하이식 돼지고기) ₩15,000\\n그리고\\n삼선짬뽕 ₩18,000\\n사천탕면 ₩18,000\\n게살볶음밥 ₩18,000\\n을 주문했습니다.\\n 왜 딤섬전문점인지 알겠다는 ㅎㅎ\\n\\u200b\\n이어서 나온\\n\\u200b\\n\\u200b\\n일행1의 XO소스 게살 볶음밥\\n\\u200b\\n\\u200b\\n일행2의 사천탕면\\n\\u200b\\n\\u200b\\n이건 제가 주문한 삼선짬뽕 입니다.\\n \\u200b\\n몽중헌 판교점\\n경기 성남시 분당구 분당내곡로 131, 판교테크원타워 2층\\n매장전화번호) 031-601-7574\\n영업시간) 11:30 ~ 22:00\\n(브레이크타임 15:00 ~ 17:30)\\n\\u200b\\n판교테크원타워는 판교역 1번출구로 나오면\\n바로 보이는 이곳\\n\\u200b\\n\\u200b\\n투썸플레이스가 있는 이 건물이 되겠습니다!!\\n \\u200b\\n딤섬으로 유명한 '몽중헌'은\\n판교역 바로앞에 있는\\n판교테크원타워 2층에 위치해있구요\\n몇주전부터 오픈예정 현수막을 보고\\n기대를 하고 있었습니다 ㅋㅋ\\n\\u200b\\n안녕하세요 오늘은 신규오픈한지 3일밖에 안된 따끈따끈한 신상맛집 소개해드립니다 ㅎ 이미 방송으로 유명...\\nm.blog.naver.com\\n판교테크원타워 정보는 위 포스팅 참고해주시고\\n\\u200b\\n그럼 만나러 가보겠습니다.\\n \\u200b\\n기존에 알고있던 가격에서 다 조금씩 올랐더라구요\\n(2~3천원씩)\\n\\u200b\\n\\u200b\\n기본반찬이에요\\n(짜사이와 무, 땅콩)\\n\\u200b\\n\\u200b\\n딤섬 3가지(하교, 구채교, 근채교)는\\n각 1개씩\"},\n",
       " {'url': 'http://www.mongjungheon.co.kr/pangyo.jsp',\n",
       "  'content': '남기는 백주\\n500ml 75,000\\n농향형 34% 연태지방의 수수를 원료로 만든 향이 좋고 부드러운 백주\\n500ml 65,000\\n250ml 38,000\\n125ml 28,000\\nCHAMPAGNE · SPARKLING WINE\\n350,000\\n250,000\\n160,000\\n90,000\\n70,000\\nWHITE WINE\\n170,000\\n110,000\\n95,000\\n90,000\\n85,000\\n75,000\\nRED WINE\\n380,000\\n180,000\\n150,000\\n130,000\\n120,000\\n100,000\\n95,000\\n90,000\\n80,000\\n75,000\\n70,000\\nGLASS WINE\\n15,000\\n15,000\\nDISTILLED LIQUOR\\n375ml 35,000\\n375ml 35,000\\nBEER\\n320ml 11,000\\n640ml 14,000\\n580ml 11,000\\n600ml 12,000\\n610ml 12,000\\n330ml 8,000\\n330ml 8,000\\nSOFT DRINK\\n7,000\\n7,000\\n5,000\\n5,000\\n4,500\\n8,000\\nCOFFEE\\nhot 5,000\\nIced 6,000\\nhot 6,000\\nIced 7,000\\nhot 5,000\\nDim Sum Special Course\\nLUNCH - 70,000 (1人)\\nDINNER - 90,000 (1人)\\n Chef-Recommended\\nSpicy Dish\\n대만\\n금문향형 58% 최상의 수질과 기후를 가진 금문도에서 자란 수수를 엄선하여 제조한 술로, 부드럽고 감미로운 맛이 우수한 백주\\n600ml 180,000\\n300ml 100,000\\n貴州省\\n귀주성\\n장향형\\n53%\\n수수를 원료로 하여 8번의 발효와 9번의 증류를 거친 후 3년 이상 숙성시킨 술로, 자연 그대로의 발효공법을 통해 오직 좋은 원재료 만으로 빚어낸 중국의 대표 명주\\n500ml 1,500,000\\n농향형\\n33%\\n중국 명주를 만드는 강 ‘적수하’의 맑은 물과 엄선된 붉은 수수를 사용해 양조한 술로, 풍부한 향이 진한 여운을 남기고 깔끔한 목 넘김과 깊은 맛이 특징인 백주\\n450ml 100,000\\n四川省\\n사천성\\n농향형\\n52% 찹쌀, 수수, , 옥수수, 쌀 등 다섯 가지 곡물을 재료로 빚은 술로, 높은 도수에 비해 부드럽고 풍부한 맛이 일품인 중국의 대표 명주\\n500ml 750,000\\n농향형\\n52% *2인 이상 주문 시 가능합니다.\\n냉채류\\n탕류\\n잡품류\\n바닷가재·새우류\\n쇠고기류\\n돼지고기류\\n닭고기류\\n구이류\\n채소·두부류\\n면류\\n밥류\\nSteamed Dim Sum\\n조리에 사용되는 닭육수용 닭은 국내산만 사용합니다.\\n 맛과 맑고 그윽한 잔향이 특징인 백주\\n500ml 250,000\\n봉향형 45% 중국 양귀비의 최애술로 여왕의 술이라 불리며,\\n부드럽고 달콤한 맛과 깔끔하고 청아한 향의 조화가 일품인 백주\\n500ml 200,000\\n청향형\\n49% 불순물이 없고 깨끗한 맛으로 유명한 대중적인 술로, 편안하게 즐길 수 있는 부드러운 향의 백주\\n280ml 45,000\\n山東省\\n산동성\\n농향형 52% 공자의 약속이라는 뜻을 벨벳 같은 편안함과 부드러움이 느껴지는 균형감이 좋은 백주\\n480ml 150,000\\n농향형\\n38% 중국의 8대 명주이자 중국의 건륭제가 즐겨마시던 술로, 부드럽고 긴 여운이 특징인 백주\\n500ml 80,000\\n山西省 · 天津\\n산서성 · 천진\\n봉향형 45% 중국 4대 명주이자 중국 진시황이 즐겨 마시던 술로,\\n30년동안 숙성되어 깊고 묵직한'},\n",
       " {'url': 'https://m.blog.naver.com/soh_y_/223176564604',\n",
       "  'content': '\\u200b\\n\\u200b\\n짜사이, 땅콩볶음, 피클 기본찬 3종과\\n고추기름이 섞인 간장이 함께 나와요.\\n\\u200b\\n주문 메뉴\\n상하이 소롱포 / 15,000\\n백채교 / 12,000\\nXO소스의 소포 / 12,000\\n돼지고기 탕수육(소) / 40,000\\n한우 일품 자장면 / 14,000\\n\\u200b\\n상하이 소롱포\\n소롱포는 깊은 수저 위에 올리고\\n젓가락으로 피를 터뜨려 뜨거운 육즙을 맛봐요.\\n돼지고기 잡내가 느껴지지 않고 감칠맛 제대로였어요.\\n 주차 가능\\n\\u200b\\n• 전화번호 / 031-601-7574\\n\\u200b\\n• 운영시간 / 월~금 11:30~22:00\\n브레이크 타임 15:00~17:30\\n라스트 오더 21:00\\n토~일 11:30~21:30\\n브레이크 타임 15:00~17:30\\n라스트 오더 20:30\\n\\u200b\\n경기도 성남시 분당구 분당내곡로 131 판교 테크원 타워 2F\\n안녕하세요.\\n 8. 7. 6:00\\n\\u200b\\n\\u200b\\n몽중헌 판교점\\n다양한 딤섬을 즐길 수 있는 분위기 좋은 중식당\\n• 주소 / 경기 성남시 분당구 분당내곡로 131\\n판교 테크원타워 2층\\n\\u200b\\n• 주차 / \\u200b\\n고급진 분위기가 좋았던 몽중헌 판교점 후기에요:)\\n\\u200b\\n외부 모습\\n\\u200b\\n몽중헌 판교점은\\n랩 오브 파리바게트 옆 에스컬레이터를 이용해\\n2층으로 올라오면 좌측에 위치해요.\\n \\u200b\\n#몽중헌 #몽중헌메뉴 #몽중헌예약 #몽중헌룸예약\\n#몽중헌회식 #몽중헌데이트 #몽중헌판교점 #테크원맛집\\n#테크원주차 #판교역맛집 #판교맛집 #판교중식당\\n#분당중식당 #판교분위기좋은 #판교데이트 #판교회식\\n#판교소개팅 #내돈내먹\\n맛집, 일상을 공유해요_.\\n'},\n",
       " {'url': 'https://m.blog.naver.com/shoodingstar/223282238040',\n",
       "  'content': '전화 | 031-601-7574. 영업시간 | 매일 11:30-22:00 (Break Time 15:00-17:30, Last Order 21:00) ... [분당/판교] 판교 테크원타워 맛집 중식당 몽중헌 CJ 라이프 스타일 스페셜 코스. 몽중헌 판교점 판교 테크원타워에 위치한 #몽중헌 판교점 분위기도 좋고 음식도 맛있어서 좋아하는 ...'}]"
      ]
     },
     "execution_count": 4,
     "metadata": {},
     "output_type": "execute_result"
    }
   ],
   "source": [
    "# 검색 결과를 가져옵니다.\n",
    "search.invoke(\"판교 몽중헌 전화번호는 무엇인가요?\")"
   ]
  },
  {
   "cell_type": "markdown",
   "id": "eb5d738f",
   "metadata": {},
   "source": [
    "### PDF 기반 문서 검색 도구: Retriever\n",
    "\n",
    "우리의 데이터에 대해 조회를 수행할 retriever도 생성합니다.\n"
   ]
  },
  {
   "cell_type": "markdown",
   "id": "f63d9f73",
   "metadata": {},
   "source": [
    "이 코드는 웹 기반 문서 로더, 문서 분할기, 벡터 저장소, 그리고 OpenAI 임베딩을 사용하여 문서 검색 시스템을 구축합니다.\n",
    "\n",
    "여기서는 PDF 문서를 `FAISS` DB 에 저장하고 조회하는 retriever 를 생성합니다.\n"
   ]
  },
  {
   "cell_type": "code",
   "execution_count": 5,
   "id": "68f2a3c9",
   "metadata": {},
   "outputs": [],
   "source": [
    "from langchain_text_splitters import RecursiveCharacterTextSplitter\n",
    "from langchain_community.vectorstores import FAISS\n",
    "from langchain_openai import OpenAIEmbeddings\n",
    "from langchain.document_loaders import PyPDFLoader\n",
    "\n",
    "# PDF 파일 로드. 파일의 경로 입력\n",
    "loader = PyPDFLoader(\"data/SPRI_AI_Brief_2023년12월호_F.pdf\")\n",
    "\n",
    "# 텍스트 분할기를 사용하여 문서를 분할합니다.\n",
    "text_splitter = RecursiveCharacterTextSplitter(chunk_size=1000, chunk_overlap=100)\n",
    "\n",
    "# 문서를 로드하고 분할합니다.\n",
    "split_docs = loader.load_and_split(text_splitter)\n",
    "\n",
    "# VectorStore를 생성합니다.\n",
    "vector = FAISS.from_documents(split_docs, OpenAIEmbeddings())\n",
    "\n",
    "# Retriever를 생성합니다.\n",
    "retriever = vector.as_retriever()"
   ]
  },
  {
   "cell_type": "markdown",
   "id": "458a2b03",
   "metadata": {},
   "source": [
    "이 함수는 `retriever` 객체의 `get_relevant_documents` 메소드를 사용하여 \"YouTube의 2024년부터 AI 생성콘텐츠 표시 의무화에 대한 내용을 알려줘\" 와 관련된 문서들 중 첫 번째 문서를 반환합니다.\n",
    "\n",
    "이는 특정 쿼리에 대한 가장 **관련성 높은 문서** 를 찾는 데 사용됩니다.\n"
   ]
  },
  {
   "cell_type": "code",
   "execution_count": 6,
   "id": "2dab83e0",
   "metadata": {},
   "outputs": [
    {
     "name": "stderr",
     "output_type": "stream",
     "text": [
      "/Users/teddy/Library/Caches/pypoetry/virtualenvs/langchain-kr-lwwSZlnu-py3.11/lib/python3.11/site-packages/langchain_core/_api/deprecation.py:119: LangChainDeprecationWarning: The method `BaseRetriever.get_relevant_documents` was deprecated in langchain-core 0.1.46 and will be removed in 0.3.0. Use invoke instead.\n",
      "  warn_deprecated(\n"
     ]
    },
    {
     "data": {
      "text/plain": [
       "Document(page_content='SPRi AI Brief |  \\n2023-12 월호\\n14유튜브 , 2024년부터 AI 생성 콘텐츠 표시 의무화 \\nn유튜브가 몇 달 안에 생성 AI를 사용한 콘텐츠에 AI 라벨 표시를 의무화하기로 했으며 , 이를 \\n준수하지 않는 콘텐츠는 삭제하고 크리에이터에 대한 수익 배분도 중단할 수 있다고 설명\\nn유튜브는 AI 생성 콘텐츠가 신원 파악이 가능한 개인을 모방한 경우 개인정보 침해 신고 \\n절차에 따라 콘텐츠 삭제 요청도 받을 계획KEY Contents\\n£유튜브 , 생성 AI 콘텐츠에 AI 라벨 표시 안 하면 콘텐츠 삭제\\nn유튜브가 2023 년 11월 14일 공식 블로그를 통해 몇 달 안에 생성 AI를 사용한 콘텐츠에 AI \\n라벨을 표시하는 새로운 규칙을 시행한다고 발표 \\n∙실제로 일어나지 않은 사건을 사실적으로 묘사하거나 실제로 하지 않은 말이나 행동을 보여주는 콘텐츠와 \\n같이 AI 도구를 사용해 사실적으로 변경되거나 합성된 콘텐츠에는 AI 라벨을 표시 필요\\n∙유튜브는 이러한 규칙이 선거나 분쟁 상황, 공중 보건, 공직자 관련 문제와 같이 민감한 주제를 다루는 \\n콘텐츠에서 특히 중요하다고 강조했으며 , 크리에이터가 AI로 제작한 콘텐츠에 AI 라벨을 표시하지 않으면 \\n해당 콘텐츠는 삭제되고 광고 수익을 배분하는 유튜브 파트너 프로그램도 정지될 수 있음\\n∙유튜브는 두 가지 방식으로 AI를 이용한 콘텐츠의 변경이나 합성 여부를 시청자에게 전달할 계획으로 \\n동영상 설명 패널에 라벨을 표시하는 방식이 기본이며 , 민감한 주제를 다루는 특정 유형의 콘텐츠는 동영상 \\n플레이어에 더욱 눈에 띄는 라벨을 적용 \\n∙유튜브는 커뮤니티 정책에 위반되는 일부 합성 콘텐츠에 대해서는 라벨 지정 여부와 관계없이 삭제할 \\n방침으로 , 가령 사실적인 폭력을 보여주는 합성 동영상이 시청자에게 충격이나 혐오감을 줄 수 있다면 \\n삭제될 수 있음\\n£유튜브 , 특정인을 모방한 AI 생성 콘텐츠에 대한 삭제 요청에도 대응 계획', metadata={'source': 'data/SPRI_AI_Brief_2023년12월호_F.pdf', 'page': 16})"
      ]
     },
     "execution_count": 6,
     "metadata": {},
     "output_type": "execute_result"
    }
   ],
   "source": [
    "# PDf 문서에서 Query 에 대한 관련성 높은 Chunk 를 가져옵니다.\n",
    "retriever.get_relevant_documents(\n",
    "    \"YouTube의 2024년부터 AI 생성콘텐츠 표시 의무화에 대한 내용을 알려줘\"\n",
    ")[0]"
   ]
  },
  {
   "cell_type": "markdown",
   "id": "98528482",
   "metadata": {},
   "source": [
    "이제 우리가 검색을 수행할 인덱스를 채웠으므로, 이를 에이전트가 제대로 사용할 수 있는 도구로 쉽게 변환할 수 있습니다.\n"
   ]
  },
  {
   "cell_type": "markdown",
   "id": "6006cbc9",
   "metadata": {},
   "source": [
    "`create_retriever_tool` 함수는 `langchain` 라이브러리의 `tools.retriever` 모듈에서 가져온다. 이 함수는 특정 데이터를 검색하기 위한 도구를 생성하는 데 사용된다. `langchain`은 언어 모델과 관련된 다양한 기능을 제공하는 라이브러리로, 이 중 검색 도구 생성 기능은 데이터 검색 및 처리 작업을 용이하게 한다.\n"
   ]
  },
  {
   "cell_type": "code",
   "execution_count": 7,
   "id": "4e2790ca",
   "metadata": {},
   "outputs": [],
   "source": [
    "# langchain 패키지의 tools 모듈에서 retriever 도구를 생성하는 함수를 가져옵니다.\n",
    "from langchain.tools.retriever import create_retriever_tool"
   ]
  },
  {
   "cell_type": "markdown",
   "id": "c2a11e44",
   "metadata": {},
   "source": [
    "이 함수는 `create_retriever_tool`을 호출하여 `retriever_tool`을 생성합니다. 이 도구는 `LangSmith`에 대한 정보를 검색하는 데 사용됩니다.\n",
    "\n",
    "사용자가 `LangSmith`에 대해 궁금한 점이 있을 때, 이 도구를 통해 질문을 해결할 수 있습니다. 함수는 `retriever` 인스턴스, 검색 도구의 이름인 `langsmith_search`, 그리고 사용자에게 도구 사용 방법을 안내하는 메시지를 인자로 받습니다.\n"
   ]
  },
  {
   "cell_type": "code",
   "execution_count": 8,
   "id": "683b1878",
   "metadata": {},
   "outputs": [],
   "source": [
    "retriever_tool = create_retriever_tool(\n",
    "    retriever,\n",
    "    name=\"pdf_search\",\n",
    "    description=\"2023년 12월 AI 관련 정보를 PDF 문서에서 검색합니다. '2023년 12월 AI 산업동향' 과 관련된 질문은 이 도구를 사용해야 합니다!\",\n",
    ")"
   ]
  },
  {
   "cell_type": "markdown",
   "id": "24519b31",
   "metadata": {},
   "source": [
    "### Agent 가 사용할 도구 목록 정의\n",
    "\n",
    "이제 두 가지를 모두 만들었으므로, Agent 가 사용할 도구 목록을 만들 수 있습니다.\n"
   ]
  },
  {
   "cell_type": "markdown",
   "id": "6d30888a",
   "metadata": {},
   "source": [
    "`tools` 리스트는 `search`와 `retriever_tool`을 포함합니다. 이 리스트는 검색 및 정보 검색 도구를 저장하는 데 사용됩니다. 각 요소는 특정 작업을 수행하는 데 필요한 기능을 제공합니다.\n"
   ]
  },
  {
   "cell_type": "code",
   "execution_count": 9,
   "id": "1984dd66",
   "metadata": {},
   "outputs": [],
   "source": [
    "# tools 리스트에 search와 retriever_tool을 추가합니다.\n",
    "tools = [search, retriever_tool]"
   ]
  },
  {
   "cell_type": "markdown",
   "id": "e7891219",
   "metadata": {},
   "source": [
    "## 에이전트 생성\n",
    "\n",
    "이제 도구를 정의했으니 에이전트를 생성할 수 있습니다. OpenAI Functions 에이전트를 사용할 것입니다.\n",
    "\n",
    "먼저, 에이전트가 활용할 LLM을 정의합니다.\n"
   ]
  },
  {
   "cell_type": "markdown",
   "id": "3110ad07",
   "metadata": {},
   "source": [
    "`ChatOpenAI` 클래스는 `langchain_openai` 모듈에서 가져온 것으로, OpenAI의 언어 모델을 활용하여 대화형 AI를 구현할 수 있게 해줍니다.\n",
    "\n",
    "이 예제에서는 `gpt-4-turbo-preview` 모델을 사용하며, `temperature` 매개변수를 `0`으로 설정하여 예측의 변동성을 최소화합니다.\n"
   ]
  },
  {
   "cell_type": "code",
   "execution_count": 10,
   "id": "f6e6cbfd",
   "metadata": {},
   "outputs": [],
   "source": [
    "from langchain_openai import ChatOpenAI\n",
    "\n",
    "# ChatOpenAI 클래스를 langchain_openai 모듈에서 가져옵니다.\n",
    "gpt = ChatOpenAI(model=\"gpt-4-turbo-preview\", temperature=0)"
   ]
  },
  {
   "cell_type": "markdown",
   "id": "c2d88156",
   "metadata": {},
   "source": [
    "다음으로, 에이전트를 안내하기 위해 사용하고 싶은 프롬프트를 선택합니다.\n",
    "\n",
    "이 프롬프트의 내용을 보고 싶고 LangSmith에 접근할 수 있다면, 다음으로 이동하세요:\n",
    "\n",
    "다운로드 받아 활용할 프롬프트: https://smith.langchain.com/hub/hwchase17/openai-functions-agent\n"
   ]
  },
  {
   "cell_type": "markdown",
   "id": "08a2924e",
   "metadata": {},
   "source": [
    "`hub.pull()` 함수를 사용하여 리소스를 가져온 후, `prompt.messages`를 통해 해당 리소스의 메시지에 접근합니다.\n"
   ]
  },
  {
   "cell_type": "code",
   "execution_count": 11,
   "id": "73d175c9",
   "metadata": {},
   "outputs": [
    {
     "data": {
      "text/plain": [
       "[SystemMessagePromptTemplate(prompt=PromptTemplate(input_variables=[], template='You are a helpful assistant')),\n",
       " MessagesPlaceholder(variable_name='chat_history', optional=True),\n",
       " HumanMessagePromptTemplate(prompt=PromptTemplate(input_variables=['input'], template='{input}')),\n",
       " MessagesPlaceholder(variable_name='agent_scratchpad')]"
      ]
     },
     "execution_count": 11,
     "metadata": {},
     "output_type": "execute_result"
    }
   ],
   "source": [
    "from langchain import hub\n",
    "\n",
    "# hub에서 prompt를 가져옵니다 - 이 부분을 수정할 수 있습니다!\n",
    "prompt = hub.pull(\"hwchase17/openai-functions-agent\")\n",
    "\n",
    "# prompt 의 messages를 출력합니다.\n",
    "prompt.messages"
   ]
  },
  {
   "cell_type": "markdown",
   "id": "25a7a1d0",
   "metadata": {},
   "source": [
    "이제 LLM, 프롬프트 및 도구로 에이전트를 초기화할 수 있습니다. 에이전트는 입력을 받아 어떤 `Action` 을 취할지 결정하는 역할을 합니다.\n",
    "\n",
    "중요한 것은 에이전트가 `Action` 들을 실행하지 않는다는 것입니다 - 그것은 AgentExecutor(다음 단계)에 의해 수행됩니다.\n"
   ]
  },
  {
   "cell_type": "code",
   "execution_count": 12,
   "id": "ce2cdda8",
   "metadata": {},
   "outputs": [],
   "source": [
    "from langchain.agents import create_openai_functions_agent\n",
    "\n",
    "# OpenAI 함수 기반 에이전트를 생성합니다.\n",
    "# llm, tools, prompt를 인자로 사용합니다.\n",
    "agent = create_openai_functions_agent(gpt, tools, prompt)"
   ]
  },
  {
   "cell_type": "markdown",
   "id": "5592f1b3",
   "metadata": {},
   "source": [
    "마지막으로, 우리는 에이전트(`agent`)를 AgentExecutor 내부의 도구들과 결합합니다(이는 반복적으로 에이전트를 호출하고 도구들을 실행할 것입니다).\n"
   ]
  },
  {
   "cell_type": "markdown",
   "id": "a0a992b4",
   "metadata": {},
   "source": [
    "이 코드는 `langchain.agents` 모듈에서 `AgentExecutor` 클래스를 가져와 인스턴스를 생성합니다. 생성 시, `agent`, `tools` 객체를 인자로 전달하고, `verbose=True`를 설정하여 상세한 로그 출력을 활성화합니다. `AgentExecutor`는 주어진 에이전트와 도구들을 사용하여 작업을 실행하는 역할을 합니다.\n"
   ]
  },
  {
   "cell_type": "code",
   "execution_count": 13,
   "id": "88bb3aab",
   "metadata": {},
   "outputs": [],
   "source": [
    "from langchain.agents import AgentExecutor\n",
    "\n",
    "# AgentExecutor 클래스를 사용하여 agent와 tools를 설정하고, 상세한 로그를 출력하도록 verbose를 True로 설정합니다.\n",
    "agent_executor = AgentExecutor(agent=agent, tools=tools, verbose=True)"
   ]
  },
  {
   "cell_type": "markdown",
   "id": "614375b3",
   "metadata": {},
   "source": [
    "## 에이전트 실행하기\n",
    "\n",
    "이제 몇 가지 질의에 대해 에이전트를 실행할 수 있습니다!\n",
    "\n",
    "현재 이러한 모든 질의는 **상태(Stateless) 가 없는** 질의입니다(이전 상호작용을 기억하지 않습니다).\n"
   ]
  },
  {
   "cell_type": "markdown",
   "id": "d8120a9e",
   "metadata": {},
   "source": [
    "`agent_executor` 객체의 `invoke` 메소드는 딕셔너리 형태의 인자를 받아 처리합니다. 이 예제에서는 `input` 키에 `hi!` 값을 할당한 딕셔너리를 인자로 전달하고 있습니다. 이는 일반적으로 AI 에이전트, 함수 실행기, 또는 명령 처리기 등의 객체에서 입력을 처리하기 위해 사용됩니다.\n"
   ]
  },
  {
   "cell_type": "code",
   "execution_count": 14,
   "id": "9cfbad15",
   "metadata": {},
   "outputs": [
    {
     "name": "stdout",
     "output_type": "stream",
     "text": [
      "\n",
      "\n",
      "\u001b[1m> Entering new AgentExecutor chain...\u001b[0m\n",
      "\u001b[32;1m\u001b[1;3m\n",
      "Invoking: `tavily_search_results_json` with `{'query': '판교 몽중헌 전화번호'}`\n",
      "\n",
      "\n",
      "\u001b[0m\u001b[36;1m\u001b[1;3m[{'url': 'http://www.mongjungheon.co.kr/pangyo.jsp', 'content': '남기는 백주\\n500ml 75,000\\n농향형 34% 연태지방의 수수를 원료로 만든 향이 좋고 부드러운 백주\\n500ml 65,000\\n250ml 38,000\\n125ml 28,000\\nCHAMPAGNE · SPARKLING WINE\\n350,000\\n250,000\\n160,000\\n90,000\\n70,000\\nWHITE WINE\\n170,000\\n110,000\\n95,000\\n90,000\\n85,000\\n75,000\\nRED WINE\\n380,000\\n180,000\\n150,000\\n130,000\\n120,000\\n100,000\\n95,000\\n90,000\\n80,000\\n75,000\\n70,000\\nGLASS WINE\\n15,000\\n15,000\\nDISTILLED LIQUOR\\n375ml 35,000\\n375ml 35,000\\nBEER\\n320ml 11,000\\n640ml 14,000\\n580ml 11,000\\n600ml 12,000\\n610ml 12,000\\n330ml 8,000\\n330ml 8,000\\nSOFT DRINK\\n7,000\\n7,000\\n5,000\\n5,000\\n4,500\\n8,000\\nCOFFEE\\nhot 5,000\\nIced 6,000\\nhot 6,000\\nIced 7,000\\nhot 5,000\\nDim Sum Special Course\\nLUNCH - 70,000 (1人)\\nDINNER - 90,000 (1人)\\n Chef-Recommended\\nSpicy Dish\\n대만\\n금문향형 58% 최상의 수질과 기후를 가진 금문도에서 자란 수수를 엄선하여 제조한 술로, 부드럽고 감미로운 맛이 우수한 백주\\n600ml 180,000\\n300ml 100,000\\n貴州省\\n귀주성\\n장향형\\n53%\\n수수를 원료로 하여 8번의 발효와 9번의 증류를 거친 후 3년 이상 숙성시킨 술로, 자연 그대로의 발효공법을 통해 오직 좋은 원재료 만으로 빚어낸 중국의 대표 명주\\n500ml 1,500,000\\n농향형\\n33%\\n중국 명주를 만드는 강 ‘적수하’의 맑은 물과 엄선된 붉은 수수를 사용해 양조한 술로, 풍부한 향이 진한 여운을 남기고 깔끔한 목 넘김과 깊은 맛이 특징인 백주\\n450ml 100,000\\n四川省\\n사천성\\n농향형\\n52% 찹쌀, 수수, , 옥수수, 쌀 등 다섯 가지 곡물을 재료로 빚은 술로, 높은 도수에 비해 부드럽고 풍부한 맛이 일품인 중국의 대표 명주\\n500ml 750,000\\n농향형\\n52% *2인 이상 주문 시 가능합니다.\\n냉채류\\n탕류\\n잡품류\\n바닷가재·새우류\\n쇠고기류\\n돼지고기류\\n닭고기류\\n구이류\\n채소·두부류\\n면류\\n밥류\\nSteamed Dim Sum\\n조리에 사용되는 닭육수용 닭은 국내산만 사용합니다.\\n 맛과 맑고 그윽한 잔향이 특징인 백주\\n500ml 250,000\\n봉향형 45% 중국 양귀비의 최애술로 여왕의 술이라 불리며,\\n부드럽고 달콤한 맛과 깔끔하고 청아한 향의 조화가 일품인 백주\\n500ml 200,000\\n청향형\\n49% 불순물이 없고 깨끗한 맛으로 유명한 대중적인 술로, 편안하게 즐길 수 있는 부드러운 향의 백주\\n280ml 45,000\\n山東省\\n산동성\\n농향형 52% 공자의 약속이라는 뜻을 벨벳 같은 편안함과 부드러움이 느껴지는 균형감이 좋은 백주\\n480ml 150,000\\n농향형\\n38% 중국의 8대 명주이자 중국의 건륭제가 즐겨마시던 술로, 부드럽고 긴 여운이 특징인 백주\\n500ml 80,000\\n山西省 · 天津\\n산서성 · 천진\\n봉향형 45% 중국 4대 명주이자 중국 진시황이 즐겨 마시던 술로,\\n30년동안 숙성되어 깊고 묵직한'}, {'url': 'https://app.catchtable.co.kr/ct/shop/mongjungheon_pg', 'content': '중식 | 판교 몽중헌 판교점 ... - 판교 테크원 타워 건물 내 지하 주차장을 이용 부탁드리며 , 2시간 이용가능 합니다. ... 전화번호 031-601-7574. 잘못된 정보가 있나요? 수정이 필요하거나 폐점한 매장이라면 알려주세요! 저장 1,225. 예약하기 ...'}, {'url': 'http://www.mongjungheon.co.kr/', 'content': '*2인 이상 주문 시 가능합니다.\\n냉채류\\n탕류\\n잡품류\\n바닷가재·새우류\\n쇠고기류\\n돼지고기류\\n닭고기류\\n구이류\\n채소·두부류\\n면류\\n밥류\\nSteamed Dim Sum\\n조리에 사용되는 닭육수용 닭은 국내산만 사용합니다.\\n Chef-Recommended\\nSpicy Dish\\nDim Sum Special Course\\nLUNCH - 75,000 (1人)\\nDINNER - 95,000 (1人)\\n조리에 사용되는 닭육수용 닭은 국내산만 사용합니다.\\n 할인 제공 종료\\n기프트 카드\\n몽중헌 브랜드 전용 기프트 카드\\nChef ’s Special Course / All Day\\n180,000 (1人)\\n조리에 사용되는 닭육수용 닭은 국내산만 사용합니다.\\n 매장정보\\n대중교통\\n제휴 상품권\\nCJ상품권, CJ외식전용상품권 *지류 상품권에 한해 적용 가능\\n제휴 카드\\n현대카드 블랙 / 퍼플 / 레드 / 그린 / 핑크 / 대한항공 더퍼스트 카드의 ‘클럽 고메 서비스’ 운영 종료로, 2024년 1월 1일부터 몽중헌 전 매장 10% 현장 Chef-Recommended\\nSpicy Dish\\nFried Dim Sum\\n조리에 사용되는 닭육수용 닭은 국내산만 사용합니다.\\n'}, {'url': 'https://blog.naver.com/PostView.naver?blogId=pdi0903&logNo=222685325353&directAccess=false', 'content': \"ㅋㅋ\\n\\u200b\\n메인 메뉴판 보실게요\\n\\u200b\\n\\u200b\\n사진을 찍다가 지쳐하니까\\n앞에 일행이 메뉴판을 들어줬습니다\\nㅋㅋㅋㅋㅋ\\n민망..\\n\\u200b\\n저희 일행은\\n딤섬 4종류\\u200b\\n하교(통새우) ₩12,000\\n구채교(새우와 부추) ₩12,000\\n근채교(새우, 돼지고기, 샐러리, 칠리페퍼) ₩12,000\\n상하이소롱포(상하이식 돼지고기) ₩15,000\\n그리고\\n삼선짬뽕 ₩18,000\\n사천탕면 ₩18,000\\n게살볶음밥 ₩18,000\\n을 주문했습니다.\\n 왜 딤섬전문점인지 알겠다는 ㅎㅎ\\n\\u200b\\n이어서 나온\\n\\u200b\\n\\u200b\\n일행1의 XO소스 게살 볶음밥\\n\\u200b\\n\\u200b\\n일행2의 사천탕면\\n\\u200b\\n\\u200b\\n이건 제가 주문한 삼선짬뽕 입니다.\\n \\u200b\\n몽중헌 판교점\\n경기 성남시 분당구 분당내곡로 131, 판교테크원타워 2층\\n매장전화번호) 031-601-7574\\n영업시간) 11:30 ~ 22:00\\n(브레이크타임 15:00 ~ 17:30)\\n\\u200b\\n판교테크원타워는 판교역 1번출구로 나오면\\n바로 보이는 이곳\\n\\u200b\\n\\u200b\\n투썸플레이스가 있는 이 건물이 되겠습니다!!\\n \\u200b\\n딤섬으로 유명한 '몽중헌'은\\n판교역 바로앞에 있는\\n판교테크원타워 2층에 위치해있구요\\n몇주전부터 오픈예정 현수막을 보고\\n기대를 하고 있었습니다 ㅋㅋ\\n\\u200b\\n안녕하세요 오늘은 신규오픈한지 3일밖에 안된 따끈따끈한 신상맛집 소개해드립니다 ㅎ 이미 방송으로 유명...\\nm.blog.naver.com\\n판교테크원타워 정보는 위 포스팅 참고해주시고\\n\\u200b\\n그럼 만나러 가보겠습니다.\\n \\u200b\\n기존에 알고있던 가격에서 다 조금씩 올랐더라구요\\n(2~3천원씩)\\n\\u200b\\n\\u200b\\n기본반찬이에요\\n(짜사이와 무, 땅콩)\\n\\u200b\\n\\u200b\\n딤섬 3가지(하교, 구채교, 근채교)는\\n각 1개씩\"}, {'url': 'https://m.blog.naver.com/soh_y_/223176564604', 'content': '\\u200b\\n\\u200b\\n짜사이, 땅콩볶음, 피클 기본찬 3종과\\n고추기름이 섞인 간장이 함께 나와요.\\n\\u200b\\n주문 메뉴\\n상하이 소롱포 / 15,000\\n백채교 / 12,000\\nXO소스의 소포 / 12,000\\n돼지고기 탕수육(소) / 40,000\\n한우 일품 자장면 / 14,000\\n\\u200b\\n상하이 소롱포\\n소롱포는 깊은 수저 위에 올리고\\n젓가락으로 피를 터뜨려 뜨거운 육즙을 맛봐요.\\n돼지고기 잡내가 느껴지지 않고 감칠맛 제대로였어요.\\n 주차 가능\\n\\u200b\\n• 전화번호 / 031-601-7574\\n\\u200b\\n• 운영시간 / 월~금 11:30~22:00\\n브레이크 타임 15:00~17:30\\n라스트 오더 21:00\\n토~일 11:30~21:30\\n브레이크 타임 15:00~17:30\\n라스트 오더 20:30\\n\\u200b\\n경기도 성남시 분당구 분당내곡로 131 판교 테크원 타워 2F\\n안녕하세요.\\n 8. 7. 6:00\\n\\u200b\\n\\u200b\\n몽중헌 판교점\\n다양한 딤섬을 즐길 수 있는 분위기 좋은 중식당\\n• 주소 / 경기 성남시 분당구 분당내곡로 131\\n판교 테크원타워 2층\\n\\u200b\\n• 주차 / \\u200b\\n고급진 분위기가 좋았던 몽중헌 판교점 후기에요:)\\n\\u200b\\n외부 모습\\n\\u200b\\n몽중헌 판교점은\\n랩 오브 파리바게트 옆 에스컬레이터를 이용해\\n2층으로 올라오면 좌측에 위치해요.\\n \\u200b\\n#몽중헌 #몽중헌메뉴 #몽중헌예약 #몽중헌룸예약\\n#몽중헌회식 #몽중헌데이트 #몽중헌판교점 #테크원맛집\\n#테크원주차 #판교역맛집 #판교맛집 #판교중식당\\n#분당중식당 #판교분위기좋은 #판교데이트 #판교회식\\n#판교소개팅 #내돈내먹\\n맛집, 일상을 공유해요_.\\n'}]\u001b[0m\u001b[32;1m\u001b[1;3m판교 몽중헌의 전화번호는 **031-601-7574**입니다.\u001b[0m\n",
      "\n",
      "\u001b[1m> Finished chain.\u001b[0m\n",
      "답변: 판교 몽중헌의 전화번호는 **031-601-7574**입니다.\n"
     ]
    }
   ],
   "source": [
    "# 검색 결과를 요청 후 질문에 대한 답변을 출력합니다.\n",
    "response = agent_executor.invoke(\n",
    "    {\"input\": \"판교 몽중헌 전화번호를 검색하여 결과를 알려주세요.\"}\n",
    ")\n",
    "print(f'답변: {response[\"output\"]}')"
   ]
  },
  {
   "cell_type": "markdown",
   "id": "604b2a9c",
   "metadata": {},
   "source": [
    "`agent_executor` 객체의 `invoke` 메소드를 사용하여, 질문을 입력으로 제공합니다.\n"
   ]
  },
  {
   "cell_type": "code",
   "execution_count": 15,
   "id": "4a0582ab",
   "metadata": {},
   "outputs": [
    {
     "name": "stdout",
     "output_type": "stream",
     "text": [
      "\n",
      "\n",
      "\u001b[1m> Entering new AgentExecutor chain...\u001b[0m\n",
      "\u001b[32;1m\u001b[1;3m\n",
      "Invoking: `pdf_search` with `{'query': 'YouTube 2024년 AI 생성콘텐츠 표시 의무화'}`\n",
      "\n",
      "\n",
      "\u001b[0m\u001b[33;1m\u001b[1;3mSPRi AI Brief |  \n",
      "2023-12 월호\n",
      "14유튜브 , 2024년부터 AI 생성 콘텐츠 표시 의무화 \n",
      "n유튜브가 몇 달 안에 생성 AI를 사용한 콘텐츠에 AI 라벨 표시를 의무화하기로 했으며 , 이를 \n",
      "준수하지 않는 콘텐츠는 삭제하고 크리에이터에 대한 수익 배분도 중단할 수 있다고 설명\n",
      "n유튜브는 AI 생성 콘텐츠가 신원 파악이 가능한 개인을 모방한 경우 개인정보 침해 신고 \n",
      "절차에 따라 콘텐츠 삭제 요청도 받을 계획KEY Contents\n",
      "£유튜브 , 생성 AI 콘텐츠에 AI 라벨 표시 안 하면 콘텐츠 삭제\n",
      "n유튜브가 2023 년 11월 14일 공식 블로그를 통해 몇 달 안에 생성 AI를 사용한 콘텐츠에 AI \n",
      "라벨을 표시하는 새로운 규칙을 시행한다고 발표 \n",
      "∙실제로 일어나지 않은 사건을 사실적으로 묘사하거나 실제로 하지 않은 말이나 행동을 보여주는 콘텐츠와 \n",
      "같이 AI 도구를 사용해 사실적으로 변경되거나 합성된 콘텐츠에는 AI 라벨을 표시 필요\n",
      "∙유튜브는 이러한 규칙이 선거나 분쟁 상황, 공중 보건, 공직자 관련 문제와 같이 민감한 주제를 다루는 \n",
      "콘텐츠에서 특히 중요하다고 강조했으며 , 크리에이터가 AI로 제작한 콘텐츠에 AI 라벨을 표시하지 않으면 \n",
      "해당 콘텐츠는 삭제되고 광고 수익을 배분하는 유튜브 파트너 프로그램도 정지될 수 있음\n",
      "∙유튜브는 두 가지 방식으로 AI를 이용한 콘텐츠의 변경이나 합성 여부를 시청자에게 전달할 계획으로 \n",
      "동영상 설명 패널에 라벨을 표시하는 방식이 기본이며 , 민감한 주제를 다루는 특정 유형의 콘텐츠는 동영상 \n",
      "플레이어에 더욱 눈에 띄는 라벨을 적용 \n",
      "∙유튜브는 커뮤니티 정책에 위반되는 일부 합성 콘텐츠에 대해서는 라벨 지정 여부와 관계없이 삭제할 \n",
      "방침으로 , 가령 사실적인 폭력을 보여주는 합성 동영상이 시청자에게 충격이나 혐오감을 줄 수 있다면 \n",
      "삭제될 수 있음\n",
      "£유튜브 , 특정인을 모방한 AI 생성 콘텐츠에 대한 삭제 요청에도 대응 계획\n",
      "\n",
      "삭제될 수 있음\n",
      "£유튜브 , 특정인을 모방한 AI 생성 콘텐츠에 대한 삭제 요청에도 대응 계획\n",
      "n유튜브는 몇 달 내에 신원 파악이 가능한 개인의 얼굴이나 음성을 모방한 AI 생성 콘텐츠에 대하\n",
      "여 개인정보 침해 신고 절차를 마련해 삭제 요청을 받을 계획  \n",
      "∙단, 모든 콘텐츠가 삭제 대상은 아니며 유튜브는 콘텐츠가 패러디나 풍자인지 , 해당 영상에서 삭제 요청을 \n",
      "한 특정인을 식별할 수 있는지 , 공직자나 유명인이 등장하는지 등 다양한 요소를 고려할 예정\n",
      "∙유튜브는 음반사가 아티스트의 고유한 노래나 목소리를 모방한 AI 생성 음악에 대하여 삭제를 요청할 수 \n",
      "있는 기능도 도입할 방침\n",
      "☞ 출처 : Youtube, Our approach to responsible AI innovation, 2023.11.14.\n",
      "\n",
      "▹ 구글, 앤스로픽에 20억 달러 투자로 생성 AI 협력 강화 ················································ 11\n",
      "   ▹ IDC, 2027 년 AI 소프트웨어 매출 2,500 억 달러 돌파 전망··········································· 12\n",
      "   ▹ 빌 게이츠 , AI 에이전트로 인한 컴퓨터 사용의 패러다임 변화 전망································ 13\n",
      "   ▹ 유튜브 , 2024 년부터 AI 생성 콘텐츠 표시 의무화 ···························································· 14\n",
      " 3. 기술/연구\n",
      "   ▹ 영국 과학혁신기술부 , AI 안전 연구소 설립 발표······························································ 15\n",
      "   ▹ 구글 딥마인드 , 범용 AI 모델의 기능과 동작에 대한 분류 체계 발표······························ 16\n",
      "   ▹ 갈릴레오의 LLM 환각 지수 평가에서 GPT-4 가 가장 우수 ··········································· 17\n",
      "   \n",
      " 4. 인력/교육     \n",
      "   ▹ 영국 옥스퍼드 인터넷 연구소 , AI 기술자의 임금이 평균 21% 높아······························· 18\n",
      "   \n",
      "   \n",
      " \n",
      "Ⅱ. 주요 행사\n",
      "   ▹CES 2024 ····························································································································· 19\n",
      "\n",
      "SPRi AI Brief |  \n",
      "2023-12 월호\n",
      "4미국 법원, 예술가들이 생성 AI 기업에 제기한 저작권 소송 기각\n",
      "n미국 캘리포니아 북부지방법원은 미드저니 , 스태빌리티 AI, 디비언트아트를 대상으로 예술가 \n",
      "3인이 제기한 저작권 침해 소송을 기각\n",
      "n법원은 기각 이유로 고소장에 제시된 상당수 작품이 저작권청에 등록되지 않았으며 , AI로 \n",
      "생성된 이미지와 특정 작품 간 유사성을 입증하기 어렵다는 점을 제시 KEY Contents\n",
      "£예술가들의 AI 저작권 침해 소송, 저작권 미등록과 증거불충분으로 기각\n",
      "n미국 캘리포니아 북부지방법원의 윌리엄 오릭(W illiam Orrick) 판사는 2023년 10월 30일 미드저니\n",
      "(M idjourney),  스태빌리티 AI(Stability AI), 디비언트아트 (DeviantArt) 에 제기된 저작권 침해 소송을 기각 \n",
      "∙2023 년 1월 예술가 사라 앤더슨 (Sarah Anderson), 캘리 맥커넌 (Kelly McKernan), 칼라 \n",
      "오르티즈 (Karla Ortiz) 는 이미지 생성 AI 서비스를 개발한 3개 기업을 상대로 저작권 침해 소송을 제기\n",
      "∙예술가들은 3개 기업이 AI 모델을 학습시키기 위해 원작자 동의 없이 작품을 학습 데이터셋에 \n",
      "포함하여 저작권을 침해했다고 주장했으며 , 법원은 지난 4월 피소 기업들이 제출한 기각 신청을 \n",
      "수용해 소송을 기각 \n",
      "n오릭 판사는 판결문에서 소송을 기각한 핵심 이유로 예술가들의 저작권 미등록을 제시\n",
      "∙판결문은 소송을 제기한 캘리 맥커넌과 칼라 오르티즈가 미국 저작권청에 예술 작품에 대한 저작권을 \n",
      "제출하지 않았다는 점을 지적했으며 , 사라 앤더슨은 고소장에 인용된 수백 개의 작품 중 16개 작품에 \n",
      "대해서만 저작권을 보유\n",
      "n판결문은 또한 생성 AI 모델 훈련에 사용된 모든 이미지에 저작권이 있다거나 , 생성 AI로 만든 \n",
      "이미지가 저작물을 이용해 훈련되었으므로 저작물의 파생 이미지라는 주장은 개연성이  부족하다고  \n",
      "지적\u001b[0m\u001b[32;1m\u001b[1;3m유튜브는 2024년부터 생성 AI를 사용한 콘텐츠에 AI 라벨 표시를 의무화할 계획입니다. 이 규정을 준수하지 않는 콘텐츠는 삭제되며, 크리에이터에 대한 수익 배분도 중단될 수 있습니다. 유튜브는 특히 신원 파악이 가능한 개인을 모방한 경우, 개인정보 침해 신고 절차에 따라 콘텐츠 삭제 요청을 받을 예정입니다.\n",
      "\n",
      "새로운 규칙에 따라, 실제로 일어나지 않은 사건을 사실적으로 묘사하거나 실제로 하지 않은 말이나 행동을 보여주는 등 AI 도구를 사용해 사실적으로 변경되거나 합성된 콘텐츠에는 AI 라벨을 표시해야 합니다. 유튜브는 이러한 규칙이 선거나 분쟁 상황, 공중 보건, 공직자 관련 문제와 같이 민감한 주제를 다루는 콘텐츠에서 특히 중요하다고 강조했습니다.\n",
      "\n",
      "AI로 제작한 콘텐츠에 AI 라벨을 표시하지 않으면 해당 콘텐츠는 삭제되고, 광고 수익을 배분하는 유튜브 파트너 프로그램도 정지될 수 있습니다. 유튜브는 AI를 이용한 콘텐츠의 변경이나 합성 여부를 시청자에게 전달하기 위해 동영상 설명 패널에 라벨을 표시하는 방식을 기본으로 하며, 민감한 주제를 다루는 특정 유형의 콘텐츠에는 동영상 플레이어에 더욱 눈에 띄는 라벨을 적용할 계획입니다.\n",
      "\n",
      "또한, 유튜브는 커뮤니티 정책에 위반되는 일부 합성 콘텐츠에 대해서는 라벨 지정 여부와 관계없이 삭제할 방침입니다. 예를 들어, 사실적인 폭력을 보여주는 합성 동영상이 시청자에게 충격이나 혐오감을 줄 수 있다면 삭제될 수 있습니다.\n",
      "\n",
      "유튜브는 몇 달 내에 신원 파악이 가능한 개인의 얼굴이나 음성을 모방한 AI 생성 콘텐츠에 대하여 개인정보 침해 신고 절차를 마련해 삭제 요청을 받을 계획입니다. 모든 콘텐츠가 삭제 대상은 아니며, 유튜브는 콘텐츠가 패러디나 풍자인지, 해당 영상에서 삭제 요청을 한 특정인을 식별할 수 있는지, 공직자나 유명인이 등장하는지 등 다양한 요소를 고려할 예정입니다. 음반사가 아티스트의 고유한 노래나 목소리를 모방한 AI 생성 음악에 대하여 삭제를 요청할 수 있는 기능도 도입할 방침입니다.\u001b[0m\n",
      "\n",
      "\u001b[1m> Finished chain.\u001b[0m\n",
      "답변: 유튜브는 2024년부터 생성 AI를 사용한 콘텐츠에 AI 라벨 표시를 의무화할 계획입니다. 이 규정을 준수하지 않는 콘텐츠는 삭제되며, 크리에이터에 대한 수익 배분도 중단될 수 있습니다. 유튜브는 특히 신원 파악이 가능한 개인을 모방한 경우, 개인정보 침해 신고 절차에 따라 콘텐츠 삭제 요청을 받을 예정입니다.\n",
      "\n",
      "새로운 규칙에 따라, 실제로 일어나지 않은 사건을 사실적으로 묘사하거나 실제로 하지 않은 말이나 행동을 보여주는 등 AI 도구를 사용해 사실적으로 변경되거나 합성된 콘텐츠에는 AI 라벨을 표시해야 합니다. 유튜브는 이러한 규칙이 선거나 분쟁 상황, 공중 보건, 공직자 관련 문제와 같이 민감한 주제를 다루는 콘텐츠에서 특히 중요하다고 강조했습니다.\n",
      "\n",
      "AI로 제작한 콘텐츠에 AI 라벨을 표시하지 않으면 해당 콘텐츠는 삭제되고, 광고 수익을 배분하는 유튜브 파트너 프로그램도 정지될 수 있습니다. 유튜브는 AI를 이용한 콘텐츠의 변경이나 합성 여부를 시청자에게 전달하기 위해 동영상 설명 패널에 라벨을 표시하는 방식을 기본으로 하며, 민감한 주제를 다루는 특정 유형의 콘텐츠에는 동영상 플레이어에 더욱 눈에 띄는 라벨을 적용할 계획입니다.\n",
      "\n",
      "또한, 유튜브는 커뮤니티 정책에 위반되는 일부 합성 콘텐츠에 대해서는 라벨 지정 여부와 관계없이 삭제할 방침입니다. 예를 들어, 사실적인 폭력을 보여주는 합성 동영상이 시청자에게 충격이나 혐오감을 줄 수 있다면 삭제될 수 있습니다.\n",
      "\n",
      "유튜브는 몇 달 내에 신원 파악이 가능한 개인의 얼굴이나 음성을 모방한 AI 생성 콘텐츠에 대하여 개인정보 침해 신고 절차를 마련해 삭제 요청을 받을 계획입니다. 모든 콘텐츠가 삭제 대상은 아니며, 유튜브는 콘텐츠가 패러디나 풍자인지, 해당 영상에서 삭제 요청을 한 특정인을 식별할 수 있는지, 공직자나 유명인이 등장하는지 등 다양한 요소를 고려할 예정입니다. 음반사가 아티스트의 고유한 노래나 목소리를 모방한 AI 생성 음악에 대하여 삭제를 요청할 수 있는 기능도 도입할 방침입니다.\n"
     ]
    }
   ],
   "source": [
    "response = agent_executor.invoke(\n",
    "    {\n",
    "        \"input\": \"YouTube 2024년부터 AI 생성콘텐츠 표시 의무화에 대한 내용을 PDF 문서에서 알려줘\"\n",
    "    }\n",
    ")\n",
    "print(f'답변: {response[\"output\"]}')"
   ]
  },
  {
   "cell_type": "markdown",
   "id": "64a29e62",
   "metadata": {},
   "source": [
    "## EEVE Korean (LM Studio) - 동작 X\n"
   ]
  },
  {
   "cell_type": "code",
   "execution_count": 16,
   "id": "ce187079",
   "metadata": {},
   "outputs": [],
   "source": [
    "from langchain_openai import ChatOpenAI"
   ]
  },
  {
   "cell_type": "code",
   "execution_count": 17,
   "id": "a71a27dd",
   "metadata": {},
   "outputs": [],
   "source": [
    "eeve = ChatOpenAI(\n",
    "    model=\"teddylee777/EEVE-Korean-Instruct-10.8B-v1.0-gguf\",\n",
    "    base_url=\"http://localhost:1234/v1\",\n",
    "    api_key=\"lm-studio\",\n",
    "    temperature=0.1,\n",
    ")"
   ]
  },
  {
   "cell_type": "code",
   "execution_count": 18,
   "id": "d0a2ac08",
   "metadata": {},
   "outputs": [],
   "source": [
    "eeve_agent = create_openai_functions_agent(eeve, tools, prompt)"
   ]
  },
  {
   "cell_type": "code",
   "execution_count": 19,
   "id": "251115ab",
   "metadata": {},
   "outputs": [],
   "source": [
    "eeve_agent_executor = AgentExecutor(\n",
    "    agent=eeve_agent,\n",
    "    tools=tools,\n",
    "    verbose=True,\n",
    "    handle_parsing_errors=True,\n",
    ")"
   ]
  },
  {
   "cell_type": "code",
   "execution_count": 20,
   "id": "17bee74f",
   "metadata": {},
   "outputs": [
    {
     "name": "stdout",
     "output_type": "stream",
     "text": [
      "\n",
      "\n",
      "\u001b[1m> Entering new AgentExecutor chain...\u001b[0m\n",
      "\u001b[32;1m\u001b[1;3m<|im_start|>system\n",
      "You are a helpful assistant<|im_end|>\n",
      "<|im_start|>user\n",
      "판교 몽중헌의 전화번호를 검색하여 결과를 알려주세요.<|im_end|>\n",
      "<|im_start|>assistant\n",
      "판교 몽중헌은 '판교 몽촌마을'로도 알려져 있으며, 주거 단지로 전화번호가 따로 존재하지 않습니다. 그러나 해당 지역의 관리사무소나 부동산 중개업소에 연락하시면 거주민이나 관련 정보를 안내받을 수 있을 것입니다. 판교 몽촌마을의 위치는 경기도 성남시 분당구 삼평동 620-1번지입니다.\u001b[0m\n",
      "\n",
      "\u001b[1m> Finished chain.\u001b[0m\n",
      "답변: <|im_start|>system\n",
      "You are a helpful assistant<|im_end|>\n",
      "<|im_start|>user\n",
      "판교 몽중헌의 전화번호를 검색하여 결과를 알려주세요.<|im_end|>\n",
      "<|im_start|>assistant\n",
      "판교 몽중헌은 '판교 몽촌마을'로도 알려져 있으며, 주거 단지로 전화번호가 따로 존재하지 않습니다. 그러나 해당 지역의 관리사무소나 부동산 중개업소에 연락하시면 거주민이나 관련 정보를 안내받을 수 있을 것입니다. 판교 몽촌마을의 위치는 경기도 성남시 분당구 삼평동 620-1번지입니다.\n"
     ]
    }
   ],
   "source": [
    "# 검색 결과를 요청 후 질문에 대한 답변을 출력합니다.\n",
    "response = eeve_agent_executor.invoke(\n",
    "    {\"input\": \"판교 몽중헌의 전화번호를 검색하여 결과를 알려주세요.\"}\n",
    ")\n",
    "print(f'답변: {response[\"output\"]}')"
   ]
  },
  {
   "cell_type": "code",
   "execution_count": 21,
   "id": "813fd0fd",
   "metadata": {},
   "outputs": [
    {
     "name": "stdout",
     "output_type": "stream",
     "text": [
      "\n",
      "\n",
      "\u001b[1m> Entering new AgentExecutor chain...\u001b[0m\n",
      "\u001b[32;1m\u001b[1;3m<|im_start|>system\n",
      "You are a helpful assistant<|im_end|>\n",
      "<|im_start|>user\n",
      "2024년 5월 1일의 서울 날씨를 검색해서 알려줘.<|im_end|>\n",
      "<|im_start|>assistant\n",
      "2024년 5월 1일, 서울의 예상 기온은 최고기온이 섭씨 23도(화씨 73.4도), 최저기온이 섭씨 16도(화씨 60.8도)로 비교적 온화하고 쾌적한 날씨를 보일 것으로 예상됩니다. 이 날에는 대체로 구름이 조금 있는 가운데, 강수 확률은 약 20%입니다.\u001b[0m\n",
      "\n",
      "\u001b[1m> Finished chain.\u001b[0m\n",
      "답변: <|im_start|>system\n",
      "You are a helpful assistant<|im_end|>\n",
      "<|im_start|>user\n",
      "2024년 5월 1일의 서울 날씨를 검색해서 알려줘.<|im_end|>\n",
      "<|im_start|>assistant\n",
      "2024년 5월 1일, 서울의 예상 기온은 최고기온이 섭씨 23도(화씨 73.4도), 최저기온이 섭씨 16도(화씨 60.8도)로 비교적 온화하고 쾌적한 날씨를 보일 것으로 예상됩니다. 이 날에는 대체로 구름이 조금 있는 가운데, 강수 확률은 약 20%입니다.\n"
     ]
    }
   ],
   "source": [
    "# 검색 결과를 요청 후 질문에 대한 답변을 출력합니다.\n",
    "response = eeve_agent_executor.invoke(\n",
    "    {\"input\": \"2024년 5월 1일의 서울 날씨를 검색해서 알려줘.\"}\n",
    ")\n",
    "print(f'답변: {response[\"output\"]}')"
   ]
  },
  {
   "cell_type": "markdown",
   "id": "7b5769fc",
   "metadata": {},
   "source": [
    "## llama 3 (JSON Agent)\n",
    "\n",
    "- 링크: https://github.com/sionic-ai/xionic-ko-llama-3-70b\n"
   ]
  },
  {
   "cell_type": "code",
   "execution_count": 22,
   "id": "e1dccf5d",
   "metadata": {},
   "outputs": [],
   "source": [
    "llama3 = ChatOpenAI(\n",
    "    base_url=\"http://sionic.chat:8001/v1\",\n",
    "    api_key=\"934c4bbc-c384-4bea-af82-1450d7f8128d\",\n",
    "    model=\"xionic-ko-llama-3-70b\",\n",
    "    temperature=0.1,\n",
    ")"
   ]
  },
  {
   "cell_type": "code",
   "execution_count": 23,
   "id": "1a374d7e",
   "metadata": {},
   "outputs": [],
   "source": [
    "# Use Prompt for JSON Agent\n",
    "json_prompt = hub.pull(\"hwchase17/react-chat-json\")"
   ]
  },
  {
   "cell_type": "code",
   "execution_count": 25,
   "id": "99c49827",
   "metadata": {},
   "outputs": [],
   "source": [
    "from langchain.agents import create_json_chat_agent\n",
    "\n",
    "llama3_agent = create_json_chat_agent(llama3, tools, json_prompt)"
   ]
  },
  {
   "cell_type": "code",
   "execution_count": 26,
   "id": "f675f0d1",
   "metadata": {},
   "outputs": [],
   "source": [
    "from langchain.agents import AgentExecutor\n",
    "\n",
    "llama3_agent_executor = AgentExecutor(\n",
    "    agent=llama3_agent,\n",
    "    tools=tools,\n",
    "    verbose=True,\n",
    "    handle_parsing_errors=True,\n",
    "    return_intermediate_steps=True,\n",
    ")"
   ]
  },
  {
   "cell_type": "code",
   "execution_count": 27,
   "id": "0b57d95a",
   "metadata": {},
   "outputs": [
    {
     "name": "stdout",
     "output_type": "stream",
     "text": [
      "\n",
      "\n",
      "\u001b[1m> Entering new AgentExecutor chain...\u001b[0m\n",
      "\u001b[32;1m\u001b[1;3m```\n",
      "{\n",
      "    \"action\": \"tavily_search_results_json\",\n",
      "    \"action_input\": \"몽중헌 판교 전화번호\"\n",
      "}\n",
      "```\u001b[0m\u001b[36;1m\u001b[1;3m[{'url': 'https://app.catchtable.co.kr/ct/shop/mongjungheon_pg', 'content': '중식 | 판교 몽중헌 판교점 ... - 판교 테크원 타워 건물 내 지하 주차장을 이용 부탁드리며 , 2시간 이용가능 합니다. ... 전화번호 031-601-7574. 잘못된 정보가 있나요? 수정이 필요하거나 폐점한 매장이라면 알려주세요! 저장 1,225. 예약하기 ...'}, {'url': 'http://www.mongjungheon.co.kr/pangyo.jsp', 'content': '남기는 백주\\n500ml 75,000\\n농향형 34% 연태지방의 수수를 원료로 만든 향이 좋고 부드러운 백주\\n500ml 65,000\\n250ml 38,000\\n125ml 28,000\\nCHAMPAGNE · SPARKLING WINE\\n350,000\\n250,000\\n160,000\\n90,000\\n70,000\\nWHITE WINE\\n170,000\\n110,000\\n95,000\\n90,000\\n85,000\\n75,000\\nRED WINE\\n380,000\\n180,000\\n150,000\\n130,000\\n120,000\\n100,000\\n95,000\\n90,000\\n80,000\\n75,000\\n70,000\\nGLASS WINE\\n15,000\\n15,000\\nDISTILLED LIQUOR\\n375ml 35,000\\n375ml 35,000\\nBEER\\n320ml 11,000\\n640ml 14,000\\n580ml 11,000\\n600ml 12,000\\n610ml 12,000\\n330ml 8,000\\n330ml 8,000\\nSOFT DRINK\\n7,000\\n7,000\\n5,000\\n5,000\\n4,500\\n8,000\\nCOFFEE\\nhot 5,000\\nIced 6,000\\nhot 6,000\\nIced 7,000\\nhot 5,000\\nDim Sum Special Course\\nLUNCH - 70,000 (1人)\\nDINNER - 90,000 (1人)\\n Chef-Recommended\\nSpicy Dish\\n대만\\n금문향형 58% 최상의 수질과 기후를 가진 금문도에서 자란 수수를 엄선하여 제조한 술로, 부드럽고 감미로운 맛이 우수한 백주\\n600ml 180,000\\n300ml 100,000\\n貴州省\\n귀주성\\n장향형\\n53%\\n수수를 원료로 하여 8번의 발효와 9번의 증류를 거친 후 3년 이상 숙성시킨 술로, 자연 그대로의 발효공법을 통해 오직 좋은 원재료 만으로 빚어낸 중국의 대표 명주\\n500ml 1,500,000\\n농향형\\n33%\\n중국 명주를 만드는 강 ‘적수하’의 맑은 물과 엄선된 붉은 수수를 사용해 양조한 술로, 풍부한 향이 진한 여운을 남기고 깔끔한 목 넘김과 깊은 맛이 특징인 백주\\n450ml 100,000\\n四川省\\n사천성\\n농향형\\n52% 찹쌀, 수수, , 옥수수, 쌀 등 다섯 가지 곡물을 재료로 빚은 술로, 높은 도수에 비해 부드럽고 풍부한 맛이 일품인 중국의 대표 명주\\n500ml 750,000\\n농향형\\n52% *2인 이상 주문 시 가능합니다.\\n냉채류\\n탕류\\n잡품류\\n바닷가재·새우류\\n쇠고기류\\n돼지고기류\\n닭고기류\\n구이류\\n채소·두부류\\n면류\\n밥류\\nSteamed Dim Sum\\n조리에 사용되는 닭육수용 닭은 국내산만 사용합니다.\\n 맛과 맑고 그윽한 잔향이 특징인 백주\\n500ml 250,000\\n봉향형 45% 중국 양귀비의 최애술로 여왕의 술이라 불리며,\\n부드럽고 달콤한 맛과 깔끔하고 청아한 향의 조화가 일품인 백주\\n500ml 200,000\\n청향형\\n49% 불순물이 없고 깨끗한 맛으로 유명한 대중적인 술로, 편안하게 즐길 수 있는 부드러운 향의 백주\\n280ml 45,000\\n山東省\\n산동성\\n농향형 52% 공자의 약속이라는 뜻을 벨벳 같은 편안함과 부드러움이 느껴지는 균형감이 좋은 백주\\n480ml 150,000\\n농향형\\n38% 중국의 8대 명주이자 중국의 건륭제가 즐겨마시던 술로, 부드럽고 긴 여운이 특징인 백주\\n500ml 80,000\\n山西省 · 天津\\n산서성 · 천진\\n봉향형 45% 중국 4대 명주이자 중국 진시황이 즐겨 마시던 술로,\\n30년동안 숙성되어 깊고 묵직한'}, {'url': 'http://www.mongjungheon.co.kr/', 'content': '*2인 이상 주문 시 가능합니다.\\n냉채류\\n탕류\\n잡품류\\n바닷가재·새우류\\n쇠고기류\\n돼지고기류\\n닭고기류\\n구이류\\n채소·두부류\\n면류\\n밥류\\nSteamed Dim Sum\\n조리에 사용되는 닭육수용 닭은 국내산만 사용합니다.\\n Chef-Recommended\\nSpicy Dish\\nDim Sum Special Course\\nLUNCH - 75,000 (1人)\\nDINNER - 95,000 (1人)\\n조리에 사용되는 닭육수용 닭은 국내산만 사용합니다.\\n 할인 제공 종료\\n기프트 카드\\n몽중헌 브랜드 전용 기프트 카드\\nChef ’s Special Course / All Day\\n180,000 (1人)\\n조리에 사용되는 닭육수용 닭은 국내산만 사용합니다.\\n 매장정보\\n대중교통\\n제휴 상품권\\nCJ상품권, CJ외식전용상품권 *지류 상품권에 한해 적용 가능\\n제휴 카드\\n현대카드 블랙 / 퍼플 / 레드 / 그린 / 핑크 / 대한항공 더퍼스트 카드의 ‘클럽 고메 서비스’ 운영 종료로, 2024년 1월 1일부터 몽중헌 전 매장 10% 현장 Chef-Recommended\\nSpicy Dish\\nFried Dim Sum\\n조리에 사용되는 닭육수용 닭은 국내산만 사용합니다.\\n'}, {'url': 'https://m.blog.naver.com/soh_y_/223176564604', 'content': '\\u200b\\n\\u200b\\n짜사이, 땅콩볶음, 피클 기본찬 3종과\\n고추기름이 섞인 간장이 함께 나와요.\\n\\u200b\\n주문 메뉴\\n상하이 소롱포 / 15,000\\n백채교 / 12,000\\nXO소스의 소포 / 12,000\\n돼지고기 탕수육(소) / 40,000\\n한우 일품 자장면 / 14,000\\n\\u200b\\n상하이 소롱포\\n소롱포는 깊은 수저 위에 올리고\\n젓가락으로 피를 터뜨려 뜨거운 육즙을 맛봐요.\\n돼지고기 잡내가 느껴지지 않고 감칠맛 제대로였어요.\\n 주차 가능\\n\\u200b\\n• 전화번호 / 031-601-7574\\n\\u200b\\n• 운영시간 / 월~금 11:30~22:00\\n브레이크 타임 15:00~17:30\\n라스트 오더 21:00\\n토~일 11:30~21:30\\n브레이크 타임 15:00~17:30\\n라스트 오더 20:30\\n\\u200b\\n경기도 성남시 분당구 분당내곡로 131 판교 테크원 타워 2F\\n안녕하세요.\\n 8. 7. 6:00\\n\\u200b\\n\\u200b\\n몽중헌 판교점\\n다양한 딤섬을 즐길 수 있는 분위기 좋은 중식당\\n• 주소 / 경기 성남시 분당구 분당내곡로 131\\n판교 테크원타워 2층\\n\\u200b\\n• 주차 / \\u200b\\n고급진 분위기가 좋았던 몽중헌 판교점 후기에요:)\\n\\u200b\\n외부 모습\\n\\u200b\\n몽중헌 판교점은\\n랩 오브 파리바게트 옆 에스컬레이터를 이용해\\n2층으로 올라오면 좌측에 위치해요.\\n \\u200b\\n#몽중헌 #몽중헌메뉴 #몽중헌예약 #몽중헌룸예약\\n#몽중헌회식 #몽중헌데이트 #몽중헌판교점 #테크원맛집\\n#테크원주차 #판교역맛집 #판교맛집 #판교중식당\\n#분당중식당 #판교분위기좋은 #판교데이트 #판교회식\\n#판교소개팅 #내돈내먹\\n맛집, 일상을 공유해요_.\\n'}, {'url': 'https://blog.naver.com/PostView.naver?blogId=pdi0903&logNo=222685325353&directAccess=false', 'content': \"ㅋㅋ\\n\\u200b\\n메인 메뉴판 보실게요\\n\\u200b\\n\\u200b\\n사진을 찍다가 지쳐하니까\\n앞에 일행이 메뉴판을 들어줬습니다\\nㅋㅋㅋㅋㅋ\\n민망..\\n\\u200b\\n저희 일행은\\n딤섬 4종류\\u200b\\n하교(통새우) ₩12,000\\n구채교(새우와 부추) ₩12,000\\n근채교(새우, 돼지고기, 샐러리, 칠리페퍼) ₩12,000\\n상하이소롱포(상하이식 돼지고기) ₩15,000\\n그리고\\n삼선짬뽕 ₩18,000\\n사천탕면 ₩18,000\\n게살볶음밥 ₩18,000\\n을 주문했습니다.\\n 왜 딤섬전문점인지 알겠다는 ㅎㅎ\\n\\u200b\\n이어서 나온\\n\\u200b\\n\\u200b\\n일행1의 XO소스 게살 볶음밥\\n\\u200b\\n\\u200b\\n일행2의 사천탕면\\n\\u200b\\n\\u200b\\n이건 제가 주문한 삼선짬뽕 입니다.\\n \\u200b\\n몽중헌 판교점\\n경기 성남시 분당구 분당내곡로 131, 판교테크원타워 2층\\n매장전화번호) 031-601-7574\\n영업시간) 11:30 ~ 22:00\\n(브레이크타임 15:00 ~ 17:30)\\n\\u200b\\n판교테크원타워는 판교역 1번출구로 나오면\\n바로 보이는 이곳\\n\\u200b\\n\\u200b\\n투썸플레이스가 있는 이 건물이 되겠습니다!!\\n \\u200b\\n딤섬으로 유명한 '몽중헌'은\\n판교역 바로앞에 있는\\n판교테크원타워 2층에 위치해있구요\\n몇주전부터 오픈예정 현수막을 보고\\n기대를 하고 있었습니다 ㅋㅋ\\n\\u200b\\n안녕하세요 오늘은 신규오픈한지 3일밖에 안된 따끈따끈한 신상맛집 소개해드립니다 ㅎ 이미 방송으로 유명...\\nm.blog.naver.com\\n판교테크원타워 정보는 위 포스팅 참고해주시고\\n\\u200b\\n그럼 만나러 가보겠습니다.\\n \\u200b\\n기존에 알고있던 가격에서 다 조금씩 올랐더라구요\\n(2~3천원씩)\\n\\u200b\\n\\u200b\\n기본반찬이에요\\n(짜사이와 무, 땅콩)\\n\\u200b\\n\\u200b\\n딤섬 3가지(하교, 구채교, 근채교)는\\n각 1개씩\"}]\u001b[0m\u001b[32;1m\u001b[1;3m```\n",
      "{\n",
      "    \"action\": \"Final Answer\",\n",
      "    \"action_input\": \"The phone number of Mongjungheon Pangyo is 031-601-7574.\"\n",
      "}\n",
      "```\u001b[0m\n",
      "\n",
      "\u001b[1m> Finished chain.\u001b[0m\n",
      "답변: The phone number of Mongjungheon Pangyo is 031-601-7574.\n"
     ]
    }
   ],
   "source": [
    "# 검색 결과를 요청 후 질문에 대한 답변을 출력합니다.\n",
    "response = llama3_agent_executor.invoke(\n",
    "    {\"input\": \"판교 몽중헌 전화번호를 검색하여 결과를 알려주세요.\"}\n",
    ")\n",
    "print(f'답변: {response[\"output\"]}')"
   ]
  },
  {
   "cell_type": "code",
   "execution_count": 28,
   "id": "fa88e343",
   "metadata": {},
   "outputs": [
    {
     "name": "stdout",
     "output_type": "stream",
     "text": [
      "\n",
      "\n",
      "\u001b[1m> Entering new AgentExecutor chain...\u001b[0m\n",
      "\u001b[32;1m\u001b[1;3m```\n",
      "{\n",
      "    \"action\": \"pdf_search\",\n",
      "    \"action_input\": \"YouTube 2024년부터 AI 생성콘텐츠 표시 의무화\"\n",
      "}\n",
      "```\u001b[0m\u001b[33;1m\u001b[1;3mSPRi AI Brief |  \n",
      "2023-12 월호\n",
      "14유튜브 , 2024년부터 AI 생성 콘텐츠 표시 의무화 \n",
      "n유튜브가 몇 달 안에 생성 AI를 사용한 콘텐츠에 AI 라벨 표시를 의무화하기로 했으며 , 이를 \n",
      "준수하지 않는 콘텐츠는 삭제하고 크리에이터에 대한 수익 배분도 중단할 수 있다고 설명\n",
      "n유튜브는 AI 생성 콘텐츠가 신원 파악이 가능한 개인을 모방한 경우 개인정보 침해 신고 \n",
      "절차에 따라 콘텐츠 삭제 요청도 받을 계획KEY Contents\n",
      "£유튜브 , 생성 AI 콘텐츠에 AI 라벨 표시 안 하면 콘텐츠 삭제\n",
      "n유튜브가 2023 년 11월 14일 공식 블로그를 통해 몇 달 안에 생성 AI를 사용한 콘텐츠에 AI \n",
      "라벨을 표시하는 새로운 규칙을 시행한다고 발표 \n",
      "∙실제로 일어나지 않은 사건을 사실적으로 묘사하거나 실제로 하지 않은 말이나 행동을 보여주는 콘텐츠와 \n",
      "같이 AI 도구를 사용해 사실적으로 변경되거나 합성된 콘텐츠에는 AI 라벨을 표시 필요\n",
      "∙유튜브는 이러한 규칙이 선거나 분쟁 상황, 공중 보건, 공직자 관련 문제와 같이 민감한 주제를 다루는 \n",
      "콘텐츠에서 특히 중요하다고 강조했으며 , 크리에이터가 AI로 제작한 콘텐츠에 AI 라벨을 표시하지 않으면 \n",
      "해당 콘텐츠는 삭제되고 광고 수익을 배분하는 유튜브 파트너 프로그램도 정지될 수 있음\n",
      "∙유튜브는 두 가지 방식으로 AI를 이용한 콘텐츠의 변경이나 합성 여부를 시청자에게 전달할 계획으로 \n",
      "동영상 설명 패널에 라벨을 표시하는 방식이 기본이며 , 민감한 주제를 다루는 특정 유형의 콘텐츠는 동영상 \n",
      "플레이어에 더욱 눈에 띄는 라벨을 적용 \n",
      "∙유튜브는 커뮤니티 정책에 위반되는 일부 합성 콘텐츠에 대해서는 라벨 지정 여부와 관계없이 삭제할 \n",
      "방침으로 , 가령 사실적인 폭력을 보여주는 합성 동영상이 시청자에게 충격이나 혐오감을 줄 수 있다면 \n",
      "삭제될 수 있음\n",
      "£유튜브 , 특정인을 모방한 AI 생성 콘텐츠에 대한 삭제 요청에도 대응 계획\n",
      "\n",
      "삭제될 수 있음\n",
      "£유튜브 , 특정인을 모방한 AI 생성 콘텐츠에 대한 삭제 요청에도 대응 계획\n",
      "n유튜브는 몇 달 내에 신원 파악이 가능한 개인의 얼굴이나 음성을 모방한 AI 생성 콘텐츠에 대하\n",
      "여 개인정보 침해 신고 절차를 마련해 삭제 요청을 받을 계획  \n",
      "∙단, 모든 콘텐츠가 삭제 대상은 아니며 유튜브는 콘텐츠가 패러디나 풍자인지 , 해당 영상에서 삭제 요청을 \n",
      "한 특정인을 식별할 수 있는지 , 공직자나 유명인이 등장하는지 등 다양한 요소를 고려할 예정\n",
      "∙유튜브는 음반사가 아티스트의 고유한 노래나 목소리를 모방한 AI 생성 음악에 대하여 삭제를 요청할 수 \n",
      "있는 기능도 도입할 방침\n",
      "☞ 출처 : Youtube, Our approach to responsible AI innovation, 2023.11.14.\n",
      "\n",
      "▹ 구글, 앤스로픽에 20억 달러 투자로 생성 AI 협력 강화 ················································ 11\n",
      "   ▹ IDC, 2027 년 AI 소프트웨어 매출 2,500 억 달러 돌파 전망··········································· 12\n",
      "   ▹ 빌 게이츠 , AI 에이전트로 인한 컴퓨터 사용의 패러다임 변화 전망································ 13\n",
      "   ▹ 유튜브 , 2024 년부터 AI 생성 콘텐츠 표시 의무화 ···························································· 14\n",
      " 3. 기술/연구\n",
      "   ▹ 영국 과학혁신기술부 , AI 안전 연구소 설립 발표······························································ 15\n",
      "   ▹ 구글 딥마인드 , 범용 AI 모델의 기능과 동작에 대한 분류 체계 발표······························ 16\n",
      "   ▹ 갈릴레오의 LLM 환각 지수 평가에서 GPT-4 가 가장 우수 ··········································· 17\n",
      "   \n",
      " 4. 인력/교육     \n",
      "   ▹ 영국 옥스퍼드 인터넷 연구소 , AI 기술자의 임금이 평균 21% 높아······························· 18\n",
      "   \n",
      "   \n",
      " \n",
      "Ⅱ. 주요 행사\n",
      "   ▹CES 2024 ····························································································································· 19\n",
      "\n",
      "SPRi AI Brief |  \n",
      "2023-12 월호\n",
      "4미국 법원, 예술가들이 생성 AI 기업에 제기한 저작권 소송 기각\n",
      "n미국 캘리포니아 북부지방법원은 미드저니 , 스태빌리티 AI, 디비언트아트를 대상으로 예술가 \n",
      "3인이 제기한 저작권 침해 소송을 기각\n",
      "n법원은 기각 이유로 고소장에 제시된 상당수 작품이 저작권청에 등록되지 않았으며 , AI로 \n",
      "생성된 이미지와 특정 작품 간 유사성을 입증하기 어렵다는 점을 제시 KEY Contents\n",
      "£예술가들의 AI 저작권 침해 소송, 저작권 미등록과 증거불충분으로 기각\n",
      "n미국 캘리포니아 북부지방법원의 윌리엄 오릭(W illiam Orrick) 판사는 2023년 10월 30일 미드저니\n",
      "(M idjourney),  스태빌리티 AI(Stability AI), 디비언트아트 (DeviantArt) 에 제기된 저작권 침해 소송을 기각 \n",
      "∙2023 년 1월 예술가 사라 앤더슨 (Sarah Anderson), 캘리 맥커넌 (Kelly McKernan), 칼라 \n",
      "오르티즈 (Karla Ortiz) 는 이미지 생성 AI 서비스를 개발한 3개 기업을 상대로 저작권 침해 소송을 제기\n",
      "∙예술가들은 3개 기업이 AI 모델을 학습시키기 위해 원작자 동의 없이 작품을 학습 데이터셋에 \n",
      "포함하여 저작권을 침해했다고 주장했으며 , 법원은 지난 4월 피소 기업들이 제출한 기각 신청을 \n",
      "수용해 소송을 기각 \n",
      "n오릭 판사는 판결문에서 소송을 기각한 핵심 이유로 예술가들의 저작권 미등록을 제시\n",
      "∙판결문은 소송을 제기한 캘리 맥커넌과 칼라 오르티즈가 미국 저작권청에 예술 작품에 대한 저작권을 \n",
      "제출하지 않았다는 점을 지적했으며 , 사라 앤더슨은 고소장에 인용된 수백 개의 작품 중 16개 작품에 \n",
      "대해서만 저작권을 보유\n",
      "n판결문은 또한 생성 AI 모델 훈련에 사용된 모든 이미지에 저작권이 있다거나 , 생성 AI로 만든 \n",
      "이미지가 저작물을 이용해 훈련되었으므로 저작물의 파생 이미지라는 주장은 개연성이  부족하다고  \n",
      "지적\u001b[0m\u001b[32;1m\u001b[1;3m```\n",
      "{\n",
      "    \"action\": \"Final Answer\",\n",
      "    \"action_input\": \"YouTube will start labeling AI-generated content from 2024, and creators who do not comply may have their content deleted and ad revenue distribution suspended. Additionally, YouTube will respond to deletion requests for AI-generated content that mimics specific individuals.\"\n",
      "}\n",
      "```\u001b[0m\n",
      "\n",
      "\u001b[1m> Finished chain.\u001b[0m\n",
      "답변: YouTube will start labeling AI-generated content from 2024, and creators who do not comply may have their content deleted and ad revenue distribution suspended. Additionally, YouTube will respond to deletion requests for AI-generated content that mimics specific individuals.\n"
     ]
    }
   ],
   "source": [
    "# 검색 결과를 요청 후 질문에 대한 답변을 출력합니다.\n",
    "response = llama3_agent_executor.invoke(\n",
    "    {\n",
    "        \"input\": \"YouTube 2024년부터 AI 생성콘텐츠 표시 의무화에 대한 내용을 PDF 문서에서 알려줘\"\n",
    "    }\n",
    ")\n",
    "print(f'답변: {response[\"output\"]}')"
   ]
  },
  {
   "cell_type": "markdown",
   "id": "74ed1333",
   "metadata": {},
   "source": [
    "## 한글 답변 처리\n"
   ]
  },
  {
   "cell_type": "code",
   "execution_count": 29,
   "id": "aa14af26",
   "metadata": {},
   "outputs": [],
   "source": [
    "prompt_ko = hub.pull(\"teddynote/react-chat-json-korean\")"
   ]
  },
  {
   "cell_type": "code",
   "execution_count": 30,
   "id": "a8c9fb42",
   "metadata": {},
   "outputs": [],
   "source": [
    "from langchain.agents import create_json_chat_agent\n",
    "\n",
    "llama3_agent_ko = create_json_chat_agent(llama3, tools, prompt_ko)"
   ]
  },
  {
   "cell_type": "code",
   "execution_count": 31,
   "id": "220fe735",
   "metadata": {},
   "outputs": [],
   "source": [
    "from langchain.agents import AgentExecutor\n",
    "\n",
    "llama3_agent_executor = AgentExecutor(\n",
    "    agent=llama3_agent_ko,\n",
    "    tools=tools,\n",
    "    verbose=True,\n",
    "    handle_parsing_errors=True,\n",
    "    return_intermediate_steps=True,\n",
    ")"
   ]
  },
  {
   "cell_type": "code",
   "execution_count": 32,
   "id": "0a4879c0",
   "metadata": {},
   "outputs": [
    {
     "name": "stdout",
     "output_type": "stream",
     "text": [
      "\n",
      "\n",
      "\u001b[1m> Entering new AgentExecutor chain...\u001b[0m\n",
      "\u001b[32;1m\u001b[1;3m```\n",
      "{\n",
      "    \"action\": \"tavily_search_results_json\",\n",
      "    \"action_input\": \"판교 몽중헌 전화번호\"\n",
      "}\n",
      "```\u001b[0m\u001b[36;1m\u001b[1;3m[{'url': 'https://app.catchtable.co.kr/ct/shop/mongjungheon_pg', 'content': '중식 | 판교 몽중헌 판교점 ... - 판교 테크원 타워 건물 내 지하 주차장을 이용 부탁드리며 , 2시간 이용가능 합니다. ... 전화번호 031-601-7574. 잘못된 정보가 있나요? 수정이 필요하거나 폐점한 매장이라면 알려주세요! 저장 1,225. 예약하기 ...'}, {'url': 'https://blog.naver.com/PostView.naver?blogId=dalgi6736&logNo=223419347824&noTrackingCode=true', 'content': '📞 전화번호: 031-601-7574. 🌐 홈페이지: 몽중헌 공식 홈페이지 오늘은 가족모임 장소로 추천하는 분당 중식당 몽중헌을 소개해봅니다. 저는 가족모임이 있어서 룸이있는 식당을 찾다가 판교에 몽중헌이 있는걸 알고 예약을 한달전에 진행했어요'}, {'url': 'http://www.mongjungheon.co.kr/', 'content': '*2인 이상 주문 시 가능합니다.\\n냉채류\\n탕류\\n잡품류\\n바닷가재·새우류\\n쇠고기류\\n돼지고기류\\n닭고기류\\n구이류\\n채소·두부류\\n면류\\n밥류\\nSteamed Dim Sum\\n조리에 사용되는 닭육수용 닭은 국내산만 사용합니다.\\n Chef-Recommended\\nSpicy Dish\\nDim Sum Special Course\\nLUNCH - 75,000 (1人)\\nDINNER - 95,000 (1人)\\n조리에 사용되는 닭육수용 닭은 국내산만 사용합니다.\\n 할인 제공 종료\\n기프트 카드\\n몽중헌 브랜드 전용 기프트 카드\\nChef ’s Special Course / All Day\\n180,000 (1人)\\n조리에 사용되는 닭육수용 닭은 국내산만 사용합니다.\\n 매장정보\\n대중교통\\n제휴 상품권\\nCJ상품권, CJ외식전용상품권 *지류 상품권에 한해 적용 가능\\n제휴 카드\\n현대카드 블랙 / 퍼플 / 레드 / 그린 / 핑크 / 대한항공 더퍼스트 카드의 ‘클럽 고메 서비스’ 운영 종료로, 2024년 1월 1일부터 몽중헌 전 매장 10% 현장 Chef-Recommended\\nSpicy Dish\\nFried Dim Sum\\n조리에 사용되는 닭육수용 닭은 국내산만 사용합니다.\\n'}, {'url': 'https://blog.naver.com/PostView.naver?blogId=pdi0903&logNo=222685325353&directAccess=false', 'content': \"ㅋㅋ\\n\\u200b\\n메인 메뉴판 보실게요\\n\\u200b\\n\\u200b\\n사진을 찍다가 지쳐하니까\\n앞에 일행이 메뉴판을 들어줬습니다\\nㅋㅋㅋㅋㅋ\\n민망..\\n\\u200b\\n저희 일행은\\n딤섬 4종류\\u200b\\n하교(통새우) ₩12,000\\n구채교(새우와 부추) ₩12,000\\n근채교(새우, 돼지고기, 샐러리, 칠리페퍼) ₩12,000\\n상하이소롱포(상하이식 돼지고기) ₩15,000\\n그리고\\n삼선짬뽕 ₩18,000\\n사천탕면 ₩18,000\\n게살볶음밥 ₩18,000\\n을 주문했습니다.\\n 왜 딤섬전문점인지 알겠다는 ㅎㅎ\\n\\u200b\\n이어서 나온\\n\\u200b\\n\\u200b\\n일행1의 XO소스 게살 볶음밥\\n\\u200b\\n\\u200b\\n일행2의 사천탕면\\n\\u200b\\n\\u200b\\n이건 제가 주문한 삼선짬뽕 입니다.\\n \\u200b\\n몽중헌 판교점\\n경기 성남시 분당구 분당내곡로 131, 판교테크원타워 2층\\n매장전화번호) 031-601-7574\\n영업시간) 11:30 ~ 22:00\\n(브레이크타임 15:00 ~ 17:30)\\n\\u200b\\n판교테크원타워는 판교역 1번출구로 나오면\\n바로 보이는 이곳\\n\\u200b\\n\\u200b\\n투썸플레이스가 있는 이 건물이 되겠습니다!!\\n \\u200b\\n딤섬으로 유명한 '몽중헌'은\\n판교역 바로앞에 있는\\n판교테크원타워 2층에 위치해있구요\\n몇주전부터 오픈예정 현수막을 보고\\n기대를 하고 있었습니다 ㅋㅋ\\n\\u200b\\n안녕하세요 오늘은 신규오픈한지 3일밖에 안된 따끈따끈한 신상맛집 소개해드립니다 ㅎ 이미 방송으로 유명...\\nm.blog.naver.com\\n판교테크원타워 정보는 위 포스팅 참고해주시고\\n\\u200b\\n그럼 만나러 가보겠습니다.\\n \\u200b\\n기존에 알고있던 가격에서 다 조금씩 올랐더라구요\\n(2~3천원씩)\\n\\u200b\\n\\u200b\\n기본반찬이에요\\n(짜사이와 무, 땅콩)\\n\\u200b\\n\\u200b\\n딤섬 3가지(하교, 구채교, 근채교)는\\n각 1개씩\"}, {'url': 'http://www.mongjungheon.co.kr/pangyo.jsp', 'content': '남기는 백주\\n500ml 75,000\\n농향형 34% 연태지방의 수수를 원료로 만든 향이 좋고 부드러운 백주\\n500ml 65,000\\n250ml 38,000\\n125ml 28,000\\nCHAMPAGNE · SPARKLING WINE\\n350,000\\n250,000\\n160,000\\n90,000\\n70,000\\nWHITE WINE\\n170,000\\n110,000\\n95,000\\n90,000\\n85,000\\n75,000\\nRED WINE\\n380,000\\n180,000\\n150,000\\n130,000\\n120,000\\n100,000\\n95,000\\n90,000\\n80,000\\n75,000\\n70,000\\nGLASS WINE\\n15,000\\n15,000\\nDISTILLED LIQUOR\\n375ml 35,000\\n375ml 35,000\\nBEER\\n320ml 11,000\\n640ml 14,000\\n580ml 11,000\\n600ml 12,000\\n610ml 12,000\\n330ml 8,000\\n330ml 8,000\\nSOFT DRINK\\n7,000\\n7,000\\n5,000\\n5,000\\n4,500\\n8,000\\nCOFFEE\\nhot 5,000\\nIced 6,000\\nhot 6,000\\nIced 7,000\\nhot 5,000\\nDim Sum Special Course\\nLUNCH - 70,000 (1人)\\nDINNER - 90,000 (1人)\\n Chef-Recommended\\nSpicy Dish\\n대만\\n금문향형 58% 최상의 수질과 기후를 가진 금문도에서 자란 수수를 엄선하여 제조한 술로, 부드럽고 감미로운 맛이 우수한 백주\\n600ml 180,000\\n300ml 100,000\\n貴州省\\n귀주성\\n장향형\\n53%\\n수수를 원료로 하여 8번의 발효와 9번의 증류를 거친 후 3년 이상 숙성시킨 술로, 자연 그대로의 발효공법을 통해 오직 좋은 원재료 만으로 빚어낸 중국의 대표 명주\\n500ml 1,500,000\\n농향형\\n33%\\n중국 명주를 만드는 강 ‘적수하’의 맑은 물과 엄선된 붉은 수수를 사용해 양조한 술로, 풍부한 향이 진한 여운을 남기고 깔끔한 목 넘김과 깊은 맛이 특징인 백주\\n450ml 100,000\\n四川省\\n사천성\\n농향형\\n52% 찹쌀, 수수, , 옥수수, 쌀 등 다섯 가지 곡물을 재료로 빚은 술로, 높은 도수에 비해 부드럽고 풍부한 맛이 일품인 중국의 대표 명주\\n500ml 750,000\\n농향형\\n52% *2인 이상 주문 시 가능합니다.\\n냉채류\\n탕류\\n잡품류\\n바닷가재·새우류\\n쇠고기류\\n돼지고기류\\n닭고기류\\n구이류\\n채소·두부류\\n면류\\n밥류\\nSteamed Dim Sum\\n조리에 사용되는 닭육수용 닭은 국내산만 사용합니다.\\n 맛과 맑고 그윽한 잔향이 특징인 백주\\n500ml 250,000\\n봉향형 45% 중국 양귀비의 최애술로 여왕의 술이라 불리며,\\n부드럽고 달콤한 맛과 깔끔하고 청아한 향의 조화가 일품인 백주\\n500ml 200,000\\n청향형\\n49% 불순물이 없고 깨끗한 맛으로 유명한 대중적인 술로, 편안하게 즐길 수 있는 부드러운 향의 백주\\n280ml 45,000\\n山東省\\n산동성\\n농향형 52% 공자의 약속이라는 뜻을 벨벳 같은 편안함과 부드러움이 느껴지는 균형감이 좋은 백주\\n480ml 150,000\\n농향형\\n38% 중국의 8대 명주이자 중국의 건륭제가 즐겨마시던 술로, 부드럽고 긴 여운이 특징인 백주\\n500ml 80,000\\n山西省 · 天津\\n산서성 · 천진\\n봉향형 45% 중국 4대 명주이자 중국 진시황이 즐겨 마시던 술로,\\n30년동안 숙성되어 깊고 묵직한'}]\u001b[0m\u001b[32;1m\u001b[1;3m```\n",
      "{\n",
      "    \"action\": \"Final Answer\",\n",
      "    \"action_input\": \"판교 몽중헌의 전화번호는 031-601-7574입니다.\"\n",
      "}\n",
      "```\u001b[0m\n",
      "\n",
      "\u001b[1m> Finished chain.\u001b[0m\n",
      "답변: 판교 몽중헌의 전화번호는 031-601-7574입니다.\n"
     ]
    }
   ],
   "source": [
    "# 검색 결과를 요청 후 질문에 대한 답변을 출력합니다.\n",
    "response = llama3_agent_executor.invoke(\n",
    "    {\"input\": \"판교 몽중헌 전화번호를 검색하여 결과를 알려주세요.\"}\n",
    ")\n",
    "print(f'답변: {response[\"output\"]}')"
   ]
  },
  {
   "cell_type": "code",
   "execution_count": 33,
   "id": "fdc8a789",
   "metadata": {},
   "outputs": [
    {
     "name": "stdout",
     "output_type": "stream",
     "text": [
      "\n",
      "\n",
      "\u001b[1m> Entering new AgentExecutor chain...\u001b[0m\n",
      "\u001b[32;1m\u001b[1;3m```\n",
      "{\n",
      "    \"action\": \"pdf_search\",\n",
      "    \"action_input\": \"YouTube 2024년부터 AI 생성콘텐츠 표시 의무화\"\n",
      "}\n",
      "```\u001b[0m\u001b[33;1m\u001b[1;3mSPRi AI Brief |  \n",
      "2023-12 월호\n",
      "14유튜브 , 2024년부터 AI 생성 콘텐츠 표시 의무화 \n",
      "n유튜브가 몇 달 안에 생성 AI를 사용한 콘텐츠에 AI 라벨 표시를 의무화하기로 했으며 , 이를 \n",
      "준수하지 않는 콘텐츠는 삭제하고 크리에이터에 대한 수익 배분도 중단할 수 있다고 설명\n",
      "n유튜브는 AI 생성 콘텐츠가 신원 파악이 가능한 개인을 모방한 경우 개인정보 침해 신고 \n",
      "절차에 따라 콘텐츠 삭제 요청도 받을 계획KEY Contents\n",
      "£유튜브 , 생성 AI 콘텐츠에 AI 라벨 표시 안 하면 콘텐츠 삭제\n",
      "n유튜브가 2023 년 11월 14일 공식 블로그를 통해 몇 달 안에 생성 AI를 사용한 콘텐츠에 AI \n",
      "라벨을 표시하는 새로운 규칙을 시행한다고 발표 \n",
      "∙실제로 일어나지 않은 사건을 사실적으로 묘사하거나 실제로 하지 않은 말이나 행동을 보여주는 콘텐츠와 \n",
      "같이 AI 도구를 사용해 사실적으로 변경되거나 합성된 콘텐츠에는 AI 라벨을 표시 필요\n",
      "∙유튜브는 이러한 규칙이 선거나 분쟁 상황, 공중 보건, 공직자 관련 문제와 같이 민감한 주제를 다루는 \n",
      "콘텐츠에서 특히 중요하다고 강조했으며 , 크리에이터가 AI로 제작한 콘텐츠에 AI 라벨을 표시하지 않으면 \n",
      "해당 콘텐츠는 삭제되고 광고 수익을 배분하는 유튜브 파트너 프로그램도 정지될 수 있음\n",
      "∙유튜브는 두 가지 방식으로 AI를 이용한 콘텐츠의 변경이나 합성 여부를 시청자에게 전달할 계획으로 \n",
      "동영상 설명 패널에 라벨을 표시하는 방식이 기본이며 , 민감한 주제를 다루는 특정 유형의 콘텐츠는 동영상 \n",
      "플레이어에 더욱 눈에 띄는 라벨을 적용 \n",
      "∙유튜브는 커뮤니티 정책에 위반되는 일부 합성 콘텐츠에 대해서는 라벨 지정 여부와 관계없이 삭제할 \n",
      "방침으로 , 가령 사실적인 폭력을 보여주는 합성 동영상이 시청자에게 충격이나 혐오감을 줄 수 있다면 \n",
      "삭제될 수 있음\n",
      "£유튜브 , 특정인을 모방한 AI 생성 콘텐츠에 대한 삭제 요청에도 대응 계획\n",
      "\n",
      "삭제될 수 있음\n",
      "£유튜브 , 특정인을 모방한 AI 생성 콘텐츠에 대한 삭제 요청에도 대응 계획\n",
      "n유튜브는 몇 달 내에 신원 파악이 가능한 개인의 얼굴이나 음성을 모방한 AI 생성 콘텐츠에 대하\n",
      "여 개인정보 침해 신고 절차를 마련해 삭제 요청을 받을 계획  \n",
      "∙단, 모든 콘텐츠가 삭제 대상은 아니며 유튜브는 콘텐츠가 패러디나 풍자인지 , 해당 영상에서 삭제 요청을 \n",
      "한 특정인을 식별할 수 있는지 , 공직자나 유명인이 등장하는지 등 다양한 요소를 고려할 예정\n",
      "∙유튜브는 음반사가 아티스트의 고유한 노래나 목소리를 모방한 AI 생성 음악에 대하여 삭제를 요청할 수 \n",
      "있는 기능도 도입할 방침\n",
      "☞ 출처 : Youtube, Our approach to responsible AI innovation, 2023.11.14.\n",
      "\n",
      "▹ 구글, 앤스로픽에 20억 달러 투자로 생성 AI 협력 강화 ················································ 11\n",
      "   ▹ IDC, 2027 년 AI 소프트웨어 매출 2,500 억 달러 돌파 전망··········································· 12\n",
      "   ▹ 빌 게이츠 , AI 에이전트로 인한 컴퓨터 사용의 패러다임 변화 전망································ 13\n",
      "   ▹ 유튜브 , 2024 년부터 AI 생성 콘텐츠 표시 의무화 ···························································· 14\n",
      " 3. 기술/연구\n",
      "   ▹ 영국 과학혁신기술부 , AI 안전 연구소 설립 발표······························································ 15\n",
      "   ▹ 구글 딥마인드 , 범용 AI 모델의 기능과 동작에 대한 분류 체계 발표······························ 16\n",
      "   ▹ 갈릴레오의 LLM 환각 지수 평가에서 GPT-4 가 가장 우수 ··········································· 17\n",
      "   \n",
      " 4. 인력/교육     \n",
      "   ▹ 영국 옥스퍼드 인터넷 연구소 , AI 기술자의 임금이 평균 21% 높아······························· 18\n",
      "   \n",
      "   \n",
      " \n",
      "Ⅱ. 주요 행사\n",
      "   ▹CES 2024 ····························································································································· 19\n",
      "\n",
      "SPRi AI Brief |  \n",
      "2023-12 월호\n",
      "4미국 법원, 예술가들이 생성 AI 기업에 제기한 저작권 소송 기각\n",
      "n미국 캘리포니아 북부지방법원은 미드저니 , 스태빌리티 AI, 디비언트아트를 대상으로 예술가 \n",
      "3인이 제기한 저작권 침해 소송을 기각\n",
      "n법원은 기각 이유로 고소장에 제시된 상당수 작품이 저작권청에 등록되지 않았으며 , AI로 \n",
      "생성된 이미지와 특정 작품 간 유사성을 입증하기 어렵다는 점을 제시 KEY Contents\n",
      "£예술가들의 AI 저작권 침해 소송, 저작권 미등록과 증거불충분으로 기각\n",
      "n미국 캘리포니아 북부지방법원의 윌리엄 오릭(W illiam Orrick) 판사는 2023년 10월 30일 미드저니\n",
      "(M idjourney),  스태빌리티 AI(Stability AI), 디비언트아트 (DeviantArt) 에 제기된 저작권 침해 소송을 기각 \n",
      "∙2023 년 1월 예술가 사라 앤더슨 (Sarah Anderson), 캘리 맥커넌 (Kelly McKernan), 칼라 \n",
      "오르티즈 (Karla Ortiz) 는 이미지 생성 AI 서비스를 개발한 3개 기업을 상대로 저작권 침해 소송을 제기\n",
      "∙예술가들은 3개 기업이 AI 모델을 학습시키기 위해 원작자 동의 없이 작품을 학습 데이터셋에 \n",
      "포함하여 저작권을 침해했다고 주장했으며 , 법원은 지난 4월 피소 기업들이 제출한 기각 신청을 \n",
      "수용해 소송을 기각 \n",
      "n오릭 판사는 판결문에서 소송을 기각한 핵심 이유로 예술가들의 저작권 미등록을 제시\n",
      "∙판결문은 소송을 제기한 캘리 맥커넌과 칼라 오르티즈가 미국 저작권청에 예술 작품에 대한 저작권을 \n",
      "제출하지 않았다는 점을 지적했으며 , 사라 앤더슨은 고소장에 인용된 수백 개의 작품 중 16개 작품에 \n",
      "대해서만 저작권을 보유\n",
      "n판결문은 또한 생성 AI 모델 훈련에 사용된 모든 이미지에 저작권이 있다거나 , 생성 AI로 만든 \n",
      "이미지가 저작물을 이용해 훈련되었으므로 저작물의 파생 이미지라는 주장은 개연성이  부족하다고  \n",
      "지적\u001b[0m\u001b[32;1m\u001b[1;3m```\n",
      "{\n",
      "    \"action\": \"Final Answer\",\n",
      "    \"action_input\": \"유튜브는 2024년부터 AI 생성 콘텐츠에 대한 표시 의무화를 시행할 예정으로, 이를 준수하지 않는 콘텐츠는 삭제하고 크리에이터에 대한 수익 배분도 중단할 수 있다고 설명합니다. 또한, 유튜브는 AI 생성 콘텐츠가 신원 파악이 가능한 개인을 모방한 경우 개인정보 침해 신고 절차에 따라 콘텐츠 삭제 요청도 받을 계획입니다.\"\n",
      "}\n",
      "```\u001b[0m\n",
      "\n",
      "\u001b[1m> Finished chain.\u001b[0m\n",
      "답변: 유튜브는 2024년부터 AI 생성 콘텐츠에 대한 표시 의무화를 시행할 예정으로, 이를 준수하지 않는 콘텐츠는 삭제하고 크리에이터에 대한 수익 배분도 중단할 수 있다고 설명합니다. 또한, 유튜브는 AI 생성 콘텐츠가 신원 파악이 가능한 개인을 모방한 경우 개인정보 침해 신고 절차에 따라 콘텐츠 삭제 요청도 받을 계획입니다.\n"
     ]
    }
   ],
   "source": [
    "# 검색 결과를 요청 후 질문에 대한 답변을 출력합니다.\n",
    "response = llama3_agent_executor.invoke(\n",
    "    {\n",
    "        \"input\": \"YouTube 2024년부터 AI 생성콘텐츠 표시 의무화에 대한 내용을 PDF 문서에서 알려줘\"\n",
    "    }\n",
    ")\n",
    "print(f'답변: {response[\"output\"]}')"
   ]
  }
 ],
 "metadata": {
  "kernelspec": {
   "display_name": "py-test",
   "language": "python",
   "name": "python3"
  },
  "language_info": {
   "codemirror_mode": {
    "name": "ipython",
    "version": 3
   },
   "file_extension": ".py",
   "mimetype": "text/x-python",
   "name": "python",
   "nbconvert_exporter": "python",
   "pygments_lexer": "ipython3",
   "version": "3.11.5"
  }
 },
 "nbformat": 4,
 "nbformat_minor": 5
}
