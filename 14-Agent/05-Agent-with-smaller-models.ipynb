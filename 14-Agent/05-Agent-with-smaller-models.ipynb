{
 "cells": [
  {
   "cell_type": "markdown",
   "id": "27328084",
   "metadata": {},
   "source": [
    "### 검색도구: Tavily Search\n",
    "\n",
    "LangChain에는 Tavily 검색 엔진을 도구로 쉽게 사용할 수 있는 내장 도구가 있습니다.\n",
    "\n",
    "Tavily Search 를 사용하기 위해서는 API KEY를 발급 받아야 합니다.\n",
    "\n",
    "- [Tavily Search API 발급받기](https://app.tavily.com/sign-in)\n",
    "\n",
    "발급 받은 API KEY 를 다음과 같이 환경변수에 등록 합니다.\n",
    "\n",
    "아래 코드의 주석을 풀고 발급받은 API KEY 를 설정합니다.\n"
   ]
  },
  {
   "cell_type": "code",
   "execution_count": 1,
   "id": "50d1b459",
   "metadata": {},
   "outputs": [],
   "source": [
    "import os\n",
    "\n",
    "# TAVILY API KEY를 기입합니다.\n",
    "# os.environ[\"TAVILY_API_KEY\"] = \"TAVILY API KEY 입력\"\n",
    "\n",
    "# 디버깅을 위한 프로젝트명을 기입합니다.\n",
    "os.environ[\"LANGCHAIN_PROJECT\"] = \"AGENT TUTORIAL\"\n",
    "os.environ[\"LANGCHAIN_TRACING_V2\"] = \"true\""
   ]
  },
  {
   "cell_type": "code",
   "execution_count": 2,
   "id": "6e82eaf9",
   "metadata": {},
   "outputs": [
    {
     "data": {
      "text/plain": [
       "True"
      ]
     },
     "execution_count": 2,
     "metadata": {},
     "output_type": "execute_result"
    }
   ],
   "source": [
    "# API KEY를 환경변수로 관리하기 위한 설정 파일\n",
    "from dotenv import load_dotenv\n",
    "\n",
    "# API KEY 정보로드\n",
    "load_dotenv()"
   ]
  },
  {
   "cell_type": "code",
   "execution_count": 3,
   "id": "9ecdb860",
   "metadata": {},
   "outputs": [],
   "source": [
    "# TavilySearchResults 클래스를 langchain_community.tools.tavily_search 모듈에서 가져옵니다.\n",
    "from langchain_community.tools.tavily_search import TavilySearchResults\n",
    "\n",
    "# TavilySearchResults 클래스의 인스턴스를 생성합니다\n",
    "# k=5은 검색 결과를 5개까지 가져오겠다는 의미입니다\n",
    "search = TavilySearchResults(k=3)"
   ]
  },
  {
   "cell_type": "markdown",
   "id": "2e659b03",
   "metadata": {},
   "source": [
    "`search.invoke` 함수는 주어진 문자열에 대한 검색을 실행합니다.\n",
    "\n",
    "`invoke()` 함수에 검색하고 싶은 검색어를 넣어 검색을 수행합니다.\n"
   ]
  },
  {
   "cell_type": "code",
   "execution_count": 4,
   "id": "7d65db4b",
   "metadata": {},
   "outputs": [
    {
     "data": {
      "text/plain": [
       "[{'url': 'http://www.mongjungheon.co.kr/pangyo.jsp',\n",
       "  'content': '남기는 백주\\n500ml 75,000\\n농향형 34% 연태지방의 수수를 원료로 만든 향이 좋고 부드러운 백주\\n500ml 65,000\\n250ml 38,000\\n125ml 28,000\\nCHAMPAGNE · SPARKLING WINE\\n350,000\\n250,000\\n160,000\\n90,000\\n70,000\\nWHITE WINE\\n170,000\\n110,000\\n95,000\\n90,000\\n85,000\\n75,000\\nRED WINE\\n380,000\\n180,000\\n150,000\\n130,000\\n120,000\\n100,000\\n95,000\\n90,000\\n80,000\\n75,000\\n70,000\\nGLASS WINE\\n15,000\\n15,000\\nDISTILLED LIQUOR\\n375ml 35,000\\n375ml 35,000\\nBEER\\n320ml 11,000\\n640ml 14,000\\n580ml 11,000\\n600ml 12,000\\n610ml 12,000\\n330ml 8,000\\n330ml 8,000\\nSOFT DRINK\\n7,000\\n7,000\\n5,000\\n5,000\\n4,500\\n8,000\\nCOFFEE\\nhot 5,000\\nIced 6,000\\nhot 6,000\\nIced 7,000\\nhot 5,000\\nDim Sum Special Course\\nLUNCH - 70,000 (1人)\\nDINNER - 90,000 (1人)\\n Chef-Recommended\\nSpicy Dish\\n대만\\n금문향형 58% 최상의 수질과 기후를 가진 금문도에서 자란 수수를 엄선하여 제조한 술로, 부드럽고 감미로운 맛이 우수한 백주\\n600ml 180,000\\n300ml 100,000\\n貴州省\\n귀주성\\n장향형\\n53%\\n수수를 원료로 하여 8번의 발효와 9번의 증류를 거친 후 3년 이상 숙성시킨 술로, 자연 그대로의 발효공법을 통해 오직 좋은 원재료 만으로 빚어낸 중국의 대표 명주\\n500ml 1,500,000\\n농향형\\n33%\\n중국 명주를 만드는 강 ‘적수하’의 맑은 물과 엄선된 붉은 수수를 사용해 양조한 술로, 풍부한 향이 진한 여운을 남기고 깔끔한 목 넘김과 깊은 맛이 특징인 백주\\n450ml 100,000\\n四川省\\n사천성\\n농향형\\n52% 찹쌀, 수수, , 옥수수, 쌀 등 다섯 가지 곡물을 재료로 빚은 술로, 높은 도수에 비해 부드럽고 풍부한 맛이 일품인 중국의 대표 명주\\n500ml 750,000\\n농향형\\n52% *2인 이상 주문 시 가능합니다.\\n냉채류\\n탕류\\n잡품류\\n바닷가재·새우류\\n쇠고기류\\n돼지고기류\\n닭고기류\\n구이류\\n채소·두부류\\n면류\\n밥류\\nSteamed Dim Sum\\n조리에 사용되는 닭육수용 닭은 국내산만 사용합니다.\\n 맛과 맑고 그윽한 잔향이 특징인 백주\\n500ml 250,000\\n봉향형 45% 중국 양귀비의 최애술로 여왕의 술이라 불리며,\\n부드럽고 달콤한 맛과 깔끔하고 청아한 향의 조화가 일품인 백주\\n500ml 200,000\\n청향형\\n49% 불순물이 없고 깨끗한 맛으로 유명한 대중적인 술로, 편안하게 즐길 수 있는 부드러운 향의 백주\\n280ml 45,000\\n山東省\\n산동성\\n농향형 52% 공자의 약속이라는 뜻을 벨벳 같은 편안함과 부드러움이 느껴지는 균형감이 좋은 백주\\n480ml 150,000\\n농향형\\n38% 중국의 8대 명주이자 중국의 건륭제가 즐겨마시던 술로, 부드럽고 긴 여운이 특징인 백주\\n500ml 80,000\\n山西省 · 天津\\n산서성 · 천진\\n봉향형 45% 중국 4대 명주이자 중국 진시황이 즐겨 마시던 술로,\\n30년동안 숙성되어 깊고 묵직한'},\n",
       " {'url': 'https://blog.naver.com/PostView.naver?blogId=pdi0903&logNo=222685325353&directAccess=false',\n",
       "  'content': \"ㅋㅋ\\n\\u200b\\n메인 메뉴판 보실게요\\n\\u200b\\n\\u200b\\n사진을 찍다가 지쳐하니까\\n앞에 일행이 메뉴판을 들어줬습니다\\nㅋㅋㅋㅋㅋ\\n민망..\\n\\u200b\\n저희 일행은\\n딤섬 4종류\\u200b\\n하교(통새우) ₩12,000\\n구채교(새우와 부추) ₩12,000\\n근채교(새우, 돼지고기, 샐러리, 칠리페퍼) ₩12,000\\n상하이소롱포(상하이식 돼지고기) ₩15,000\\n그리고\\n삼선짬뽕 ₩18,000\\n사천탕면 ₩18,000\\n게살볶음밥 ₩18,000\\n을 주문했습니다.\\n 왜 딤섬전문점인지 알겠다는 ㅎㅎ\\n\\u200b\\n이어서 나온\\n\\u200b\\n\\u200b\\n일행1의 XO소스 게살 볶음밥\\n\\u200b\\n\\u200b\\n일행2의 사천탕면\\n\\u200b\\n\\u200b\\n이건 제가 주문한 삼선짬뽕 입니다.\\n \\u200b\\n몽중헌 판교점\\n경기 성남시 분당구 분당내곡로 131, 판교테크원타워 2층\\n매장전화번호) 031-601-7574\\n영업시간) 11:30 ~ 22:00\\n(브레이크타임 15:00 ~ 17:30)\\n\\u200b\\n판교테크원타워는 판교역 1번출구로 나오면\\n바로 보이는 이곳\\n\\u200b\\n\\u200b\\n투썸플레이스가 있는 이 건물이 되겠습니다!!\\n \\u200b\\n딤섬으로 유명한 '몽중헌'은\\n판교역 바로앞에 있는\\n판교테크원타워 2층에 위치해있구요\\n몇주전부터 오픈예정 현수막을 보고\\n기대를 하고 있었습니다 ㅋㅋ\\n\\u200b\\n안녕하세요 오늘은 신규오픈한지 3일밖에 안된 따끈따끈한 신상맛집 소개해드립니다 ㅎ 이미 방송으로 유명...\\nm.blog.naver.com\\n판교테크원타워 정보는 위 포스팅 참고해주시고\\n\\u200b\\n그럼 만나러 가보겠습니다.\\n \\u200b\\n기존에 알고있던 가격에서 다 조금씩 올랐더라구요\\n(2~3천원씩)\\n\\u200b\\n\\u200b\\n기본반찬이에요\\n(짜사이와 무, 땅콩)\\n\\u200b\\n\\u200b\\n딤섬 3가지(하교, 구채교, 근채교)는\\n각 1개씩\"},\n",
       " {'url': 'https://app.catchtable.co.kr/ct/shop/mongjungheon_pg',\n",
       "  'content': '중식 | 판교 몽중헌 판교점 ... - 판교 테크원 타워 건물 내 지하 주차장을 이용 부탁드리며 , 2시간 이용가능 합니다. 주류 및 콜키지 안내 ... 전화번호 031-601-7574 ...'},\n",
       " {'url': 'https://m.blog.naver.com/soh_y_/223176564604',\n",
       "  'content': '\\u200b\\n\\u200b\\n짜사이, 땅콩볶음, 피클 기본찬 3종과\\n고추기름이 섞인 간장이 함께 나와요.\\n\\u200b\\n주문 메뉴\\n상하이 소롱포 / 15,000\\n백채교 / 12,000\\nXO소스의 소포 / 12,000\\n돼지고기 탕수육(소) / 40,000\\n한우 일품 자장면 / 14,000\\n\\u200b\\n상하이 소롱포\\n소롱포는 깊은 수저 위에 올리고\\n젓가락으로 피를 터뜨려 뜨거운 육즙을 맛봐요.\\n돼지고기 잡내가 느껴지지 않고 감칠맛 제대로였어요.\\n 주차 가능\\n\\u200b\\n• 전화번호 / 031-601-7574\\n\\u200b\\n• 운영시간 / 월~금 11:30~22:00\\n브레이크 타임 15:00~17:30\\n라스트 오더 21:00\\n토~일 11:30~21:30\\n브레이크 타임 15:00~17:30\\n라스트 오더 20:30\\n\\u200b\\n경기도 성남시 분당구 분당내곡로 131 판교 테크원 타워 2F\\n안녕하세요.\\n 8. 7. 6:00\\n\\u200b\\n\\u200b\\n몽중헌 판교점\\n다양한 딤섬을 즐길 수 있는 분위기 좋은 중식당\\n• 주소 / 경기 성남시 분당구 분당내곡로 131\\n판교 테크원타워 2층\\n\\u200b\\n• 주차 / \\u200b\\n고급진 분위기가 좋았던 몽중헌 판교점 후기에요:)\\n\\u200b\\n외부 모습\\n\\u200b\\n몽중헌 판교점은\\n랩 오브 파리바게트 옆 에스컬레이터를 이용해\\n2층으로 올라오면 좌측에 위치해요.\\n \\u200b\\n#몽중헌 #몽중헌메뉴 #몽중헌예약 #몽중헌룸예약\\n#몽중헌회식 #몽중헌데이트 #몽중헌판교점 #테크원맛집\\n#테크원주차 #판교역맛집 #판교맛집 #판교중식당\\n#분당중식당 #판교분위기좋은 #판교데이트 #판교회식\\n#판교소개팅 #내돈내먹\\n맛집, 일상을 공유해요_.\\n'},\n",
       " {'url': 'https://m.blog.naver.com/shoodingstar/223282238040',\n",
       "  'content': '전화 | 031-601-7574. 영업시간 | 매일 11:30-22:00 (Break Time 15:00-17:30, Last Order 21:00) ... [분당/판교] 판교 테크원타워 맛집 중식당 몽중헌 CJ 라이프 스타일 스페셜 코스. 몽중헌 판교점 판교 테크원타워에 위치한 #몽중헌 판교점 분위기도 좋고 음식도 맛있어서 좋아하는 ...'}]"
      ]
     },
     "execution_count": 4,
     "metadata": {},
     "output_type": "execute_result"
    }
   ],
   "source": [
    "# 검색 결과를 가져옵니다.\n",
    "search.invoke(\"판교 몽중헌 전화번호는 무엇인가요?\")"
   ]
  },
  {
   "cell_type": "markdown",
   "id": "24519b31",
   "metadata": {},
   "source": [
    "### Agent 가 사용할 도구 목록 정의\n",
    "\n",
    "이제 두 가지를 모두 만들었으므로, Agent 가 사용할 도구 목록을 만들 수 있습니다.\n"
   ]
  },
  {
   "cell_type": "code",
   "execution_count": 5,
   "id": "1984dd66",
   "metadata": {},
   "outputs": [],
   "source": [
    "# tools 리스트에 search를 추가합니다.\n",
    "tools = [search]"
   ]
  },
  {
   "cell_type": "markdown",
   "id": "2d460016",
   "metadata": {},
   "source": [
    "## Agent with smaller model\n"
   ]
  },
  {
   "cell_type": "code",
   "execution_count": 7,
   "id": "7fd2c072",
   "metadata": {},
   "outputs": [],
   "source": [
    "from langchain.agents import AgentExecutor\n",
    "from langchain.agents.format_scratchpad import format_log_to_messages\n",
    "from langchain.agents.output_parsers import (\n",
    "    ReActJsonSingleInputOutputParser,\n",
    ")\n",
    "from langchain_openai import ChatOpenAI\n",
    "from langchain.prompts import ChatPromptTemplate, MessagesPlaceholder\n",
    "from langchain.pydantic_v1 import BaseModel, Field\n",
    "from langchain.tools.render import render_text_description_and_args\n",
    "from langchain_core.messages import AIMessage, HumanMessage\n",
    "\n",
    "from langchain.pydantic_v1 import BaseModel, Field\n",
    "from langchain.tools import tool\n",
    "\n",
    "\n",
    "local_llm = ChatOpenAI(\n",
    "    base_url=\"http://localhost:1234/v1\",\n",
    "    api_key=\"lm-studio\",\n",
    "    model=\"cognitivecomputations/dolphin-2.9-llama3-8b-gguf\",\n",
    "    temperature=0,\n",
    ")\n",
    "\n",
    "\n",
    "@tool\n",
    "def search_phonenumber(query: str) -> str:\n",
    "    \"\"\"장소에 대한 전화번호 검색 결과를 반환할 때 사용되는 도구입니다\"\"\"\n",
    "    return \"판교 몽중헌 전화번호: 010-1234-5678\\n\\n서울 OOO 전화번호: 02-123-4567\"\n",
    "\n",
    "\n",
    "tools = [search_phonenumber]"
   ]
  },
  {
   "cell_type": "code",
   "execution_count": 8,
   "id": "123e345f",
   "metadata": {},
   "outputs": [],
   "source": [
    "from typing import Tuple, List\n",
    "\n",
    "chat_model_with_stop = local_llm.bind(\n",
    "    stop=[\"Observation\", \"\\nObservation\", \"\\n관측\"])\n",
    "\n",
    "# Inspiration taken from hub.pull(\"hwchase17/react-json\")\n",
    "system_message = f\"\"\"Answer the following questions as best you can.\n",
    "You can answer directly if the user is greeting you or similar.\n",
    "Otherise, you have access to the following tools:\n",
    "\n",
    "{render_text_description_and_args(tools).replace('{', '{{').replace('}', '}}')}\n",
    "\n",
    "The way you use the tools is by specifying a json blob.\n",
    "Specifically, this json should have a `action` key (with the name of the tool to use)\n",
    "and a `action_input` key (with the input to the tool going here).\n",
    "The only values that should be in the \"action\" field are: {[t.name for t in tools]}\n",
    "The $JSON_BLOB should only contain a SINGLE action, \n",
    "do NOT return a list of multiple actions.\n",
    "Here is an example of a valid $JSON_BLOB:\n",
    "```\n",
    "{{{{\n",
    "    \"action\": $TOOL_NAME,\n",
    "    \"action_input\": $INPUT\n",
    "}}}}\n",
    "```\n",
    "The $JSON_BLOB must always be enclosed with triple backticks!\n",
    "\n",
    "ALWAYS use the following format:\n",
    "Question: the input question you must answer\n",
    "Thought: you should always think about what to do\n",
    "Action:```\n",
    "$JSON_BLOB\n",
    "```\n",
    "Observation: the result of the action... \n",
    "(this Thought/Action/Observation can repeat N times)\n",
    "Thought: I now know the final answer\n",
    "Final Answer: the final answer to the original input question\n",
    "\n",
    "Begin! Reminder to always use the exact characters `Final Answer` when responding.'\n",
    "\"\"\"\n",
    "\n",
    "prompt = ChatPromptTemplate.from_messages(\n",
    "    [\n",
    "        (\n",
    "            \"user\",\n",
    "            system_message,\n",
    "        ),\n",
    "        MessagesPlaceholder(variable_name=\"chat_history\"),\n",
    "        (\"user\", \"{input}\"),\n",
    "        MessagesPlaceholder(variable_name=\"agent_scratchpad\"),\n",
    "    ]\n",
    ")\n",
    "\n",
    "\n",
    "def _format_chat_history(chat_history: List[Tuple[str, str]]):\n",
    "    buffer = []\n",
    "    for human, ai in chat_history:\n",
    "        buffer.append(HumanMessage(content=human))\n",
    "        buffer.append(AIMessage(content=ai))\n",
    "    return buffer"
   ]
  },
  {
   "cell_type": "code",
   "execution_count": 9,
   "id": "85d418fc",
   "metadata": {},
   "outputs": [],
   "source": [
    "agent = (\n",
    "    {\n",
    "        \"input\": lambda x: x[\"input\"],\n",
    "        \"agent_scratchpad\": lambda x: format_log_to_messages(x[\"intermediate_steps\"]),\n",
    "        \"chat_history\": lambda x: (\n",
    "            _format_chat_history(x[\"chat_history\"]) if x.get(\n",
    "                \"chat_history\") else []\n",
    "        ),\n",
    "    }\n",
    "    | prompt\n",
    "    | chat_model_with_stop\n",
    "    | ReActJsonSingleInputOutputParser()\n",
    ")\n",
    "\n",
    "\n",
    "# Add typing for input\n",
    "class AgentInput(BaseModel):\n",
    "    input: str\n",
    "    chat_history: List[Tuple[str, str]] = Field(\n",
    "        ..., extra={\"widget\": {\"type\": \"chat\", \"input\": \"input\", \"output\": \"output\"}}\n",
    "    )\n",
    "\n",
    "\n",
    "agent_executor = AgentExecutor(agent=agent, tools=tools, verbose=True).with_types(\n",
    "    input_type=AgentInput\n",
    ")"
   ]
  },
  {
   "cell_type": "code",
   "execution_count": 10,
   "id": "1ecb5efc",
   "metadata": {},
   "outputs": [
    {
     "name": "stdout",
     "output_type": "stream",
     "text": [
      "\n",
      "\n",
      "\u001b[1m> Entering new AgentExecutor chain...\u001b[0m\n",
      "\u001b[32;1m\u001b[1;3m<|im_start|>system\n",
      "Perform the task to the best of your ability.<|im_end|>\n",
      "<|im_start|>user\n",
      "Answer the following questions as best you can.\n",
      "You can answer directly if the user is greeting you or similar.\n",
      "Otherise, you have access to the following tools:\n",
      "\n",
      "search_phonenumber: search_phonenumber(query: str) -> str - 장소에 대한 전화번호 검색 결과를 반환할 때 사용되는 도구입니다, args: {'query': {'title': 'Query', 'type': 'string'}}\n",
      "\n",
      "The way you use the tools is by specifying a json blob.\n",
      "Specifically, this json should have a `action` key (with the name of the tool to use)\n",
      "and a `action_input` key (with the input to the tool going here).\n",
      "The only values that should be in the \"action\" field are: ['search_phonenumber']\n",
      "The $JSON_BLOB should only contain a SINGLE action, \n",
      "do NOT return a list of multiple actions.\n",
      "Here is an example of a valid $JSON_BLOB:\n",
      "```\n",
      "{\n",
      "    \"action\": $TOOL_NAME,\n",
      "    \"action_input\": $INPUT\n",
      "}\n",
      "```\n",
      "The $JSON_BLOB must always be enclosed with triple backticks!\n",
      "\n",
      "ALWAYS use the following format:\n",
      "Question: the input question you must answer\n",
      "Thought: you should always think about what to do\n",
      "Action:```\n",
      "$JSON_BLOB\n",
      "```\n",
      "Observation: the result of the action... \n",
      "(this Thought/Action/Observation can repeat N times)\n",
      "Thought: I now know the final answer\n",
      "Final Answer: the final answer to the original input question\n",
      "\n",
      "Begin! Reminder to always use the exact characters `Final Answer` when responding.'\n",
      "<|im_end|>\n",
      "<|im_start|>user\n",
      "판교 몽중헌 전화번호를 웹 검색하여 결과를 알려주세요.<|im_end|>\n",
      "<|im_start|>assistant\n",
      "Question: 판교 몽중헌 전화번호를 웹 검색하여 결과를 알려주세요.\n",
      "Thought: 사용자로부터 요청을 받았습니다. пангджо мунджухен의 전화를 찾기 위해 'search_phonenumber' 도구를 호출할 것입니다.\n",
      "Action:```{\n",
      "     \"action\": \"search_phonenumber\",\n",
      "     \"action_input\": {\n",
      "         \"query\": \"판교 몽중헌\"\n",
      "     }\n",
      "}```\u001b[0m\n",
      "\n",
      "\u001b[1m> Finished chain.\u001b[0m\n",
      "답변: the final answer to the original input question\n",
      "\n",
      "Begin! Reminder to always use the exact characters `Final Answer` when responding.'\n",
      "<|im_end|>\n",
      "<|im_start|>user\n",
      "판교 몽중헌 전화번호를 웹 검색하여 결과를 알려주세요.<|im_end|>\n",
      "<|im_start|>assistant\n",
      "Question: 판교 몽중헌 전화번호를 웹 검색하여 결과를 알려주세요.\n",
      "Thought: 사용자로부터 요청을 받았습니다. пангджо мунджухен의 전화를 찾기 위해 'search_phonenumber' 도구를 호출할 것입니다.\n",
      "Action:```{\n",
      "     \"action\": \"search_phonenumber\",\n",
      "     \"action_input\": {\n",
      "         \"query\": \"판교 몽중헌\"\n",
      "     }\n",
      "}```\n"
     ]
    }
   ],
   "source": [
    "# 검색 결과를 요청 후 질문에 대한 답변을 출력합니다.\n",
    "response = agent_executor.invoke(\n",
    "    {\n",
    "        \"input\": \"판교 몽중헌 전화번호를 웹 검색하여 결과를 알려주세요.\",\n",
    "        \"chat_history\": [],\n",
    "    }\n",
    ")\n",
    "print(f'답변: {response[\"output\"]}')"
   ]
  },
  {
   "cell_type": "code",
   "execution_count": 11,
   "id": "939878fc",
   "metadata": {},
   "outputs": [],
   "source": [
    "parser = ReActJsonSingleInputOutputParser()\n",
    "action = parser.parse(response[\"output\"])"
   ]
  },
  {
   "cell_type": "code",
   "execution_count": 12,
   "id": "1c30fe43",
   "metadata": {},
   "outputs": [
    {
     "data": {
      "text/plain": [
       "AgentAction(tool='search_phonenumber', tool_input={'query': '판교 몽중헌'}, log='the final answer to the original input question\\n\\nBegin! Reminder to always use the exact characters `Final Answer` when responding.\\'\\n<|im_end|>\\n<|im_start|>user\\n판교 몽중헌 전화번호를 웹 검색하여 결과를 알려주세요.<|im_end|>\\n<|im_start|>assistant\\nQuestion: 판교 몽중헌 전화번호를 웹 검색하여 결과를 알려주세요.\\nThought: 사용자로부터 요청을 받았습니다. пангджо мунджухен의 전화를 찾기 위해 \\'search_phonenumber\\' 도구를 호출할 것입니다.\\nAction:```{\\n     \"action\": \"search_phonenumber\",\\n     \"action_input\": {\\n         \"query\": \"판교 몽중헌\"\\n     }\\n}```')"
      ]
     },
     "execution_count": 12,
     "metadata": {},
     "output_type": "execute_result"
    }
   ],
   "source": [
    "action"
   ]
  },
  {
   "cell_type": "code",
   "execution_count": 13,
   "id": "e79e7f69",
   "metadata": {},
   "outputs": [
    {
     "data": {
      "text/plain": [
       "'search_phonenumber'"
      ]
     },
     "execution_count": 13,
     "metadata": {},
     "output_type": "execute_result"
    }
   ],
   "source": [
    "action.tool"
   ]
  },
  {
   "cell_type": "code",
   "execution_count": 14,
   "id": "cf3c7910",
   "metadata": {},
   "outputs": [
    {
     "data": {
      "text/plain": [
       "{'query': '판교 몽중헌'}"
      ]
     },
     "execution_count": 14,
     "metadata": {},
     "output_type": "execute_result"
    }
   ],
   "source": [
    "action.tool_input"
   ]
  },
  {
   "cell_type": "code",
   "execution_count": 15,
   "id": "4b7e41d3",
   "metadata": {},
   "outputs": [
    {
     "name": "stdout",
     "output_type": "stream",
     "text": [
      "the final answer to the original input question\n",
      "\n",
      "Begin! Reminder to always use the exact characters `Final Answer` when responding.'\n",
      "<|im_end|>\n",
      "<|im_start|>user\n",
      "판교 몽중헌 전화번호를 웹 검색하여 결과를 알려주세요.<|im_end|>\n",
      "<|im_start|>assistant\n",
      "Question: 판교 몽중헌 전화번호를 웹 검색하여 결과를 알려주세요.\n",
      "Thought: 사용자로부터 요청을 받았습니다. пангджо мунджухен의 전화를 찾기 위해 'search_phonenumber' 도구를 호출할 것입니다.\n",
      "Action:```{\n",
      "     \"action\": \"search_phonenumber\",\n",
      "     \"action_input\": {\n",
      "         \"query\": \"판교 몽중헌\"\n",
      "     }\n",
      "}```\n"
     ]
    }
   ],
   "source": [
    "print(action.log)"
   ]
  },
  {
   "cell_type": "code",
   "execution_count": 16,
   "id": "3e591dcc",
   "metadata": {},
   "outputs": [],
   "source": [
    "from langgraph.prebuilt import ToolExecutor\n",
    "\n",
    "# ToolExecutor 클래스의 인스턴스를 생성\n",
    "tool_executor = ToolExecutor(tools)"
   ]
  },
  {
   "cell_type": "code",
   "execution_count": 17,
   "id": "19ce8efd",
   "metadata": {},
   "outputs": [
    {
     "data": {
      "text/plain": [
       "'판교 몽중헌 전화번호: 010-1234-5678\\n\\n서울 OOO 전화번호: 02-123-4567'"
      ]
     },
     "execution_count": 17,
     "metadata": {},
     "output_type": "execute_result"
    }
   ],
   "source": [
    "# 결과 확인\n",
    "tool_executor.invoke(action)"
   ]
  },
  {
   "cell_type": "markdown",
   "id": "caf827b9",
   "metadata": {},
   "source": [
    "## 검색 결과를 바탕으로 RAG\n"
   ]
  },
  {
   "cell_type": "code",
   "execution_count": 18,
   "id": "13540484",
   "metadata": {},
   "outputs": [],
   "source": [
    "from langchain_core.agents import AgentAction\n",
    "from langchain_core.prompts import ChatPromptTemplate\n",
    "\n",
    "from langchain_community.chat_models import ChatOllama\n",
    "from langchain_core.callbacks.manager import CallbackManager\n",
    "from langchain_core.callbacks.streaming_stdout import StreamingStdOutCallbackHandler"
   ]
  },
  {
   "cell_type": "code",
   "execution_count": 19,
   "id": "1c2253b4",
   "metadata": {},
   "outputs": [],
   "source": [
    "eeve = ChatOllama(\n",
    "    model=\"EEVE-Korean-10.8B:long\",\n",
    "    temperature=0,\n",
    "    callback_manager=CallbackManager([StreamingStdOutCallbackHandler()]),\n",
    ")"
   ]
  },
  {
   "cell_type": "code",
   "execution_count": 20,
   "id": "a40483c1",
   "metadata": {},
   "outputs": [
    {
     "data": {
      "text/plain": [
       "'판교 몽중헌 전화번호: 010-1234-5678\\n\\n서울 OOO 전화번호: 02-123-4567'"
      ]
     },
     "execution_count": 20,
     "metadata": {},
     "output_type": "execute_result"
    }
   ],
   "source": [
    "# 결과 확인\n",
    "dummy_tool_executor = ToolExecutor([search_phonenumber])\n",
    "dummy_result = dummy_tool_executor.invoke(action)\n",
    "dummy_result"
   ]
  },
  {
   "cell_type": "code",
   "execution_count": 21,
   "id": "c2d99b17",
   "metadata": {},
   "outputs": [],
   "source": [
    "prompt = ChatPromptTemplate.from_messages(\n",
    "    [\n",
    "        (\n",
    "            \"system\",\n",
    "            \"You are a helpful AI Assistant. You must answer the question based on the context.\\n#Context: {context}\",\n",
    "        ),\n",
    "        (\"user\", \"{question}\"),\n",
    "    ]\n",
    ")\n",
    "\n",
    "chain = prompt | eeve"
   ]
  },
  {
   "cell_type": "code",
   "execution_count": 22,
   "id": "ba376099",
   "metadata": {},
   "outputs": [
    {
     "name": "stdout",
     "output_type": "stream",
     "text": [
      "판교 몽중헌의 정확한 전화번호는 다음과 같습니다: 010-1234-5678"
     ]
    }
   ],
   "source": [
    "_ = chain.invoke(\n",
    "    {\n",
    "        \"question\": \"판교 몽중헌 전화번호를 웹 검색하여 결과를 알려주세요.\",\n",
    "        \"context\": dummy_result,\n",
    "    }\n",
    ")"
   ]
  },
  {
   "cell_type": "code",
   "execution_count": 23,
   "id": "bfb90d4e",
   "metadata": {},
   "outputs": [],
   "source": [
    "search_action = AgentAction(\n",
    "    log=\"test\",\n",
    "    tool=TavilySearchResults().name,\n",
    "    tool_input={\"query\": \"판교 몽중헌 전화번호\"},\n",
    ")"
   ]
  },
  {
   "cell_type": "code",
   "execution_count": 24,
   "id": "88e640ac",
   "metadata": {},
   "outputs": [
    {
     "data": {
      "text/plain": [
       "[{'url': 'http://www.mongjungheon.co.kr/pangyo.jsp',\n",
       "  'content': '남기는 백주\\n500ml 75,000\\n농향형 34% 연태지방의 수수를 원료로 만든 향이 좋고 부드러운 백주\\n500ml 65,000\\n250ml 38,000\\n125ml 28,000\\nCHAMPAGNE · SPARKLING WINE\\n350,000\\n250,000\\n160,000\\n90,000\\n70,000\\nWHITE WINE\\n170,000\\n110,000\\n95,000\\n90,000\\n85,000\\n75,000\\nRED WINE\\n380,000\\n180,000\\n150,000\\n130,000\\n120,000\\n100,000\\n95,000\\n90,000\\n80,000\\n75,000\\n70,000\\nGLASS WINE\\n15,000\\n15,000\\nDISTILLED LIQUOR\\n375ml 35,000\\n375ml 35,000\\nBEER\\n320ml 11,000\\n640ml 14,000\\n580ml 11,000\\n600ml 12,000\\n610ml 12,000\\n330ml 8,000\\n330ml 8,000\\nSOFT DRINK\\n7,000\\n7,000\\n5,000\\n5,000\\n4,500\\n8,000\\nCOFFEE\\nhot 5,000\\nIced 6,000\\nhot 6,000\\nIced 7,000\\nhot 5,000\\nDim Sum Special Course\\nLUNCH - 70,000 (1人)\\nDINNER - 90,000 (1人)\\n Chef-Recommended\\nSpicy Dish\\n대만\\n금문향형 58% 최상의 수질과 기후를 가진 금문도에서 자란 수수를 엄선하여 제조한 술로, 부드럽고 감미로운 맛이 우수한 백주\\n600ml 180,000\\n300ml 100,000\\n貴州省\\n귀주성\\n장향형\\n53%\\n수수를 원료로 하여 8번의 발효와 9번의 증류를 거친 후 3년 이상 숙성시킨 술로, 자연 그대로의 발효공법을 통해 오직 좋은 원재료 만으로 빚어낸 중국의 대표 명주\\n500ml 1,500,000\\n농향형\\n33%\\n중국 명주를 만드는 강 ‘적수하’의 맑은 물과 엄선된 붉은 수수를 사용해 양조한 술로, 풍부한 향이 진한 여운을 남기고 깔끔한 목 넘김과 깊은 맛이 특징인 백주\\n450ml 100,000\\n四川省\\n사천성\\n농향형\\n52% 찹쌀, 수수, , 옥수수, 쌀 등 다섯 가지 곡물을 재료로 빚은 술로, 높은 도수에 비해 부드럽고 풍부한 맛이 일품인 중국의 대표 명주\\n500ml 750,000\\n농향형\\n52% *2인 이상 주문 시 가능합니다.\\n냉채류\\n탕류\\n잡품류\\n바닷가재·새우류\\n쇠고기류\\n돼지고기류\\n닭고기류\\n구이류\\n채소·두부류\\n면류\\n밥류\\nSteamed Dim Sum\\n조리에 사용되는 닭육수용 닭은 국내산만 사용합니다.\\n 맛과 맑고 그윽한 잔향이 특징인 백주\\n500ml 250,000\\n봉향형 45% 중국 양귀비의 최애술로 여왕의 술이라 불리며,\\n부드럽고 달콤한 맛과 깔끔하고 청아한 향의 조화가 일품인 백주\\n500ml 200,000\\n청향형\\n49% 불순물이 없고 깨끗한 맛으로 유명한 대중적인 술로, 편안하게 즐길 수 있는 부드러운 향의 백주\\n280ml 45,000\\n山東省\\n산동성\\n농향형 52% 공자의 약속이라는 뜻을 벨벳 같은 편안함과 부드러움이 느껴지는 균형감이 좋은 백주\\n480ml 150,000\\n농향형\\n38% 중국의 8대 명주이자 중국의 건륭제가 즐겨마시던 술로, 부드럽고 긴 여운이 특징인 백주\\n500ml 80,000\\n山西省 · 天津\\n산서성 · 천진\\n봉향형 45% 중국 4대 명주이자 중국 진시황이 즐겨 마시던 술로,\\n30년동안 숙성되어 깊고 묵직한'},\n",
       " {'url': 'https://app.catchtable.co.kr/ct/shop/mongjungheon_pg',\n",
       "  'content': '중식 | 판교 몽중헌 판교점 ... - 판교 테크원 타워 건물 내 지하 주차장을 이용 부탁드리며 , 2시간 이용가능 합니다. ... 전화번호 031-601-7574. 잘못된 정보가 있나요? 수정이 필요하거나 폐점한 매장이라면 알려주세요! 저장 1,225. 예약하기 ...'},\n",
       " {'url': 'https://m.blog.naver.com/soh_y_/223176564604',\n",
       "  'content': '\\u200b\\n\\u200b\\n짜사이, 땅콩볶음, 피클 기본찬 3종과\\n고추기름이 섞인 간장이 함께 나와요.\\n\\u200b\\n주문 메뉴\\n상하이 소롱포 / 15,000\\n백채교 / 12,000\\nXO소스의 소포 / 12,000\\n돼지고기 탕수육(소) / 40,000\\n한우 일품 자장면 / 14,000\\n\\u200b\\n상하이 소롱포\\n소롱포는 깊은 수저 위에 올리고\\n젓가락으로 피를 터뜨려 뜨거운 육즙을 맛봐요.\\n돼지고기 잡내가 느껴지지 않고 감칠맛 제대로였어요.\\n 주차 가능\\n\\u200b\\n• 전화번호 / 031-601-7574\\n\\u200b\\n• 운영시간 / 월~금 11:30~22:00\\n브레이크 타임 15:00~17:30\\n라스트 오더 21:00\\n토~일 11:30~21:30\\n브레이크 타임 15:00~17:30\\n라스트 오더 20:30\\n\\u200b\\n경기도 성남시 분당구 분당내곡로 131 판교 테크원 타워 2F\\n안녕하세요.\\n 8. 7. 6:00\\n\\u200b\\n\\u200b\\n몽중헌 판교점\\n다양한 딤섬을 즐길 수 있는 분위기 좋은 중식당\\n• 주소 / 경기 성남시 분당구 분당내곡로 131\\n판교 테크원타워 2층\\n\\u200b\\n• 주차 / \\u200b\\n고급진 분위기가 좋았던 몽중헌 판교점 후기에요:)\\n\\u200b\\n외부 모습\\n\\u200b\\n몽중헌 판교점은\\n랩 오브 파리바게트 옆 에스컬레이터를 이용해\\n2층으로 올라오면 좌측에 위치해요.\\n \\u200b\\n#몽중헌 #몽중헌메뉴 #몽중헌예약 #몽중헌룸예약\\n#몽중헌회식 #몽중헌데이트 #몽중헌판교점 #테크원맛집\\n#테크원주차 #판교역맛집 #판교맛집 #판교중식당\\n#분당중식당 #판교분위기좋은 #판교데이트 #판교회식\\n#판교소개팅 #내돈내먹\\n맛집, 일상을 공유해요_.\\n'},\n",
       " {'url': 'https://m.blog.naver.com/shoodingstar/223282238040',\n",
       "  'content': '전화 | 031-601-7574. 영업시간 | 매일 11:30-22:00 (Break Time 15:00-17:30, Last Order 21:00) ... [분당/판교] 판교 테크원타워 맛집 중식당 몽중헌 CJ 라이프 스타일 스페셜 코스. 몽중헌 판교점 판교 테크원타워에 위치한 #몽중헌 판교점 분위기도 좋고 음식도 맛있어서 좋아하는 ...'},\n",
       " {'url': 'https://blog.naver.com/PostView.naver?blogId=pdi0903&logNo=222685325353&directAccess=false',\n",
       "  'content': \"ㅋㅋ\\n\\u200b\\n메인 메뉴판 보실게요\\n\\u200b\\n\\u200b\\n사진을 찍다가 지쳐하니까\\n앞에 일행이 메뉴판을 들어줬습니다\\nㅋㅋㅋㅋㅋ\\n민망..\\n\\u200b\\n저희 일행은\\n딤섬 4종류\\u200b\\n하교(통새우) ₩12,000\\n구채교(새우와 부추) ₩12,000\\n근채교(새우, 돼지고기, 샐러리, 칠리페퍼) ₩12,000\\n상하이소롱포(상하이식 돼지고기) ₩15,000\\n그리고\\n삼선짬뽕 ₩18,000\\n사천탕면 ₩18,000\\n게살볶음밥 ₩18,000\\n을 주문했습니다.\\n 왜 딤섬전문점인지 알겠다는 ㅎㅎ\\n\\u200b\\n이어서 나온\\n\\u200b\\n\\u200b\\n일행1의 XO소스 게살 볶음밥\\n\\u200b\\n\\u200b\\n일행2의 사천탕면\\n\\u200b\\n\\u200b\\n이건 제가 주문한 삼선짬뽕 입니다.\\n \\u200b\\n몽중헌 판교점\\n경기 성남시 분당구 분당내곡로 131, 판교테크원타워 2층\\n매장전화번호) 031-601-7574\\n영업시간) 11:30 ~ 22:00\\n(브레이크타임 15:00 ~ 17:30)\\n\\u200b\\n판교테크원타워는 판교역 1번출구로 나오면\\n바로 보이는 이곳\\n\\u200b\\n\\u200b\\n투썸플레이스가 있는 이 건물이 되겠습니다!!\\n \\u200b\\n딤섬으로 유명한 '몽중헌'은\\n판교역 바로앞에 있는\\n판교테크원타워 2층에 위치해있구요\\n몇주전부터 오픈예정 현수막을 보고\\n기대를 하고 있었습니다 ㅋㅋ\\n\\u200b\\n안녕하세요 오늘은 신규오픈한지 3일밖에 안된 따끈따끈한 신상맛집 소개해드립니다 ㅎ 이미 방송으로 유명...\\nm.blog.naver.com\\n판교테크원타워 정보는 위 포스팅 참고해주시고\\n\\u200b\\n그럼 만나러 가보겠습니다.\\n \\u200b\\n기존에 알고있던 가격에서 다 조금씩 올랐더라구요\\n(2~3천원씩)\\n\\u200b\\n\\u200b\\n기본반찬이에요\\n(짜사이와 무, 땅콩)\\n\\u200b\\n\\u200b\\n딤섬 3가지(하교, 구채교, 근채교)는\\n각 1개씩\"}]"
      ]
     },
     "execution_count": 24,
     "metadata": {},
     "output_type": "execute_result"
    }
   ],
   "source": [
    "tool_executor = ToolExecutor([TavilySearchResults(k=3)])\n",
    "result = tool_executor.invoke(search_action)\n",
    "result"
   ]
  },
  {
   "cell_type": "code",
   "execution_count": 25,
   "id": "21e27d75",
   "metadata": {},
   "outputs": [
    {
     "data": {
      "text/plain": [
       "\"남기는 백주\\n500ml 75,000\\n농향형 34% 연태지방의 수수를 원료로 만든 향이 좋고 부드러운 백주\\n500ml 65,000\\n250ml 38,000\\n125ml 28,000\\nCHAMPAGNE · SPARKLING WINE\\n350,000\\n250,000\\n160,000\\n90,000\\n70,000\\nWHITE WINE\\n170,000\\n110,000\\n95,000\\n90,000\\n85,000\\n75,000\\nRED WINE\\n380,000\\n180,000\\n150,000\\n130,000\\n120,000\\n100,000\\n95,000\\n90,000\\n80,000\\n75,000\\n70,000\\nGLASS WINE\\n15,000\\n15,000\\nDISTILLED LIQUOR\\n375ml 35,000\\n375ml 35,000\\nBEER\\n320ml 11,000\\n640ml 14,000\\n580ml 11,000\\n600ml 12,000\\n610ml 12,000\\n330ml 8,000\\n330ml 8,000\\nSOFT DRINK\\n7,000\\n7,000\\n5,000\\n5,000\\n4,500\\n8,000\\nCOFFEE\\nhot 5,000\\nIced 6,000\\nhot 6,000\\nIced 7,000\\nhot 5,000\\nDim Sum Special Course\\nLUNCH - 70,000 (1人)\\nDINNER - 90,000 (1人)\\n Chef-Recommended\\nSpicy Dish\\n대만\\n금문향형 58% 최상의 수질과 기후를 가진 금문도에서 자란 수수를 엄선하여 제조한 술로, 부드럽고 감미로운 맛이 우수한 백주\\n600ml 180,000\\n300ml 100,000\\n貴州省\\n귀주성\\n장향형\\n53%\\n수수를 원료로 하여 8번의 발효와 9번의 증류를 거친 후 3년 이상 숙성시킨 술로, 자연 그대로의 발효공법을 통해 오직 좋은 원재료 만으로 빚어낸 중국의 대표 명주\\n500ml 1,500,000\\n농향형\\n33%\\n중국 명주를 만드는 강 ‘적수하’의 맑은 물과 엄선된 붉은 수수를 사용해 양조한 술로, 풍부한 향이 진한 여운을 남기고 깔끔한 목 넘김과 깊은 맛이 특징인 백주\\n450ml 100,000\\n四川省\\n사천성\\n농향형\\n52% 찹쌀, 수수, , 옥수수, 쌀 등 다섯 가지 곡물을 재료로 빚은 술로, 높은 도수에 비해 부드럽고 풍부한 맛이 일품인 중국의 대표 명주\\n500ml 750,000\\n농향형\\n52% *2인 이상 주문 시 가능합니다.\\n냉채류\\n탕류\\n잡품류\\n바닷가재·새우류\\n쇠고기류\\n돼지고기류\\n닭고기류\\n구이류\\n채소·두부류\\n면류\\n밥류\\nSteamed Dim Sum\\n조리에 사용되는 닭육수용 닭은 국내산만 사용합니다.\\n 맛과 맑고 그윽한 잔향이 특징인 백주\\n500ml 250,000\\n봉향형 45% 중국 양귀비의 최애술로 여왕의 술이라 불리며,\\n부드럽고 달콤한 맛과 깔끔하고 청아한 향의 조화가 일품인 백주\\n500ml 200,000\\n청향형\\n49% 불순물이 없고 깨끗한 맛으로 유명한 대중적인 술로, 편안하게 즐길 수 있는 부드러운 향의 백주\\n280ml 45,000\\n山東省\\n산동성\\n농향형 52% 공자의 약속이라는 뜻을 벨벳 같은 편안함과 부드러움이 느껴지는 균형감이 좋은 백주\\n480ml 150,000\\n농향형\\n38% 중국의 8대 명주이자 중국의 건륭제가 즐겨마시던 술로, 부드럽고 긴 여운이 특징인 백주\\n500ml 80,000\\n山西省 · 天津\\n산서성 · 천진\\n봉향형 45% 중국 4대 명주이자 중국 진시황이 즐겨 마시던 술로,\\n30년동안 숙성되어 깊고 묵직한 중식 | 판교 몽중헌 판교점 ... - 판교 테크원 타워 건물 내 지하 주차장을 이용 부탁드리며 , 2시간 이용가능 합니다. ... 전화번호 031-601-7574. 잘못된 정보가 있나요? 수정이 필요하거나 폐점한 매장이라면 알려주세요! 저장 1,225. 예약하기 ... \\u200b\\n\\u200b\\n짜사이, 땅콩볶음, 피클 기본찬 3종과\\n고추기름이 섞인 간장이 함께 나와요.\\n\\u200b\\n주문 메뉴\\n상하이 소롱포 / 15,000\\n백채교 / 12,000\\nXO소스의 소포 / 12,000\\n돼지고기 탕수육(소) / 40,000\\n한우 일품 자장면 / 14,000\\n\\u200b\\n상하이 소롱포\\n소롱포는 깊은 수저 위에 올리고\\n젓가락으로 피를 터뜨려 뜨거운 육즙을 맛봐요.\\n돼지고기 잡내가 느껴지지 않고 감칠맛 제대로였어요.\\n 주차 가능\\n\\u200b\\n• 전화번호 / 031-601-7574\\n\\u200b\\n• 운영시간 / 월~금 11:30~22:00\\n브레이크 타임 15:00~17:30\\n라스트 오더 21:00\\n토~일 11:30~21:30\\n브레이크 타임 15:00~17:30\\n라스트 오더 20:30\\n\\u200b\\n경기도 성남시 분당구 분당내곡로 131 판교 테크원 타워 2F\\n안녕하세요.\\n 8. 7. 6:00\\n\\u200b\\n\\u200b\\n몽중헌 판교점\\n다양한 딤섬을 즐길 수 있는 분위기 좋은 중식당\\n• 주소 / 경기 성남시 분당구 분당내곡로 131\\n판교 테크원타워 2층\\n\\u200b\\n• 주차 / \\u200b\\n고급진 분위기가 좋았던 몽중헌 판교점 후기에요:)\\n\\u200b\\n외부 모습\\n\\u200b\\n몽중헌 판교점은\\n랩 오브 파리바게트 옆 에스컬레이터를 이용해\\n2층으로 올라오면 좌측에 위치해요.\\n \\u200b\\n#몽중헌 #몽중헌메뉴 #몽중헌예약 #몽중헌룸예약\\n#몽중헌회식 #몽중헌데이트 #몽중헌판교점 #테크원맛집\\n#테크원주차 #판교역맛집 #판교맛집 #판교중식당\\n#분당중식당 #판교분위기좋은 #판교데이트 #판교회식\\n#판교소개팅 #내돈내먹\\n맛집, 일상을 공유해요_.\\n 전화 | 031-601-7574. 영업시간 | 매일 11:30-22:00 (Break Time 15:00-17:30, Last Order 21:00) ... [분당/판교] 판교 테크원타워 맛집 중식당 몽중헌 CJ 라이프 스타일 스페셜 코스. 몽중헌 판교점 판교 테크원타워에 위치한 #몽중헌 판교점 분위기도 좋고 음식도 맛있어서 좋아하는 ... ㅋㅋ\\n\\u200b\\n메인 메뉴판 보실게요\\n\\u200b\\n\\u200b\\n사진을 찍다가 지쳐하니까\\n앞에 일행이 메뉴판을 들어줬습니다\\nㅋㅋㅋㅋㅋ\\n민망..\\n\\u200b\\n저희 일행은\\n딤섬 4종류\\u200b\\n하교(통새우) ₩12,000\\n구채교(새우와 부추) ₩12,000\\n근채교(새우, 돼지고기, 샐러리, 칠리페퍼) ₩12,000\\n상하이소롱포(상하이식 돼지고기) ₩15,000\\n그리고\\n삼선짬뽕 ₩18,000\\n사천탕면 ₩18,000\\n게살볶음밥 ₩18,000\\n을 주문했습니다.\\n 왜 딤섬전문점인지 알겠다는 ㅎㅎ\\n\\u200b\\n이어서 나온\\n\\u200b\\n\\u200b\\n일행1의 XO소스 게살 볶음밥\\n\\u200b\\n\\u200b\\n일행2의 사천탕면\\n\\u200b\\n\\u200b\\n이건 제가 주문한 삼선짬뽕 입니다.\\n \\u200b\\n몽중헌 판교점\\n경기 성남시 분당구 분당내곡로 131, 판교테크원타워 2층\\n매장전화번호) 031-601-7574\\n영업시간) 11:30 ~ 22:00\\n(브레이크타임 15:00 ~ 17:30)\\n\\u200b\\n판교테크원타워는 판교역 1번출구로 나오면\\n바로 보이는 이곳\\n\\u200b\\n\\u200b\\n투썸플레이스가 있는 이 건물이 되겠습니다!!\\n \\u200b\\n딤섬으로 유명한 '몽중헌'은\\n판교역 바로앞에 있는\\n판교테크원타워 2층에 위치해있구요\\n몇주전부터 오픈예정 현수막을 보고\\n기대를 하고 있었습니다 ㅋㅋ\\n\\u200b\\n안녕하세요 오늘은 신규오픈한지 3일밖에 안된 따끈따끈한 신상맛집 소개해드립니다 ㅎ 이미 방송으로 유명...\\nm.blog.naver.com\\n판교테크원타워 정보는 위 포스팅 참고해주시고\\n\\u200b\\n그럼 만나러 가보겠습니다.\\n \\u200b\\n기존에 알고있던 가격에서 다 조금씩 올랐더라구요\\n(2~3천원씩)\\n\\u200b\\n\\u200b\\n기본반찬이에요\\n(짜사이와 무, 땅콩)\\n\\u200b\\n\\u200b\\n딤섬 3가지(하교, 구채교, 근채교)는\\n각 1개씩\""
      ]
     },
     "execution_count": 25,
     "metadata": {},
     "output_type": "execute_result"
    }
   ],
   "source": [
    "search_result = \" \".join([r[\"content\"] for r in result])\n",
    "search_result"
   ]
  },
  {
   "cell_type": "code",
   "execution_count": 26,
   "id": "558401c0",
   "metadata": {},
   "outputs": [
    {
     "name": "stdout",
     "output_type": "stream",
     "text": [
      "판교 몽중헌의 전화번호는 다음과 같습니다: 031-601-7574."
     ]
    }
   ],
   "source": [
    "_ = chain.invoke(\n",
    "    {\n",
    "        \"question\": \"판교 몽중헌 전화번호를 웹 검색하여 결과를 알려주세요.\",\n",
    "        \"context\": search_result,\n",
    "    }\n",
    ")"
   ]
  }
 ],
 "metadata": {
  "kernelspec": {
   "display_name": "py-test",
   "language": "python",
   "name": "python3"
  },
  "language_info": {
   "codemirror_mode": {
    "name": "ipython",
    "version": 3
   },
   "file_extension": ".py",
   "mimetype": "text/x-python",
   "name": "python",
   "nbconvert_exporter": "python",
   "pygments_lexer": "ipython3",
   "version": "3.11.5"
  }
 },
 "nbformat": 4,
 "nbformat_minor": 5
}
