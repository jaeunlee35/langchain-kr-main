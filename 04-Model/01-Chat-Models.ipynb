{
 "cells": [
  {
   "cell_type": "markdown",
   "id": "2ee483b3",
   "metadata": {},
   "source": [
    "# 다양한 LLM 모델 활용"
   ]
  },
  {
   "cell_type": "code",
   "execution_count": 1,
   "id": "3bf28f9e",
   "metadata": {},
   "outputs": [
    {
     "data": {
      "text/plain": [
       "True"
      ]
     },
     "execution_count": 1,
     "metadata": {},
     "output_type": "execute_result"
    }
   ],
   "source": [
    "# API KEY를 환경변수로 관리하기 위한 설정 파일\n",
    "from dotenv import load_dotenv\n",
    "\n",
    "# API KEY 정보로드\n",
    "load_dotenv()"
   ]
  },
  {
   "cell_type": "code",
   "execution_count": 2,
   "id": "edd6b300",
   "metadata": {},
   "outputs": [
    {
     "name": "stdout",
     "output_type": "stream",
     "text": [
      "LangSmith 추적을 시작합니다.\n",
      "[프로젝트명]\n",
      "CH04-Models\n"
     ]
    }
   ],
   "source": [
    "# LangSmith 추적을 설정합니다. https://smith.langchain.com\n",
    "# !pip install langchain-teddynote\n",
    "from langchain_teddynote import logging\n",
    "from langchain_teddynote.messages import stream_response\n",
    "\n",
    "# 프로젝트 이름을 입력합니다.\n",
    "logging.langsmith(\"CH04-Models\")"
   ]
  },
  {
   "cell_type": "markdown",
   "id": "2550920c-09d8-48b3-be2f-b36362c37989",
   "metadata": {},
   "source": [
    "## OpenAI\n",
    "\n",
    "### 개요\n",
    "OpenAI는 채팅 전용 Large Language Model (LLM)을 제공합니다. 이 모델을 생성할 때 다양한 옵션을 지정할 수 있으며, 이러한 옵션들은 모델의 동작 방식에 영향을 미칩니다.\n",
    "\n",
    "### 옵션 상세 설명\n",
    "\n",
    "`temperature`\n",
    "\n",
    "- 샘플링 온도를 설정하는 옵션입니다. 값은 0과 2 사이에서 선택할 수 있습니다. 높은 값(예: 0.8)은 출력을 더 무작위하게 만들고, 낮은 값(예: 0.2)은 출력을 더 집중되고 결정론적으로 만듭니다.\n",
    "\n",
    "`max_tokens`\n",
    "\n",
    "- 채팅 완성에서 생성할 토큰의 최대 개수를 지정합니다. 이 옵션은 모델이 한 번에 생성할 수 있는 텍스트의 길이를 제어합니다.\n",
    "\n",
    "`model_name`\n",
    "\n",
    "- 적용 가능한 모델을 선택하는 옵션입니다. 더 자세한 정보는 [OpenAI 모델 문서](https://platform.openai.com/docs/models)에서 확인할 수 있습니다.\n",
    "\n",
    "\n",
    "**모델 스펙**\n",
    "\n",
    "- 링크: https://platform.openai.com/docs/models/gpt-4o\n",
    "\n",
    "| Model Name           | Description                                                                                                     | Context Length | Training Data      |\n",
    "|----------------------|-----------------------------------------------------------------------------------------------------------------|----------------|--------------------|\n",
    "| gpt-4o               | 새로운 GPT-4o: GPT-4 터보보다 저렴하고 빠른 최신 다중모드 플래그십 모델입니다.                                      | 128,000 tokens | Up to Oct 2023     |\n",
    "| gpt-4-turbo          | 최신 GPT-4 터보 모델로, 비전 기능이 포함되어 있습니다. JSON 모드와 기능 호출을 사용할 수 있습니다.                | 128,000 tokens | Up to Dec 2023     |\n",
    "| gpt-4                | 최신 GPT-4 모델입니다.                                             | 8,192 tokens   | Up to Sep 2021     |\n",
    "| gpt-3.5-turbo-0125   | 최신 GPT-3.5 터보 모델로, 요청된 형식에 따라 더 정확하게 응답하며 비영어 언어 기능 호출에 관한 텍스트 인코딩 문제를 해결합니다. | 16,385 tokens  | Up to Sep 2021     |\n",
    "| gpt-3.5-turbo        | 현재 gpt-3.5-turbo-0125를 가리킵니다.                                                                           | 16,385 tokens  | Up to Sep 2021     |\n"
   ]
  },
  {
   "cell_type": "code",
   "execution_count": 3,
   "id": "5fc161c2",
   "metadata": {},
   "outputs": [
    {
     "name": "stdout",
     "output_type": "stream",
     "text": [
      "사랑은 매우 복잡하고 다면적인 감정으로, 사람마다 다르게 느끼고 표현할 수 있습니다. 일반적으로 사랑은 깊은 애정, 헌신, 그리고 상호 존중을 포함하는 감정입니다. 사랑은 로맨틱한 관계에서뿐만 아니라 가족, 친구, 그리고 심지어는 취미나 일에 대한 열정에서도 나타날 수 있습니다.\n",
      "\n",
      "사랑의 종류는 여러 가지가 있습니다. 예를 들어, 에로스(eros)는 로맨틱하고 열정적인 사랑을 의미하고, 필리아(philia)는 친구 간의 우정과 같은 사랑을 의미합니다. 아가페(agape)는 무조건적이고 이타적인 사랑을 나타내며, 스토르게(storge)는 가족 간의 자연스러운 애정을 의미합니다.\n",
      "\n",
      "사랑은 사람들에게 큰 행복을 줄 수 있지만, 때로는 고통과 어려움을 동반하기도 합니다. 중요한 것은 사랑이 상호 존중과 이해를 바탕으로 해야 한다는 점입니다."
     ]
    }
   ],
   "source": [
    "from langchain_openai import ChatOpenAI\n",
    "\n",
    "# ChatOpenAI 객체를 생성합니다.\n",
    "gpt = ChatOpenAI(\n",
    "    temperature=0,\n",
    "    model_name=\"gpt-4o\",  # 모델명\n",
    ")\n",
    "\n",
    "# 스트리밍 출력을 위하여 invoke() 대신 stream()을 사용합니다.\n",
    "answer = gpt.stream(\"사랑이 뭔가요?\")\n",
    "\n",
    "# 답변 출력\n",
    "stream_response(answer)"
   ]
  },
  {
   "cell_type": "markdown",
   "id": "ed2aa412",
   "metadata": {},
   "source": [
    "# Anthropic\n",
    "\n",
    "Anthropic은 인공지능(AI) 안전성과 연구에 중점을 둔 미국의 스타트업 기업입니다. 주요 정보는 다음과 같습니다:\n",
    "\n",
    "- **설립 연도**: 2021년\n",
    "- **위치**: 미국 샌프란시스코\n",
    "- **창립자**: OpenAI 출신 직원들 (Daniela Amodei와 Dario Amodei 등)\n",
    "- **기업 형태**: 공익기업(Public Benefit Corporation)으로 등록\n",
    "\n",
    "## Claude\n",
    "\n",
    "Claude는 Anthropic의 대표적인 대규모 언어 모델(LLM) 제품군입니다. \n",
    "\n",
    "- **API 키 발급**: [https://console.anthropic.com/settings/keys](https://console.anthropic.com/settings/keys)\n",
    "- **모델 리스트**: [https://docs.anthropic.com/en/docs/about-claude/models](https://docs.anthropic.com/en/docs/about-claude/models)\n",
    "\n",
    "\n",
    "![](images/anthropic.png)"
   ]
  },
  {
   "cell_type": "markdown",
   "id": "616c7a79",
   "metadata": {},
   "source": [
    "| model_name     | model                                   | Anthropic API                           | AWS Bedrock                            | GCP Vertex AI                 |\n",
    "|----------------|-----------------------------------------|-----------------------------------------|----------------------------------------|-------------------------------|\n",
    "| Claude 3.5 Opus   | 연말 출시 예정                           | 연말 출시 예정                           | 연말 출시 예정                           | 연말 출시 예정                 |\n",
    "| Claude 3.5 Sonnet | claude-3-5-sonnet-20240620              | anthropic.claude-3-5-sonnet-20240620-v1:0 | c1aude-3-5-sonnet@20240620              | claude-3-5-sonnet@20240620     |\n",
    "| Claude 3.5 Haiku  | 연말 출시 예정                           | 연말 출시 예정                           | 연말 출시 예정                           | 연말 출시 예정                 |\n",
    "| Claude 3 Opus     | claude-3-opus-20240229                  | anthropic.claude-3-opus-20240229-v1:0    | c1aude-3-opus@20240229                  | claude-3-opus@20240229         |\n",
    "| Claude 3 Sonnet   | claude-3-sonnet-20240229                | anthropic.claude-3-sonnet-20240229-v1:0  | c1aude-3-sonnet@20240229                | claude-3-sonnet@20240229       |\n",
    "| Claude 3 Haiku    | claude-3-haiku-20240307                 | anthropic.claude-3-haiku-20240307-v1:0   | c1aude-3-haiku@20240307                 | claude-3-haiku@20240307        |"
   ]
  },
  {
   "cell_type": "code",
   "execution_count": 4,
   "id": "95b38108",
   "metadata": {},
   "outputs": [
    {
     "name": "stdout",
     "output_type": "stream",
     "text": [
      "사랑은 복잡하고 주관적인 감정입니다. 일반적으로 다음과 같은 특징들을 포함합니다:\n",
      "\n",
      "1. 깊은 애정과 관심\n",
      "2. 상대방을 위해 희생할 수 있는 마음\n",
      "3. 함께 있고 싶은 욕구\n",
      "4. 서로를 이해하고 지지하는 마음\n",
      "5. 상대방의 행복을 바라는 마음\n",
      "\n",
      "사랑은 개인마다 다르게 경험되고 표현될 수 있습니다. 가족, 친구, 연인 등 다양한 관계에서 나타날 수 있으며, 시간이 지나면서 변화할 수 있습니다. 사랑은 우리 삶에 큰 의미와 행복을 가져다 주는 중요한 감정입니다."
     ]
    }
   ],
   "source": [
    "from langchain_anthropic import ChatAnthropic\n",
    "\n",
    "# ChatAnthropic 객체를 생성합니다.\n",
    "anthropic = ChatAnthropic(model_name=\"claude-3-5-sonnet-20240620\")\n",
    "\n",
    "# 스트리밍 출력을 위하여 invoke() 대신 stream()을 사용합니다.\n",
    "answer = anthropic.stream(\"사랑이 뭔가요?\")\n",
    "\n",
    "# 답변 출력\n",
    "stream_response(answer)"
   ]
  },
  {
   "cell_type": "markdown",
   "id": "56ea6a72",
   "metadata": {},
   "source": [
    "# Cohere\n",
    "\n",
    "Cohere는 기업용 인공지능 솔루션을 제공하는 선도적인 AI 기업으로, 대규모 언어 모델(LLM)을 개발하여 기업들이 AI 기술을 쉽게 도입하고 활용할 수 있도록 돕고 있습니다.\n",
    "\n",
    "## Cohere 개요\n",
    "\n",
    "- **설립연도**: 2020년\n",
    "- **주요 투자자**: Inovia Capital, NVIDIA, Oracle, Salesforce Ventures\n",
    "- **시리즈 C 펀딩**: 2억 7000만 달러 유치\n",
    "- **기업 미션**: 기업용 AI 플랫폼 제공\n",
    "\n",
    "## 주요 제품\n",
    "\n",
    "### Command R+\n",
    "\n",
    "Command R+는 기업용으로 최적화된 Cohere의 최신 LLM입니다. \n",
    "\n",
    "#### 주요 특징\n",
    "\n",
    "- **긴 컨텍스트 윈도우**: 128k 토큰 지원\n",
    "- **고급 RAG 기능**: 검색 강화 생성 기능 제공\n",
    "- **다국어 지원**: 10개 주요 비즈니스 언어 지원\n",
    "- **자동화 도구 사용 기능**: 복잡한 비즈니스 프로세스 자동화\n",
    "\n",
    "### Aya\n",
    "\n",
    "Aya는 Cohere의 비영리 연구소인 Cohere for AI에서 개발한 오픈소스 다국어 LLM입니다. \n",
    "\n",
    "#### 주요 특징\n",
    "\n",
    "- **언어 지원**: 101개 언어 지원 (기존 오픈소스 모델의 두 배 이상)\n",
    "- **훈련 데이터셋**: 5억 1300만 개의 데이터 포인트 포함하는 대규모 다국어 훈련 데이터셋 공개\n"
   ]
  },
  {
   "cell_type": "code",
   "execution_count": 5,
   "id": "f194b806",
   "metadata": {},
   "outputs": [
    {
     "name": "stdout",
     "output_type": "stream",
     "text": [
      "사랑은 복잡하고 깊은 감정으로, 일반적으로 강한 애정과 관심, 친밀감을 동반합니다. 사랑은 다양한 형태로 나타날 수 있으며, 일반적으로는 낭만적인 사랑, 가족간의 사랑, 우정에서의 사랑 등으로 구분할 수 있습니다.\n",
      "\n",
      "낭만적인 사랑은 일반적으로 두 사람 사이의 강한 감정적, 신체적 끌림을 말합니다. 이는 열정, 욕망, 친밀감의 조합으로 정의될 수 있습니다. 낭만적인 사랑은 서로에 대한 깊은 관심과 배려, 존중을 포함하며, 함께 시간을 보내고, 서로를 지원하고, 서로의 삶에 중요한 부분을 공유하는 것을 포함합니다.\n",
      "\n",
      "가족간의 사랑은 가족 구성원 사이의 깊은 애정과 헌신을 말합니다. 이는 무조건적인 사랑과 지원, 보호를 포함할 수 있습니다. 가족간의 사랑은 혈연 관계에 국한되지 않으며, 입양이나 양육과 같은 다른 관계에서도 형성될 수 있습니다.\n",
      "\n",
      "우정에서의 사랑은 친구 사이의 깊은 애정과 관심, 신뢰를 말합니다. 이는 서로에 대한 지원, 이해, 존중을 포함하며, 함께 시간을 보내고, 서로의 삶을 공유하고, 좋은일과 나쁜일을 함께 나누는 것을 포함합니다.\n",
      "\n",
      "사랑은 또한 자기 자신에 대한 사랑, 즉 자존감과 자기 수용을 포함할 수도 있습니다. 이는 자기 자신에 대한 긍정적인 시각과 존중, 자기 돌봄을 포함할 수 있습니다.\n",
      "\n",
      "사랑은 복잡하고 다면적인 감정으로, 문화, 개인적 경험, 관계의 맥락에 따라 다르게 해석되고 경험될 수 있습니다. 그러나 일반적으로 사랑은 깊은 애정과 관심, 친밀감, 헌신, 배려를 포함하는 것으로 이해할 수 있습니다."
     ]
    }
   ],
   "source": [
    "from langchain_cohere import ChatCohere\n",
    "\n",
    "# ChatCohere 객체를 생성합니다.\n",
    "cohere = ChatCohere(temperature=0)\n",
    "\n",
    "# 스트리밍 출력을 위하여 invoke() 대신 stream()을 사용합니다.\n",
    "answer = cohere.stream(\"사랑이 뭔가요?\")\n",
    "\n",
    "# 답변 출력\n",
    "stream_response(answer)"
   ]
  },
  {
   "cell_type": "markdown",
   "id": "f640b099",
   "metadata": {},
   "source": [
    "# Upstage\n",
    "\n",
    "Upstage는 인공지능(AI) 기술, 특히 대규모 언어 모델(LLM)과 문서 AI 분야에 특화된 국내 스타트업입니다.\n",
    "\n",
    "## 주요 제품 및 기술\n",
    "\n",
    "### Solar LLM\n",
    "- **주요 특징**: Upstage의 주력 대규모 언어 모델로, 빠른 성능과 비용 효율성으로 주목받고 있습니다.\n",
    "- **기술적 접근**: Depth-Up Scaling (DUS) 기술을 적용하여 성능을 극대화합니다.\n",
    "- **플랫폼 통합**: Amazon SageMaker JumpStart 등 다양한 플랫폼을 통해 API로 통합 제공됩니다.\n",
    "\n",
    "### Document AI Pack\n",
    "- **기능**: OCR 기술을 기반으로 한 문서 처리 솔루션으로, 복잡한 문서에서 필요한 내용을 정확히 추출하고 디지털화합니다.\n",
    "\n",
    "### AskUp Seargest\n",
    "- **특징**: 개인화된 검색 및 추천 서비스를 제공하며, 기존의 ChatGPT 통합 무료 챗봇 AskUp의 업그레이드 버전입니다.\n",
    "\n",
    "## API 키 발급\n",
    "API 키 발급은 [여기](https://console.upstage.ai/api-keys)에서 가능합니다.\n"
   ]
  },
  {
   "cell_type": "code",
   "execution_count": 6,
   "id": "cc739c29",
   "metadata": {},
   "outputs": [
    {
     "name": "stdout",
     "output_type": "stream",
     "text": [
      "사랑은 매우 복잡하고 다양한 형태의 감정적인 연결을 포함하는 개념입니다. 일반적으로 사랑은 상대방에 대한 강한 애착, 관심, 존중, 배려, 그리고 서로를 이해하고 받아들이는 것을 포함합니다. 사랑은 다양한 형태로 나타날 수 있으며, 가족, 친구, 연인, 동물 등 다양한 대상에 대해 느낄 수 있습니다. 사랑은 종종 행복과 만족감을 주지만, 때로는 어려움과 갈등을 겪을 수도 있습니다. 사랑은 우리의 삶에서 중요한 역할을 하며, 우리를 성장시키고 풍요롭게 만들어 줄 수 있는 특별한 감정입니다."
     ]
    }
   ],
   "source": [
    "from langchain_upstage import ChatUpstage\n",
    "\n",
    "# ChatUpstage 객체를 생성합니다.\n",
    "upstage = ChatUpstage()\n",
    "\n",
    "# 스트리밍 출력을 위하여 invoke() 대신 stream()을 사용합니다.\n",
    "answer = upstage.stream(\"사랑이 뭔가요?\")\n",
    "\n",
    "# 답변 출력\n",
    "stream_response(answer)"
   ]
  },
  {
   "cell_type": "markdown",
   "id": "41206a27",
   "metadata": {},
   "source": [
    "## Xionic\n",
    "\n",
    "사이오닉에이아이(Sionic AI)는 대한민국의 유망한 인공지능 스타트업으로, 기업용 생성형 AI 솔루션을 개발하고 있습니다. 다음은 이 회사에 대한 주요 정보입니다:\n",
    "\n",
    "### 주요 제품\n",
    "\n",
    "1. **STORM Platform**: 기업이 생성형 AI를 기술적 고민 없이 바로 적용할 수 있도록 하는 플랫폼\n",
    "2. **STORM Answer**: 기업에 최적화된 생성형 AI 솔루션으로 비즈니스 생산성 향상을 목표로 함\n",
    "3. **Xionic**: 상업적 이용이 가능한 라이센스의 한국어 AI 모델\n",
    "\n",
    "상업적 이용이 가능한 라이센스의 한국어 모델\n",
    "\n",
    "- 링크: https://github.com/sionic-ai/xionic"
   ]
  },
  {
   "cell_type": "code",
   "execution_count": 7,
   "id": "10f39d3d",
   "metadata": {},
   "outputs": [
    {
     "name": "stdout",
     "output_type": "stream",
     "text": [
      "\"사랑\"은 정말로 깊고 복잡한 감정이며, 그 정의는 사람마다, 상황마다 다르게 해석될 수 있어요. 하지만 일반적으로, 사랑은 다른 사람이나 존재, 또는 활동에 대한 강렬하고 긍정적인 감정을 의미하죠. 이는 종종 깊은 애정, 애정, 존경, 친절, 이해, 동정, 용서, 그리고 때때로 희생을 동반합니다.    \n",
      "\n",
      "사랑은 여러 가지 형태로 나타나는데요, 가족에 대한 사랑, 친구에 대한 사랑, 연인에 대한 사랑, 동물에 대한 사랑, 또는 취미나 직업에 대한 열정 등 다양한 형태로 나타날 수 있어요. 사랑은 종종 행복, 기쁨, 만족감을 가져다 주지만, 때로는 아픔, 상실감, 불안감을 동반하기도 합니다. 사랑은 우리가 세상을 어떻게 인식하고 이해하는지에 큰 영향을 미치는 강력한 감정이에요.    \n",
      "\n",
      "사랑에 대한 정의는 사람마다 다르고, 그 경험도 각기 다르겠지만, 사랑이 우리 삶에 미치는 영향은 분명히 공통적이죠. 사랑은 우리를 더 나은 사람으로 만들고, 세상을 더 따뜻하고 친절한 곳으로 만드는 데 중요한 역할을 하는 감정이에요."
     ]
    }
   ],
   "source": [
    "from langchain_openai import ChatOpenAI\n",
    "\n",
    "xionic = ChatOpenAI(\n",
    "    model_name=\"xionic-1-72b-20240610\",\n",
    "    base_url=\"https://sionic.chat/v1/\",\n",
    "    api_key=\"934c4bbc-c384-4bea-af82-1450d7f8128d\",\n",
    ")\n",
    "\n",
    "# 스트리밍 출력을 위하여 invoke() 대신 stream()을 사용합니다.\n",
    "answer = xionic.stream(\"사랑이 뭔가요?\")\n",
    "\n",
    "# 답변 출력\n",
    "stream_response(answer)"
   ]
  },
  {
   "cell_type": "markdown",
   "id": "d7b3eb61",
   "metadata": {},
   "source": [
    "# LogicKor\n",
    "\n",
    "LogicKor는 한국어 언어 모델의 다분야 사고력을 평가하기 위해 만들어진 벤치마크 리더보드입니다.\n",
    "\n",
    "## 목적\n",
    "\n",
    "한국어 언어 모델의 다양한 분야에서의 사고력을 측정하는 벤치마크\n",
    "\n",
    "## 평가 영역\n",
    "\n",
    "- 한국어 추론\n",
    "- 수학\n",
    "- 글쓰기\n",
    "- 코딩\n",
    "- 이해력\n",
    "\n",
    "## 주요 특징\n",
    "\n",
    "1. **다양한 모델 평가**: 국내외 다양한 언어 모델들의 성능을 비교할 수 있음\n",
    "2. **객관적 성능 측정**: 모델의 실제 성능을 다각도로 평가하여 객관적인 지표 제공\n",
    "3. **오픈 소스**: 누구나 접근하고 결과를 확인할 수 있는 오픈 플랫폼\n",
    "\n",
    "LogicKor 리더보드는 한국어 AI 모델의 발전을 위한 중요한 도구로 자리잡고 있으며, 지속적인 개선과 발전이 기대되고 있습니다.\n",
    "\n",
    "- 링크: [LogicKor 리더보드](https://lk.instruct.kr/)\n"
   ]
  }
 ],
 "metadata": {
  "kernelspec": {
   "display_name": "Python 3 (ipykernel)",
   "language": "python",
   "name": "python3"
  },
  "language_info": {
   "codemirror_mode": {
    "name": "ipython",
    "version": 3
   },
   "file_extension": ".py",
   "mimetype": "text/x-python",
   "name": "python",
   "nbconvert_exporter": "python",
   "pygments_lexer": "ipython3",
   "version": "3.11.9"
  }
 },
 "nbformat": 4,
 "nbformat_minor": 5
}
