{
 "cells": [
  {
   "cell_type": "code",
   "execution_count": 1,
   "metadata": {},
   "outputs": [
    {
     "data": {
      "text/plain": [
       "True"
      ]
     },
     "execution_count": 1,
     "metadata": {},
     "output_type": "execute_result"
    }
   ],
   "source": [
    "# API KEY를 환경변수로 관리하기 위한 설정 파일\n",
    "from dotenv import load_dotenv\n",
    "\n",
    "# API KEY 정보로드\n",
    "load_dotenv()"
   ]
  },
  {
   "cell_type": "markdown",
   "metadata": {},
   "source": [
    "## 캐싱(Caching)\n",
    "\n",
    "LangChain은 LLM을 위한 선택적 캐싱 레이어를 제공합니다.\n",
    "\n",
    "이는 두 가지 이유로 유용합니다:\n",
    "\n",
    "- 동일한 완료를 여러 번 요청하는 경우 LLM 공급자에 대한 **API 호출 횟수를 줄여 비용을 절감** 할 수 있습니다.\n",
    "- LLM 제공업체에 대한 **API 호출 횟수를 줄여 애플리케이션의 속도를 높일 수** 있습니다.\n"
   ]
  },
  {
   "cell_type": "markdown",
   "metadata": {},
   "source": [
    "모델과 프롬프트를 생성합니다\n"
   ]
  },
  {
   "cell_type": "code",
   "execution_count": 5,
   "metadata": {},
   "outputs": [],
   "source": [
    "from langchain_openai import ChatOpenAI\n",
    "\n",
    "# 모델을 생성합니다.\n",
    "llm = ChatOpenAI()"
   ]
  },
  {
   "cell_type": "code",
   "execution_count": 6,
   "metadata": {},
   "outputs": [
    {
     "data": {
      "text/plain": [
       "PromptTemplate(input_variables=['country'], template='{country} 에 대해서 200자 내외로 요약해줘')"
      ]
     },
     "execution_count": 6,
     "metadata": {},
     "output_type": "execute_result"
    }
   ],
   "source": [
    "from langchain.prompts import PromptTemplate\n",
    "\n",
    "prompt = PromptTemplate.from_template(\"{country} 에 대해서 200자 내외로 요약해줘\")\n",
    "prompt"
   ]
  },
  {
   "cell_type": "code",
   "execution_count": 7,
   "metadata": {},
   "outputs": [],
   "source": [
    "chain = prompt | llm"
   ]
  },
  {
   "cell_type": "code",
   "execution_count": 51,
   "metadata": {},
   "outputs": [
    {
     "name": "stdout",
     "output_type": "stream",
     "text": [
      "CPU times: user 23.3 ms, sys: 3.41 ms, total: 26.7 ms\n",
      "Wall time: 6.25 s\n",
      "한국은 동아시아에 위치한 대한민국과 조선민주주의인민공화국으로 이루어진 반도 국가이다. 서울을 수도로 하는 대한민국은 민주주의를 기반으로 한 고도의 경제 발전을 이룩해낸 선진국가이며 K-pop, K-drama 등의 문화 콘텐츠로 세계적으로 인기를 끌고 있다. 반면, 북한은 독재체제를 유지하며 국제사회와의 갈등을 겪고 있으며 핵무기 문제로 인해 국제사회의 관심을 받고 있다. 두 국가는 과거 한반도 분단으로 인해 한계가 있지만 평화와 번영을 위해 노력하고 있다. 한국은 독특한 문화와 역사, 풍부한 전통을 간직한 독특한 나라로서 전 세계적으로 주목받는 나라이다.\n"
     ]
    }
   ],
   "source": [
    "%time response = chain.invoke({\"country\": \"한국\"})\n",
    "print(response.content)"
   ]
  },
  {
   "cell_type": "markdown",
   "metadata": {},
   "source": [
    "## SQLite Cache\n"
   ]
  },
  {
   "cell_type": "code",
   "execution_count": 52,
   "metadata": {},
   "outputs": [],
   "source": [
    "from langchain.cache import SQLiteCache\n",
    "from langchain.globals import set_llm_cache\n",
    "\n",
    "set_llm_cache(SQLiteCache(database_path=\"my_llm_cache.db\"))"
   ]
  },
  {
   "cell_type": "code",
   "execution_count": 58,
   "metadata": {},
   "outputs": [
    {
     "name": "stdout",
     "output_type": "stream",
     "text": [
      "CPU times: user 7.73 ms, sys: 804 µs, total: 8.53 ms\n",
      "Wall time: 8.01 ms\n",
      "한국은 동아시아에 위치한 고대 역사와 현대 문화가 공존하는 나라이다. 1953년 한반도 전쟁 이후 분단된 한반도 남쪽에 위치하며, 수도는 서울이다. 한국은 삼국시대부터 고려, 조선, 일제 강점기, 한국전쟁을 거쳐 현재의 대한민국이 되었다. 한국은 K-pop, K-drama와 같은 문화적 산업뿐만 아니라 IT 기술과 자동차 산업에서도 세계적인 기업들을 배출하고 있다. 또한 한국은 불교, 기독교, 천주교 등 다양한 종교가 공존하며, 한국음식인 김치, 불고기 등도 세계적으로 유명하다. 현재 한반도에서는 남북한 간의 관계가 긴장되어 있지만, 평화롭게 공존하고 발전하기를 희망하는 노력을 계속하고 있다.\n"
     ]
    }
   ],
   "source": [
    "%time response = chain.invoke({\"country\": \"한국\"})\n",
    "print(response.content)"
   ]
  }
 ],
 "metadata": {
  "kernelspec": {
   "display_name": "py-test",
   "language": "python",
   "name": "python3"
  },
  "language_info": {
   "codemirror_mode": {
    "name": "ipython",
    "version": 3
   },
   "file_extension": ".py",
   "mimetype": "text/x-python",
   "name": "python",
   "nbconvert_exporter": "python",
   "pygments_lexer": "ipython3",
   "version": "3.10.13"
  }
 },
 "nbformat": 4,
 "nbformat_minor": 2
}
