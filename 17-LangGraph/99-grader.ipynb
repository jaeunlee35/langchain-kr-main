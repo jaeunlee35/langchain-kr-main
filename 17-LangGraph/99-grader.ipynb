{
 "cells": [
  {
   "cell_type": "code",
   "execution_count": 22,
   "metadata": {},
   "outputs": [],
   "source": [
    "from langchain_core.output_parsers import PydanticOutputParser\n",
    "from langchain_core.prompts import PromptTemplate\n",
    "from langchain_core.pydantic_v1 import BaseModel, Field\n",
    "from langchain_openai import ChatOpenAI\n",
    "\n",
    "\n",
    "class grade(BaseModel):\n",
    "    \"\"\"관련성 검사를 위한 이진 점수.\"\"\"\n",
    "\n",
    "    binary_score: str = Field(\n",
    "        description=\"relevant or not relevant. Answer 'yes' if the answer is relevant to the document else answer 'no'\"\n",
    "    )\n",
    "\n",
    "\n",
    "# LLM\n",
    "model = ChatOpenAI(temperature=0, model=\"gpt-4-turbo\")\n",
    "\n",
    "# 파서\n",
    "output_parser = PydanticOutputParser(pydantic_object=grade)\n",
    "\n",
    "# 프롬프트\n",
    "prompt = PromptTemplate(\n",
    "    template=\"\"\"You are a grader assessing relevance of a retrieved document to a user question. \\n \n",
    "    Here is the retrieved document: \\n\\n {context} \\n\\n\n",
    "    Here is the answer: {answer} \\n\n",
    "    If the document contains keyword(s) or semantic meaning related to the user answer, grade it as relevant. \\n\n",
    "    \n",
    "    #Format of the answer: \\n\n",
    "    {format_instructions}\"\"\",\n",
    "    input_variables=[\"context\", \"answer\"],\n",
    ")\n",
    "\n",
    "# 체인\n",
    "chain = (\n",
    "    prompt.partial(format_instructions=output_parser.get_format_instructions())\n",
    "    | model\n",
    "    | output_parser\n",
    ")"
   ]
  },
  {
   "cell_type": "code",
   "execution_count": 20,
   "metadata": {},
   "outputs": [
    {
     "data": {
      "text/plain": [
       "grade(binary_score='no')"
      ]
     },
     "execution_count": 20,
     "metadata": {},
     "output_type": "execute_result"
    }
   ],
   "source": [
    "chain.invoke(\n",
    "    {\n",
    "        \"context\": \"대한민국의 수도는 서울이다.\",\n",
    "        \"answer\": \"제 생각엔 대한민국의 수도는 부산입니다.\",\n",
    "    }\n",
    ")"
   ]
  },
  {
   "cell_type": "code",
   "execution_count": 21,
   "metadata": {},
   "outputs": [
    {
     "data": {
      "text/plain": [
       "grade(binary_score='yes')"
      ]
     },
     "execution_count": 21,
     "metadata": {},
     "output_type": "execute_result"
    }
   ],
   "source": [
    "chain.invoke(\n",
    "    {\n",
    "        \"context\": \"대한민국의 수도는 서울이다.\",\n",
    "        \"answer\": \"대한민국(South Korea) 수도: 서울\",\n",
    "    }\n",
    ")"
   ]
  }
 ],
 "metadata": {
  "kernelspec": {
   "display_name": "py-test",
   "language": "python",
   "name": "python3"
  },
  "language_info": {
   "codemirror_mode": {
    "name": "ipython",
    "version": 3
   },
   "file_extension": ".py",
   "mimetype": "text/x-python",
   "name": "python",
   "nbconvert_exporter": "python",
   "pygments_lexer": "ipython3",
   "version": "3.10.13"
  }
 },
 "nbformat": 4,
 "nbformat_minor": 2
}
