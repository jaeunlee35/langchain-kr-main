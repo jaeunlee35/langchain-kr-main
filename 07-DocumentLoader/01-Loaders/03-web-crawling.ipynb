{
 "cells": [
  {
   "cell_type": "markdown",
   "id": "2a28b030",
   "metadata": {},
   "source": [
    "# Async Chromium\n",
    "\n",
    "Chromium은 브라우저 자동화를 제어하는 데 사용되는 라이브러리인 Playwright에서 지원하는 브라우저 중 하나입니다.\n",
    "\n",
    "`p.chromium.launch(headless=True)`를 실행하면 Chromium의 headless 인스턴스를 실행합니다.\n",
    "\n",
    "Headless 모드는 브라우저가 그래픽 사용자 인터페이스 없이 실행되고 있음을 의미합니다.\n",
    "\n",
    "`AsyncChromiumLoader`는 페이지를 로드한 다음 `Html2TextTransformer`를 사용하여 텍스트로 변환합니다.\n"
   ]
  },
  {
   "cell_type": "markdown",
   "id": "8f6dc3f9",
   "metadata": {},
   "source": [
    "- Playwright와 BeautifulSoup4 라이브러리를 최신 버전으로 업그레이드하고 조용히(quiet) 설치합니다.\n",
    "- Playwright 브라우저 엔진을 설치합니다.\n"
   ]
  },
  {
   "cell_type": "code",
   "execution_count": null,
   "id": "f0285889",
   "metadata": {},
   "outputs": [],
   "source": [
    "%pip install -qU  playwright beautifulsoup4\n",
    "! playwright install"
   ]
  },
  {
   "cell_type": "markdown",
   "id": "66be3957",
   "metadata": {},
   "source": [
    "LangChain 프레임워크를 사용하려고 할 때 `RuntimeError: asyncio.run()` 이 이미 실행 중인 이벤트 루프에서 호출될 수 없다는 오류가 발생합니다.\n",
    "\n",
    "이 오류는 보통 `asyncio.run()` 이 다른 asyncio 이벤트 루프가 이미 실행 중인 상황에서 호출될 때 발생합니다.\n",
    "\n",
    "Jupyter Notebook 에서 이미 실행되고 있는 이벤트 루프가 존재하고, 또 하나의 이벤트 루프를 생성하려고 할 때 나타나는 오류 입니다.\n",
    "\n",
    "이러한 오류를 해결하기 위하여 아래의 코드를 실행하여 Jupyter Notebook 의 이벤트 루프를 가져옵니다.\n"
   ]
  },
  {
   "cell_type": "code",
   "execution_count": null,
   "id": "fed7ce03",
   "metadata": {},
   "outputs": [],
   "source": [
    "%pip install -qU nest-asyncio"
   ]
  },
  {
   "cell_type": "code",
   "execution_count": 1,
   "id": "0dbcede9",
   "metadata": {},
   "outputs": [],
   "source": [
    "import nest_asyncio\n",
    "\n",
    "nest_asyncio.apply()"
   ]
  },
  {
   "cell_type": "markdown",
   "id": "dde851b4",
   "metadata": {},
   "source": [
    "`AsyncChromiumLoader`를 사용하여 웹 페이지의 콘텐츠를 비동기적으로 로드합니다.\n",
    "\n",
    "- `urls` 리스트에 로드할 웹 페이지의 URL을 지정합니다.\n",
    "- `AsyncChromiumLoader` 객체를 생성하고 `urls`를 전달합니다.\n",
    "- `load()` 메서드를 호출하여 웹 페이지의 콘텐츠를 로드하고 `Document` 객체의 리스트를 반환합니다.\n"
   ]
  },
  {
   "cell_type": "code",
   "execution_count": 9,
   "id": "c03b1cba",
   "metadata": {},
   "outputs": [
    {
     "data": {
      "text/plain": [
       "'og:article:author\" content=\"네이버\">\\n  <meta name=\"twitter:card\" content=\"summary\">\\n  <meta name=\"twitter:title\" content=\"네이버 뉴스\">\\n  <meta name=\"twitter:site\" content=\"네이버 뉴스\">\\n  <meta name=\"twitter:creator\" content=\"네이버 뉴스\">\\n  <meta name=\"twitter:image\" content=\"https://ssl.pstatic.net/static.news/image/news/ogtag/navernews_800x420_20221201.png\">\\n  <meta name=\"twitter:description\" content=\"정치, 경제, 사회, 생활/문화, 세계, IT/과학 등 언론사별, 분야별 뉴스 기사 제공\">\\n\\n\\t\\t\\n        <script>\\n    \\n    (function () {\\n        var '"
      ]
     },
     "execution_count": 9,
     "metadata": {},
     "output_type": "execute_result"
    }
   ],
   "source": [
    "from langchain_community.document_loaders import AsyncChromiumLoader\n",
    "\n",
    "# 크롤링할 URL 목록을 설정합니다.\n",
    "urls = [\"https://news.naver.com\"]\n",
    "\n",
    "# AsyncChromiumLoader를 사용하여 URL에서 비동기적으로 문서를 로드합니다.\n",
    "loader = AsyncChromiumLoader(urls)\n",
    "# 로드된 문서를 가져옵니다.\n",
    "docs = loader.load()\n",
    "\n",
    "# 0번 문서의 내용 중 중간의 500자를 출력합니다.\n",
    "docs[0].page_content[6000:6500]"
   ]
  },
  {
   "cell_type": "markdown",
   "id": "10041c87",
   "metadata": {},
   "source": [
    "`Html2TextTransformer` 클래스를 사용하여 HTML 문서를 텍스트로 변환하는 과정을 보여줍니다.\n",
    "\n",
    "- `html2text` 객체를 생성합니다.\n",
    "- `transform_documents` 메서드를 호출하여 `docs` 리스트에 포함된 HTML 문서들을 텍스트로 변환합니다.\n",
    "- 변환된 문서들은 `docs_transformed` 리스트에 저장됩니다.\n",
    "- `docs_transformed[0].page_content`을 통해 변환된 첫 번째 문서의 내용을 확인합니다.\n"
   ]
  },
  {
   "cell_type": "markdown",
   "id": "1c77574f",
   "metadata": {},
   "source": [
    "html 을 문자열로 변환 & 파싱합니다.\n",
    "\n",
    "파싱하기 위한 `html2text` 를 설치합니다.\n"
   ]
  },
  {
   "cell_type": "code",
   "execution_count": null,
   "id": "bac2298d",
   "metadata": {},
   "outputs": [],
   "source": [
    "%pip install -qU html2text"
   ]
  },
  {
   "cell_type": "code",
   "execution_count": 10,
   "id": "e4248448",
   "metadata": {},
   "outputs": [],
   "source": [
    "from langchain_community.document_transformers import Html2TextTransformer\n",
    "\n",
    "html2text = Html2TextTransformer()  # HTML을 텍스트로 변환하는 객체를 생성합니다.\n",
    "docs_transformed = html2text.transform_documents(\n",
    "    docs\n",
    ")  # HTML 문서를 텍스트로 변환합니다."
   ]
  },
  {
   "cell_type": "code",
   "execution_count": 13,
   "id": "4bdab3f6",
   "metadata": {},
   "outputs": [
    {
     "name": "stdout",
     "output_type": "stream",
     "text": [
      "금 50만원은\n",
      "최대 지급액이라는 의미로, 반드시 50만원을 지급받는건 아니다. 15일 통신\n",
      "\n",
      "#### 블로터03월 15일 20:12\n",
      "\n",
      "구독\n",
      "\n",
      "'우리금융 민영화'라 쓰고 '임종룡의 수미쌍관'이라 읽는다\n",
      "\n",
      "우리금융지주가 예금보험공사 보유지분을 매입해 완전 민영화에 성공했다. 임종룡 우리금융 회장이 금융위원장으로 재직하던 시기 민영화 신호탄을 쏜\n",
      "지 약 8년 만이다. 우리금융은 즉각 자사주 소각을 결정, 당국의 증시 저\n",
      "\n",
      "새로보기\n",
      "\n",
      "#### 코리아헤럴드03월 15일 17:47\n",
      "\n",
      "구독\n",
      "\n",
      "'Squid Game' star Oh Young-soo gets suspended term for sexual misconduct\n",
      "\n",
      "South Korean actor Oh Young-soo, star of the 2021 hit drama series \"Squid\n",
      "Game,\" was given an eight-month prison sentenc\n",
      "\n",
      "#### JIBS03월 15일 21:12\n",
      "\n",
      "구독\n",
      "\n",
      "동영상 재\n"
     ]
    }
   ],
   "source": [
    "# 변환된 문서를 출력합니다.\n",
    "print(docs_transformed[0].page_content[2000:2500])"
   ]
  },
  {
   "cell_type": "markdown",
   "id": "b7fe9361",
   "metadata": {},
   "source": [
    "## Beautiful Soup\n",
    "\n",
    "[Beautiful Soup](https://www.crummy.com/software/BeautifulSoup/)은 HTML 및 XML 문서를 파싱하기 위한 Python 패키지입니다(잘못 형성된 마크업, 즉 닫히지 않은 태그를 포함하여, 태그 수프라고 불립니다).\n",
    "\n",
    "파싱된 페이지에 대한 파싱 트리를 생성하여 HTML에서 데이터를 추출하는 데 사용할 수 있으며, 이는 웹 스크래핑에 유용합니다.\n",
    "\n",
    "`Beautiful Soup`은 HTML 내용에 대한 세밀한 제어를 제공하여, 특정 태그의 추출, 제거 및 내용 정리를 가능하게 합니다.\n",
    "\n",
    "특정 정보를 추출하고 HTML 내용을 필요에 따라 정리하고자 하는 경우에 적합합니다.\n",
    "\n",
    "예를 들어, HTML 내용에서 `<p>, <li>, <div>, <a>` 태그 내의 텍스트 내용을 스크래핑할 수 있습니다.\n",
    "\n",
    "- `<p>`: 단락 태그입니다. HTML에서 단락을 정의하며 관련된 문장 및/또는 구절을 함께 그룹화하는 데 사용됩니다.\n",
    "\n",
    "- `<li>`: 목록 항목 태그입니다. 순서가 있는 (`<ol>`) 및 순서가 없는 (`<ul>`) 목록 내에서 개별 항목을 정의하는 데 사용됩니다.\n",
    "\n",
    "- `<div>`: 구분 태그입니다. 블록 수준 요소로 다른 인라인 또는 블록 수준 요소를 그룹화하는 데 사용됩니다.\n",
    "\n",
    "- `<a>`: 앵커 태그입니다. 하이퍼링크를 정의하는 데 사용됩니다.\n"
   ]
  },
  {
   "cell_type": "code",
   "execution_count": 19,
   "id": "fa4137e7",
   "metadata": {},
   "outputs": [],
   "source": [
    "from langchain_community.document_loaders import AsyncChromiumLoader\n",
    "\n",
    "urls = [\"https://news.naver.com\"]  # 크롤링할 URL 목록을 설정합니다.\n",
    "# AsyncChromiumLoader를 사용하여 URL에서 비동기적으로 문서를 로드합니다.\n",
    "loader = AsyncChromiumLoader(urls)\n",
    "docs = loader.load()  # 로드된 문서를 가져옵니다."
   ]
  },
  {
   "cell_type": "markdown",
   "id": "e4f6e1cf",
   "metadata": {},
   "source": [
    "아래의 코드는 로드한 웹페이지에서 특정 태그를 추출하는 예시입니다.\n"
   ]
  },
  {
   "cell_type": "code",
   "execution_count": 20,
   "id": "63b1a270",
   "metadata": {},
   "outputs": [],
   "source": [
    "from langchain_community.document_transformers import BeautifulSoupTransformer\n",
    "\n",
    "# 변환 작업\n",
    "bs_transformer = BeautifulSoupTransformer()\n",
    "# HTML 문서를 변환합니다. p, li, div, a 태그의 내용을 추출합니다.\n",
    "docs_transformed = bs_transformer.transform_documents(\n",
    "    docs,\n",
    "    # tags_to_extract=[\"p\", \"li\", \"div\", \"a\"]\n",
    "    tags_to_extract=[\"a\"],\n",
    ")"
   ]
  },
  {
   "cell_type": "code",
   "execution_count": 21,
   "id": "72918e7d",
   "metadata": {},
   "outputs": [
    {
     "name": "stdout",
     "output_type": "stream",
     "text": [
      "본문 바로가기 (#ct) NAVER 뉴스  (https://entertain.naver.com/home) 연예  (https://entertain.naver.com/home)  (https://sports.news.naver.com/index) 스포츠  (https://sports.news.naver.com/index)  (https://weather.naver.com/) 날씨  (https://weather.naver.com/)  (https://contents.premium.naver.com/) 프리미엄  (https://contents.premium.naver.com/)  (https://news.naver.com/election/nation2024) 총선  (https://news.naver.com/election/nation2024) 도움말 (https://help.naver.com/support/alias/search/word/word_32.naver) 전체삭제 (javascript:;) 자동저장 (javascript:;) 끄기 켜기 도움말 (https://help.naver.com/support/alias/search/word/word_32.naver) 도움말 (https://help.naver.com/support/alias/search/word/word_48.naver) 신고 (https://help.naver.com/support/alias/search/word/word_18.naver) 검색 언론사별 정치 경제 사회 생활/문화 IT/과학 세계 랭킹 신문보기 오피니언 TV 팩트체크 알고리즘 안내 정정보도 모음 전체 언론사 (https://news.naver.com/main/officeList.naver ) 뉴스스탠드 (https://newsstand.naver.com/) 라이브러리 (https://newslibrary.naver.com/search/searchByDate.naver)  (#feedJournalistCard) 기자  (#feed\n"
     ]
    }
   ],
   "source": [
    "# a 태그의 내용을 출력합니다.\n",
    "print(docs_transformed[0].page_content[:1000])"
   ]
  },
  {
   "cell_type": "markdown",
   "id": "21b0b31b",
   "metadata": {},
   "source": [
    "## WebBaseLoader\n",
    "\n",
    "WebBaseLoader는 **HTML 웹페이지의 모든 텍스트를 추출** 하여, 다양한 용도로 활용할 수 있는 문서 형태로 변환하는 기능을 가진 도구입니다.\n",
    "\n",
    "보다 특정한 사용 사례나 데이터 소스에 최적화된 로직을 적용하기 위해서는, `WebBaseLoader`의 자식 클래스들을 사용할 수 있습니다. 예를 들어, IMSDbLoader는 영화 대본을 다루는 IMSDb 웹사이트에서 데이터를 로드하는 데 특화되어 있으며, AZLyricsLoader는 가사 정보를 제공하는 AZLyrics 웹사이트의 텍스트를 추출하는 데 사용됩니다. CollegeConfidentialLoader는 대학 커뮤니티 포럼인 CollegeConfidential에서 데이터를 가져오는 데 최적화되어 있습니다.\n",
    "\n",
    "이러한 자식 클래스들은 WebBaseLoader가 제공하는 기본적인 텍스트 로딩 기능에 추가적인 처리 또는 웹사이트별 데이터 구조에 맞는 파싱 로직을 적용하여, 특정 웹사이트의 구조와 내용에 더 잘 맞는 데이터 추출 방법을 제공합니다. 이를 통해, 사용자는 웹에서 정보를 효율적으로 수집하고, 다양한 분석이나 애플리케이션에 필요한 형식으로 쉽게 변환할 수 있습니다.\n"
   ]
  },
  {
   "cell_type": "markdown",
   "id": "45e9bc90",
   "metadata": {},
   "source": [
    "- `WebBaseLoader`를 사용하여 웹 페이지를 로드합니다.\n",
    "- 한글이 깨져서 로드되는 경우 아래와 같이 인코딩(`encoding=\"utf-8\"`) 옵션을 지정합니다.\n"
   ]
  },
  {
   "cell_type": "code",
   "execution_count": 23,
   "id": "42aaaf08",
   "metadata": {},
   "outputs": [],
   "source": [
    "from langchain_community.document_loaders import WebBaseLoader\n",
    "\n",
    "# 웹 페이지 \"https://news.naver.com/\"에서 데이터를 로드하는 WebBaseLoader 객체를 생성합니다.\n",
    "loader = WebBaseLoader(\"https://news.naver.com/\")\n",
    "\n",
    "# 한글이 깨져서 로드되는 경우 아래와 같이 인코딩을 지정합니다.\n",
    "# loader = WebBaseLoader(\"https://news.naver.com/\", encoding=\"utf-8\")"
   ]
  },
  {
   "cell_type": "markdown",
   "id": "cc056f4d",
   "metadata": {},
   "source": [
    "SSL 인증서 검증 오류를 우회하기 위해 데이터를 가져오는 동안 \"verify\" 옵션을 설정할 수 있습니다.\n",
    "\n",
    "- 이렇게 하면 SSL 인증서 검증 과정을 건너뛰고 데이터를 가져올 수 있습니다. 하지만 이 방법은 보안상의 이유로 권장되지 않습니다. 가능하다면 올바른 SSL 인증서를 사용하는 것이 좋습니다.\n"
   ]
  },
  {
   "cell_type": "code",
   "execution_count": 29,
   "id": "4eb8ddd7",
   "metadata": {},
   "outputs": [],
   "source": [
    "# SSL 인증서 오류 우회\n",
    "loader.requests_kwargs = {\"verify\": False}"
   ]
  },
  {
   "cell_type": "markdown",
   "id": "b6a08f60",
   "metadata": {},
   "source": [
    "`loader.load()` 메서드를 호출하여 데이터를 로드합니다.\n"
   ]
  },
  {
   "cell_type": "code",
   "execution_count": 32,
   "id": "a21a5d0f",
   "metadata": {},
   "outputs": [
    {
     "name": "stdout",
     "output_type": "stream",
     "text": [
      " 있다.\" 강도형 해양수산부 장관이 공개석상에서 '노 전 대통령 요트 사건'을 거론한 기사들이 사라졌다. 연합한경비즈니스03월 15일 17:28구독해외 유명 과자 모셔오기 나선 유통가직소싱한 해외 간식들이 잇달아 큰 인기를 얻으며 유통업계 효자 상품으로 자리매김했다. 이에 편의점 및 마트 등 유통업계는 늘어나는 수요에 따라 해외 유명 과자류 직수입에 적극적으로 나서고 있다. 실제로 관세청 수출입여성신문03월 15일 18:53구독이윤택부터 오영수·조민기까지…연극계 '미투' 가해의 역사넷플릭스 드라마 '오징어게임'에 출현한 오영수씨가 15일 여성을 강제 추행한 혐의로 징역 8개월을 선고받았다. 지난 2018년 2월 연극연출가 이윤택씨에 대한 '미투(me too, 나도 당했다)'를 시작으로 일어난 새로보기조세일보03월 15일 23:34구독한은 노조 '\n"
     ]
    }
   ],
   "source": [
    "# 로더를 사용하여 데이터를 불러옵니다.\n",
    "web_data = loader.load()\n",
    "# 불러온 데이터를 출력합니다.\n",
    "print(web_data[0].page_content[2000:2500].replace(\"\\n\", \"\"))"
   ]
  },
  {
   "cell_type": "markdown",
   "id": "2c3220ef",
   "metadata": {},
   "source": [
    "BeautifulSoup을 사용하여 새로운 사용자 정의 웹 페이지 파서를 활용할 수 있습니다.\n",
    "\n",
    "- 예시로 `soup.select_one(\"td[class='scrtext']\").text`와 같은 코드를 사용하여 원하는 요소를 선택하고 텍스트를 추출할 수 있습니다.\n",
    "- [BS4 문서](https://www.crummy.com/software/BeautifulSoup/bs4/doc/)에서 더욱 자세한 내용을 확인할 수 있습니다.\n"
   ]
  },
  {
   "cell_type": "code",
   "execution_count": 33,
   "id": "126a399f",
   "metadata": {},
   "outputs": [],
   "source": [
    "import requests\n",
    "from bs4 import BeautifulSoup\n",
    "\n",
    "html_doc = requests.get(\"https://news.naver.com/\")\n",
    "soup = BeautifulSoup(html_doc.text, \"html.parser\")\n",
    "\n",
    "# 예제 코드\n",
    "# soup.select_one(\"td[class='scrtext']\").text"
   ]
  },
  {
   "cell_type": "code",
   "execution_count": 39,
   "id": "f5539c44",
   "metadata": {},
   "outputs": [
    {
     "name": "stdout",
     "output_type": "stream",
     "text": [
      "본문 바로가기NAVER뉴스연예스포츠날씨프리미엄총선검색언론사별정치경제사회생활/문화IT/과학세계랭킹신문보기오피니언TV팩트체크알고리즘 안내정정보도 모음콘텐츠3.16(토)전체 언론사뉴스스탠드라이브러리언론사편집기자                                            연재                                                            구독설정                                코리아중앙데일리03월 15일 18:33구독Medical professors to resign if gov't suspends junior doctorsProfessors at three leading medical schools resolved to resign en masse to protest the government's intent to punish jun주간동아03월 15일 18:07구독경기 남부 ‘반도체 벨트’ 17곳 대진표 확정… 여도, 야도 전문가 투입미래 첨단산업 품은 수원·평택·용인·이천·화성에 정치 신인 대거 출마 한국의 미래 첨단산업을 품고 있는 경기 남부 ‘반도체 벨트’가 4·10 총선에서 수도권 승부처로 부상하고 있다. 반도체산업 인프라가 집중돼 인구 한겨레03월 16일 01:21구독한동훈, ‘런종섭’ 비판 커지자 태세 전환…“귀국 수사 응해야”한동훈 국민의힘 비상대책위원장이 15일 해병대 채아무개 상병 순직 사건 핵심 피의자인 이종섭 주오스트레일리아(호주) 대사를 향해 “신속하게 들어와서 정리해야 한다”고 촉구했다. 이 대사의 출국이 도피성이라는 비판이 오마이뉴스03월 15일 21:26구독사과값이 선거판을 흔든다 [사진으로 보는 일주일]240311~240315 오마이뉴스가 정리한 한주의 사진 ▲ 지난 12일 통계청 국가통계포털에 따르면 지난달 과실 물가 상승률은 40.6%로 전체 소비자물가 상승률(3.1%)보다 37.5%포인트 높았다. 지난달 사과경기일보03월 15일 23:02구독‘이\n"
     ]
    }
   ],
   "source": [
    "# body 태그의 내용을 출력합니다.\n",
    "print(soup.select_one(\"body\").text.replace(\"\\n\", \"\")[:1000])"
   ]
  },
  {
   "cell_type": "markdown",
   "id": "5e3704d2",
   "metadata": {},
   "source": [
    "## 여러 페이지 로드\n",
    "\n",
    "여러 개의 웹페이지를 한 번에 로드하려면 로더에 URL 리스트를 전달하면 됩니다. 이렇게 하면 전달된 URL과 동일한 순서로 문서 리스트가 반환됩니다.\n"
   ]
  },
  {
   "cell_type": "markdown",
   "id": "8c4551d5",
   "metadata": {},
   "source": [
    "`WebBaseLoader`를 사용하여 여러 웹페이지를 로드해 봅시다.\n"
   ]
  },
  {
   "cell_type": "code",
   "execution_count": 49,
   "id": "0c25f4ce",
   "metadata": {},
   "outputs": [
    {
     "name": "stdout",
     "output_type": "stream",
     "text": [
      "Naver\n",
      "                          구독설정                                매일경제03월 16일 00:53구독“학생때부터 미인으로 유명”...한국 찾은 ‘오타니의 그녀’도 화제15일 오후 인천공항 통해 입국 선수들중 오타니와 함께 맨 먼저 이동 한일 양국 야구팬들 입국장서 환영 日네티즌 “둘이 닮았다” “어울린다” 미국 프로야구(MLB) LA 다저스가 정규리그 개막전을 위해 15일 한국에뉴스103월 16일 00:29구독서울 오피스텔서 20대 여성 숨진 채 발견…40대 남성 용의자 체포서울의 한 오피스텔에서 20대 여성이 숨진 채 발견된 사건의 유력 용의자가 경찰에 붙잡혔다. 15일 서울 은평경찰서 등에 따르면 경찰은 이날 오후 10시 24분쯤 40대 남성 A 씨를 구로구의 한 만화방에서 긴급 체부산일보03월 15일 22:40구독[총선 브리핑] 장예찬 \"철없던 시절 글로 심려끼쳐 죄송\"부산 수영에 출마한 국민의힘 장예찬 후보가 논란이 된 과거 SNS 글에 대해 사과했다. 장 후보는 15일 부산시의회에서 기자회견을 자청해 “10여 년 전, 25살 무렵 페이스북에 남겼던 글들로 국민께 심려를 끼쳐 진조선비즈03월 16일 01:29구독동영상재생시간01:38[총선, 현장] 80년 광주 토박이의 한 마디 “여야고 나발이고 정치를 잘혀야제잉”한동훈 국힘 비대위원장 호남 지역 방문 순천 시작으로 광주, 전북 등 돌며 지지 호소 “호남 전 지역에 후보 출마…진심 다할 것” “호남에서 이기는 게 우리가 진짜 이기는 것” 15일 오전 11시 전라남도 순천시 웃경기일보03월 15일 23:02구독\n",
      "============================================================\n",
      "Daum\n",
      "홈 | 다음뉴스본문 바로가기메뉴 바로가기뉴스관련 서비스연예스포츠 뉴스 메인메뉴홈사회정치경제국제문화IT연재포토팩트체크홈이슈 기사 목록국제                                    '돈나무 언니' 캐시 우드, 테슬라 주식 대량 매수…\"쌀 때 사자\"                                국제                                    아르헨 밀레이 \"150억 달러가 있다면 당장 외환규제 풀 것\"                                정치                                    [인터뷰] 김영석 \"아산의 미래, 인기 위주 정책 펴는 세력에 맡겨선 안돼\"                                정치                                    김은혜, HD현대 찾아 분당내 기업형 '특목·자사고' 설립 요청                                사회                                    정부 “병원 이탈 일부 전공의 재취업, 처벌 대상”                                사회                                    수도권 의대 10% 안팎 증원… 미니 의대는 100명으로                                사회                                    단전에 또 멈춘 지하철… 이번엔 3호선 출근대란                                경제                                    유한양행, 창업주 손녀 반대에도 28년만에 ‘회장직’ 부활                                국제                                    전 MI6 국장 \"영·러 '회색 전쟁' 중…국방비 늘려야\"                                \n"
     ]
    }
   ],
   "source": [
    "# 웹 페이지 URL 목록을 사용하여 WebBaseLoader 객체를 생성합니다.\n",
    "loader = WebBaseLoader([\"https://news.naver.com/\", \"https://news.daum.net\"])\n",
    "docs = loader.load()  # 지정된 웹 페이지에서 문서를 로드합니다.\n",
    "# 로드된 문서를 출력합니다.\n",
    "print(\"Naver\")\n",
    "print(docs[0].page_content.replace(\"\\n\", \"\")[200:1000])\n",
    "print(\"===\" * 20)\n",
    "print(\"Daum\")\n",
    "print(docs[1].page_content.replace(\"\\n\", \"\")[:1000])"
   ]
  },
  {
   "cell_type": "markdown",
   "id": "a6ce3636",
   "metadata": {},
   "source": [
    "## 여러 URL을 동시에 로드\n",
    "\n",
    "여러 URL을 동시에 스크래핑하고 파싱하는 방법은 스크래핑 프로세스의 속도를 상당히 향상시킬 수 있는 효과적인 방법입니다. 이를 통해, 다량의 데이터를 빠르게 수집할 수 있으며, 작업의 효율성을 크게 개선할 수 있습니다.\n",
    "\n",
    "기본적으로 동시 요청의 수는 초당 2개로 제한되어 있으나, `requests_per_second` 매개변수를 조정하여 이 제한을 변경할 수 있습니다. 이는 특히 스크래핑하는 서버를 직접 관리하거나, 서버 부하에 대해 우려하지 않는 경우 유용할 수 있습니다.\n",
    "\n",
    "그러나, **동시 요청 수를 무리하게 늘리는 것은 서버에 과부하** \\*\\* 줄 수 있으며, 이로 인해 스크래핑 대상 웹사이트에서 차단당할 위험을 증가시킵니다. 스크래핑 작업을 수행할 때는 항상 해당 웹사이트의 이용 약관을 확인하고, 과도한 부하를 주지 않도록 주의를 기울여야 합니다. 만약 가능하다면, API를 통한 데이터 접근을 우선 고려하는 것도 좋은 방법입니다.\n"
   ]
  },
  {
   "cell_type": "markdown",
   "id": "e786ea59",
   "metadata": {},
   "source": [
    "- `requests_per_second` 속성을 1로 설정하여 초당 요청 수를 제한합니다.\n",
    "- `aload()` 메서드를 호출하여 비동기적으로 웹 페이지 데이터를 로드하고 `docs` 변수에 할당합니다.\n"
   ]
  },
  {
   "cell_type": "code",
   "execution_count": 50,
   "id": "c5ebe848",
   "metadata": {},
   "outputs": [
    {
     "name": "stderr",
     "output_type": "stream",
     "text": [
      "Fetching pages: 100%|##########| 2/2 [00:00<00:00,  5.59it/s]"
     ]
    },
    {
     "name": "stdout",
     "output_type": "stream",
     "text": [
      "Naver\n",
      "                          구독설정                                미디어오늘03월 15일 21:42구독해수부 장관의 '노무현 요트사건' 발언 기사가 삭제된 이유\"노무현 (전) 대통령 요트 사건이나 영화 속의 요트 등 문화에 대한 부정적 인식이 아직 남아 있는 경우가 있다.\" 강도형 해양수산부 장관이 공개석상에서 '노 전 대통령 요트 사건'을 거론한 기사들이 사라졌다. 연합아이뉴스2403월 16일 01:38구독\"어? 비트코인, 갑자기 왜 이래\"…'천당에서 지옥으로'최근 나흘 동안 1억원 이상에서 고공행진을 하던 비트코인이 급락했다. 현재 고점 대비 800만원 이상 떨어진 가격에 거래되고 있다. 미국의 금리인하 기대가 꺾이면서 악재로 작용한 것으로 풀이된다. 15일 오후 8시4중앙일보03월 16일 02:06구독한 알이 골프공만 하네…세계에서 가장 큰 '괴물 블루베리'호주의 한 농장에서 재배한 블루베리가 세계에서 가장 큰 블루베리로 기네스 세계 기록을 세웠다. 15일 호주 농산물 기업 코스타 그룹에 따르면 이번에 세계 기록에 등재된 블루베리는 너비 3.931cm로 골프공만 하며,강원일보03월 15일 14:57구독양양 종합운동장 트랙 개·보수 13억원 수의계약 검증 허술속보=양양군이 종합운동장 육상 트랙 개·보수 공사를 추진하면서 수의계약 방식으로 특정업체에 특혜를 줬다는 논란(본보 2월13일자 5면 보도)이 불거진 가운데 해당 업체 시공 품질에 대한 행정기관의 검증이 허술했던 것경기일보03월 15일 23:02구독‘이재명 저격수’ 유동규, 출마 포기... \"원희룡에 힘 모\n",
      "============================================================\n",
      "Daum\n",
      "홈 | 다음뉴스본문 바로가기메뉴 바로가기뉴스관련 서비스연예스포츠 뉴스 메인메뉴홈사회정치경제국제문화IT연재포토팩트체크홈이슈 기사 목록국제                                    '돈나무 언니' 캐시 우드, 테슬라 주식 대량 매수…\"쌀 때 사자\"                                국제                                    아르헨 밀레이 \"150억 달러가 있다면 당장 외환규제 풀 것\"                                정치                                    [인터뷰] 김영석 \"아산의 미래, 인기 위주 정책 펴는 세력에 맡겨선 안돼\"                                정치                                    김은혜, HD현대 찾아 분당내 기업형 '특목·자사고' 설립 요청                                사회                                    정부 “병원 이탈 일부 전공의 재취업, 처벌 대상”                                사회                                    수도권 의대 10% 안팎 증원… 미니 의대는 100명으로                                사회                                    단전에 또 멈춘 지하철… 이번엔 3호선 출근대란                                경제                                    유한양행, 창업주 손녀 반대에도 28년만에 ‘회장직’ 부활                                국제                                    전 MI6 국장 \"영·러 '회색 전쟁' 중…국방비 늘려야\"                                \n"
     ]
    },
    {
     "name": "stderr",
     "output_type": "stream",
     "text": [
      "\n"
     ]
    }
   ],
   "source": [
    "# 웹 페이지 URL 목록을 사용하여 WebBaseLoader 객체를 생성합니다.\n",
    "loader = WebBaseLoader([\"https://news.naver.com/\", \"https://news.daum.net\"])\n",
    "loader.requests_per_second = 1  # 초당 요청 수를 1로 설정합니다.\n",
    "docs = loader.aload()  # 지정된 웹 페이지에서 문서를 로드합니다.\n",
    "# 로드된 문서를 출력합니다.\n",
    "print(\"Naver\")\n",
    "print(docs[0].page_content.replace(\"\\n\", \"\")[200:1000])\n",
    "print(\"===\" * 20)\n",
    "print(\"Daum\")\n",
    "print(docs[1].page_content.replace(\"\\n\", \"\")[:1000])"
   ]
  },
  {
   "cell_type": "markdown",
   "id": "91038256",
   "metadata": {},
   "source": [
    "## XML 파일 로드\n",
    "\n",
    "`SitemapLoader` 는 웹사이트의 사이트맵 파일을 로드하고 파싱하기 위한 도구입니다. 사이트맵은 웹사이트의 페이지들이 어떻게 구성되어 있는지를 XML 형식으로 정리한 파일로, 검색 엔진이 웹사이트의 구조를 더 쉽게 이해하고 페이지들을 효율적으로 크롤링할 수 있도록 도와줍니다. 따라서 SitemapLoader를 사용하여 사이트맵을 로드하고 파싱하는 것은 웹사이트의 구조를 분석하거나 특정 페이지들에 대한 정보를 수집하는 데 매우 유용합니다.\n"
   ]
  },
  {
   "cell_type": "markdown",
   "id": "a9c2acd1",
   "metadata": {},
   "source": [
    "- `WebBaseLoader`를 사용하여 웹 페이지(https://www.govinfo.gov/content/pkg/CFR-2018-title10-vol3/xml/CFR-2018-title10-vol3-sec431-86.xml)에서 데이터를 로드합니다.\n",
    "- `default_parser`를 \"xml\"로 설정합니다.\n"
   ]
  },
  {
   "cell_type": "code",
   "execution_count": 54,
   "id": "6971b2a0",
   "metadata": {},
   "outputs": [
    {
     "name": "stdout",
     "output_type": "stream",
     "text": [
      "10Energy32018-01-012018-01-01falseUniform test method for the measurement of energy efficiency of commercial packaged boilers.Â§ 431.86Section Â§ 431.86EnergyDEPARTMENT OF ENERGYENERGY CONSERVATIONENERGY EFFICIENCY PROGRAM FOR CERTAIN COMMERCIAL AND INDUSTRIAL EQUIPMENTCommercial Packaged BoilersTest Procedures§ 431.86Uniform test method for the measurement of energy efficiency of commercial packaged boilers.(a) Scope. This section provides test procedures, pursuant to the Energy Policy and Conservation Act (EPCA), as amended, which must be followed for measuring the combustion efficiency and/or thermal efficiency of a gas- or oil-fired commercial packaged boiler.(b) Testing and Calculations. Determine the thermal efficiency or combustion efficiency of commercial packaged boilers by conducting the appropriate test procedure(s) indicated in Table 1 of this section.Table 1—Test Requirements for Commercial Packaged Boiler Equipment ClassesEquipment categorySu\n"
     ]
    }
   ],
   "source": [
    "loader = WebBaseLoader(\n",
    "    # 웹 기반 로더를 사용하여 XML 문서를 로드합니다.\n",
    "    \"https://www.govinfo.gov/content/pkg/CFR-2018-title10-vol3/xml/CFR-2018-title10-vol3-sec431-86.xml\"\n",
    ")\n",
    "loader.default_parser = \"xml\"  # 기본 파서를 XML로 설정합니다.\n",
    "docs = loader.load()  # 문서를 로드합니다.\n",
    "\n",
    "# 로드된 문서를 출력합니다.\n",
    "print(docs[0].page_content[:1000].replace(\"\\n\", \"\"))"
   ]
  }
 ],
 "metadata": {
  "kernelspec": {
   "display_name": "py-test",
   "language": "python",
   "name": "python3"
  },
  "language_info": {
   "codemirror_mode": {
    "name": "ipython",
    "version": 3
   },
   "file_extension": ".py",
   "mimetype": "text/x-python",
   "name": "python",
   "nbconvert_exporter": "python",
   "pygments_lexer": "ipython3",
   "version": "3.10.13"
  }
 },
 "nbformat": 4,
 "nbformat_minor": 5
}
