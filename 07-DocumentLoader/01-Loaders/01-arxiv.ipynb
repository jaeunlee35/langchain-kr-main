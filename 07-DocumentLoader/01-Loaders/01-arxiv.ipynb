{
 "cells": [
  {
   "cell_type": "markdown",
   "id": "a7d621ed",
   "metadata": {},
   "source": [
    "# Arxiv\n",
    "\n",
    "Arxiv는 물리학, 수학, 컴퓨터 과학, 정량 생물학, 정량 금융, 통계학, 전기 공학 및 시스템 과학, 경제학 분야의 200만 편의 학술 논문을 위한 오픈 액세스 아카이브입니다.\n",
    "\n",
    "이 노트북은 `Arxiv.org`에서 과학 논문을 로드하여 다운스트림에서 사용할 수 있는 문서 형식으로 변환하는 방법을 보여줍니다.\n"
   ]
  },
  {
   "cell_type": "markdown",
   "id": "1d411574",
   "metadata": {},
   "source": [
    "먼저 `arxiv` 파이썬 패키지를 설치해야 합니다.\n"
   ]
  },
  {
   "cell_type": "markdown",
   "id": "fbfa1d98",
   "metadata": {},
   "source": [
    "arxiv 라이브러리를 최신 버전으로 업그레이드합니다.\n"
   ]
  },
  {
   "cell_type": "code",
   "execution_count": null,
   "id": "0e26643a",
   "metadata": {},
   "outputs": [],
   "source": [
    "%pip install -qU arxiv"
   ]
  },
  {
   "cell_type": "markdown",
   "id": "2e3f81cb",
   "metadata": {},
   "source": [
    "두 번째로, `arxiv.org` 사이트에서 다운로드한 PDF 파일을 텍스트 형식으로 변환하는 `PyMuPDF` 파이썬 패키지를 설치해야 합니다.\n"
   ]
  },
  {
   "cell_type": "markdown",
   "id": "0153e05e",
   "metadata": {},
   "source": [
    "pymupdf 라이브러리를 최신 버전으로 업그레이드하는 pip 명령입니다.\n"
   ]
  },
  {
   "cell_type": "code",
   "execution_count": null,
   "id": "e2a7b760",
   "metadata": {},
   "outputs": [],
   "source": [
    "%pip install -qU pymupdf"
   ]
  },
  {
   "cell_type": "markdown",
   "id": "508d7fba",
   "metadata": {},
   "source": [
    "ArxivLoader는 다음과 같은 인자를 가집니다:\n",
    "\n",
    "- `query`: Arxiv에서 문서를 찾는 데 사용되는 자유 텍스트입니다.\n",
    "\n",
    "- `load_max_docs`(선택): 기본값은 `100` 입니다. 다운로드할 문서의 수를 제한하는 데 사용합니다. 100개의 문서를 모두 다운로드하는 데는 시간이 걸리므로, 실험을 위해서는 작은 숫자를 사용하는 것이 좋습니다.\n",
    "\n",
    "- `load_all_available_meta`(선택): 기본값은 `False` 입니다. 기본적으로 가장 중요한 필드만 다운로드됩니다. Published (문서가 게시되거나 마지막으로 업데이트된 날짜), Title, Authors, Summary. True인 경우, 다른 필드도 다운로드됩니다.\n"
   ]
  },
  {
   "cell_type": "markdown",
   "id": "b17095e0",
   "metadata": {},
   "source": [
    "ArxivLoader를 사용하여 arXiv에서 논문을 로드합니다.\n"
   ]
  },
  {
   "cell_type": "code",
   "execution_count": 1,
   "id": "170879d2",
   "metadata": {},
   "outputs": [],
   "source": [
    "from langchain_community.document_loaders import ArxivLoader"
   ]
  },
  {
   "cell_type": "markdown",
   "id": "c7f4ea2e",
   "metadata": {},
   "source": [
    "- `ArxivLoader`를 사용하여 arXiv에서 논문을 로드합니다.\n",
    "  - `query`: 매개변수에 arXiv ID \"1605.08386\"을 전달하여 특정 논문을 검색합니다.\n",
    "  - `load_max_docs`: 매개변수를 2로 설정하여 최대 2개의 논문을 로드합니다."
   ]
  },
  {
   "cell_type": "code",
   "execution_count": 2,
   "id": "2849da52",
   "metadata": {},
   "outputs": [
    {
     "data": {
      "text/plain": [
       "1"
      ]
     },
     "execution_count": 2,
     "metadata": {},
     "output_type": "execute_result"
    }
   ],
   "source": [
    "# ArxivLoader를 사용하여 arXiv에서 문서를 로드합니다. query 매개변수는 검색할 논문의 arXiv ID이고, load_max_docs 매개변수는 로드할 최대 문서 수를 지정합니다.\n",
    "docs = ArxivLoader(query=\"1605.08386\", load_max_docs=2).load()\n",
    "len(docs)  # 로드된 문서의 개수를 반환합니다."
   ]
  },
  {
   "cell_type": "markdown",
   "id": "805542a5",
   "metadata": {},
   "source": [
    "`docs[0].metadata`는 `Document` 객체의 메타데이터를 반환합니다.\n",
    "\n",
    "- `docs`는 `Document` 객체의 리스트입니다.\n",
    "- `docs[0]`은 리스트의 첫 번째 `Document` 객체를 나타냅니다.\n",
    "- `metadata` 속성은 해당 `Document`와 관련된 메타데이터 정보를 담고 있는 딕셔너리를 반환합니다.\n"
   ]
  },
  {
   "cell_type": "code",
   "execution_count": 3,
   "id": "6bf645be",
   "metadata": {},
   "outputs": [
    {
     "data": {
      "text/plain": [
       "{'Published': '2016-05-26',\n",
       " 'Title': 'Heat-bath random walks with Markov bases',\n",
       " 'Authors': 'Caprice Stanley, Tobias Windisch',\n",
       " 'Summary': 'Graphs on lattice points are studied whose edges come from a finite set of\\nallowed moves of arbitrary length. We show that the diameter of these graphs on\\nfibers of a fixed integer matrix can be bounded from above by a constant. We\\nthen study the mixing behaviour of heat-bath random walks on these graphs. We\\nalso state explicit conditions on the set of moves so that the heat-bath random\\nwalk, a generalization of the Glauber dynamics, is an expander in fixed\\ndimension.'}"
      ]
     },
     "execution_count": 3,
     "metadata": {},
     "output_type": "execute_result"
    }
   ],
   "source": [
    "docs[0].metadata  # 문서의 메타 정보"
   ]
  },
  {
   "cell_type": "markdown",
   "id": "ae8bdb6f",
   "metadata": {},
   "source": [
    "`docs[0].page_content[:400]`\n",
    "\n",
    "- `docs` 리스트의 첫 번째 요소(인덱스 0)에 접근합니다.\n",
    "- 해당 요소의 `page_content` 속성에 접근하여 문서의 내용을 가져옵니다.\n",
    "- `[:400]`을 사용하여 문서 내용의 첫 400자를 슬라이싱합니다.\n",
    "\n",
    "이 코드는 `docs` 리스트에 저장된 문서들 중 첫 번째 문서의 내용 중 처음 400자를 반환합니다.\n"
   ]
  },
  {
   "cell_type": "code",
   "execution_count": 4,
   "id": "0c621cd0",
   "metadata": {},
   "outputs": [
    {
     "data": {
      "text/plain": [
       "'arXiv:1605.08386v1  [math.CO]  26 May 2016\\nHEAT-BATH RANDOM WALKS WITH MARKOV BASES\\nCAPRICE STANLEY AND TOBIAS WINDISCH\\nAbstract. Graphs on lattice points are studied whose edges come from a ﬁnite set of\\nallowed moves of arbitrary length. We show that the diameter of these graphs on ﬁbers of a\\nﬁxed integer matrix can be bounded from above by a constant. We then study the mixing\\nbehaviour of heat-b'"
      ]
     },
     "execution_count": 4,
     "metadata": {},
     "output_type": "execute_result"
    }
   ],
   "source": [
    "docs[0].page_content[:400]  # 문서의 모든 페이지 내용 중 처음 400자를 가져옵니다."
   ]
  },
  {
   "cell_type": "markdown",
   "id": "d9c97574",
   "metadata": {},
   "source": [
    "전체 문서의 길이(문자열) 출력\n"
   ]
  },
  {
   "cell_type": "code",
   "execution_count": 5,
   "id": "86b8edc8",
   "metadata": {},
   "outputs": [
    {
     "data": {
      "text/plain": [
       "54338"
      ]
     },
     "execution_count": 5,
     "metadata": {},
     "output_type": "execute_result"
    }
   ],
   "source": [
    "len(docs[0].page_content)  # 문서의 페이지 수를 반환합니다."
   ]
  }
 ],
 "metadata": {
  "kernelspec": {
   "display_name": "py-test",
   "language": "python",
   "name": "python3"
  },
  "language_info": {
   "codemirror_mode": {
    "name": "ipython",
    "version": 3
   },
   "file_extension": ".py",
   "mimetype": "text/x-python",
   "name": "python",
   "nbconvert_exporter": "python",
   "pygments_lexer": "ipython3",
   "version": "3.10.13"
  }
 },
 "nbformat": 4,
 "nbformat_minor": 5
}
