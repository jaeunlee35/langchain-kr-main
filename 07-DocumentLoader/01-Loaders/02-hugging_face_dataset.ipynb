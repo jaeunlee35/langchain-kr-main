{
 "cells": [
  {
   "cell_type": "markdown",
   "id": "679b3011",
   "metadata": {},
   "source": [
    "# HuggingFace 데이터셋\n",
    "\n",
    "Hugging Face Hub는 NLP, 컴퓨터 비전, 오디오 분야에서 다양한 작업에 사용될 수 있는 100개 이상의 언어로 된 5,000개 이상의 데이터셋을 제공합니다.\n",
    "\n",
    "이러한 데이터셋은 번역, 자동 음성 인식, 이미지 분류와 같은 다양한 작업에 활용됩니다.\n",
    "\n",
    "이 노트북에서는 `Hugging Face Hub` 데이터셋을 LangChain에 로드하는 방법을 보여줍니다.\n"
   ]
  },
  {
   "cell_type": "markdown",
   "id": "0c8c5ff3",
   "metadata": {},
   "source": [
    "- `HuggingFaceDatasetLoader`를 사용하여 Hugging Face 데이터셋을 로드합니다.\n",
    "- 로드된 데이터셋은 LangChain에서 사용할 수 있는 문서 형식으로 변환됩니다.\n",
    "- 이를 통해 Hugging Face 데이터셋을 LangChain의 다양한 기능과 함께 활용할 수 있습니다.\n"
   ]
  },
  {
   "cell_type": "code",
   "execution_count": 1,
   "id": "6609d5f0",
   "metadata": {},
   "outputs": [],
   "source": [
    "from langchain_community.document_loaders import HuggingFaceDatasetLoader"
   ]
  },
  {
   "cell_type": "markdown",
   "id": "3e45553b",
   "metadata": {},
   "source": [
    "- `HuggingFaceDatasetLoader`를 사용하여 \"imdb\" 데이터셋을 로드합니다.\n",
    "- `page_content_column` 매개변수를 \"text\"로 설정하여 데이터셋의 텍스트 열을 지정합니다.\n",
    "- 로드된 데이터셋은 `loader` 변수에 저장됩니다.\n"
   ]
  },
  {
   "cell_type": "code",
   "execution_count": 2,
   "id": "1f9e1bea",
   "metadata": {},
   "outputs": [],
   "source": [
    "dataset_name = \"imdb\"  # 데이터셋 이름을 \"imdb\"로 설정합니다.\n",
    "page_content_column = \"text\"  # 페이지 내용이 포함된 열의 이름을 \"text\"로 설정합니다.\n",
    "\n",
    "# HuggingFaceDatasetLoader를 사용하여 데이터셋을 로드합니다.\n",
    "# 데이터셋 이름과 페이지 내용 열 이름을 전달합니다.\n",
    "loader = HuggingFaceDatasetLoader(dataset_name, page_content_column)"
   ]
  },
  {
   "cell_type": "markdown",
   "id": "cdd7e686",
   "metadata": {},
   "source": [
    "`loader.load()` 메서드를 호출하여 데이터를 로드합니다.\n",
    "\n",
    "- `loader` 객체는 데이터 로딩을 담당하는 객체입니다.\n",
    "- `load()` 메서드는 데이터 소스(예: 파일, 데이터베이스 등)에서 데이터를 읽어와 메모리에 로드합니다.\n",
    "- 로드된 데이터는 `data` 변수에 할당됩니다.\n"
   ]
  },
  {
   "cell_type": "code",
   "execution_count": 3,
   "id": "ff6240ab",
   "metadata": {},
   "outputs": [
    {
     "name": "stderr",
     "output_type": "stream",
     "text": [
      "/Users/teddy/miniconda3/envs/py-test/lib/python3.10/site-packages/datasets/load.py:2479: FutureWarning: 'use_auth_token' was deprecated in favor of 'token' in version 2.14.0 and will be removed in 3.0.0.\n",
      "You can remove this warning by passing 'token=<use_auth_token>' instead.\n",
      "  warnings.warn(\n"
     ]
    }
   ],
   "source": [
    "data = loader.load()  # 로더를 사용하여 데이터를 불러옵니다."
   ]
  },
  {
   "cell_type": "code",
   "execution_count": 7,
   "id": "d92e9aa5",
   "metadata": {},
   "outputs": [
    {
     "data": {
      "text/plain": [
       "[Document(page_content='\"I rented I AM CURIOUS-YELLOW from my video store because of all the controversy that surrounded it when it was first released in 1967. I also heard that at first it was seized by U.S. customs if it ever tried to enter this country, therefore being a fan of films considered \\\\\"controversial\\\\\" I really had to see this for myself.<br /><br />The plot is centered around a young Swedish drama student named Lena who wants to learn everything she can about life. In particular she wants to focus her attentions to making some sort of documentary on what the average Swede thought about certain political issues such as the Vietnam War and race issues in the United States. In between asking politicians and ordinary denizens of Stockholm about their opinions on politics, she has sex with her drama teacher, classmates, and married men.<br /><br />What kills me about I AM CURIOUS-YELLOW is that 40 years ago, this was considered pornographic. Really, the sex and nudity scenes are few and far between, even then it\\'s not shot like some cheaply made porno. While my countrymen mind find it shocking, in reality sex and nudity are a major staple in Swedish cinema. Even Ingmar Bergman, arguably their answer to good old boy John Ford, had sex scenes in his films.<br /><br />I do commend the filmmakers for the fact that any sex shown in the film is shown for artistic purposes rather than just to shock people and make money to be shown in pornographic theaters in America. I AM CURIOUS-YELLOW is a good film for anyone wanting to study the meat and potatoes (no pun intended) of Swedish cinema. But really, this film doesn\\'t have much of a plot.\"', metadata={'label': 0}),\n",
       " Document(page_content='\"\\\\\"I Am Curious: Yellow\\\\\" is a risible and pretentious steaming pile. It doesn\\'t matter what one\\'s political views are because this film can hardly be taken seriously on any level. As for the claim that frontal male nudity is an automatic NC-17, that isn\\'t true. I\\'ve seen R-rated films with male nudity. Granted, they only offer some fleeting views, but where are the R-rated films with gaping vulvas and flapping labia? Nowhere, because they don\\'t exist. The same goes for those crappy cable shows: schlongs swinging in the breeze but not a clitoris in sight. And those pretentious indie movies like The Brown Bunny, in which we\\'re treated to the site of Vincent Gallo\\'s throbbing johnson, but not a trace of pink visible on Chloe Sevigny. Before crying (or implying) \\\\\"double-standard\\\\\" in matters of nudity, the mentally obtuse should take into account one unavoidably obvious anatomical difference between men and women: there are no genitals on display when actresses appears nude, and the same cannot be said for a man. In fact, you generally won\\'t see female genitals in an American film in anything short of porn or explicit erotica. This alleged double-standard is less a double standard than an admittedly depressing ability to come to terms culturally with the insides of women\\'s bodies.\"', metadata={'label': 0}),\n",
       " Document(page_content='\"If only to avoid making this type of film in the future. This film is interesting as an experiment but tells no cogent story.<br /><br />One might feel virtuous for sitting thru it because it touches on so many IMPORTANT issues but it does so without any discernable motive. The viewer comes away with no new perspectives (unless one comes up with one while one\\'s mind wanders, as it will invariably do during this pointless film).<br /><br />One might better spend one\\'s time staring out a window at a tree growing.<br /><br />\"', metadata={'label': 0})]"
      ]
     },
     "execution_count": 7,
     "metadata": {},
     "output_type": "execute_result"
    }
   ],
   "source": [
    "# 데이터의 처음 3개 요소를 선택합니다.\n",
    "data[:3]"
   ]
  },
  {
   "cell_type": "markdown",
   "id": "822a35c9",
   "metadata": {},
   "source": [
    "### Example\n",
    "\n",
    "이 예제에서는 데이터셋의 데이터를 사용하여 질문에 답변합니다.\n"
   ]
  },
  {
   "cell_type": "markdown",
   "id": "40ddc0f9",
   "metadata": {},
   "source": [
    "HuggingFaceDatasetLoader를 사용하여 Hugging Face 데이터셋을 로드하고, VectorstoreIndexCreator를 통해 벡터 저장소 기반의 인덱스를 생성하는 코드입니다.\n",
    "\n",
    "- `HuggingFaceDatasetLoader`를 사용하여 Hugging Face 데이터셋을 로드합니다.\n",
    "- 로드된 데이터셋을 `VectorstoreIndexCreator`에 전달하여 벡터 저장소 기반의 인덱스를 생성합니다.\n",
    "- 생성된 인덱스를 활용하여 데이터셋에 대한 검색 및 질의 응답을 수행할 수 있습니다.\n"
   ]
  },
  {
   "cell_type": "code",
   "execution_count": 10,
   "id": "a7dce55c",
   "metadata": {},
   "outputs": [],
   "source": [
    "from langchain.indexes import VectorstoreIndexCreator\n",
    "from langchain_community.document_loaders.hugging_face_dataset import (\n",
    "    HuggingFaceDatasetLoader,\n",
    ")"
   ]
  },
  {
   "cell_type": "markdown",
   "id": "1049cb78",
   "metadata": {},
   "source": [
    "- `HuggingFaceDatasetLoader`를 사용하여 Hugging Face의 \"tweet_eval\" 데이터셋에서 \"stance_climate\" subset의 데이터를 로드합니다.\n",
    "- 데이터셋의 텍스트 컬럼은 `page_content_column` 매개변수로 지정된 \"text\"입니다.\n",
    "- 로드된 데이터는 `loader` 변수에 저장됩니다.\n"
   ]
  },
  {
   "cell_type": "code",
   "execution_count": 11,
   "id": "3abd7ba5",
   "metadata": {},
   "outputs": [],
   "source": [
    "dataset_name = \"tweet_eval\"  # 데이터셋 이름을 \"tweet_eval\"로 설정합니다.\n",
    "page_content_column = \"text\"  # 페이지 내용이 포함된 열의 이름을 \"text\"로 설정합니다.\n",
    "name = \"stance_climate\"  # 데이터셋의 특정 부분을 식별하는 이름을 \"stance_climate\"로 설정합니다.\n",
    "\n",
    "# HuggingFaceDatasetLoader를 사용하여 데이터셋을 로드합니다.\n",
    "loader = HuggingFaceDatasetLoader(dataset_name, page_content_column, name)"
   ]
  },
  {
   "cell_type": "markdown",
   "id": "8ff21001",
   "metadata": {},
   "source": [
    "`VectorstoreIndexCreator` 클래스를 사용하여 로더(loader)에서 벡터 저장소 인덱스를 생성합니다.\n",
    "\n",
    "- `VectorstoreIndexCreator` 클래스의 인스턴스를 생성합니다.\n",
    "- `from_loaders` 메서드를 호출하여 로더 리스트를 전달합니다.\n",
    "- 로더에서 추출된 데이터를 기반으로 벡터 저장소 인덱스가 생성됩니다.\n",
    "- 생성된 인덱스는 `index` 변수에 할당됩니다.\n"
   ]
  },
  {
   "cell_type": "code",
   "execution_count": 12,
   "id": "1ac90dba",
   "metadata": {},
   "outputs": [
    {
     "name": "stderr",
     "output_type": "stream",
     "text": [
      "/Users/teddy/miniconda3/envs/py-test/lib/python3.10/site-packages/langchain_core/_api/deprecation.py:117: LangChainDeprecationWarning: The class `langchain_community.embeddings.openai.OpenAIEmbeddings` was deprecated in langchain-community 0.0.9 and will be removed in 0.2.0. An updated version of the class exists in the langchain-openai package and should be used instead. To use it run `pip install -U langchain-openai` and import as `from langchain_openai import OpenAIEmbeddings`.\n",
      "  warn_deprecated(\n",
      "/Users/teddy/miniconda3/envs/py-test/lib/python3.10/site-packages/datasets/load.py:2479: FutureWarning: 'use_auth_token' was deprecated in favor of 'token' in version 2.14.0 and will be removed in 3.0.0.\n",
      "You can remove this warning by passing 'token=<use_auth_token>' instead.\n",
      "  warnings.warn(\n"
     ]
    }
   ],
   "source": [
    "# 로더에서 벡터 저장소 인덱스를 생성합니다.\n",
    "index = VectorstoreIndexCreator().from_loaders([loader])"
   ]
  },
  {
   "cell_type": "markdown",
   "id": "70d9b7f2",
   "metadata": {},
   "source": [
    "`index.query()`를 사용하여 \"What are the most used hashtag?\"라는 질문에 대한 답변을 생성합니다.\n",
    "\n",
    "- `query` 변수에 질문 문자열을 할당합니다.\n",
    "- `index.query()` 메서드를 호출하여 질문에 대한 답변을 생성합니다.\n",
    "- 생성된 답변은 `result` 변수에 저장됩니다.\n"
   ]
  },
  {
   "cell_type": "code",
   "execution_count": 8,
   "id": "e49521f3",
   "metadata": {},
   "outputs": [],
   "source": [
    "query = \"What are the most used hashtag?\"  # 가장 많이 사용되는 해시태그는 무엇인가요?\n",
    "result = index.query(query)  # 질의를 수행하여 결과를 얻습니다."
   ]
  },
  {
   "cell_type": "code",
   "execution_count": 9,
   "id": "ed8e073e",
   "metadata": {},
   "outputs": [
    {
     "data": {
      "text/plain": [
       "' The most used hashtags in this context are #TakeDownTheFlag, #LoveWins, #SemST, #ThanksObama, and #green.'"
      ]
     },
     "execution_count": 9,
     "metadata": {},
     "output_type": "execute_result"
    }
   ],
   "source": [
    "result"
   ]
  }
 ],
 "metadata": {
  "kernelspec": {
   "display_name": "py-test",
   "language": "python",
   "name": "python3"
  },
  "language_info": {
   "codemirror_mode": {
    "name": "ipython",
    "version": 3
   },
   "file_extension": ".py",
   "mimetype": "text/x-python",
   "name": "python",
   "nbconvert_exporter": "python",
   "pygments_lexer": "ipython3",
   "version": "3.10.13"
  }
 },
 "nbformat": 4,
 "nbformat_minor": 5
}
