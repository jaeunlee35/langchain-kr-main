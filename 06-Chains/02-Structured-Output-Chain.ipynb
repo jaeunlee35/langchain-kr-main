{
 "cells": [
  {
   "cell_type": "code",
   "execution_count": 1,
   "id": "a43b92b2",
   "metadata": {},
   "outputs": [
    {
     "data": {
      "text/plain": [
       "True"
      ]
     },
     "execution_count": 1,
     "metadata": {},
     "output_type": "execute_result"
    }
   ],
   "source": [
    "# API 키를 환경변수로 관리하기 위한 설정 파일\n",
    "from dotenv import load_dotenv\n",
    "\n",
    "# API 키 정보 로드\n",
    "load_dotenv()"
   ]
  },
  {
   "cell_type": "markdown",
   "id": "19066592",
   "metadata": {},
   "source": [
    "특정 주제에 대한 4지선다형 퀴즈를 생성하는 과정을 구현합니다.\n",
    "\n",
    "`Quiz` 클래스는 퀴즈의 질문, 난이도, 그리고 네 개의 선택지를 정의합니다.\n",
    "\n",
    "`ChatOpenAI` 인스턴스는 GPT-4 모델을 사용하여 자연어 처리를 수행하고, `ChatPromptTemplate`는 퀴즈 생성을 위한 대화형 프롬프트를 정의합니다.\n",
    "\n",
    "마지막으로, `create_structured_output_runnable` 함수는 이러한 구성 요소를 결합하여 주어진 주제(`\"ADSP(데이터 분석 준전문가) 자격 시험\"`)에 대한 퀴즈를 생성하는 실행 가능한 체인을 만듭니다.\n"
   ]
  },
  {
   "cell_type": "code",
   "execution_count": 2,
   "id": "193e17a2",
   "metadata": {},
   "outputs": [],
   "source": [
    "from langchain.chains.openai_functions import create_structured_output_runnable\n",
    "from langchain_openai import ChatOpenAI\n",
    "from langchain_core.prompts import ChatPromptTemplate\n",
    "from langchain_core.pydantic_v1 import BaseModel, Field\n",
    "from typing import List\n",
    "\n",
    "\n",
    "class Quiz(BaseModel):\n",
    "    \"\"\"4지선다형 퀴즈의 정보를 추출합니다\"\"\"\n",
    "\n",
    "    question: str = Field(..., description=\"퀴즈의 질문\")\n",
    "    level: str = Field(\n",
    "        ..., description=\"퀴즈의 난이도를 나타냅니다. (쉬움, 보통, 어려움)\"\n",
    "    )\n",
    "    options: List[str] = Field(..., description=\"퀴즈의 4개의 선택지 입니다.\")\n",
    "\n",
    "\n",
    "llm = ChatOpenAI(model=\"gpt-4-turbo-preview\", temperature=0.1)\n",
    "prompt = ChatPromptTemplate.from_messages(\n",
    "    [\n",
    "        (\n",
    "            \"system\",\n",
    "            \"You're a world-famous quizzer and generates quizzes in structured formats.\",\n",
    "        ),\n",
    "        (\n",
    "            \"human\",\n",
    "            \"TOPIC 에 제시된 내용과 관련한 4지선다형 퀴즈를 출제해 주세요. 만약, 실제 출제된 기출문제가 있다면 비슷한 문제를 만들어 출제하세요.\"\n",
    "            \"단, 문제에 TOPIC 에 대한 내용이나 정보는 포함하지 마세요. \\nTOPIC:\\n{topic}\",\n",
    "        ),\n",
    "        (\"human\", \"Tip: Make sure to answer in the correct format\"),\n",
    "    ]\n",
    ")\n",
    "chain = create_structured_output_runnable(Quiz, llm, prompt)\n",
    "generated_quiz = chain.invoke({\"topic\": \"ADSP(데이터 분석 준전문가) 자격 시험\"})"
   ]
  },
  {
   "cell_type": "code",
   "execution_count": 3,
   "id": "d6bacfac",
   "metadata": {},
   "outputs": [
    {
     "data": {
      "text/plain": [
       "Quiz(question='다음 중 데이터 분석 프로젝트에서 가장 먼저 수행해야 하는 단계는 무엇입니까?', level='보통', options=['데이터 수집', '데이터 전처리', '데이터 분석', '문제 정의'])"
      ]
     },
     "execution_count": 3,
     "metadata": {},
     "output_type": "execute_result"
    }
   ],
   "source": [
    "generated_quiz"
   ]
  },
  {
   "cell_type": "markdown",
   "id": "9aded677",
   "metadata": {},
   "source": [
    "이 함수는 `generated_quiz` 객체에서 질문(`question`)과 난이도(`level`)를 출력한 후, 해당 퀴즈의 선택지(`options`)를 순회하며 인덱스와 함께 출력합니다. `enumerate` 함수를 사용하여 각 선택지의 인덱스를 가져오고, 이를 사용자에게 보여주기 쉬운 형태로 출력합니다. 이 과정은 퀴즈의 질문과 선택지를 사용자에게 제시하는 데 사용됩니다.\n"
   ]
  },
  {
   "cell_type": "code",
   "execution_count": 4,
   "id": "ca9b6c38",
   "metadata": {},
   "outputs": [
    {
     "name": "stdout",
     "output_type": "stream",
     "text": [
      "다음 중 데이터 분석 프로젝트에서 가장 먼저 수행해야 하는 단계는 무엇입니까? (난이도: 보통)\n",
      "\n",
      "1) 데이터 수집\n",
      "2) 데이터 전처리\n",
      "3) 데이터 분석\n",
      "4) 문제 정의\n"
     ]
    }
   ],
   "source": [
    "print(f\"{generated_quiz.question} (난이도: {generated_quiz.level})\\n\")\n",
    "for i, opt in enumerate(generated_quiz.options):\n",
    "    print(f\"{i+1}) {opt}\")"
   ]
  }
 ],
 "metadata": {
  "kernelspec": {
   "display_name": "py-test",
   "language": "python",
   "name": "python3"
  },
  "language_info": {
   "codemirror_mode": {
    "name": "ipython",
    "version": 3
   },
   "file_extension": ".py",
   "mimetype": "text/x-python",
   "name": "python",
   "nbconvert_exporter": "python",
   "pygments_lexer": "ipython3",
   "version": "3.10.13"
  }
 },
 "nbformat": 4,
 "nbformat_minor": 5
}
