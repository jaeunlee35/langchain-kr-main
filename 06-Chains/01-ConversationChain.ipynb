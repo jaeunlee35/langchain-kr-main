{
 "cells": [
  {
   "cell_type": "code",
   "execution_count": 1,
   "id": "37222b9a",
   "metadata": {},
   "outputs": [
    {
     "data": {
      "text/plain": [
       "True"
      ]
     },
     "execution_count": 1,
     "metadata": {},
     "output_type": "execute_result"
    }
   ],
   "source": [
    "# API 키를 환경변수로 관리하기 위한 설정 파일\n",
    "from dotenv import load_dotenv\n",
    "\n",
    "# API 키 정보 로드\n",
    "load_dotenv()"
   ]
  },
  {
   "cell_type": "markdown",
   "id": "96e5bd52",
   "metadata": {},
   "source": [
    "## ConversationChain\n"
   ]
  },
  {
   "cell_type": "markdown",
   "id": "381e14ed",
   "metadata": {},
   "source": [
    "`ChatOpenAI` 클래스를 사용하여 대화형 AI 모델의 인스턴스를 생성하고, 이를 통해 사용자와의 대화를 처리할 수 있습니다.\n",
    "\n",
    "`ConversationChain`, `ChatOpenAI`, `ConversationBufferMemory` 모듈은 대화 관리 및 메모리 관리에 필요한 기능을 제공합니다.\n"
   ]
  },
  {
   "cell_type": "code",
   "execution_count": 2,
   "id": "05e15c28",
   "metadata": {},
   "outputs": [],
   "source": [
    "from langchain.chains import ConversationChain\n",
    "from langchain_openai import ChatOpenAI\n",
    "from langchain.memory import ConversationBufferMemory"
   ]
  },
  {
   "cell_type": "markdown",
   "id": "515349ee",
   "metadata": {},
   "source": [
    "`ConversationChain` 클래스의 인스턴스를 생성하여 대화 관리를 수행합니다. 이때, `llm`은 저수준 언어 모델을, `verbose`는 상세한 로깅 여부를 (여기서는 비활성화), 그리고 `memory`는 대화 내용을 저장할 메모리 버퍼를 각각 지정합니다.\n"
   ]
  },
  {
   "cell_type": "code",
   "execution_count": 12,
   "id": "a951b721",
   "metadata": {},
   "outputs": [],
   "source": [
    "# ChatOpenAI 객체를 생성합니다.\n",
    "llm = ChatOpenAI(model=\"gpt-4-turbo-preview\")\n",
    "\n",
    "# ConversationChain 인스턴스를 생성합니다.\n",
    "# llm: 모델을 지정합니다.\n",
    "# verbose: 상세한 로깅을 비활성화합니다.\n",
    "# memory: 대화 내용을 저장하는 메모리 버퍼를 지정합니다.\n",
    "conversation = ConversationChain(\n",
    "    llm=llm,\n",
    "    verbose=False,\n",
    "    memory=ConversationBufferMemory(memory_key=\"history\"),\n",
    ")"
   ]
  },
  {
   "cell_type": "markdown",
   "id": "b277ba68",
   "metadata": {},
   "source": [
    "이 함수는 문자열 입력을 받아 대화 모델을 통해 예측 결과를 반환합니다.\n",
    "\n",
    "`conversation.predict` 함수는 주어진 입력에 대한 모델의 반응을 예측하는 데 사용됩니다.\n"
   ]
  },
  {
   "cell_type": "code",
   "execution_count": 13,
   "id": "439f34f0",
   "metadata": {},
   "outputs": [
    {
     "data": {
      "text/plain": [
       "{'input': '양자역학에 대해 설명해줘.',\n",
       " 'history': '',\n",
       " 'response': \"양자역학은 물리학의 한 분야로, 원자와 같은 매우 작은 입자들의 행동을 설명합니다. 이 이론은 20세기 초에 발전하기 시작했으며, 클래식 물리학의 법칙들이 이런 미시 세계에서는 적용되지 않는다는 것을 보여줍니다. 양자역학은 입자들의 위치, 속도, 다른 물리적 속성들이 확률적으로만 예측될 수 있음을 제시합니다. 즉, 어떤 입자의 정확한 위치를 알 수 없고, 오직 그 입자가 특정 위치에 있을 확률만을 계산할 수 있습니다.\\n\\n양자역학의 핵심 개념 중 하나는 '불확정성 원리'입니다. 하이젠베르크에 의해 처음 제안된 이 원리는, 우리가 입자의 위치와 운동량(속도와 질량의 곱)을 동시에 정확하게 알 수 없다고 말합니다. 즉, 한 측정값을 더 정확히 알려고 하면 다른 측정값은 더 불확실해집니다.\\n\\n또 다른 중요한 개념은 '양자 중첩'입니다. 입자가 여러 상태의 '중첩'으로 존재할 수 있으며, 관측될 때까지는 특정한 상태로 결정되지 않는다는 개념입니다. 이는 유명한 '슈뢰딩거의 고양이' 실험으로 잘 설명됩니다. 이 이론실험에서는 고양이가 상자 안에서 동시에 살아있고 죽어있는 상태로 존재한다고 가정합니다. 상자를 열고 고양이를 관측할 때까지, 고양이의 상태는 결정되지 않습니다.\\n\\n양자역학은 또한 '얽힘'이라는 현상을 설명합니다. 두 입자가 얽혀있으면, 하나의 입자의 상태를 변경하면 즉각적으로 다른 입자의 상태도 변경됩니다. 이 현상은 입자들이 아무리 멀리 떨어져 있어도 발생하며, '비국소성'이라는 개념을 도입합니다.\\n\\n양자역학은 현대 과학과 기술에 광범위하게 적용됩니다. 예를 들어, 반도체 기술, 레이저, 양자 컴퓨팅 등이 이 이론을 기반으로 합니다. 양자역학의 많은 예측은 실험을 통해 확인되었으며, 이 이론은 현대 물리학의 핵심적인 부분으로 자리잡고 있습니다.\"}"
      ]
     },
     "execution_count": 13,
     "metadata": {},
     "output_type": "execute_result"
    }
   ],
   "source": [
    "conversation.invoke({\"input\": \"양자역학에 대해 설명해줘.\"})"
   ]
  },
  {
   "cell_type": "code",
   "execution_count": 15,
   "id": "0b247cd8",
   "metadata": {},
   "outputs": [
    {
     "data": {
      "text/plain": [
       "\"Human: 양자역학에 대해 설명해줘.\\nAI: 양자역학은 물리학의 한 분야로, 원자와 같은 매우 작은 입자들의 행동을 설명합니다. 이 이론은 20세기 초에 발전하기 시작했으며, 클래식 물리학의 법칙들이 이런 미시 세계에서는 적용되지 않는다는 것을 보여줍니다. 양자역학은 입자들의 위치, 속도, 다른 물리적 속성들이 확률적으로만 예측될 수 있음을 제시합니다. 즉, 어떤 입자의 정확한 위치를 알 수 없고, 오직 그 입자가 특정 위치에 있을 확률만을 계산할 수 있습니다.\\n\\n양자역학의 핵심 개념 중 하나는 '불확정성 원리'입니다. 하이젠베르크에 의해 처음 제안된 이 원리는, 우리가 입자의 위치와 운동량(속도와 질량의 곱)을 동시에 정확하게 알 수 없다고 말합니다. 즉, 한 측정값을 더 정확히 알려고 하면 다른 측정값은 더 불확실해집니다.\\n\\n또 다른 중요한 개념은 '양자 중첩'입니다. 입자가 여러 상태의 '중첩'으로 존재할 수 있으며, 관측될 때까지는 특정한 상태로 결정되지 않는다는 개념입니다. 이는 유명한 '슈뢰딩거의 고양이' 실험으로 잘 설명됩니다. 이 이론실험에서는 고양이가 상자 안에서 동시에 살아있고 죽어있는 상태로 존재한다고 가정합니다. 상자를 열고 고양이를 관측할 때까지, 고양이의 상태는 결정되지 않습니다.\\n\\n양자역학은 또한 '얽힘'이라는 현상을 설명합니다. 두 입자가 얽혀있으면, 하나의 입자의 상태를 변경하면 즉각적으로 다른 입자의 상태도 변경됩니다. 이 현상은 입자들이 아무리 멀리 떨어져 있어도 발생하며, '비국소성'이라는 개념을 도입합니다.\\n\\n양자역학은 현대 과학과 기술에 광범위하게 적용됩니다. 예를 들어, 반도체 기술, 레이저, 양자 컴퓨팅 등이 이 이론을 기반으로 합니다. 양자역학의 많은 예측은 실험을 통해 확인되었으며, 이 이론은 현대 물리학의 핵심적인 부분으로 자리잡고 있습니다.\""
      ]
     },
     "execution_count": 15,
     "metadata": {},
     "output_type": "execute_result"
    }
   ],
   "source": [
    "conversation.memory.load_memory_variables({})[\"history\"]"
   ]
  },
  {
   "cell_type": "code",
   "execution_count": 20,
   "id": "0499ad42",
   "metadata": {},
   "outputs": [],
   "source": [
    "conversation.memory.save_context(inputs={\"human\": \"hi\"}, outputs={\"ai\": \"안녕\"})"
   ]
  },
  {
   "cell_type": "code",
   "execution_count": 21,
   "id": "0121536e",
   "metadata": {},
   "outputs": [
    {
     "data": {
      "text/plain": [
       "\"Human: 양자역학에 대해 설명해줘.\\nAI: 양자역학은 물리학의 한 분야로, 원자와 같은 매우 작은 입자들의 행동을 설명합니다. 이 이론은 20세기 초에 발전하기 시작했으며, 클래식 물리학의 법칙들이 이런 미시 세계에서는 적용되지 않는다는 것을 보여줍니다. 양자역학은 입자들의 위치, 속도, 다른 물리적 속성들이 확률적으로만 예측될 수 있음을 제시합니다. 즉, 어떤 입자의 정확한 위치를 알 수 없고, 오직 그 입자가 특정 위치에 있을 확률만을 계산할 수 있습니다.\\n\\n양자역학의 핵심 개념 중 하나는 '불확정성 원리'입니다. 하이젠베르크에 의해 처음 제안된 이 원리는, 우리가 입자의 위치와 운동량(속도와 질량의 곱)을 동시에 정확하게 알 수 없다고 말합니다. 즉, 한 측정값을 더 정확히 알려고 하면 다른 측정값은 더 불확실해집니다.\\n\\n또 다른 중요한 개념은 '양자 중첩'입니다. 입자가 여러 상태의 '중첩'으로 존재할 수 있으며, 관측될 때까지는 특정한 상태로 결정되지 않는다는 개념입니다. 이는 유명한 '슈뢰딩거의 고양이' 실험으로 잘 설명됩니다. 이 이론실험에서는 고양이가 상자 안에서 동시에 살아있고 죽어있는 상태로 존재한다고 가정합니다. 상자를 열고 고양이를 관측할 때까지, 고양이의 상태는 결정되지 않습니다.\\n\\n양자역학은 또한 '얽힘'이라는 현상을 설명합니다. 두 입자가 얽혀있으면, 하나의 입자의 상태를 변경하면 즉각적으로 다른 입자의 상태도 변경됩니다. 이 현상은 입자들이 아무리 멀리 떨어져 있어도 발생하며, '비국소성'이라는 개념을 도입합니다.\\n\\n양자역학은 현대 과학과 기술에 광범위하게 적용됩니다. 예를 들어, 반도체 기술, 레이저, 양자 컴퓨팅 등이 이 이론을 기반으로 합니다. 양자역학의 많은 예측은 실험을 통해 확인되었으며, 이 이론은 현대 물리학의 핵심적인 부분으로 자리잡고 있습니다.\\nHuman: hi\\nAI: 안녕\""
      ]
     },
     "execution_count": 21,
     "metadata": {},
     "output_type": "execute_result"
    }
   ],
   "source": [
    "conversation.memory.load_memory_variables({})[\"history\"]"
   ]
  },
  {
   "cell_type": "code",
   "execution_count": null,
   "id": "8944b2d8",
   "metadata": {},
   "outputs": [],
   "source": [
    "print(conversation.invoke({\"input\": \"불렛포인트 형식으로 작성해줘. emoji 추가해줘.\"}))"
   ]
  },
  {
   "cell_type": "markdown",
   "id": "71b9fc9b",
   "metadata": {},
   "source": [
    "## streaming: 실시간 출력\n"
   ]
  },
  {
   "cell_type": "markdown",
   "id": "065f00fa",
   "metadata": {},
   "source": [
    "스트리밍 방식으로 대화형 AI 모델을 구현합니다.\n",
    "\n",
    "`MyCustomHandler` 클래스는 `BaseCallbackHandler`를 상속받아, 새로운 토큰이 생성될 때마다 이를 출력하는 기능을 정의합니다.\n",
    "\n",
    "`ChatOpenAI` 의 스트리밍 모드를 활성화하고, 사용자 정의 핸들러인 `MyCustomHandler` 인스턴스를 콜백으로 설정합니다.\n",
    "\n",
    "- [참고 문서](https://python.langchain.com/docs/modules/callbacks/custom_callbacks)\n"
   ]
  },
  {
   "cell_type": "code",
   "execution_count": null,
   "id": "c9de6eae",
   "metadata": {},
   "outputs": [],
   "source": [
    "from langchain.callbacks.base import BaseCallbackHandler\n",
    "from langchain_openai import ChatOpenAI\n",
    "\n",
    "\n",
    "class MyCustomHandler(BaseCallbackHandler):\n",
    "    def on_llm_new_token(self, token: str, **kwargs) -> None:\n",
    "        print(f\"{token}\", end=\"\", flush=True)\n",
    "\n",
    "\n",
    "# 스트리밍을 활성화하기 위해, ChatModel 생성자에 `streaming=True`를 전달합니다.\n",
    "# 추가적으로, 사용자 정의 핸들러 리스트를 전달합니다.\n",
    "stream_llm = ChatOpenAI(\n",
    "    model=\"gpt-4-turbo-preview\", streaming=True, callbacks=[MyCustomHandler()]\n",
    ")\n",
    "\n",
    "conversation = ConversationChain(\n",
    "    llm=stream_llm,\n",
    "    verbose=False,\n",
    "    memory=ConversationBufferMemory(),\n",
    ")"
   ]
  },
  {
   "cell_type": "markdown",
   "id": "3e8e28da",
   "metadata": {},
   "source": [
    "`conversation.predict` 메소드는 주어진 입력에 대한 예측 결과를 반환합니다. 이 예시에서는 '양자역학에 대해 설명해줘'라는 문자열을 입력으로 사용하며, 해당 입력에 대한 예측 결과를 `output` 변수에 저장합니다. 이 과정은 AI 기반 대화 시스템에서 특정 주제에 대한 설명을 요청하는 방법을 보여줍니다.\n"
   ]
  },
  {
   "cell_type": "code",
   "execution_count": null,
   "id": "4ea00c48",
   "metadata": {},
   "outputs": [],
   "source": [
    "output = conversation.predict(input=\"양자역학에 대해 설명해줘\")"
   ]
  },
  {
   "cell_type": "markdown",
   "id": "28c445e8",
   "metadata": {},
   "source": [
    "이 함수는 `conversation.predict`를 사용하여 주어진 입력(`input`)을 분석하고, 그 결과를 불렛포인트 형식으로 요약하여 반환합니다. 여기서 `input` 파라미터는 요약하고자 하는 텍스트를 나타냅니다. 이 방식은 텍스트 기반 AI 모델을 활용하여 주어진 내용을 요약하는 데 유용하게 사용될 수 있습니다.\n"
   ]
  },
  {
   "cell_type": "code",
   "execution_count": null,
   "id": "c13cdf92",
   "metadata": {},
   "outputs": [],
   "source": [
    "output = conversation.predict(\n",
    "    input=\"이전의 내용을 불렛포인트로 요약해줘. emoji 추가해줘.\"\n",
    ")"
   ]
  },
  {
   "cell_type": "markdown",
   "id": "e124c812",
   "metadata": {},
   "source": [
    "### Prompt 튜닝\n"
   ]
  },
  {
   "cell_type": "markdown",
   "id": "d4561153",
   "metadata": {},
   "source": [
    "이 코드는 `langchain.prompts`에서 `PromptTemplate` 클래스를 가져와 사용합니다. `PromptTemplate`는 템플릿 기반의 프롬프트를 생성하는 데 사용되며, 여기서는 엑셀 전문가와의 대화를 시뮬레이션하는 템플릿을 정의합니다. 템플릿에는 대화 내용(`context`)과 사용자의 질문(`question`)이 포함되어 있으며, 이 두 변수는 `PromptTemplate` 생성자에 `input_variables`로 전달됩니다. 이를 통해, 주어진 대화 내용과 질문에 기반한 엑셀 전문가의 답변을 생성하는 프롬프트가 만들어집니다.\n"
   ]
  },
  {
   "cell_type": "code",
   "execution_count": 22,
   "id": "3f4cd2f3",
   "metadata": {},
   "outputs": [],
   "source": [
    "from langchain.prompts import PromptTemplate\n",
    "\n",
    "template = \"\"\"\n",
    "당신은 10년차 엑셀 전문가 입니다. 아래 대화내용을 보고 질문에 대한 적절한 답변을 해주세요\n",
    "\n",
    "#대화내용\n",
    "{chat_history}\n",
    "----\n",
    "사용자: {question}\n",
    "엑셀전문가:\"\"\"\n",
    "\n",
    "prompt = PromptTemplate.from_template(template)"
   ]
  },
  {
   "cell_type": "code",
   "execution_count": 24,
   "id": "32b9652b",
   "metadata": {},
   "outputs": [
    {
     "data": {
      "text/plain": [
       "PromptTemplate(input_variables=['question'], partial_variables={'chat_history': '엑셀에서 데이터를 필터링하는 방법에 대해 알려주세요.'}, template='\\n당신은 10년차 엑셀 전문가 입니다. 아래 대화내용을 보고 질문에 대한 적절한 답변을 해주세요\\n\\n#대화내용\\n{chat_history}\\n----\\n사용자: {question}\\n엑셀전문가:')"
      ]
     },
     "execution_count": 24,
     "metadata": {},
     "output_type": "execute_result"
    }
   ],
   "source": [
    "prompt.partial(chat_history=\"엑셀에서 데이터를 필터링하는 방법에 대해 알려주세요.\")"
   ]
  },
  {
   "cell_type": "markdown",
   "id": "64ae9021",
   "metadata": {},
   "source": [
    "이 함수는 `ConversationChain` 클래스의 인스턴스를 생성합니다. 여기서 `llm`은 언어 모델을, `prompt`는 대화의 시작점을, `memory`는 대화의 맥락을 저장하는 메모리 버퍼를, `input_key`는 사용자 입력을 받는 키를, 그리고 `verbose`는 상세한 로깅을 활성화할지 여부를 지정합니다. 특히, `memory`는 `ConversationBufferMemory` 클래스를 사용하여 `memory_key`를 통해 어떤 정보를 기억할지 결정합니다.\n"
   ]
  },
  {
   "cell_type": "code",
   "execution_count": null,
   "id": "52d5a0a6",
   "metadata": {},
   "outputs": [],
   "source": [
    "conversation = ConversationChain(\n",
    "    llm=stream_llm,\n",
    "    prompt=prompt,\n",
    "    memory=ConversationBufferMemory(memory_key=\"chat_history\"),\n",
    "    input_key=\"question\",\n",
    ")"
   ]
  },
  {
   "cell_type": "markdown",
   "id": "8e845d0d",
   "metadata": {},
   "source": [
    "이 함수는 `conversation.predict`를 호출하여, 사용자가 제공한 질문에 대한 예측된 답변을 반환합니다. 여기서, `question` 매개변수는 질문의 내용을 문자열로 받습니다. 예시에서는 \"엑셀에서 VLOOKUP 함수는 무엇인가요? 간단하게 설명해주세요\"라는 질문을 처리하고 있습니다.\n"
   ]
  },
  {
   "cell_type": "code",
   "execution_count": null,
   "id": "390927af",
   "metadata": {},
   "outputs": [],
   "source": [
    "answer = conversation.predict(\n",
    "    question=\"엑셀에서 VLOOKUP 함수는 무엇인가요? 간단하게 설명해주세요\"\n",
    ")"
   ]
  },
  {
   "cell_type": "markdown",
   "id": "8ea08e13",
   "metadata": {},
   "source": [
    "`conversation.predict` 함수는 주어진 질문에 대한 예측을 수행합니다. 이 함수는 `question` 매개변수를 통해 질문을 입력받으며, 이 예제에서는 \"예제를 보여주세요\"라는 질문에 대한 예측 결과를 반환합니다.\n"
   ]
  },
  {
   "cell_type": "code",
   "execution_count": null,
   "id": "fc17d454",
   "metadata": {},
   "outputs": [],
   "source": [
    "answer = conversation.predict(question=\"예제를 보여주세요\")"
   ]
  },
  {
   "cell_type": "markdown",
   "id": "c01d6309",
   "metadata": {},
   "source": [
    "## Human Prefix & AI Prefix 변경\n",
    "\n",
    "다음 방법은 대화 요약에서 휴먼 접두사를 변경하는 것입니다.\n",
    "\n",
    "기본적으로 이 접두사는 \"사람\"으로 설정되어 있지만 원하는 대로 변경할 수 있습니다.\n",
    "\n",
    "이 접두사를 변경하는 경우 체인에서 사용되는 프롬프트도 이 이름 변경을 반영하도록 변경해야 한다는 점에 유의하세요.\n"
   ]
  },
  {
   "cell_type": "markdown",
   "id": "e337854c",
   "metadata": {},
   "source": [
    "이 함수는 사용자로부터 엑셀 관련 질문(`question`)과 그 질문의 맥락(`context`)을 입력받아, 10년차 엑셀 전문가로서의 답변을 준비하는 템플릿을 생성합니다. `PromptTemplate` 클래스는 입력 변수(`input_variables`)와 템플릿(`template`)을 인자로 받아 인스턴스를 생성합니다. 이 인스턴스는 엑셀 관련 질문에 대한 답변을 생성하는 데 사용될 수 있습니다.\n"
   ]
  },
  {
   "cell_type": "code",
   "execution_count": null,
   "id": "8ef32a10",
   "metadata": {},
   "outputs": [],
   "source": [
    "template = \"\"\"\n",
    "당신은 10년차 엑셀 전문가 입니다. 아래 대화내용을 보고 질문에 대한 적절한 답변을 해주세요\n",
    "\n",
    "#대화내용\n",
    "{context}\n",
    "----\n",
    "🌱고객: {question}\n",
    "🤖전문가:\"\"\"\n",
    "\n",
    "prompt = PromptTemplate.from_template(template)"
   ]
  },
  {
   "cell_type": "markdown",
   "id": "2fc7005c",
   "metadata": {},
   "source": [
    "`ConversationBufferMemory` 클래스는 대화의 맥락을 관리하는 데 사용됩니다. 이 클래스의 인스턴스를 생성할 때, `memory_key`는 대화의 맥락을 저장하는 키로 사용되며, `human_prefix`와 `ai_prefix`는 각각 사람과 AI가 말하는 부분에 붙는 접두사로 설정됩니다. 이를 통해 대화 내용을 더 명확하게 구분할 수 있습니다.\n"
   ]
  },
  {
   "cell_type": "code",
   "execution_count": null,
   "id": "c27ce3bb",
   "metadata": {},
   "outputs": [],
   "source": [
    "memory = ConversationBufferMemory(\n",
    "    memory_key=\"context\",  # 대화의 맥락을 저장하는 키\n",
    "    human_prefix=\"🌱고객\",  # 사람이 말하는 부분에 붙는 접두사\n",
    "    ai_prefix=\"🤖전문가\",  # AI가 말하는 부분에 붙는 접두사\n",
    ")"
   ]
  },
  {
   "cell_type": "markdown",
   "id": "7ce9aebd",
   "metadata": {},
   "source": [
    "이 함수는 `ConversationChain` 클래스의 인스턴스를 생성합니다. 여기서 `llm`은 언어 모델을, `prompt`는 사용자 입력을, `memory`는 대화의 이전 상태를 저장하는 데 사용됩니다. `input_key`는 입력 데이터의 키를 지정하며, `verbose`는 로깅의 상세도를 조절합니다. 이 구성을 통해 대화형 AI 시스템에서의 연속적인 대화 관리가 가능해집니다.\n"
   ]
  },
  {
   "cell_type": "code",
   "execution_count": null,
   "id": "fcb185e2",
   "metadata": {},
   "outputs": [],
   "source": [
    "conversation = ConversationChain(\n",
    "    llm=stream_llm,\n",
    "    prompt=prompt,\n",
    "    memory=memory,\n",
    "    input_key=\"question\",\n",
    "    verbose=False,\n",
    ")"
   ]
  },
  {
   "cell_type": "markdown",
   "id": "224611e1",
   "metadata": {},
   "source": [
    "이 함수는 `conversation.predict`을 사용하여 특정 질문에 대한 대화형 응답을 실행합니다.\n",
    "\n",
    "여기서는 \"엑셀에서 VLOOKUP 함수는 무엇인가요? 간단하게 설명해주세요\"라는 질문을 전달하고 있습니다.\n",
    "\n",
    "`VLOOKUP` 함수에 대한 설명을 요청하는 간단한 예시로, 대화형 AI 또는 챗봇 프로그래밍에서 사용될 수 있습니다.\n"
   ]
  },
  {
   "cell_type": "code",
   "execution_count": null,
   "id": "da574b36",
   "metadata": {},
   "outputs": [],
   "source": [
    "answer = conversation.predict(\n",
    "    question=\"엑셀에서 VLOOKUP 함수는 무엇인가요? 간단하게 설명해주세요\"\n",
    ")"
   ]
  },
  {
   "cell_type": "code",
   "execution_count": null,
   "id": "34072357",
   "metadata": {},
   "outputs": [],
   "source": [
    "answer = conversation.predict(question=\"쉬운 예제를 보여줄 수 있나요?\")"
   ]
  },
  {
   "cell_type": "markdown",
   "id": "dea62636",
   "metadata": {},
   "source": [
    "`memory.load_memory_variables`를 호출하여 메모리에 저장된 변수들을 로드합니다.(전체 대화내용 출력)\n",
    "\n",
    "호출 시, 빈 딕셔너리 `{}`를 인자로 전달하며, 결과적으로 `'context'` 키에 해당하는 값을 출력합니다.\n",
    "\n",
    "이 과정은 특정 메모리 상태를 확인하거나 디버깅할 때 유용하게 사용될 수 있습니다.\n"
   ]
  },
  {
   "cell_type": "code",
   "execution_count": null,
   "id": "dfe24eef",
   "metadata": {},
   "outputs": [],
   "source": [
    "print(\n",
    "    memory.load_memory_variables({})[\"context\"]\n",
    ")  # 빈 딕셔너리를 인자로 받아 메모리 변수를 로드하고, 'context' 키에 해당하는 값을 출력합니다."
   ]
  }
 ],
 "metadata": {
  "kernelspec": {
   "display_name": "py-test",
   "language": "python",
   "name": "python3"
  },
  "language_info": {
   "codemirror_mode": {
    "name": "ipython",
    "version": 3
   },
   "file_extension": ".py",
   "mimetype": "text/x-python",
   "name": "python",
   "nbconvert_exporter": "python",
   "pygments_lexer": "ipython3",
   "version": "3.10.13"
  }
 },
 "nbformat": 4,
 "nbformat_minor": 5
}
