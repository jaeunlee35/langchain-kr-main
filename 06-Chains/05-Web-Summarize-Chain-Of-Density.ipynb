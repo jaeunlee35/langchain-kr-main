{
 "cells": [
  {
   "cell_type": "code",
   "execution_count": 1,
   "metadata": {},
   "outputs": [
    {
     "data": {
      "text/plain": [
       "True"
      ]
     },
     "execution_count": 1,
     "metadata": {},
     "output_type": "execute_result"
    }
   ],
   "source": [
    "# API 키를 환경변수로 관리하기 위한 설정 파일\n",
    "from dotenv import load_dotenv\n",
    "\n",
    "# API 키 정보 로드\n",
    "load_dotenv()"
   ]
  },
  {
   "cell_type": "markdown",
   "metadata": {},
   "source": [
    "Chain of Density: https://arxiv.org/pdf/2309.04269.pdf\n"
   ]
  },
  {
   "cell_type": "code",
   "execution_count": 1,
   "metadata": {},
   "outputs": [
    {
     "name": "stdout",
     "output_type": "stream",
     "text": [
      "```json\n",
      "[\n",
      "    {\n",
      "        \"Missing_Entities\": \"\",\n",
      "        \"Denser_Summary\": \"이 기사는 데이터사이언스, 머신러닝, 인공지능에 대한 개념을 설명하고 있습니다. 박정현 서울대 EPM 연구원이 작성한 이 글에서는 이 세 분야가 우리 생활에 어떻게 적용되고 있는지, 그리고 이 분야들을 공부하고자 하는 사람들을 위한 가이드를 제공하고자 합니다. 특히, 데이터사이언스가 가장 넓은 범위를 가지고 있으며, 머신러닝과 인공지능이 이 안에서 어떻게 서로 연결되어 있는지를 설명합니다. 또한, 이 분야들이 어떻게 빠르게 발전하고 있는지, 그리고 이에 대한 기본적인 이해를 돕기 위해 여러 예시와 함께 설명하고 있습니다.\"\n",
      "    },\n",
      "    {\n",
      "        \"Missing_Entities\": \"튜링테스트; 지도학습; 비지도 학습\",\n",
      "        \"Denser_Summary\": \"박정현 서울대 EPM 연구원이 작성한 이 글은 데이터사이언스, 머신러닝, 인공지능의 개념과 실생활 적용 예를 설명합니다. 데이터사이언스가 가장 넓은 범위를 가지며, 머신러닝과 인공지능은 이 안에서 연결됩니다. 인공지능의 이해를 위해 '튜링테스트'가 언급되며, 머신러닝은 '지도학습'과 '비지도 학습'으로 구분되어 설명됩니다. 이 글은 이 분야들의 발전 속도와 기본적인 이해를 돕기 위한 예시를 제공하며, 이 분야를 공부하고자 하는 사람들에게 유용한 정보를 담고 있습니다.\"\n",
      "    },\n",
      "    {\n",
      "        \"Missing_Entities\": \"약한 인공지능; 강한 인공지능; k-means\",\n",
      "        \"Denser_Summary\": \"박정현 서울대 EPM 연구원의 글은 데이터사이언스, 머신러닝, 인공지능의 정의와 적용을 다룹니다. 데이터사이언스는 가장 넓은 범위를 가지며, 머신러닝은 '지도학습'과 '비지도 학습'으로 나뉩니다. 인공지능은 '튜링테스트'로 설명되며, '약한 인공지능'과 '강한 인공지능'으로 구분됩니다. 비지도 학습의 예로 'k-means' 알고리즘이 언급됩니다. 이 글은 이 분야의 발전과 기본 개념을 이해하기 위한 예시를 제공하며, 관련 분야에 관심 있는 이들에게 유용한 정보를 제공합니다.\"\n",
      "    },\n",
      "    {\n",
      "        \"Missing_Entities\": \"신용카드 결제 데이터; 이상값 검출; 강화학습\",\n",
      "        \"Denser_Summary\": \"박정현 서울대 EPM 연구원의 글은 데이터사이언스, 머신러닝, 인공지능의 정의와 적용 예를 소개합니다. 데이터사이언스는 가장 넓은 범위, 머신러닝은 '지도학습', '비지도 학습'으로 나뉘며, 인공지능은 '튜링테스트', '약한 인공지능', '강한 인공지능'으로 구분됩니다. 'k-means'와 같은 비지도 학습 알고리즘, '신용카드 결제 데이터'에서의 '이상값 검출', '강화학습' 등이 언급됩니다. 이 글은 이 분야의 발전과 기본 개념을 이해하기 위한 예시를 제공하며, 관련 분야에 관심 있는 이들에게 유용한 정보를 제공합니다.\"\n",
      "    },\n",
      "    {\n",
      "        \"Missing_Entities\": \"룰 기반 시스템; machine learning 기반 시스템\",\n",
      "        \"Denser_Summary\": \"박정현 서울대 EPM 연구원의 글은 데이터사이언스, 머신러닝, 인공지능의 정의와 적용 예를 소개합니다. 데이터사이언스는 가장 넓은 범위, 머신러닝은 '지도학습', '비지도 학습'으로 나뉘며, 인공지능은 '튜링테스트', '약한 인공지능', '강한 인공지능'으로 구분됩니다. 'k-means', '신용카드 결제 데이터'에서의 '이상값 검출', '강화학습' 등이 언급됩니다. 또한, '룰 기반 시스템'과 'machine learning 기반 시스템'의 차이가 설명됩니다. 이 글은 이 분야의 발전과 기본 개념을 이해하기 위한 예시를 제공하며, 관련 분야에 관심 있는 이들에게 유용한 정보를 제공합니다.\"\n",
      "    }\n",
      "]\n",
      "```박정현 서울대 EPM 연구원의 글은 데이터사이언스, 머신러닝, 인공지능의 정의와 적용 예를 소개합니다. 데이터사이언스는 가장 넓은 범위, 머신러닝은 '지도학습', '비지도 학습'으로 나뉘며, 인공지능은 '튜링테스트', '약한 인공지능', '강한 인공지능'으로 구분됩니다. 'k-means', '신용카드 결제 데이터'에서의 '이상값 검출', '강화학습' 등이 언급됩니다. 또한, '룰 기반 시스템'과 'machine learning 기반 시스템'의 차이가 설명됩니다. 이 글은 이 분야의 발전과 기본 개념을 이해하기 위한 예시를 제공하며, 관련 분야에 관심 있는 이들에게 유용한 정보를 제공합니다.\n"
     ]
    }
   ],
   "source": [
    "from langchain import hub\n",
    "from langchain_openai import ChatOpenAI\n",
    "from langchain_core.output_parsers import JsonOutputParser\n",
    "from langchain.document_loaders import WebBaseLoader\n",
    "from langchain.callbacks.base import BaseCallbackHandler\n",
    "\n",
    "\n",
    "# Load some data to summarize\n",
    "loader = WebBaseLoader(\"https://www.aitimes.com/news/articleView.html?idxno=131777\")\n",
    "docs = loader.load()\n",
    "content = docs[0].page_content\n",
    "\n",
    "\n",
    "class StreamCallback(BaseCallbackHandler):\n",
    "    def on_llm_new_token(self, token, **kwargs):\n",
    "        print(token, end=\"\", flush=True)\n",
    "\n",
    "\n",
    "prompt = hub.pull(\"teddynote/chain-of-density-korean\")\n",
    "\n",
    "# Create the chain, including\n",
    "chain = (\n",
    "    prompt\n",
    "    | ChatOpenAI(\n",
    "        temperature=0,\n",
    "        model=\"gpt-4-turbo-preview\",\n",
    "        streaming=True,\n",
    "        callbacks=[StreamCallback()],\n",
    "    )\n",
    "    | JsonOutputParser()\n",
    "    | (lambda x: x[-1][\"Denser_Summary\"])\n",
    ")\n",
    "\n",
    "# Invoke the chain\n",
    "result = chain.invoke({\"ARTICLE\": content})\n",
    "print(result)"
   ]
  }
 ],
 "metadata": {
  "kernelspec": {
   "display_name": "py-test",
   "language": "python",
   "name": "python3"
  },
  "language_info": {
   "codemirror_mode": {
    "name": "ipython",
    "version": 3
   },
   "file_extension": ".py",
   "mimetype": "text/x-python",
   "name": "python",
   "nbconvert_exporter": "python",
   "pygments_lexer": "ipython3",
   "version": "3.10.13"
  }
 },
 "nbformat": 4,
 "nbformat_minor": 2
}
