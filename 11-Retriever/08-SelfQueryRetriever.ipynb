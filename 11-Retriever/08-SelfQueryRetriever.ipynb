{
 "cells": [
  {
   "cell_type": "markdown",
   "id": "5a03e0f7",
   "metadata": {},
   "source": [
    "# 셀프 쿼리(Self-querying)\n",
    "\n",
    "`SelfQueryRetriever` 는 자체적으로 질문을 생성하고 해결할 수 있는 기능을 갖춘 검색 도구입니다. 이는 사용자가 제공한 자연어 질의를 바탕으로, query-constructing LLM chain을 사용해 구조화된 질의를 만듭니다. 그 후, 이 구조화된 질의를 기본 벡터 데이터 저장소(VectorStore)에 적용하여 검색을 수행합니다.\n",
    "\n",
    "이 과정을 통해, `SelfQueryRetriever` 는 단순히 사용자의 입력 질의를 저장된 문서의 내용과 의미적으로 비교하는 것을 넘어서, 사용자의 질의에서 문서의 메타데이터에 대한 필터를 추출하고, 이 필터를 실행하여 관련된 문서를 찾을 수 있습니다. 이를 통해, 사용자의 질의에 대한 더 정확하고 관련성 높은 결과를 제공할 수 있게 됩니다.\n",
    "\n",
    "[참고]\n",
    "\n",
    "- LangChain 이 지원하는 셀프 쿼리 번역기(Self-query Retriever) 목록은 [여기](https://python.langchain.com/docs/integrations/retrievers/self_query) 에서 확인해 주시기 바랍니다.\n"
   ]
  },
  {
   "cell_type": "markdown",
   "id": "ddb5395d",
   "metadata": {},
   "source": [
    "## 시작하기\n",
    "\n",
    "데모를 위해 `Chroma` vector store를 사용할 예정입니다. 이번 튜토리얼에서는 영화 요약이 포함된 작은 데모 문서 세트를 만들었습니다.\n",
    "\n",
    "**참고:** `SelfQueryRetriever` 를 사용하려면 `lark` 패키지를 설치해야 합니다.\n"
   ]
  },
  {
   "cell_type": "code",
   "execution_count": null,
   "id": "949df8aa",
   "metadata": {},
   "outputs": [],
   "source": [
    "# 설치\n",
    "%pip install -qU lark chromadb"
   ]
  },
  {
   "cell_type": "markdown",
   "id": "b96636f8",
   "metadata": {},
   "source": [
    "영화 설명과 메타데이터를 기반으로 유사도 검색이 가능한 벡터 저장소가 구축합니다.\n",
    "\n",
    "- `Document` 클래스를 사용하여 영화에 대한 간략한 설명과 메타데이터를 포함하는 문서 객체 리스트인 `docs`를 생성합니다.\n",
    "- `OpenAIEmbeddings`를 사용하여 문서 임베딩을 생성합니다.\n",
    "- `Chroma.from_documents` 메서드를 사용하여 `docs`와 `OpenAIEmbeddings`로부터 Chroma 벡터 저장소인 `vectorstore`를 생성합니다.\n"
   ]
  },
  {
   "cell_type": "code",
   "execution_count": 1,
   "id": "19f836a1",
   "metadata": {},
   "outputs": [],
   "source": [
    "from langchain_community.vectorstores import Chroma\n",
    "from langchain_core.documents import Document\n",
    "from langchain_openai import OpenAIEmbeddings\n",
    "\n",
    "\n",
    "docs = [\n",
    "    Document(\n",
    "        page_content=\"A bunch of scientists bring back dinosaurs and mayhem breaks loose\",\n",
    "        metadata={\"year\": 1993, \"rating\": 7.7, \"genre\": \"science fiction\"},\n",
    "    ),\n",
    "    Document(\n",
    "        page_content=\"Leo DiCaprio gets lost in a dream within a dream within a dream within a ...\",\n",
    "        metadata={\"year\": 2010, \"director\": \"Christopher Nolan\", \"rating\": 8.2},\n",
    "    ),\n",
    "    Document(\n",
    "        page_content=\"A psychologist / detective gets lost in a series of dreams within dreams within dreams and Inception reused the idea\",\n",
    "        metadata={\"year\": 2006, \"director\": \"Satoshi Kon\", \"rating\": 8.6},\n",
    "    ),\n",
    "    Document(\n",
    "        page_content=\"A bunch of normal-sized women are supremely wholesome and some men pine after them\",\n",
    "        metadata={\"year\": 2019, \"director\": \"Greta Gerwig\", \"rating\": 8.3},\n",
    "    ),\n",
    "    Document(\n",
    "        page_content=\"Toys come alive and have a blast doing so\",\n",
    "        metadata={\"year\": 1995, \"genre\": \"animated\"},\n",
    "    ),\n",
    "    Document(\n",
    "        page_content=\"Three men walk into the Zone, three men walk out of the Zone\",\n",
    "        metadata={\n",
    "            \"year\": 1979,\n",
    "            \"director\": \"Andrei Tarkovsky\",\n",
    "            \"genre\": \"thriller\",\n",
    "            \"rating\": 9.9,\n",
    "        },\n",
    "    ),\n",
    "]\n",
    "vectorstore = Chroma.from_documents(docs, OpenAIEmbeddings())"
   ]
  },
  {
   "cell_type": "markdown",
   "id": "781d49bf",
   "metadata": {},
   "source": [
    "## SelfQueryRetriever 생성하기\n",
    "\n",
    "이제 retriever를 인스턴스화할 수 있습니다. 이를 위해서는 문서가 지원하는 **메타데이터 필드** 와 문서 내용에 대한 **간단한 설명을 미리 제공** 해야 합니다.\n"
   ]
  },
  {
   "cell_type": "markdown",
   "id": "3d43f000",
   "metadata": {},
   "source": [
    "`AttributeInfo` 클래스를 사용하여 영화 메타데이터 필드에 대한 정보를 정의합니다.\n",
    "\n",
    "- 장르(`genre`): 문자열 타입, 영화의 장르를 나타내며 ['science fiction', 'comedy', 'drama', 'thriller', 'romance', 'action', 'animated'] 중 하나의 값을 가집니다.\n",
    "- 연도(`year`): 정수 타입, 영화가 개봉된 연도를 나타냅니다.\n",
    "- 감독(`director`): 문자열 타입, 영화 감독의 이름을 나타냅니다.\n",
    "- 평점(`rating`): 실수 타입, 1-10 범위의 영화 평점을 나타냅니다.\n"
   ]
  },
  {
   "cell_type": "code",
   "execution_count": 14,
   "id": "8dd17e37",
   "metadata": {},
   "outputs": [],
   "source": [
    "from langchain.chains.query_constructor.base import AttributeInfo\n",
    "from langchain.retrievers.self_query.base import SelfQueryRetriever\n",
    "from langchain_openai import ChatOpenAI\n",
    "\n",
    "metadata_field_info = [\n",
    "    AttributeInfo(\n",
    "        name=\"genre\",\n",
    "        description=\"The genre of the movie. One of ['science fiction', 'comedy', 'drama', 'thriller', 'romance', 'action', 'animated']\",\n",
    "        type=\"string\",\n",
    "    ),\n",
    "    AttributeInfo(\n",
    "        name=\"year\",\n",
    "        description=\"The year the movie was released\",\n",
    "        type=\"integer\",\n",
    "    ),\n",
    "    AttributeInfo(\n",
    "        name=\"director\",\n",
    "        description=\"The name of the movie director\",\n",
    "        type=\"string\",\n",
    "    ),\n",
    "    AttributeInfo(\n",
    "        name=\"rating\", description=\"A 1-10 rating for the movie\", type=\"float\"\n",
    "    ),\n",
    "]"
   ]
  },
  {
   "cell_type": "markdown",
   "id": "7ba0f672",
   "metadata": {},
   "source": [
    "`document_content_description` 변수에 영화에 대한 간략한 요약 설명을 할당합니다.\n"
   ]
  },
  {
   "cell_type": "code",
   "execution_count": 16,
   "id": "d85f2a33",
   "metadata": {},
   "outputs": [],
   "source": [
    "# 문서의 내용에 대한 간략한 설명\n",
    "document_content_description = \"Brief summary of a movie\""
   ]
  },
  {
   "cell_type": "markdown",
   "id": "00be94e2",
   "metadata": {},
   "source": [
    "`SelfQueryRetriever.from_llm()` 메서드를 사용하여 `retriever` 객체를 생성합니다.\n",
    "\n",
    "- `llm`: 언어 모델\n",
    "- `vectorstore`: 벡터 저장소\n",
    "- `document_content_description`: 문서 내용 설명\n",
    "- `metadata_field_info`: 메타데이터 필드 정보\n"
   ]
  },
  {
   "cell_type": "code",
   "execution_count": 17,
   "id": "b1fb20bf",
   "metadata": {},
   "outputs": [],
   "source": [
    "# LLM 정의\n",
    "llm = ChatOpenAI(model=\"gpt-4-turbo-preview\", temperature=0)\n",
    "\n",
    "# SelfQueryRetriever 생성\n",
    "retriever = SelfQueryRetriever.from_llm(\n",
    "    llm,\n",
    "    vectorstore,\n",
    "    document_content_description,\n",
    "    metadata_field_info,\n",
    ")"
   ]
  },
  {
   "cell_type": "markdown",
   "id": "427dfb18",
   "metadata": {},
   "source": [
    "## 테스트\n",
    "\n",
    "이제 우리가 만든 retriever를 실제로 사용해 볼 수 있습니다!\n"
   ]
  },
  {
   "cell_type": "markdown",
   "id": "0d8b8e57",
   "metadata": {},
   "source": [
    "`retriever` 객체의 `invoke` 메서드를 호출하여 필터링된 검색을 수행합니다.\n",
    "\n",
    "- 검색 쿼리로 \"I want to watch a movie rated higher than 8.5\" 를 전달하여 평점이 8.5 이상인 영화를 검색하도록 지정합니다.\n"
   ]
  },
  {
   "cell_type": "code",
   "execution_count": 18,
   "id": "a59b1e5c",
   "metadata": {},
   "outputs": [
    {
     "data": {
      "text/plain": [
       "[Document(page_content='Three men walk into the Zone, three men walk out of the Zone', metadata={'director': 'Andrei Tarkovsky', 'genre': 'thriller', 'rating': 9.9, 'year': 1979}),\n",
       " Document(page_content='A psychologist / detective gets lost in a series of dreams within dreams within dreams and Inception reused the idea', metadata={'director': 'Satoshi Kon', 'rating': 8.6, 'year': 2006})]"
      ]
     },
     "execution_count": 18,
     "metadata": {},
     "output_type": "execute_result"
    }
   ],
   "source": [
    "# 8.5 이상의 평점을 받은 영화를 보고 싶다는 필터만 지정합니다.\n",
    "retriever.invoke(\"I want to watch a movie rated higher than 8.5\")"
   ]
  },
  {
   "cell_type": "markdown",
   "id": "ef384e13",
   "metadata": {},
   "source": [
    "질의 내용은 \"Has Greta Gerwig directed any movies about women\"으로, Greta Gerwig가 여성에 관한 영화를 연출했는지 묻는 질문입니다.\n"
   ]
  },
  {
   "cell_type": "code",
   "execution_count": 19,
   "id": "0cf6368b",
   "metadata": {},
   "outputs": [
    {
     "data": {
      "text/plain": [
       "[Document(page_content='A bunch of normal-sized women are supremely wholesome and some men pine after them', metadata={'director': 'Greta Gerwig', 'rating': 8.3, 'year': 2019})]"
      ]
     },
     "execution_count": 19,
     "metadata": {},
     "output_type": "execute_result"
    }
   ],
   "source": [
    "# Greta Gerwig가 여성에 관한 영화를 연출한 적이 있는지 질의합니다.\n",
    "retriever.invoke(\"Has Greta Gerwig directed any movies about women\")"
   ]
  },
  {
   "cell_type": "markdown",
   "id": "f6f620da",
   "metadata": {},
   "source": [
    "이번 쿼리에서는 **복합 필터(composite filter)** 를 사용하여 검색 조건을 지정했음을 알 수 있습니다.\n",
    "\n",
    "- 복합 필터: rating above 8.5, science fiction\n"
   ]
  },
  {
   "cell_type": "code",
   "execution_count": 20,
   "id": "172ddf61",
   "metadata": {},
   "outputs": [
    {
     "data": {
      "text/plain": [
       "[]"
      ]
     },
     "execution_count": 20,
     "metadata": {},
     "output_type": "execute_result"
    }
   ],
   "source": [
    "# 8.5 이상의 평점을 가진 SF 영화를 검색하는 복합 필터를 지정합니다.\n",
    "retriever.invoke(\"What's a highly rated (above 8.5) science fiction film?\")"
   ]
  },
  {
   "cell_type": "markdown",
   "id": "a5cea901",
   "metadata": {},
   "source": [
    "이 질의 역시 복합 필터를 사용하여 검색 결과를 필터링합니다.\n",
    "\n",
    "- 복합 필터: 1990 ~ 2005년, 장난관 관련 영화, 에니메이션 영화 선호\n"
   ]
  },
  {
   "cell_type": "code",
   "execution_count": null,
   "id": "20f38f98",
   "metadata": {},
   "outputs": [],
   "source": [
    "# 에러가 발생하는 쿼리\n",
    "retriever.invoke(\n",
    "    # 1990년 이후 2005년 이전에 제작된 장난감에 관한 영화를 검색하며, 애니메이션 영화를 선호한다는 쿼리와 복합 필터를 지정합니다.\n",
    "    \"What's a movie after 1990 but before 2005 that's all about toys, and preferably is animated\"\n",
    ")"
   ]
  },
  {
   "cell_type": "markdown",
   "id": "99190ec9",
   "metadata": {},
   "source": [
    "하지만, retriever.invoke()를 호출할 때마다 에러가 발생합니다.\n",
    "\n",
    "이 문제를 해결하기 위한 방법은 노트북의 제일 하단에 나옵니다.\n"
   ]
  },
  {
   "cell_type": "markdown",
   "id": "2af3ea60",
   "metadata": {},
   "source": [
    "## K 계수 필터링\n",
    "\n",
    "`k`는 가져올 문서의 수를 의미합니다.\n",
    "\n",
    "`SelfQueryRetriever`를 사용하여 `k`를 지정할 수도 있습니다. 이는 생성자에 `enable_limit=True`를 전달하여 수행할 수 있습니다.\n"
   ]
  },
  {
   "cell_type": "markdown",
   "id": "565a01b2",
   "metadata": {},
   "source": [
    "`SelfQueryRetriever` 클래스를 사용하여 `retriever` 객체를 생성합니다.\n",
    "\n",
    "- `document_content_description`: 문서 내용에 대한 설명\n",
    "- `metadata_field_info`: 메타데이터 필드 정보\n",
    "- `enable_limit`: 검색 결과 제한 여부\n"
   ]
  },
  {
   "cell_type": "markdown",
   "id": "6a25fa42",
   "metadata": {},
   "source": [
    "(방법1) 아래의 경우는 `search_kwargs={\"k\": 2}` 을 명시적으로 지정하여 2개의 검색 결과를 반환하도록 지정합니다.\n"
   ]
  },
  {
   "cell_type": "code",
   "execution_count": 29,
   "id": "959cc5f4",
   "metadata": {},
   "outputs": [
    {
     "data": {
      "text/plain": [
       "[Document(page_content='A bunch of scientists bring back dinosaurs and mayhem breaks loose', metadata={'genre': 'science fiction', 'rating': 7.7, 'year': 1993}),\n",
       " Document(page_content='Toys come alive and have a blast doing so', metadata={'genre': 'animated', 'year': 1995})]"
      ]
     },
     "execution_count": 29,
     "metadata": {},
     "output_type": "execute_result"
    }
   ],
   "source": [
    "retriever = SelfQueryRetriever.from_llm(\n",
    "    llm,  # 언어 모델(Language Model)을 지정합니다.\n",
    "    vectorstore,  # 벡터 저장소(Vector Store)를 지정합니다.\n",
    "    document_content_description,  # 문서 내용에 대한 설명을 지정합니다.\n",
    "    metadata_field_info,  # 메타데이터 필드 정보를 지정합니다.\n",
    "    enable_limit=True,  # 검색 결과 제한 기능을 활성화합니다.\n",
    "    search_kwargs={\"k\": 2},  # k 의 값을 2로 지정하여 검색 결과를 2개로 제한합니다.\n",
    ")\n",
    "\n",
    "# 공룡에 관한 두 영화가 무엇인지 질의합니다.\n",
    "retriever.invoke(\"What are movies about dinosaurs\")"
   ]
  },
  {
   "cell_type": "markdown",
   "id": "ed520315",
   "metadata": {},
   "source": [
    "하지만 코드로 명시적으로 `search_kwargs`를 지정하지 않고 query 에서 `two, three` 등의 숫자를 사용하여 검색 결과를 제한할 수 있습니다.\n"
   ]
  },
  {
   "cell_type": "code",
   "execution_count": 30,
   "id": "9b4cabe1",
   "metadata": {},
   "outputs": [
    {
     "data": {
      "text/plain": [
       "[Document(page_content='A bunch of scientists bring back dinosaurs and mayhem breaks loose', metadata={'genre': 'science fiction', 'rating': 7.7, 'year': 1993}),\n",
       " Document(page_content='Toys come alive and have a blast doing so', metadata={'genre': 'animated', 'year': 1995})]"
      ]
     },
     "execution_count": 30,
     "metadata": {},
     "output_type": "execute_result"
    }
   ],
   "source": [
    "retriever = SelfQueryRetriever.from_llm(\n",
    "    llm,  # 언어 모델(Language Model)을 지정합니다.\n",
    "    vectorstore,  # 벡터 저장소(Vector Store)를 지정합니다.\n",
    "    document_content_description,  # 문서 내용에 대한 설명을 지정합니다.\n",
    "    metadata_field_info,  # 메타데이터 필드 정보를 지정합니다.\n",
    "    enable_limit=True,  # 검색 결과 제한 기능을 활성화합니다.\n",
    ")\n",
    "\n",
    "# 공룡에 관한 두 영화가 무엇인지 질의합니다.(two)\n",
    "retriever.invoke(\"What are two movies about dinosaurs\")"
   ]
  },
  {
   "cell_type": "markdown",
   "id": "1653b222",
   "metadata": {},
   "source": [
    "하나만 반환하도록 질의 내용을 조금 수정해 보겠습니다.\n"
   ]
  },
  {
   "cell_type": "code",
   "execution_count": 31,
   "id": "9af3a1ab",
   "metadata": {},
   "outputs": [
    {
     "data": {
      "text/plain": [
       "[Document(page_content='A bunch of scientists bring back dinosaurs and mayhem breaks loose', metadata={'genre': 'science fiction', 'rating': 7.7, 'year': 1993})]"
      ]
     },
     "execution_count": 31,
     "metadata": {},
     "output_type": "execute_result"
    }
   ],
   "source": [
    "# 공룡에 관한 두 영화가 무엇인지 질의합니다.(one)\n",
    "retriever.invoke(\"What are one movies about dinosaurs\")"
   ]
  },
  {
   "cell_type": "markdown",
   "id": "72a35c08",
   "metadata": {},
   "source": [
    "## LCEL을 사용하여 Chain 구성하기\n",
    "\n",
    "내부에서 어떤 일이 일어나는지 확인하고 더 많은 사용자 정의 제어를 하기 위해, 우리는 retriever를 처음부터 재구성할 수 있습니다.\n",
    "\n",
    "먼저, query-construction chain을 생성해야 합니다.\n",
    "\n",
    "이 chain은 사용자 query를 받아 사용자가 지정한 필터를 캡처하는 `StructuredQuery` 객체를 생성합니다.\n"
   ]
  },
  {
   "cell_type": "markdown",
   "id": "4a5e8059",
   "metadata": {},
   "source": [
    "### ① 구조화된 쿼리 생성기(query_constructor) 생성\n"
   ]
  },
  {
   "cell_type": "markdown",
   "id": "13881ef6",
   "metadata": {},
   "source": [
    "`get_query_constructor_prompt` 함수를 사용하여 쿼리 생성기 프롬프트를 가져옵니다.\n",
    "\n",
    "- 이 함수는 `document_content_description`과 `metadata_field_info`를 인자로 받습니다.\n",
    "\n",
    "`StructuredQueryOutputParser.from_components()` 메서드를 사용하여 구조화된 쿼리 출력 파서를 초기화합니다.\n",
    "\n",
    "- 쿼리 생성기 프롬프트(`prompt`)와 언어 모델(`llm`), 그리고 출력 파서(`output_parser`)를 파이프라인으로 연결하여 `query_constructor`를 생성합니다.\n",
    "- 이 파이프라인은 프롬프트에 따라 쿼리를 생성하고, 언어 모델을 통해 처리한 후, 출력 파서를 사용하여 구조화된 형식으로 변환합니다.\n"
   ]
  },
  {
   "cell_type": "code",
   "execution_count": 32,
   "id": "8e9b180d",
   "metadata": {},
   "outputs": [],
   "source": [
    "from langchain.chains.query_constructor.base import (\n",
    "    StructuredQueryOutputParser,\n",
    "    get_query_constructor_prompt,\n",
    ")\n",
    "\n",
    "# 문서 내용 설명과 메타데이터 필드 정보를 사용하여 쿼리 생성기 프롬프트를 가져옵니다.\n",
    "prompt = get_query_constructor_prompt(\n",
    "    document_content_description,\n",
    "    metadata_field_info,\n",
    ")\n",
    "\n",
    "# 구성 요소에서 구조화된 쿼리 출력 파서를 생성합니다.\n",
    "output_parser = StructuredQueryOutputParser.from_components()\n",
    "\n",
    "# 프롬프트, 언어 모델, 출력 파서를 연결하여 쿼리 생성기를 만듭니다.\n",
    "query_constructor = prompt | llm | output_parser"
   ]
  },
  {
   "cell_type": "markdown",
   "id": "dd7e94a2",
   "metadata": {},
   "source": [
    "`prompt.format()` 메서드를 사용하여 `query` 매개변수에 \"dummy question\" 문자열을 전달하고 그 결과를 출력하여 Prompt 내용을 확인해 보겠습니다.\n"
   ]
  },
  {
   "cell_type": "code",
   "execution_count": 33,
   "id": "74bc86da",
   "metadata": {},
   "outputs": [
    {
     "name": "stdout",
     "output_type": "stream",
     "text": [
      "Your goal is to structure the user's query to match the request schema provided below.\n",
      "\n",
      "<< Structured Request Schema >>\n",
      "When responding use a markdown code snippet with a JSON object formatted in the following schema:\n",
      "\n",
      "```json\n",
      "{\n",
      "    \"query\": string \\ text string to compare to document contents\n",
      "    \"filter\": string \\ logical condition statement for filtering documents\n",
      "}\n",
      "```\n",
      "\n",
      "The query string should contain only text that is expected to match the contents of documents. Any conditions in the filter should not be mentioned in the query as well.\n",
      "\n",
      "A logical condition statement is composed of one or more comparison and logical operation statements.\n",
      "\n",
      "A comparison statement takes the form: `comp(attr, val)`:\n",
      "- `comp` (eq | ne | gt | gte | lt | lte | contain | like | in | nin): comparator\n",
      "- `attr` (string):  name of attribute to apply the comparison to\n",
      "- `val` (string): is the comparison value\n",
      "\n",
      "A logical operation statement takes the form `op(statement1, statement2, ...)`:\n",
      "- `op` (and | or | not): logical operator\n",
      "- `statement1`, `statement2`, ... (comparison statements or logical operation statements): one or more statements to apply the operation to\n",
      "\n",
      "Make sure that you only use the comparators and logical operators listed above and no others.\n",
      "Make sure that filters only refer to attributes that exist in the data source.\n",
      "Make sure that filters only use the attributed names with its function names if there are functions applied on them.\n",
      "Make sure that filters only use format `YYYY-MM-DD` when handling date data typed values.\n",
      "Make sure that filters take into account the descriptions of attributes and only make comparisons that are feasible given the type of data being stored.\n",
      "Make sure that filters are only used as needed. If there are no filters that should be applied return \"NO_FILTER\" for the filter value.\n",
      "\n",
      "<< Example 1. >>\n",
      "Data Source:\n",
      "```json\n",
      "{\n",
      "    \"content\": \"Lyrics of a song\",\n",
      "    \"attributes\": {\n",
      "        \"artist\": {\n",
      "            \"type\": \"string\",\n",
      "            \"description\": \"Name of the song artist\"\n",
      "        },\n",
      "        \"length\": {\n",
      "            \"type\": \"integer\",\n",
      "            \"description\": \"Length of the song in seconds\"\n",
      "        },\n",
      "        \"genre\": {\n",
      "            \"type\": \"string\",\n",
      "            \"description\": \"The song genre, one of \"pop\", \"rock\" or \"rap\"\"\n",
      "        }\n",
      "    }\n",
      "}\n",
      "```\n",
      "\n",
      "User Query:\n",
      "What are songs by Taylor Swift or Katy Perry about teenage romance under 3 minutes long in the dance pop genre\n",
      "\n",
      "Structured Request:\n",
      "```json\n",
      "{\n",
      "    \"query\": \"teenager love\",\n",
      "    \"filter\": \"and(or(eq(\\\"artist\\\", \\\"Taylor Swift\\\"), eq(\\\"artist\\\", \\\"Katy Perry\\\")), lt(\\\"length\\\", 180), eq(\\\"genre\\\", \\\"pop\\\"))\"\n",
      "}\n",
      "```\n",
      "\n",
      "\n",
      "<< Example 2. >>\n",
      "Data Source:\n",
      "```json\n",
      "{\n",
      "    \"content\": \"Lyrics of a song\",\n",
      "    \"attributes\": {\n",
      "        \"artist\": {\n",
      "            \"type\": \"string\",\n",
      "            \"description\": \"Name of the song artist\"\n",
      "        },\n",
      "        \"length\": {\n",
      "            \"type\": \"integer\",\n",
      "            \"description\": \"Length of the song in seconds\"\n",
      "        },\n",
      "        \"genre\": {\n",
      "            \"type\": \"string\",\n",
      "            \"description\": \"The song genre, one of \"pop\", \"rock\" or \"rap\"\"\n",
      "        }\n",
      "    }\n",
      "}\n",
      "```\n",
      "\n",
      "User Query:\n",
      "What are songs that were not published on Spotify\n",
      "\n",
      "Structured Request:\n",
      "```json\n",
      "{\n",
      "    \"query\": \"\",\n",
      "    \"filter\": \"NO_FILTER\"\n",
      "}\n",
      "```\n",
      "\n",
      "\n",
      "<< Example 3. >>\n",
      "Data Source:\n",
      "```json\n",
      "{\n",
      "    \"content\": \"Brief summary of a movie\",\n",
      "    \"attributes\": {\n",
      "    \"genre\": {\n",
      "        \"description\": \"The genre of the movie. One of ['science fiction', 'comedy', 'drama', 'thriller', 'romance', 'action', 'animated']\",\n",
      "        \"type\": \"string\"\n",
      "    },\n",
      "    \"year\": {\n",
      "        \"description\": \"The year the movie was released\",\n",
      "        \"type\": \"integer\"\n",
      "    },\n",
      "    \"director\": {\n",
      "        \"description\": \"The name of the movie director\",\n",
      "        \"type\": \"string\"\n",
      "    },\n",
      "    \"rating\": {\n",
      "        \"description\": \"A 1-10 rating for the movie\",\n",
      "        \"type\": \"float\"\n",
      "    }\n",
      "}\n",
      "}\n",
      "```\n",
      "\n",
      "User Query:\n",
      "dummy question\n",
      "\n",
      "Structured Request:\n",
      "\n"
     ]
    }
   ],
   "source": [
    "# prompt 문자열에 query 매개변수를 \"dummy question\"으로 설정하여 포맷팅한 결과를 출력합니다.\n",
    "print(prompt.format(query=\"dummy question\"))"
   ]
  },
  {
   "cell_type": "markdown",
   "id": "5e9d0f92",
   "metadata": {},
   "source": [
    "`query_constructor.invoke()` 메서드를 호출하여 주어진 쿼리에 대한 처리를 수행합니다.\n"
   ]
  },
  {
   "cell_type": "code",
   "execution_count": 34,
   "id": "bc33a7ac",
   "metadata": {},
   "outputs": [
    {
     "data": {
      "text/plain": [
       "StructuredQuery(query='taxi drivers', filter=Operation(operator=<Operator.AND: 'and'>, arguments=[Comparison(comparator=<Comparator.EQ: 'eq'>, attribute='genre', value='science fiction'), Comparison(comparator=<Comparator.GTE: 'gte'>, attribute='year', value=1990), Comparison(comparator=<Comparator.LTE: 'lte'>, attribute='year', value=1999), Comparison(comparator=<Comparator.EQ: 'eq'>, attribute='director', value='Luc Besson')]), limit=None)"
      ]
     },
     "execution_count": 34,
     "metadata": {},
     "output_type": "execute_result"
    }
   ],
   "source": [
    "query_constructor.invoke(\n",
    "    {\n",
    "        # 쿼리 생성기를 호출하여 주어진 질문에 대한 쿼리를 생성합니다.\n",
    "        \"query\": \"What are some sci-fi movies from the 90's directed by Luc Besson about taxi drivers\"\n",
    "    }\n",
    ")"
   ]
  },
  {
   "cell_type": "markdown",
   "id": "7f762ab4",
   "metadata": {},
   "source": [
    "Self-query retriever의 핵심 요소는 query constructor입니다. 훌륭한 검색 시스템을 만들기 위해서는 query constructor가 잘 작동하도록 해야 합니다.\n",
    "\n",
    "이를 위해서는 **프롬프트(Prompt), 프롬프트 내의 예시, 속성 설명 등을 조정** 해야 합니다.\n",
    "\n",
    "[참고]\n",
    "\n",
    "- 호텔 인벤토리 데이터에 대한 query constructor를 개선하는 과정을 보여주는 예시는 [쿡북 튜토리얼](https://github.com/langchain-ai/langchain/blob/master/cookbook/self_query_hotel_search.ipynb)을 참조하세요.\n"
   ]
  },
  {
   "cell_type": "markdown",
   "id": "6422bc8b",
   "metadata": {},
   "source": [
    "### ② 구조화된 쿼리 변환기(Structured Query Translator)를 사용하여 구조화된 쿼리로 변환\n"
   ]
  },
  {
   "cell_type": "markdown",
   "id": "a88986cf",
   "metadata": {},
   "source": [
    "다음으로 중요한 요소는 structured query translator입니다. 이는 일반적인 `StructuredQuery` 객체를 사용 중인 vector store의 구문에 맞는 메타데이터 필터로 변환하는 역할을 담당합니다.\n"
   ]
  },
  {
   "cell_type": "markdown",
   "id": "573a648c",
   "metadata": {},
   "source": [
    "`SelfQueryRetriever`를 사용하여 질문에 대한 답변을 생성하는 검색기를 구현합니다.\n",
    "\n",
    "- `query_constructor`를 사용하여 질문을 구성합니다.\n",
    "- `vectorstore`를 사용하여 벡터 저장소에 접근합니다.\n",
    "- `ChromaTranslator`를 사용하여 구조화된 질의를 Chroma 벡터 저장소에 맞게 변환합니다.\n"
   ]
  },
  {
   "cell_type": "code",
   "execution_count": 11,
   "id": "a4d228d3",
   "metadata": {},
   "outputs": [],
   "source": [
    "from langchain.retrievers.self_query.chroma import ChromaTranslator\n",
    "\n",
    "retriever = SelfQueryRetriever(\n",
    "    query_constructor=query_constructor, # 이전에 생성한 쿼리 생성기\n",
    "    vectorstore=vectorstore, # 벡터 저장소를 지정\n",
    "    structured_query_translator=ChromaTranslator(), # 쿼리 변환기"
   ]
  },
  {
   "cell_type": "markdown",
   "id": "941b5561",
   "metadata": {},
   "source": [
    "`retriever.invoke()` 메서드를 사용하여 주어진 질문에 대한 답변을 생성합니다.\n"
   ]
  },
  {
   "cell_type": "code",
   "execution_count": 36,
   "id": "ad4b4199",
   "metadata": {},
   "outputs": [
    {
     "data": {
      "text/plain": [
       "[Document(page_content='Toys come alive and have a blast doing so', metadata={'genre': 'animated', 'year': 1995})]"
      ]
     },
     "execution_count": 36,
     "metadata": {},
     "output_type": "execute_result"
    }
   ],
   "source": [
    "retriever.invoke(\n",
    "    # 1990년 이후 2005년 이전에 제작된 장난감에 관한 영화를 검색하며, 애니메이션 영화가 선호됩니다.\n",
    "    \"What's a movie after 1990 but before 2005 that's all about toys, and preferably is animated\"\n",
    ")"
   ]
  },
  {
   "cell_type": "markdown",
   "id": "923942e8",
   "metadata": {},
   "source": [
    "이렇게 구조화된 쿼리 생성기 + 쿼리 변환기를 사용하여 오류 없이 데이터를 필터링하고 검색할 수 있습니다.\n"
   ]
  }
 ],
 "metadata": {
  "kernelspec": {
   "display_name": "py-test",
   "language": "python",
   "name": "python3"
  },
  "language_info": {
   "codemirror_mode": {
    "name": "ipython",
    "version": 3
   },
   "file_extension": ".py",
   "mimetype": "text/x-python",
   "name": "python",
   "nbconvert_exporter": "python",
   "pygments_lexer": "ipython3",
   "version": "3.10.13"
  }
 },
 "nbformat": 4,
 "nbformat_minor": 5
}
