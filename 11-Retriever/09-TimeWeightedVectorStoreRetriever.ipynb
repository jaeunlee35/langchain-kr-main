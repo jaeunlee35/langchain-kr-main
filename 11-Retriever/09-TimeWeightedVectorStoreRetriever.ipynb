{
 "cells": [
  {
   "cell_type": "markdown",
   "id": "34c2df92",
   "metadata": {},
   "source": [
    "# 시간 가중 벡터저장소 리트리버(TimeWeightedVectorStoreRetriever)\n",
    "\n",
    "`TimeWeightedVectorStoreRetriever` 는 의미론적 유사성과 시간에 따른 감쇠를 결합해 사용하는 검색 도구입니다. 이를 통해 문서 또는 데이터의 **\"신선함\"** 과 **\"관련성\"** 을 모두 고려하여 결과를 제공합니다.\n",
    "\n",
    "스코어링 알고리즘은 다음과 같이 구성됩니다\n",
    "\n",
    "$\\text{semantic\\_similarity} + (1.0 - \\text{decay\\_rate})^{hours\\_passed}$\n",
    "\n",
    "여기서 `semantic_similarity` 는 문서 또는 데이터 간의 의미적 유사도를 나타내고, `decay_rate` 는 시간이 지남에 따라 점수가 얼마나 감소하는지를 나타내는 비율입니다. `hours_passed` 는 객체가 마지막으로 접근된 후부터 현재까지 경과한 시간(시간 단위)을 의미합니다.\n",
    "\n",
    "이 방식의 주요 특징은, 객체가 마지막으로 접근된 시간을 기준으로 하여 **\"정보의 신선함\"** 을 평가한다는 점입니다. 즉, **자주 접근되는 객체는 시간이 지나도 높은 점수**를 유지하며, 이를 통해 **자주 사용되거나 중요하게 여겨지는 정보가 검색 결과 상위에 위치할 가능성이 높아집니다.** 이런 방식은 최신성과 관련성을 모두 고려하는 동적인 검색 결과를 제공합니다.\n",
    "\n",
    "특히, `decay_rate`는 리트리버의 객체가 생성된 이후가 아니라 \\*\\*마지막으로 액세스된 이후 경과된 시간을 의미합니다. 즉, 자주 액세스하는 객체는 '최신'으로 유지됩니다.\n"
   ]
  },
  {
   "cell_type": "markdown",
   "id": "19c49b55",
   "metadata": {},
   "source": [
    "패키지를 업그레이드 합니다.\n"
   ]
  },
  {
   "cell_type": "code",
   "execution_count": 1,
   "id": "a60393de",
   "metadata": {},
   "outputs": [
    {
     "name": "stdout",
     "output_type": "stream",
     "text": [
      "Note: you may need to restart the kernel to use updated packages.\n"
     ]
    }
   ],
   "source": [
    "%pip install -qU deeplake lark"
   ]
  },
  {
   "cell_type": "markdown",
   "id": "a5571b5e",
   "metadata": {},
   "source": [
    "필요한 모듈을 import 합니다.\n"
   ]
  },
  {
   "cell_type": "code",
   "execution_count": 2,
   "id": "6def083d",
   "metadata": {},
   "outputs": [],
   "source": [
    "from datetime import datetime, timedelta\n",
    "\n",
    "import faiss\n",
    "from langchain.docstore import InMemoryDocstore\n",
    "from langchain.retrievers import TimeWeightedVectorStoreRetriever\n",
    "from langchain_community.vectorstores import FAISS\n",
    "from langchain_core.documents import Document\n",
    "from langchain_openai import OpenAIEmbeddings"
   ]
  },
  {
   "cell_type": "markdown",
   "id": "4c902d1d",
   "metadata": {},
   "source": [
    "## 낮은 감쇠율(low decay_rate)\n",
    "\n",
    "- `decay rate` 가 낮다는 것은 (여기서는 극단적으로 0에 가깝게 설정할 것입니다) **기억이 더 오래 \"기억될\"** 것임을 의미합니다.\n",
    "\n",
    "- `decay rate` 가 **0 이라는 것은 기억이 절대 잊혀지지 않는다**는 것을 의미하며, 이는 이 retriever를 vector lookup과 동등하게 만듭니다.\n"
   ]
  },
  {
   "cell_type": "markdown",
   "id": "ebfa7615",
   "metadata": {},
   "source": [
    "`TimeWeightedVectorStoreRetriever`를 초기화하며, 벡터 저장소, 감쇠율(`decay_rate`)을 매우 작은 값으로 설정하고, 검색할 벡터의 개수(k)를 1로 지정합니다.\n"
   ]
  },
  {
   "cell_type": "code",
   "execution_count": 3,
   "id": "7c335260",
   "metadata": {},
   "outputs": [],
   "source": [
    "# 임베딩 모델을 정의합니다.\n",
    "embeddings_model = OpenAIEmbeddings()\n",
    "# 벡터 저장소를 빈 상태로 초기화합니다.\n",
    "embedding_size = 1536\n",
    "index = faiss.IndexFlatL2(embedding_size)\n",
    "vectorstore = FAISS(embeddings_model, index, InMemoryDocstore({}), {})\n",
    "# 시간 가중치가 적용된 벡터 저장소 검색기를 초기화합니다.\n",
    "retriever = TimeWeightedVectorStoreRetriever(\n",
    "    vectorstore=vectorstore, decay_rate=0.0000000000000000000000001, k=1\n",
    ")"
   ]
  },
  {
   "cell_type": "markdown",
   "id": "71553731",
   "metadata": {},
   "source": [
    "`retriever.add_documents()` 메서드를 사용하여 \"hello world\" 문자열을 가진 `Document` 객체를 추가하며, 메타데이터로 `last_accessed_at`에 어제 시간을 설정합니다.\n",
    "\n",
    "다시 `retriever.add_documents()` 메서드를 사용하여 \"hello foo\" 문자열을 가진 `Document` 객체를 추가합니다.\n"
   ]
  },
  {
   "cell_type": "code",
   "execution_count": 4,
   "id": "51d7ad5d",
   "metadata": {},
   "outputs": [
    {
     "data": {
      "text/plain": [
       "['d3c2b942-2fa2-4d78-9c87-931fbbc7646d']"
      ]
     },
     "execution_count": 4,
     "metadata": {},
     "output_type": "execute_result"
    }
   ],
   "source": [
    "yesterday = datetime.now() - timedelta(days=1)  # 어제 날짜를 계산합니다.\n",
    "retriever.add_documents(\n",
    "    # \"hello world\" 내용의 문서를 추가하고, 메타데이터에 어제 날짜를 설정합니다.\n",
    "    [Document(page_content=\"hello world\", metadata={\n",
    "              \"last_accessed_at\": yesterday})]\n",
    ")\n",
    "# \"hello foo\" 내용의 문서를 추가합니다.\n",
    "retriever.add_documents([Document(page_content=\"hello foo\")])"
   ]
  },
  {
   "cell_type": "markdown",
   "id": "a8e1fe4f",
   "metadata": {},
   "source": [
    "`retriever.get_relevant_documents(\"hello world\")` 메서드를 호출하여 \"hello world\"와 관련된 문서를 검색합니다.\n",
    "\n",
    "- \"Hello World\"가 가장 먼저 반환되는데, 이는 가장 두드러진(salient) 문서이기 때문입니다.\n",
    "- `decay_rate` 가 **0에 가깝기 때문** 에 \"Hello World\" 문서는 여전히 최신(recent)으로 간주됩니다.\n"
   ]
  },
  {
   "cell_type": "code",
   "execution_count": 5,
   "id": "63912716",
   "metadata": {},
   "outputs": [
    {
     "data": {
      "text/plain": [
       "[Document(page_content='hello world', metadata={'last_accessed_at': datetime.datetime(2024, 3, 23, 0, 25, 31, 137309), 'created_at': datetime.datetime(2024, 3, 23, 0, 25, 30, 544821), 'buffer_idx': 0})]"
      ]
     },
     "execution_count": 5,
     "metadata": {},
     "output_type": "execute_result"
    }
   ],
   "source": [
    "# \"Hello World\"가 가장 먼저 반환되는 이유는 가장 두드러지기 때문이며, 감쇠율이 0에 가깝기 때문에 여전히 최신 상태를 유지하고 있음을 의미합니다.\n",
    "retriever.get_relevant_documents(\"hello world\")"
   ]
  },
  {
   "cell_type": "markdown",
   "id": "00c9b59e",
   "metadata": {},
   "source": [
    "## 높음 감쇠율(high decay_rate)\n",
    "\n",
    "높은 `decay_rate`(예: 0.9999...)를 사용하면 `recency score`가 빠르게 0으로 수렴합니다.\n",
    "\n",
    "(만약 이 값을 1로 설정하면 모든 객체의 `recency` 값이 0이 되어, Vector Lookup 과 동일한 결과를 얻게 됩니다.)\n"
   ]
  },
  {
   "cell_type": "markdown",
   "id": "2b64543a",
   "metadata": {},
   "source": [
    "`TimeWeightedVectorStoreRetriever`를 사용하여 검색기를 초기화합니다. `decay_rate`를 0.999로 설정하여 시간에 따른 가중치 감소율을 조정합니다.\n"
   ]
  },
  {
   "cell_type": "code",
   "execution_count": 6,
   "id": "2891e7d1",
   "metadata": {},
   "outputs": [],
   "source": [
    "# 임베딩 모델을 정의합니다.\n",
    "embeddings_model = OpenAIEmbeddings()\n",
    "# 벡터 저장소를 빈 상태로 초기화합니다.\n",
    "embedding_size = 1536\n",
    "index = faiss.IndexFlatL2(embedding_size)\n",
    "vectorstore = FAISS(embeddings_model, index, InMemoryDocstore({}), {})\n",
    "# 시간 가중치가 적용된 벡터 저장소 검색기를 초기화합니다.\n",
    "retriever = TimeWeightedVectorStoreRetriever(\n",
    "    vectorstore=vectorstore, decay_rate=0.999, k=1\n",
    ")"
   ]
  },
  {
   "cell_type": "markdown",
   "id": "70520527",
   "metadata": {},
   "source": [
    "`retriever.add_documents()` 메서드를 사용하여 \"hello world\" 문자열을 가진 `Document` 객체를 추가하며, 메타데이터로 `last_accessed_at`에 어제 시간을 설정합니다.\n",
    "\n",
    "다시 `retriever.add_documents()` 메서드를 사용하여 \"hello foo\" 문자열을 가진 `Document` 객체를 추가합니다.\n"
   ]
  },
  {
   "cell_type": "code",
   "execution_count": 7,
   "id": "227a4317",
   "metadata": {},
   "outputs": [
    {
     "data": {
      "text/plain": [
       "['076d7c8c-5ee3-4316-b201-55140bbb686f']"
      ]
     },
     "execution_count": 7,
     "metadata": {},
     "output_type": "execute_result"
    }
   ],
   "source": [
    "yesterday = datetime.now() - timedelta(days=1)  # 어제 날짜를 계산합니다.\n",
    "retriever.add_documents(\n",
    "    # \"hello world\" 내용의 문서를 추가하고, 메타데이터에 어제 날짜를 설정합니다.\n",
    "    [Document(page_content=\"hello world\", metadata={\n",
    "              \"last_accessed_at\": yesterday})]\n",
    ")\n",
    "# \"hello foo\" 내용의 문서를 추가합니다.\n",
    "retriever.add_documents([Document(page_content=\"hello foo\")])"
   ]
  },
  {
   "cell_type": "markdown",
   "id": "6293611d",
   "metadata": {},
   "source": [
    "- `retriever.get_relevant_documents(\"hello world\")` 를 호출하면 \"Hello Foo\"가 먼저 반환됩니다.\n",
    "- 이는 retriever가 \"hello world\"와 관련된 문서를 대부분 잊어버렸기 때문입니다.\n"
   ]
  },
  {
   "cell_type": "code",
   "execution_count": 8,
   "id": "9c85ae8b",
   "metadata": {},
   "outputs": [
    {
     "data": {
      "text/plain": [
       "[Document(page_content='hello foo', metadata={'last_accessed_at': datetime.datetime(2024, 3, 23, 0, 25, 31, 972916), 'created_at': datetime.datetime(2024, 3, 23, 0, 25, 31, 718842), 'buffer_idx': 1})]"
      ]
     },
     "execution_count": 8,
     "metadata": {},
     "output_type": "execute_result"
    }
   ],
   "source": [
    "# \"hello world\"와 가장 관련된 문서를 검색합니다.\n",
    "# \"Hello Foo\"가 먼저 반환되는 이유는 \"hello world\"가 대부분 잊혀졌기 때문입니다.\n",
    "retriever.get_relevant_documents(\"hello world\")"
   ]
  },
  {
   "cell_type": "markdown",
   "id": "3e625206",
   "metadata": {},
   "source": [
    "## 감쇠율(decay_rate) 정리\n",
    "\n",
    "- `decay_rate` 를 0.000001 로 매우 작게 설정한 경우: 감쇠율(즉, 정보를 망각하는 비율)이 매우 낮기 때문에 정보를 거의 잊지 않습니다. 따라서, **최신 정보이든 오래된 정보든 시간 가중치 차이가 거의 없습니다.** 이럴때는 유사도에 더 높은 점수를 주게 됩니다.\n",
    "- `decay_rate` 를 0.999 로 1에 가깝게 설정한 경우: 감쇠율(즉, 정보를 망각하는 비율)이 매우 높습니다. 따라서, 과거의 정보는 거의다 잊어버립니다. 따라서, 이러한 경우는 최신 정보에 더 높은 점수를 주게 됩니다.\n"
   ]
  },
  {
   "cell_type": "markdown",
   "id": "f3ad69d5",
   "metadata": {},
   "source": [
    "## 가상의 시간(Virtual time)\n",
    "\n",
    "LangChain의 일부 유틸리티를 사용하면 시간 구성 요소를 모의(mock) 테스트 할 수 있습니다.\n"
   ]
  },
  {
   "cell_type": "markdown",
   "id": "fce31486",
   "metadata": {},
   "source": [
    "`mock_now` 함수는 LangChain에서 제공하는 유틸리티 함수로, 현재 시간을 모의(mock)하는 데 사용됩니다.\n",
    "\n",
    "- 아래는 시간을 2023년 6월 8일로 설정해 보겠습니다.\n"
   ]
  },
  {
   "cell_type": "code",
   "execution_count": 9,
   "id": "081e96d0",
   "metadata": {},
   "outputs": [
    {
     "name": "stdout",
     "output_type": "stream",
     "text": [
      "2024-03-23 00:25:32.221079\n"
     ]
    }
   ],
   "source": [
    "import datetime\n",
    "\n",
    "from langchain.utils import mock_now\n",
    "\n",
    "# 현재 시간을 특정 시점으로 설정\n",
    "mock_now(datetime.datetime(2023, 6, 8, 0, 0, 0))\n",
    "\n",
    "# 현재 시간 출력\n",
    "print(datetime.datetime.now())"
   ]
  },
  {
   "cell_type": "markdown",
   "id": "1c13f983",
   "metadata": {},
   "source": [
    "`mock_now` 함수를 사용하여 현재 시간을 2024년 3월 28일 10시 11분으로 설정합니다.\n",
    "\n",
    "- `retriever.get_relevant_documents` 메서드를 호출하여 \"hello world\"라는 쿼리에 대한 관련 문서를 검색합니다.\n",
    "- 검색 결과를 출력합니다. 이때 문서의 마지막 접근 시간이 설정된 시간(2024년 3월 28일 10시 11분)으로 표시됩니다.\n"
   ]
  },
  {
   "cell_type": "code",
   "execution_count": 10,
   "id": "96bebb2e",
   "metadata": {},
   "outputs": [
    {
     "name": "stdout",
     "output_type": "stream",
     "text": [
      "[Document(page_content='hello world', metadata={'last_accessed_at': MockDateTime(2024, 3, 28, 10, 11), 'created_at': datetime.datetime(2024, 3, 23, 0, 25, 31, 454121), 'buffer_idx': 0})]\n"
     ]
    }
   ],
   "source": [
    "# 현재 시간을 2024년 6월 3일 10시 11분으로 설정합니다.\n",
    "with mock_now(datetime.datetime(2024, 3, 28, 10, 11)):\n",
    "    # \"hello world\"와 관련된 문서를 검색하고 출력합니다.\n",
    "    print(retriever.get_relevant_documents(\"hello world\"))"
   ]
  }
 ],
 "metadata": {
  "kernelspec": {
   "display_name": "py-test",
   "language": "python",
   "name": "python3"
  },
  "language_info": {
   "codemirror_mode": {
    "name": "ipython",
    "version": 3
   },
   "file_extension": ".py",
   "mimetype": "text/x-python",
   "name": "python",
   "nbconvert_exporter": "python",
   "pygments_lexer": "ipython3",
   "version": "3.10.13"
  }
 },
 "nbformat": 4,
 "nbformat_minor": 5
}
