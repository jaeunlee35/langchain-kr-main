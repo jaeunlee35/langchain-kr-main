{
 "cells": [
  {
   "cell_type": "markdown",
   "id": "d93110f5",
   "metadata": {},
   "source": [
    "# Runnables 구조 검토\n",
    "\n",
    "LCEL로 `runnable` 을 생성한 후에는 종종 이를 검사하여 어떤 일이 일어나고 있는지 더 잘 파악하고 싶을 것입니다.\n",
    "\n",
    "이 노트북에서는 이를 수행하는 몇 가지 방법을 다룹니다.\n"
   ]
  },
  {
   "cell_type": "code",
   "execution_count": null,
   "id": "312a1edb",
   "metadata": {},
   "outputs": [],
   "source": [
    "%pip install -qU langchain langchain-openai faiss-cpu tiktoken"
   ]
  },
  {
   "cell_type": "code",
   "execution_count": null,
   "id": "bef00242",
   "metadata": {},
   "outputs": [],
   "source": [
    "# 그래프를 그리기 위한 라이브러리 설치\n",
    "%pip install -qU grandalf"
   ]
  },
  {
   "cell_type": "code",
   "execution_count": 3,
   "id": "00b3453b",
   "metadata": {},
   "outputs": [],
   "source": [
    "from langchain.prompts import ChatPromptTemplate\n",
    "from langchain.vectorstores import FAISS\n",
    "from langchain_core.output_parsers import StrOutputParser\n",
    "from langchain_core.runnables import RunnableLambda, RunnablePassthrough\n",
    "from langchain_openai import ChatOpenAI, OpenAIEmbeddings\n",
    "\n",
    "vectorstore = FAISS.from_texts(\n",
    "    # 텍스트 데이터로부터 FAISS 벡터 저장소를 생성합니다.\n",
    "    [\"Teddy is an AI engineer who loves programming!\"],\n",
    "    embedding=OpenAIEmbeddings(),\n",
    ")\n",
    "\n",
    "# 벡터 저장소를 기반으로 retriever를 생성합니다.\n",
    "retriever = vectorstore.as_retriever()\n",
    "\n",
    "template = \"\"\"Answer the question based only on the following context:\n",
    "{context}  \n",
    "\n",
    "Question: {question}\"\"\"\n",
    "\n",
    "prompt = ChatPromptTemplate.from_template(\n",
    "    template\n",
    ")  # 템플릿을 기반으로 ChatPromptTemplate을 생성합니다.\n",
    "\n",
    "model = ChatOpenAI()  # ChatOpenAI 모델을 초기화합니다.\n",
    "\n",
    "# chain 을 생성합니다.\n",
    "chain = (\n",
    "    # 검색 컨텍스트와 질문을 지정합니다.\n",
    "    {\"context\": retriever, \"question\": RunnablePassthrough()}\n",
    "    | prompt  # 프롬프트를 생성합니다.\n",
    "    | model  # 언어 모델을 실행합니다.\n",
    "    | StrOutputParser()  # 출력 결과를 문자열로 파싱합니다.\n",
    ")"
   ]
  },
  {
   "cell_type": "markdown",
   "id": "4aebcc63",
   "metadata": {},
   "source": [
    "## 그래프 구성 확인\n",
    "\n",
    "runnable의 그래프를 얻을 수 있습니다.\n"
   ]
  },
  {
   "cell_type": "markdown",
   "id": "90b39c06",
   "metadata": {},
   "source": [
    "`chain.get_graph()` 메서드는 체인의 실행 그래프를 반환합니다.\n",
    "\n",
    "- 이 메서드는 체인의 각 노드와 노드 간의 연결을 나타내는 그래프 객체를 반환합니다.\n",
    "- 그래프의 노드는 체인의 각 단계를 나타내며, 에지(edge)는 단계 간의 데이터 흐름을 나타냅니다.\n"
   ]
  },
  {
   "cell_type": "code",
   "execution_count": 19,
   "id": "69d35d4d",
   "metadata": {},
   "outputs": [
    {
     "data": {
      "text/plain": [
       "{'46d23d1b25d6485daf44722926e09252': Node(id='46d23d1b25d6485daf44722926e09252', data=<class 'pydantic.v1.main.RunnableParallel<context,question>Input'>),\n",
       " '1d02513a446d49f9bd47bcc35a5b1a50': Node(id='1d02513a446d49f9bd47bcc35a5b1a50', data=<class 'pydantic.v1.main.RunnableParallel<context,question>Output'>),\n",
       " 'a19608744b9642efaab6b7d733f8589f': Node(id='a19608744b9642efaab6b7d733f8589f', data=VectorStoreRetriever(tags=['FAISS', 'OpenAIEmbeddings'], vectorstore=<langchain_community.vectorstores.faiss.FAISS object at 0x17346e920>)),\n",
       " '98f3a9f1ad46441f9608f67d427f0f97': Node(id='98f3a9f1ad46441f9608f67d427f0f97', data=RunnablePassthrough()),\n",
       " '989023b7f06f4755b13db7344ed30239': Node(id='989023b7f06f4755b13db7344ed30239', data=ChatPromptTemplate(input_variables=['context', 'question'], messages=[HumanMessagePromptTemplate(prompt=PromptTemplate(input_variables=['context', 'question'], template='Answer the question based only on the following context:\\n{context}  \\n\\nQuestion: {question}'))])),\n",
       " '57d87ab1a3d947d28f61b9cb31dc40d5': Node(id='57d87ab1a3d947d28f61b9cb31dc40d5', data=ChatOpenAI(client=<openai.resources.chat.completions.Completions object at 0x175209a20>, async_client=<openai.resources.chat.completions.AsyncCompletions object at 0x17520a170>, openai_api_key=SecretStr('**********'), openai_proxy='')),\n",
       " 'a2e44128ec594c2cb916d4ce3a3511b1': Node(id='a2e44128ec594c2cb916d4ce3a3511b1', data=StrOutputParser()),\n",
       " '260fd031d4e94988b155fc2d1b8b20ec': Node(id='260fd031d4e94988b155fc2d1b8b20ec', data=<class 'pydantic.v1.main.StrOutputParserOutput'>)}"
      ]
     },
     "execution_count": 19,
     "metadata": {},
     "output_type": "execute_result"
    }
   ],
   "source": [
    "# 체인의 그래프에서 노드를 가져옵니다.\n",
    "chain.get_graph().nodes"
   ]
  },
  {
   "cell_type": "code",
   "execution_count": 20,
   "id": "8aa8eedb",
   "metadata": {},
   "outputs": [
    {
     "data": {
      "text/plain": [
       "[Edge(source='565136c5356541828f1879296c6ba0d6', target='5810102acbf84bdeb6342cc5b3c54a30', data=None),\n",
       " Edge(source='5810102acbf84bdeb6342cc5b3c54a30', target='ecefd39e4d62439189527d8c424923e9', data=None),\n",
       " Edge(source='565136c5356541828f1879296c6ba0d6', target='4823ded9b1d3429992634ea5ec76a67b', data=None),\n",
       " Edge(source='4823ded9b1d3429992634ea5ec76a67b', target='ecefd39e4d62439189527d8c424923e9', data=None),\n",
       " Edge(source='ecefd39e4d62439189527d8c424923e9', target='f599128d839747678f3193eea303542b', data=None),\n",
       " Edge(source='f599128d839747678f3193eea303542b', target='bceabc5b2ba74ed5a59793cdf94e880a', data=None),\n",
       " Edge(source='bb73629324bb4138985a78eb606e4071', target='a6d9dec55c6540eeb4b47426bd4aaa6f', data=None),\n",
       " Edge(source='bceabc5b2ba74ed5a59793cdf94e880a', target='bb73629324bb4138985a78eb606e4071', data=None)]"
      ]
     },
     "execution_count": 20,
     "metadata": {},
     "output_type": "execute_result"
    }
   ],
   "source": [
    "# 체인의 그래프에서 엣지를 가져옵니다.\n",
    "chain.get_graph().edges"
   ]
  },
  {
   "cell_type": "markdown",
   "id": "69801031",
   "metadata": {},
   "source": [
    "## 그래프 출력\n",
    "\n",
    "그래프를 출력하면 이해하기 쉬운 형태로 표현할 수 있습니다.\n",
    "\n",
    "비록 출력 결과가 매우 읽기 쉽지는 않지만, 출력을 통해 보다 이해하기 쉬운 형태로 그래프를 확인할 수 있습니다.\n"
   ]
  },
  {
   "cell_type": "code",
   "execution_count": 11,
   "id": "a22c179d",
   "metadata": {},
   "outputs": [
    {
     "name": "stdout",
     "output_type": "stream",
     "text": [
      "           +---------------------------------+         \n",
      "           | Parallel<context,question>Input |         \n",
      "           +---------------------------------+         \n",
      "                    **               **                \n",
      "                 ***                   ***             \n",
      "               **                         **           \n",
      "+----------------------+              +-------------+  \n",
      "| VectorStoreRetriever |              | Passthrough |  \n",
      "+----------------------+              +-------------+  \n",
      "                    **               **                \n",
      "                      ***         ***                  \n",
      "                         **     **                     \n",
      "           +----------------------------------+        \n",
      "           | Parallel<context,question>Output |        \n",
      "           +----------------------------------+        \n",
      "                             *                         \n",
      "                             *                         \n",
      "                             *                         \n",
      "                  +--------------------+               \n",
      "                  | ChatPromptTemplate |               \n",
      "                  +--------------------+               \n",
      "                             *                         \n",
      "                             *                         \n",
      "                             *                         \n",
      "                      +------------+                   \n",
      "                      | ChatOpenAI |                   \n",
      "                      +------------+                   \n",
      "                             *                         \n",
      "                             *                         \n",
      "                             *                         \n",
      "                   +-----------------+                 \n",
      "                   | StrOutputParser |                 \n",
      "                   +-----------------+                 \n",
      "                             *                         \n",
      "                             *                         \n",
      "                             *                         \n",
      "                +-----------------------+              \n",
      "                | StrOutputParserOutput |              \n",
      "                +-----------------------+              \n"
     ]
    }
   ],
   "source": [
    "# 체인의 그래프를 ASCII 형식으로 출력합니다.\n",
    "chain.get_graph().print_ascii()"
   ]
  },
  {
   "cell_type": "markdown",
   "id": "413a6d11",
   "metadata": {},
   "source": [
    "## 프롬프트 가져오기\n",
    "\n",
    "체인에서 중요한 부분은 사용되는 프롬프트입니다.\n"
   ]
  },
  {
   "cell_type": "markdown",
   "id": "4ba41b1c",
   "metadata": {},
   "source": [
    "`chain.get_prompts()` 메서드는 체인에서 사용되는 프롬프트(prompt) 객체의 리스트를 반환합니다.\n"
   ]
  },
  {
   "cell_type": "code",
   "execution_count": 15,
   "id": "e8deea4a",
   "metadata": {},
   "outputs": [
    {
     "data": {
      "text/plain": [
       "[ChatPromptTemplate(input_variables=['context', 'question'], messages=[HumanMessagePromptTemplate(prompt=PromptTemplate(input_variables=['context', 'question'], template='Answer the question based only on the following context:\\n{context}  \\n\\nQuestion: {question}'))])]"
      ]
     },
     "execution_count": 15,
     "metadata": {},
     "output_type": "execute_result"
    }
   ],
   "source": [
    "chain.get_prompts()  # 체인에서 사용되는 프롬프트를 가져옵니다."
   ]
  }
 ],
 "metadata": {
  "kernelspec": {
   "display_name": "py-test",
   "language": "python",
   "name": "python3"
  },
  "language_info": {
   "codemirror_mode": {
    "name": "ipython",
    "version": 3
   },
   "file_extension": ".py",
   "mimetype": "text/x-python",
   "name": "python",
   "nbconvert_exporter": "python",
   "pygments_lexer": "ipython3",
   "version": "3.10.13"
  }
 },
 "nbformat": 4,
 "nbformat_minor": 5
}
