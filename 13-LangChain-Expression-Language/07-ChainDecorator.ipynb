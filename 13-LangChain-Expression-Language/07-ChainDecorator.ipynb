{
 "cells": [
  {
   "cell_type": "markdown",
   "id": "d2dfe30d",
   "metadata": {},
   "source": [
    "# @chain 데코레이터를 사용하여 Runnable 객체 생성\n",
    "\n",
    "`@chain` 데코레이터를 추가하여 임의의 함수를 체인으로 변환할 수 있습니다.\n",
    "\n",
    "이는 함수를 [`RunnableLambda`](./functions)로 래핑하는 것과 기능적으로 동일합니다.\n",
    "\n",
    "실제 동작을 살펴보겠습니다!\n"
   ]
  },
  {
   "cell_type": "code",
   "execution_count": null,
   "id": "5efc2e85",
   "metadata": {},
   "outputs": [],
   "source": [
    "%pip install -qU langchain langchain-openai"
   ]
  },
  {
   "cell_type": "code",
   "execution_count": 7,
   "id": "e4fff371",
   "metadata": {},
   "outputs": [],
   "source": [
    "import os\n",
    "\n",
    "# LangSmith 추적\n",
    "os.environ[\"LANGCHAIN_PROJECT\"] = \"Chain Decorator\""
   ]
  },
  {
   "cell_type": "code",
   "execution_count": 8,
   "id": "299991bd",
   "metadata": {},
   "outputs": [],
   "source": [
    "from langchain_core.output_parsers import StrOutputParser\n",
    "from langchain_core.prompts import ChatPromptTemplate\n",
    "from langchain_core.runnables import chain\n",
    "from langchain_openai import ChatOpenAI"
   ]
  },
  {
   "cell_type": "markdown",
   "id": "6a014941",
   "metadata": {},
   "source": [
    "`ChatPromptTemplate` 클래스를 사용하여 두 개의 프롬프트 템플릿을 정의합니다.\n",
    "\n",
    "- `prompt1` 은 주어진 주제에 대한 짧은 설명을, `prompt2` 는 영어로 번역해 달라는 요청 프롬프트 입니다.\n"
   ]
  },
  {
   "cell_type": "code",
   "execution_count": 15,
   "id": "c8c4558d",
   "metadata": {},
   "outputs": [],
   "source": [
    "# 프롬프트 템플릿을 정의합니다.\n",
    "prompt1 = ChatPromptTemplate.from_template(\"{topic} 에 대해 짧게 한글로 설명해주세요.\")\n",
    "prompt2 = ChatPromptTemplate.from_template(\n",
    "    \"{sentence} 를 emoji를 활용한 인스타그램 게시글로 만들어주세요.\"\n",
    ")"
   ]
  },
  {
   "cell_type": "markdown",
   "id": "ea7a7139",
   "metadata": {},
   "source": [
    "`custom_chain` 함수는 입력 텍스트를 기반으로 사용자 정의 체인을 실행합니다.\n",
    "\n",
    "- `@chain` 데코레이터로 사용자 정의 함수를 데코레이팅 하며, 데코레이팅을 통해 함수를 `Runnable` 한 객체로 만듭니다.\n"
   ]
  },
  {
   "cell_type": "code",
   "execution_count": 16,
   "id": "9cbe348c",
   "metadata": {},
   "outputs": [],
   "source": [
    "@chain\n",
    "def custom_chain(text):\n",
    "    # 첫 번째 프롬프트, ChatOpenAI, 문자열 출력 파서를 연결하여 체인을 생성합니다.\n",
    "    chain1 = prompt1 | ChatOpenAI() | StrOutputParser()\n",
    "    output1 = chain1.invoke({\"topic\": text})\n",
    "\n",
    "    # 두 번째 프롬프트, ChatOpenAI, 문자열 출력 파서를 연결하여 체인을 생성합니다.\n",
    "    chain2 = prompt2 | ChatOpenAI() | StrOutputParser()\n",
    "    # 두 번째 체인을 호출하여 파싱된 첫 번째 결과를 전달하고 최종 결과를 반환합니다.\n",
    "    return chain2.invoke({\"sentence\": output1})"
   ]
  },
  {
   "cell_type": "markdown",
   "id": "49859637",
   "metadata": {},
   "source": [
    "custom_chain은 이제 실행 가능한 객체(`runnable`)이므로, `invoke()` 를 사용하여 실행해야 합니다.\n",
    "\n",
    "- LangSmith 추적 기록을 확인해 보면, `custom_chain` 추적 정보가 있을 것이며, 그 아래에는 OpenAI 호출이 중첩되어 있을 것입니다.\n",
    "- [LangSmith 추적 링크](https://smith.langchain.com/public/17023c06-e53a-4711-a42a-2fbc51249883/r)\n"
   ]
  },
  {
   "cell_type": "code",
   "execution_count": 18,
   "id": "aeac1807",
   "metadata": {},
   "outputs": [
    {
     "name": "stdout",
     "output_type": "stream",
     "text": [
      "🔮✨🌌 양자역학의 신비로운 세계에 온 여러분! 🌌✨🔮 입자들의 확률적인 움직임과 파동으로서의 특성에 대한 물리학적 이론을 탐험해보세요! 🌟🌀💫 양자역학은 현대 물리학의 근간을 이루는 중요한 이론입니다. 💡🔬🌠 함께 양자 세계를 탐험해보세요! 🚀🔭🌟 #양자역학 #물리학 #파동입자이론 #신비로운세계 #현대과학 #인스타그램\n"
     ]
    }
   ],
   "source": [
    "# custom_chain을 호출\n",
    "print(custom_chain.invoke(\"양자역학\"))"
   ]
  }
 ],
 "metadata": {
  "kernelspec": {
   "display_name": "py-test",
   "language": "python",
   "name": "python3"
  },
  "language_info": {
   "codemirror_mode": {
    "name": "ipython",
    "version": 3
   },
   "file_extension": ".py",
   "mimetype": "text/x-python",
   "name": "python",
   "nbconvert_exporter": "python",
   "pygments_lexer": "ipython3",
   "version": "3.10.13"
  }
 },
 "nbformat": 4,
 "nbformat_minor": 5
}
