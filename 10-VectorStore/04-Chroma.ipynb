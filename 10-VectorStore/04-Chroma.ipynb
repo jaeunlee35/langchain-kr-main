{
 "cells": [
  {
   "cell_type": "markdown",
   "id": "2c915ceb",
   "metadata": {},
   "source": [
    "# Chroma\n",
    "\n",
    "> [Chroma](https://docs.trychroma.com/getting-started)는 개발자의 생산성에 초점을 맞춘 AI 기반의 오픈 소스 벡터 데이터베이스입니다. Chroma는 Apache 2.0 라이선스로 제공됩니다.\n",
    "\n",
    "Chroma를 설치하려면 다음 명령어를 사용하세요\n"
   ]
  },
  {
   "cell_type": "code",
   "execution_count": null,
   "id": "94c5c2fa",
   "metadata": {},
   "outputs": [],
   "source": [
    "%pip install -qU chromadb"
   ]
  },
  {
   "cell_type": "markdown",
   "id": "a7b5e110",
   "metadata": {},
   "source": [
    "Chroma는 다양한 모드로 실행될 수 있습니다. 아래에서 각각의 예시를 확인할 수 있습니다.\n",
    "\n",
    "- `in-memory` - Python 스크립트 또는 Jupyter 노트북에서 실행\n",
    "- `in-memory with persistance` - 스크립트 또는 노트북에서 실행하고 디스크에 저장/로드\n",
    "- `in a docker container` - 로컬 머신이나 클라우드에서 서버로 실행\n",
    "\n",
    "다른 데이터베이스와 마찬가지로 다음과 같은 작업을 수행할 수 있습니다:\n",
    "\n",
    "- `.add`\n",
    "- `.get`\n",
    "- `.update`\n",
    "- `.upsert`\n",
    "- `.delete`\n",
    "- `.peek`\n",
    "- `.query`: 유사도 검색을 실행합니다.\n",
    "\n",
    "[참고]\n",
    "\n",
    "전체 문서는 [docs](https://docs.trychroma.com/reference/Collection)에서 확인할 수 있습니다.\n",
    "\n",
    "- 이러한 메서드에 직접 액세스하려면 `._collection.method()`를 사용할 수 있습니다.\n"
   ]
  },
  {
   "cell_type": "markdown",
   "id": "19736e13",
   "metadata": {},
   "source": [
    "## 기본 사용법\n",
    "\n",
    "이 기본 예제에서는 샘플 데이터(appendix-keywords.txt) 를 가져와 청크로 분할하고, 오픈 소스 임베딩 모델을 사용하여 임베딩한 다음, Chroma에 로드하고 쿼리합니다.\n"
   ]
  },
  {
   "cell_type": "markdown",
   "id": "05d8b5a5",
   "metadata": {},
   "source": [
    "- TextLoader를 사용하여 문서를 로드합니다.\n",
    "- `CharacterTextSplitter`를 사용하여 로드된 문서를 청크 단위로 분할합니다.\n",
    "- SentenceTransformerEmbeddings를 사용하여 오픈 소스 임베딩 함수를 생성합니다. 모델로는 `\"all-MiniLM-L6-v2\"`를 사용합니다.\n",
    "- Chroma 벡터 스토어에 분할된 문서와 임베딩 함수를 로드합니다.\n",
    "- 질의(query) 를 사용하여 Chroma 벡터 스토어에서 유사도 검색을 수행합니다.\n",
    "- 검색 결과 중 가장 유사한 문서의 내용을 출력합니다.\n"
   ]
  },
  {
   "cell_type": "code",
   "execution_count": 2,
   "id": "df27eda5",
   "metadata": {},
   "outputs": [
    {
     "name": "stdout",
     "output_type": "stream",
     "text": [
      "정의: Word2Vec은 단어를 벡터 공간에 매핑하여 단어 간의 의미적 관계를 나타내는 자연어 처리 기술입니다. 이는 단어의 문맥적 유사성을 기반으로 벡터를 생성합니다.\n",
      "예시: Word2Vec 모델에서 \"왕\"과 \"여왕\"은 서로 가까운 위치에 벡터로 표현됩니다.\n",
      "연관키워드: 자연어 처리, 임베딩, 의미론적 유사성\n",
      "LLM (Large Language Model)\n"
     ]
    }
   ],
   "source": [
    "# import\n",
    "from langchain_community.document_loaders import TextLoader\n",
    "from langchain_community.embeddings.sentence_transformer import (\n",
    "    SentenceTransformerEmbeddings,\n",
    ")\n",
    "from langchain_community.vectorstores import Chroma\n",
    "from langchain_text_splitters import CharacterTextSplitter\n",
    "\n",
    "# 문서를 로드하고 청크로 분할합니다.\n",
    "loader = TextLoader(\"./data/appendix-keywords.txt\")\n",
    "documents = loader.load()\n",
    "\n",
    "# 문서를 청크로 분할합니다.\n",
    "text_splitter = CharacterTextSplitter(chunk_size=300, chunk_overlap=0)\n",
    "docs = text_splitter.split_documents(documents)\n",
    "\n",
    "# 오픈 소스 임베딩 함수를 생성합니다.\n",
    "stf_embeddings = SentenceTransformerEmbeddings(model_name=\"all-MiniLM-L6-v2\")\n",
    "\n",
    "# Chroma에 로드합니다.\n",
    "db = Chroma.from_documents(docs, stf_embeddings)\n",
    "\n",
    "# 질의합니다.\n",
    "query = \"What is Word2Vec?\"\n",
    "docs = db.similarity_search(query)\n",
    "\n",
    "# 결과를 출력합니다.\n",
    "print(docs[0].page_content)"
   ]
  },
  {
   "cell_type": "markdown",
   "id": "4c5c4895",
   "metadata": {},
   "source": [
    "## 로컬 디스크 공간에 저장\n",
    "\n",
    "이전 예제를 확장하여, 디스크에 저장하려는 경우에는 Chroma 클라이언트를 초기화하고 데이터를 저장할 디렉토리를 전달하기만 하면 됩니다.\n",
    "\n",
    "[주의]\n",
    "\n",
    "- Chroma는 데이터를 자동으로 디스크에 저장하기 위해 최선을 다하지만, 여러 개의 인메모리 클라이언트가 서로의 작업을 중단시킬 수 있습니다. 따라서, 한 번에 경로당 하나의 클라이언트만 실행하는 것이 좋습니다.\n"
   ]
  },
  {
   "cell_type": "markdown",
   "id": "58b77ed5",
   "metadata": {},
   "source": [
    "- `Chroma.from_documents()` 메서드를 사용하여 `docs`와 `embedding_function`으로부터 Chroma 데이터베이스를 생성하고, `persist_directory`를 지정하여 디스크에 저장합니다.\n",
    "- `db2.similarity_search()` 메서드를 사용하여 `query`와 유사한 문서를 검색합니다.\n",
    "- `Chroma` 클래스의 생성자를 사용하여 `persist_directory`에 저장된 Chroma 데이터베이스를 로드하고, `embedding_function`을 지정합니다.\n",
    "- `db3.similarity_search()` 메서드를 사용하여 `query`와 유사한 문서를 검색합니다.\n",
    "- 검색된 문서 중 첫 번째 문서의 `page_content`를 출력합니다.\n"
   ]
  },
  {
   "cell_type": "code",
   "execution_count": 3,
   "id": "7a6c79de",
   "metadata": {},
   "outputs": [
    {
     "data": {
      "text/plain": [
       "Document(page_content='정의: Word2Vec은 단어를 벡터 공간에 매핑하여 단어 간의 의미적 관계를 나타내는 자연어 처리 기술입니다. 이는 단어의 문맥적 유사성을 기반으로 벡터를 생성합니다.\\n예시: Word2Vec 모델에서 \"왕\"과 \"여왕\"은 서로 가까운 위치에 벡터로 표현됩니다.\\n연관키워드: 자연어 처리, 임베딩, 의미론적 유사성\\nLLM (Large Language Model)', metadata={'source': './data/appendix-keywords.txt'})"
      ]
     },
     "execution_count": 3,
     "metadata": {},
     "output_type": "execute_result"
    }
   ],
   "source": [
    "# 저장할 경로 지정\n",
    "DB_PATH = \"./chroma_db\"\n",
    "\n",
    "# 문서를 디스크에 저장합니다. 저장시 persist_directory에 저장할 경로를 지정합니다.\n",
    "db2 = Chroma.from_documents(docs, stf_embeddings, persist_directory=DB_PATH)\n",
    "\n",
    "# 질의합니다.\n",
    "query = \"What is Word2Vec?\"\n",
    "docs = db2.similarity_search(query)\n",
    "\n",
    "# 결과를 출력합니다.\n",
    "docs[0]"
   ]
  },
  {
   "cell_type": "markdown",
   "id": "3d0e7ecf",
   "metadata": {},
   "source": [
    "로컬 디스크에 저장된 Chroma 데이터베이스를 **로드** 한 뒤 쿼리합니다.\n"
   ]
  },
  {
   "cell_type": "code",
   "execution_count": 4,
   "id": "b1a90664",
   "metadata": {},
   "outputs": [
    {
     "name": "stdout",
     "output_type": "stream",
     "text": [
      "정의: Word2Vec은 단어를 벡터 공간에 매핑하여 단어 간의 의미적 관계를 나타내는 자연어 처리 기술입니다. 이는 단어의 문맥적 유사성을 기반으로 벡터를 생성합니다.\n",
      "예시: Word2Vec 모델에서 \"왕\"과 \"여왕\"은 서로 가까운 위치에 벡터로 표현됩니다.\n",
      "연관키워드: 자연어 처리, 임베딩, 의미론적 유사성\n",
      "LLM (Large Language Model)\n"
     ]
    }
   ],
   "source": [
    "# 디스크에서 문서를 로드합니다.\n",
    "db3 = Chroma(persist_directory=\"./chroma_db\",\n",
    "             embedding_function=stf_embeddings)\n",
    "\n",
    "# 질의합니다.\n",
    "query = \"What is Word2Vec?\"\n",
    "docs = db3.similarity_search(query)\n",
    "print(docs[0].page_content)"
   ]
  },
  {
   "cell_type": "markdown",
   "id": "fe36173c",
   "metadata": {},
   "source": [
    "## Langchain API - Chroma Client 활용\n",
    "\n",
    "Chroma Client를 생성하여 LangChain에 전달할 수도 있습니다. 이는 기본 데이터베이스에 더 쉽게 액세스하려는 경우에 특히 유용합니다.\n",
    "\n",
    "또한 LangChain에서 사용할 **collection name** 을 지정할 수 있습니다.\n"
   ]
  },
  {
   "cell_type": "markdown",
   "id": "adc6f34a",
   "metadata": {},
   "source": [
    "- `chromadb` 모듈을 사용하여 `PersistentClient`를 생성합니다.\n",
    "- `PersistentClient`를 사용하여 \"chroma_collection\"이라는 이름의 컬렉션을 가져오거나 생성합니다.\n",
    "- `collection.add()` 메서드를 사용하여 컬렉션에 문서를 추가합니다. 문서의 ID와 내용을 각각 \"1\", \"2\", \"3\"과 \"a\", \"b\", \"c\"로 지정합니다.\n",
    "- `Chroma` 클래스를 사용하여 `langchain_chroma` 객체를 생성합니다. 이 객체는 `PersistentClient`, 컬렉션 이름, 임베딩 함수를 매개변수로 받습니다.\n",
    "- `langchain_chroma._collection.count()` 메서드를 사용하여 컬렉션의 문서 수를 출력합니다.\n"
   ]
  },
  {
   "cell_type": "code",
   "execution_count": 5,
   "id": "6371783c",
   "metadata": {},
   "outputs": [
    {
     "name": "stdout",
     "output_type": "stream",
     "text": [
      "현재 저장된 Collection 의 개수는  3  개 입니다.\n"
     ]
    }
   ],
   "source": [
    "import chromadb\n",
    "\n",
    "# ChromaDB의 PersistentClient를 생성합니다.\n",
    "persistent_client = chromadb.PersistentClient()\n",
    "# \"my_chroma_collection\"이라는 이름의 컬렉션을 가져오거나 생성합니다.\n",
    "collection = persistent_client.get_or_create_collection(\"chroma_collection\")\n",
    "# 컬렉션에 ID와 문서를 추가합니다.\n",
    "collection.add(ids=[\"1\", \"2\", \"3\"], documents=[\"a\", \"b\", \"c\"])\n",
    "\n",
    "# Chroma 객체를 생성합니다.\n",
    "langchain_chroma = Chroma(\n",
    "    # PersistentClient를 전달합니다.\n",
    "    client=persistent_client,\n",
    "    # 사용할 컬렉션의 이름을 지정합니다.\n",
    "    collection_name=\"chroma_collection\",\n",
    "    # 임베딩 함수를 전달합니다.\n",
    "    embedding_function=stf_embeddings,\n",
    ")\n",
    "\n",
    "# 컬렉션의 항목 수를 출력합니다.\n",
    "print(\n",
    "    \"현재 저장된 Collection 의 개수는 \",\n",
    "    langchain_chroma._collection.count(),\n",
    "    \" 개 입니다.\",\n",
    ")"
   ]
  },
  {
   "cell_type": "markdown",
   "id": "0fd8c141",
   "metadata": {},
   "source": [
    "## 도커 컨테이너 사용\n",
    "\n",
    "Chroma Server를 별도의 Docker 컨테이너에서 실행하고, 이에 연결할 Client를 생성한 다음, 이를 LangChain에 전달할 수도 있습니다.\n",
    "\n",
    "Chroma는 문서의 여러 `Collections`을 처리할 수 있지만, LangChain 인터페이스는 하나의 컬렉션만 처리하므로 컬렉션 이름을 지정해야 합니다.\n",
    "\n",
    "LangChain에서 사용하는 기본 컬렉션 이름은 `\"langchain\"` 입니다.\n"
   ]
  },
  {
   "cell_type": "markdown",
   "id": "26824723",
   "metadata": {},
   "source": [
    "### 도커 이미지를 복제 및 실행\n"
   ]
  },
  {
   "cell_type": "markdown",
   "id": "6cf2b92e",
   "metadata": {},
   "source": [
    "다음은 Docker 이미지를 복제, 빌드 및 실행하는 방법입니다\n"
   ]
  },
  {
   "cell_type": "markdown",
   "id": "baae44e3",
   "metadata": {},
   "source": [
    "!git clone git@github.com:chroma-core/chroma.git\n"
   ]
  },
  {
   "cell_type": "markdown",
   "id": "fa050783",
   "metadata": {},
   "source": [
    "`docker-compose.yml` 파일을 편집하고 `environment` 아래에 `ALLOW_RESET=TRUE`를 추가합니다.\n"
   ]
  },
  {
   "cell_type": "markdown",
   "id": "fd617fa8",
   "metadata": {},
   "source": [
    "```yaml\n",
    "    ...\n",
    "    command: uvicorn chromadb.app:app --reload --workers 1 --host 0.0.0.0 --port 8000 --log-config log_config.yml\n",
    "    environment:\n",
    "      - IS_PERSISTENT=TRUE\n",
    "      - ALLOW_RESET=TRUE\n",
    "    ports:\n",
    "      - 8000:8000\n",
    "    ...\n",
    "```\n"
   ]
  },
  {
   "cell_type": "markdown",
   "id": "428ac25f",
   "metadata": {},
   "source": [
    "편집이 완료된 예시\n",
    "\n",
    "![](./images/chroma-docker1.png)\n"
   ]
  },
  {
   "cell_type": "markdown",
   "id": "e5ffc1c7",
   "metadata": {},
   "source": [
    "그런 다음 `docker-compose up -d --build`를 실행합니다.\n"
   ]
  },
  {
   "cell_type": "markdown",
   "id": "a14dcfd1",
   "metadata": {},
   "source": [
    "도커 구동 후 성공적으로 실행되는지 확인합니다.\n",
    "\n",
    "![](./images/chroma-docker2.png)\n"
   ]
  },
  {
   "cell_type": "markdown",
   "id": "16d79a81",
   "metadata": {},
   "source": [
    "`chromadb` 패키지를 사용하여 Chroma 클라이언트를 생성합니다.\n",
    "\n",
    "- `allow_reset=True`로 설정하여 데이터베이스를 초기화할 수 있도록 합니다.\n",
    "- `client.reset()`을 호출하여 데이터베이스를 초기화합니다.\n",
    "- `client.create_collection()`을 사용하여 \"chroma_docker\"이라는 새로운 컬렉션을 생성합니다.\n",
    "- `docs` 리스트의 각 문서에 대해 `collection.add()`를 호출하여 고유한 ID, 메타데이터, 문서 내용을 컬렉션에 추가합니다.\n"
   ]
  },
  {
   "cell_type": "code",
   "execution_count": 6,
   "id": "8678efc0",
   "metadata": {},
   "outputs": [
    {
     "name": "stdout",
     "output_type": "stream",
     "text": [
      "정의: Word2Vec은 단어를 벡터 공간에 매핑하여 단어 간의 의미적 관계를 나타내는 자연어 처리 기술입니다. 이는 단어의 문맥적 유사성을 기반으로 벡터를 생성합니다.\n",
      "예시: Word2Vec 모델에서 \"왕\"과 \"여왕\"은 서로 가까운 위치에 벡터로 표현됩니다.\n",
      "연관키워드: 자연어 처리, 임베딩, 의미론적 유사성\n",
      "LLM (Large Language Model)\n"
     ]
    }
   ],
   "source": [
    "# Chroma 클라이언트 생성\n",
    "import uuid\n",
    "import random\n",
    "import chromadb\n",
    "from chromadb.config import Settings\n",
    "\n",
    "client = chromadb.HttpClient(\n",
    "    host=\"0.0.0.0\", port=8000, settings=Settings(allow_reset=True)\n",
    ")\n",
    "client.reset()  # 데이터베이스 초기화\n",
    "collection = client.create_collection(\"chroma_docker\")\n",
    "\n",
    "# 문서를 로드하고 청크로 분할합니다.\n",
    "loader = TextLoader(\"./data/appendix-keywords.txt\")\n",
    "text_splitter = CharacterTextSplitter(chunk_size=300, chunk_overlap=0)\n",
    "docs = loader.load_and_split(text_splitter)\n",
    "\n",
    "for i, doc in enumerate(docs):\n",
    "    doc.metadata[\"chunk_id\"] = i  # Chunk ID 추가\n",
    "    # 무작위로 임의의 페이지 번호를 삽입합니다.\n",
    "    doc.metadata[\"page_number\"] = random.randint(0, 5)\n",
    "    collection.add(\n",
    "        ids=[str(uuid.uuid1())],\n",
    "        metadatas=doc.metadata,\n",
    "        documents=doc.page_content,\n",
    "    )\n",
    "\n",
    "# LangChain에게 클라이언트와 컬렉션 이름 사용 지시\n",
    "db4 = Chroma(\n",
    "    client=client,\n",
    "    collection_name=\"chroma_docker\",\n",
    "    embedding_function=stf_embeddings,\n",
    ")\n",
    "query = \"What is Word2Vec?\"\n",
    "docs = db4.similarity_search(query)\n",
    "print(docs[0].page_content)"
   ]
  },
  {
   "cell_type": "markdown",
   "id": "94a1544d",
   "metadata": {},
   "source": [
    "## 업데이트 & 삭제\n",
    "\n",
    "실제 애플리케이션을 구축할 때는 데이터 추가를 넘어 데이터 업데이트와 삭제도 수행하고자 합니다.\n",
    "\n",
    "Chroma는 이를 단순화하기 위해 사용자가 `ids`를 제공하도록 합니다. `ids`는 파일 이름이나 `filename_paragraphNumber`와 같은 결합된 해시가 될 수 있습니다.\n",
    "\n",
    "Chroma는 이러한 모든 작업을 지원하지만, 일부는 여전히 LangChain 인터페이스를 통해 완전히 통합되는 과정에 있습니다. 추가적인 워크플로 개선 사항이 곧 추가될 예정입니다.\n",
    "\n",
    "다음은 다양한 작업을 수행하는 방법을 보여주는 기본 예제입니다:\n"
   ]
  },
  {
   "cell_type": "markdown",
   "id": "654aa063",
   "metadata": {},
   "source": [
    "- 문서 개수에 해당하는 간단한 ID 리스트를 생성합니다.\n",
    "- `Chroma.from_documents()` 메서드를 사용하여 문서, 임베딩 함수, ID를 전달하고 Chroma 데이터베이스를 생성합니다.\n",
    "- `similarity_search()` 메서드를 사용하여 쿼리와 유사한 문서를 검색하고, 첫 번째 문서의 메타데이터를 출력합니다.\n",
    "- 첫 번째 문서의 메타데이터를 업데이트하고, `update_document()` 메서드를 사용하여 데이터베이스에 반영합니다.\n",
    "- 업데이트된 문서의 정보를 출력합니다.\n",
    "- 마지막 문서를 삭제하기 전후의 문서 개수를 출력하여 삭제 작업을 확인합니다.\n"
   ]
  },
  {
   "cell_type": "code",
   "execution_count": 7,
   "id": "65c4bf7e",
   "metadata": {},
   "outputs": [
    {
     "name": "stdout",
     "output_type": "stream",
     "text": [
      "{'source': './data/appendix-keywords.txt'}\n",
      "{'ids': ['1'], 'embeddings': None, 'metadatas': [{'chunk_id': 12, 'new_value': '테스트용으로 업데이트할 내용입니다.', 'page_number': 1, 'source': './images/appendix-keywords.txt'}], 'documents': ['정의: Word2Vec은 단어를 벡터 공간에 매핑하여 단어 간의 의미적 관계를 나타내는 자연어 처리 기술입니다. 이는 단어의 문맥적 유사성을 기반으로 벡터를 생성합니다.\\n예시: Word2Vec 모델에서 \"왕\"과 \"여왕\"은 서로 가까운 위치에 벡터로 표현됩니다.\\n연관키워드: 자연어 처리, 임베딩, 의미론적 유사성\\nLLM (Large Language Model)'], 'uris': None, 'data': None}\n",
      "count before 64\n",
      "count after 63\n"
     ]
    }
   ],
   "source": [
    "# 간단한 ID 생성\n",
    "ids = [str(i) for i in range(1, len(docs) + 1)]\n",
    "\n",
    "# 데이터 추가\n",
    "example_db = Chroma.from_documents(docs, stf_embeddings, ids=ids)\n",
    "docs = example_db.similarity_search(query)\n",
    "print(docs[0].metadata)\n",
    "\n",
    "# 문서의 메타데이터 업데이트\n",
    "docs[0].metadata = {\n",
    "    \"source\": \"./images/appendix-keywords.txt\",\n",
    "    \"new_value\": \"테스트용으로 업데이트할 내용입니다.\",\n",
    "}\n",
    "\n",
    "# DB 에 업데이트\n",
    "example_db.update_document(ids[0], docs[0])\n",
    "print(example_db._collection.get(ids=[ids[0]]))\n",
    "\n",
    "# 문서 개수 출력\n",
    "print(\"count before\", example_db._collection.count())\n",
    "# 마지막 문서 삭제\n",
    "example_db._collection.delete(ids=[ids[-1]])\n",
    "# 삭제 후 문서 개수 출력\n",
    "print(\"count after\", example_db._collection.count())"
   ]
  },
  {
   "cell_type": "markdown",
   "id": "d8892644",
   "metadata": {},
   "source": [
    "## OpenAI Embeddings 사용하기\n",
    "\n",
    "많은 사람들이 `OpenAIEmbeddings` 를 사용하는 것을 선호합니다.\n",
    "\n",
    "다음은 `OpenAIEmbeddings` 을 사용한 예제입니다.\n"
   ]
  },
  {
   "cell_type": "code",
   "execution_count": 8,
   "id": "3b99a84f",
   "metadata": {},
   "outputs": [
    {
     "data": {
      "text/plain": [
       "True"
      ]
     },
     "execution_count": 8,
     "metadata": {},
     "output_type": "execute_result"
    }
   ],
   "source": [
    "# API 키를 환경변수로 관리하기 위한 설정 파일\n",
    "from dotenv import load_dotenv\n",
    "\n",
    "# API 키 정보 로드\n",
    "load_dotenv()"
   ]
  },
  {
   "cell_type": "markdown",
   "id": "89b919ba",
   "metadata": {},
   "source": [
    "- `chromadb.EphemeralClient`를 사용하여 새로운 Chroma 클라이언트를 생성합니다.\n",
    "- `Chroma.from_documents` 메서드를 사용하여 문서(`docs`)와 임베딩(`embedings`)을 기반으로 Chroma 컬렉션을 생성합니다.\n",
    "  - 새로 생성된 클라이언트(`new_client`)를 사용합니다.\n",
    "  - 컬렉션 이름은 \"openai_collection\"으로 지정합니다.\n",
    "- 질의(`query`)를 정의합니다: \"Word2Vec 에 대해서 설명해 주세요.\"\n",
    "- `openai_lc_client.similarity_search` 메서드를 사용하여 질의와 유사한 문서를 검색합니다.\n"
   ]
  },
  {
   "cell_type": "code",
   "execution_count": 10,
   "id": "79443594",
   "metadata": {},
   "outputs": [
    {
     "name": "stdout",
     "output_type": "stream",
     "text": [
      "정의: Word2Vec은 단어를 벡터 공간에 매핑하여 단어 간의 의미적 관계를 나타내는 자연어 처리 기술입니다. 이는 단어의 문맥적 유사성을 기반으로 벡터를 생성합니다.\n",
      "예시: Word2Vec 모델에서 \"왕\"과 \"여왕\"은 서로 가까운 위치에 벡터로 표현됩니다.\n",
      "연관키워드: 자연어 처리, 임베딩, 의미론적 유사성\n",
      "LLM (Large Language Model)\n"
     ]
    }
   ],
   "source": [
    "from langchain_openai import OpenAIEmbeddings\n",
    "\n",
    "\n",
    "# 문서를 로드하고 청크로 분할합니다.\n",
    "loader = TextLoader(\"./data/appendix-keywords.txt\")\n",
    "text_splitter = CharacterTextSplitter(chunk_size=300, chunk_overlap=0)\n",
    "docs = loader.load_and_split(text_splitter)\n",
    "\n",
    "# OpenAIEmbeddings 를 사용\n",
    "openai_embeddings = OpenAIEmbeddings()\n",
    "# client 생성\n",
    "new_client = chromadb.EphemeralClient()\n",
    "\n",
    "\n",
    "# OpenAI 임베딩과 Chroma 클라이언트를 사용하여 문서에서 Chroma 검색 클라이언트를 생성합니다.\n",
    "openai_lc_client = Chroma.from_documents(\n",
    "    docs, openai_embeddings, client=new_client, collection_name=\"openai_collection\"\n",
    ")\n",
    "\n",
    "query = \"Word2Vec 에 대해서 설명해 주세요.\"\n",
    "# 질의를 사용하여 유사도 검색을 수행합니다.\n",
    "docs = openai_lc_client.similarity_search(query)\n",
    "# 검색 결과에서 첫 번째 문서의 내용을 출력합니다.\n",
    "print(docs[0].page_content)"
   ]
  },
  {
   "cell_type": "markdown",
   "id": "75df83c0",
   "metadata": {},
   "source": [
    "### 유사도 검색과 유사도 점수 계산\n",
    "\n",
    "코사인 유사도를 산정합니다. score가 높을 수록 유사도가 높다고 판단할 수 있습니다.\n"
   ]
  },
  {
   "cell_type": "markdown",
   "id": "96b31918",
   "metadata": {},
   "source": [
    "- `db` 객체의 `similarity_search_with_score` 메서드를 사용하여 `query`와 유사한 문서를 검색하고, 그 결과를 `docs` 변수에 저장합니다.\n"
   ]
  },
  {
   "cell_type": "code",
   "execution_count": 11,
   "id": "d82a9658",
   "metadata": {},
   "outputs": [],
   "source": [
    "query = \"Word2Vec 에 대해서 설명해 주세요.\"\n",
    "# 유사도 검색을 수행하고 점수와 함께 결과를 반환합니다.\n",
    "docs = db.similarity_search_with_score(query)"
   ]
  },
  {
   "cell_type": "markdown",
   "id": "a290049b",
   "metadata": {},
   "source": [
    "- `docs[0]`을 사용하여 문서 리스트의 첫 번째 문서에 접근합니다.\n"
   ]
  },
  {
   "cell_type": "code",
   "execution_count": 12,
   "id": "d62f57bf",
   "metadata": {},
   "outputs": [
    {
     "name": "stdout",
     "output_type": "stream",
     "text": [
      "page_content='정의: Word2Vec은 단어를 벡터 공간에 매핑하여 단어 간의 의미적 관계를 나타내는 자연어 처리 기술입니다. 이는 단어의 문맥적 유사성을 기반으로 벡터를 생성합니다.\\n예시: Word2Vec 모델에서 \"왕\"과 \"여왕\"은 서로 가까운 위치에 벡터로 표현됩니다.\\n연관키워드: 자연어 처리, 임베딩, 의미론적 유사성\\nLLM (Large Language Model)' metadata={'source': './data/appendix-keywords.txt'}\n",
      "\n",
      "유사도 점수: 0.8870154023170471\n"
     ]
    }
   ],
   "source": [
    "# 문서 리스트의 첫 번째 문서를 가져옵니다.\n",
    "document, score = docs[0]\n",
    "print(document, end=\"\\n\\n\")\n",
    "print(f\"유사도 점수: {score}\")"
   ]
  },
  {
   "cell_type": "markdown",
   "id": "5b3ec981",
   "metadata": {},
   "source": [
    "### 검색기(Retriever)\n",
    "\n",
    "이 섹션에서는 Chroma를 retriever로 사용하는 다양한 옵션에 대해 설명합니다.\n",
    "\n",
    "### MMR\n",
    "\n",
    "retriever 객체에서 유사도 검색을 사용하는 것 외에도 `mmr`을 사용할 수 있습니다.\n"
   ]
  },
  {
   "cell_type": "markdown",
   "id": "ba5eaace",
   "metadata": {},
   "source": [
    "- `db` 객체를 사용하여 `retriever`를 생성합니다.\n",
    "- `search_type` 매개변수를 \"mmr\"로 설정하여 MMR(Maximal Marginal Relevance) 검색 알고리즘을 사용합니다.\n"
   ]
  },
  {
   "cell_type": "code",
   "execution_count": 13,
   "id": "59ed80dc",
   "metadata": {},
   "outputs": [],
   "source": [
    "# 검색 유형을 \"mmr\"로 설정하여 데이터베이스를 검색기로 사용\n",
    "retriever = db.as_retriever(search_type=\"mmr\")"
   ]
  },
  {
   "cell_type": "markdown",
   "id": "185122c7",
   "metadata": {},
   "source": [
    "- `retriever` 객체의 `get_relevant_documents()` 메서드를 사용하여 주어진 `query`와 관련된 문서를 검색합니다.\n",
    "- `get_relevant_documents()` 메서드는 관련 문서의 리스트를 반환하며, 이 중 첫 번째 문서([0])를 선택합니다.\n"
   ]
  },
  {
   "cell_type": "code",
   "execution_count": 15,
   "id": "82a16b4a",
   "metadata": {},
   "outputs": [
    {
     "data": {
      "text/plain": [
       "Document(page_content='정의: Word2Vec은 단어를 벡터 공간에 매핑하여 단어 간의 의미적 관계를 나타내는 자연어 처리 기술입니다. 이는 단어의 문맥적 유사성을 기반으로 벡터를 생성합니다.\\n예시: Word2Vec 모델에서 \"왕\"과 \"여왕\"은 서로 가까운 위치에 벡터로 표현됩니다.\\n연관키워드: 자연어 처리, 임베딩, 의미론적 유사성\\nLLM (Large Language Model)', metadata={'source': './data/appendix-keywords.txt'})"
      ]
     },
     "execution_count": 15,
     "metadata": {},
     "output_type": "execute_result"
    }
   ],
   "source": [
    "query = \"Word2Vec 에 대해서 설명해 주세요.\"\n",
    "# 질의와 관련된 문서 중 가장 관련성이 높은 문서를 가져옵니다.\n",
    "retriever.get_relevant_documents(query)[0]"
   ]
  },
  {
   "cell_type": "markdown",
   "id": "ff40b0d2",
   "metadata": {},
   "source": [
    "## 메타데이터를 기반으로 필터링\n",
    "\n",
    "컬렉션을 다루기 전에 컬렉션의 범위를 좁히는 것이 도움이 될 수 있습니다.\n",
    "\n",
    "예를 들어, `get` 메서드를 사용하여 메타데이터를 기반으로 컬렉션을 필터링할 수 있습니다.\n"
   ]
  },
  {
   "cell_type": "markdown",
   "id": "72762c16",
   "metadata": {},
   "source": [
    "- `example_db.get()` 메서드를 사용하여 메타데이터 필터링을 해보겠습니다.\n"
   ]
  },
  {
   "cell_type": "code",
   "execution_count": 31,
   "id": "7e0832ec",
   "metadata": {},
   "outputs": [
    {
     "data": {
      "text/plain": [
       "{'ids': ['2'],\n",
       " 'embeddings': None,\n",
       " 'metadatas': [{'chunk_id': 0,\n",
       "   'page_number': 0,\n",
       "   'source': './data/appendix-keywords.txt'}],\n",
       " 'documents': ['Semantic Search\\n\\n정의: 의미론적 검색은 사용자의 질의를 단순한 키워드 매칭을 넘어서 그 의미를 파악하여 관련된 결과를 반환하는 검색 방식입니다.\\n예시: 사용자가 \"태양계 행성\"이라고 검색하면, \"목성\", \"화성\" 등과 같이 관련된 행성에 대한 정보를 반환합니다.\\n연관키워드: 자연어 처리, 검색 알고리즘, 데이터 마이닝\\n\\nEmbedding'],\n",
       " 'uris': None,\n",
       " 'data': None}"
      ]
     },
     "execution_count": 31,
     "metadata": {},
     "output_type": "execute_result"
    }
   ],
   "source": [
    "# metadatas 중 chunk_id 기준으로 필터링\n",
    "example_db.get(where={\"chunk_id\": 0})"
   ]
  },
  {
   "cell_type": "code",
   "execution_count": 27,
   "id": "bdc2bb7c",
   "metadata": {},
   "outputs": [
    {
     "data": {
      "text/plain": [
       "{'ids': ['2'],\n",
       " 'embeddings': None,\n",
       " 'metadatas': [{'chunk_id': 0,\n",
       "   'page_number': 0,\n",
       "   'source': './data/appendix-keywords.txt'}],\n",
       " 'documents': ['Semantic Search\\n\\n정의: 의미론적 검색은 사용자의 질의를 단순한 키워드 매칭을 넘어서 그 의미를 파악하여 관련된 결과를 반환하는 검색 방식입니다.\\n예시: 사용자가 \"태양계 행성\"이라고 검색하면, \"목성\", \"화성\" 등과 같이 관련된 행성에 대한 정보를 반환합니다.\\n연관키워드: 자연어 처리, 검색 알고리즘, 데이터 마이닝\\n\\nEmbedding'],\n",
       " 'uris': None,\n",
       " 'data': None}"
      ]
     },
     "execution_count": 27,
     "metadata": {},
     "output_type": "execute_result"
    }
   ],
   "source": [
    "# page_number 기준으로 필터링\n",
    "example_db.get(where={\"page_number\": 0})"
   ]
  },
  {
   "cell_type": "code",
   "execution_count": 32,
   "id": "637230d5",
   "metadata": {},
   "outputs": [
    {
     "data": {
      "text/plain": [
       "{'ids': ['038f8d1a-3791-4478-a1f3-270ee38f6198',\n",
       "  '04d5339d-2a5b-43b6-8e27-4ef618912aeb',\n",
       "  '07625557-455a-48e7-ac03-58a6836ec615',\n",
       "  '0782f1c3-5dd7-425e-bf6a-664dceac3dba',\n",
       "  '07eebb17-9d6f-4cc7-9808-fa6d9acb664f',\n",
       "  '17d5bd29-e616-4d2f-9fe5-b66d71e8f9e1',\n",
       "  '2',\n",
       "  '24036367-5369-479a-a453-545f997dcf5f',\n",
       "  '25df25a0-69d1-4d64-812b-40f04adcc9e2',\n",
       "  '2601bff8-44da-4085-be61-60b7de6cfbb4',\n",
       "  '26edcd5c-cf40-4ac5-a45d-2583973b77f1',\n",
       "  '28293504-59aa-4081-ae40-c3b36efd2180',\n",
       "  '3',\n",
       "  '34515af0-4aa8-4833-9871-7baf17e27e9a',\n",
       "  '37bc89ef-22e2-4e72-8103-452b658c8827',\n",
       "  '3b9320f4-cfa9-44b0-85a5-18cf08eb7b0c',\n",
       "  '3f4db244-f470-4f29-ba38-e6c842739040',\n",
       "  '402ab127-b6a6-4bb7-994f-dd2027a6d4a7',\n",
       "  '478cab49-e4ee-42d5-936c-971bef2770d2',\n",
       "  '49c5f021-87cf-4eaa-965d-2406f48d19ba',\n",
       "  '49cba4ff-1fe2-43ef-92c5-e1a914ff8411',\n",
       "  '4a2f8c04-3b1a-48a1-9167-6c9423d49e29',\n",
       "  '4f502b57-a713-4c44-a32e-76d83aaabccc',\n",
       "  '53aff5c4-100b-41bf-83a3-0df92df7e216',\n",
       "  '563255f4-310b-424b-9b8c-2a09828cbec2',\n",
       "  '59af4f5b-5b5e-42d5-9488-d346284624d2',\n",
       "  '5ec25b8a-4d24-4721-be15-98a1279ca09b',\n",
       "  '642c6ca0-052d-425f-85a1-bcc852f64132',\n",
       "  '663c5e84-b253-47f9-a043-d9c4e204d333',\n",
       "  '6839ed16-6e37-49a1-a647-33e2ea61655b',\n",
       "  '6e94e531-e34b-48b1-9461-496c5cae3fe1',\n",
       "  '7824516c-e7d7-41f3-ba0e-7c021ad3dcd1',\n",
       "  '78fd527c-cac3-4895-9a5e-7a4ea404d7a8',\n",
       "  '7dabf202-9ccb-40ef-8989-51d4b8fc4c40',\n",
       "  '809b712b-6029-4dfa-b819-58e4289ba708',\n",
       "  '83001973-8bea-4e6b-99e4-f0acd4f58bca',\n",
       "  '8377a054-131e-44d5-86e5-cc5271ed8c30',\n",
       "  '96d8699f-1e9f-4443-bbbb-d8cf797e461d',\n",
       "  '9af05f68-86de-4982-8874-5e6ee6654e05',\n",
       "  '9c74392a-9012-4671-92bd-09c73a28c911',\n",
       "  '9fda20f0-4a68-4186-a156-afda821f4f86',\n",
       "  'a0588a22-3398-465e-923a-136d9819319f',\n",
       "  'a4950aa0-bc85-47d8-a037-b5e9b1f5013e',\n",
       "  'a8d0dbbb-c296-402f-8ec5-dbca43c53427',\n",
       "  'b34035c6-9b12-4857-bf30-1883b5764793',\n",
       "  'b73d44d6-5b15-47e0-ae7e-d79138054da3',\n",
       "  'b9e4e064-faee-4783-a48f-ea504411a98b',\n",
       "  'c14ad5c0-4948-4e3b-9784-d313e7c6ac9e',\n",
       "  'c4231990-5436-4a10-8832-2f0ca2120c7c',\n",
       "  'c5ca2f4a-9fe1-4099-85a0-19f37b790be2',\n",
       "  'c7d01ee8-c2c2-4b0b-878d-c636bd91e2c4',\n",
       "  'cb036df4-3959-4a1c-96f2-083c88e31e7e',\n",
       "  'cc9b1230-db40-4807-a2a0-59697b597583',\n",
       "  'd4652daf-309d-430a-be0d-0741fe67af7f',\n",
       "  'e3da97b8-378f-4978-b3ed-ee517fad2b8c',\n",
       "  'e529b625-4193-4af8-9517-bd8982e371ef',\n",
       "  'e7152f9a-549d-45c0-884a-3c55a2485985',\n",
       "  'e91f813c-3431-4ab7-82c1-6387dfa13acb',\n",
       "  'eab327eb-79a0-43be-ae01-5723893deec7',\n",
       "  'eb0aba7a-094a-42f0-aa55-48514ec2020c',\n",
       "  'f02c2127-dbf1-4bac-a67c-a3c871378b46',\n",
       "  'fb0442c6-e5c6-41ff-bcdf-f011f1f8a956'],\n",
       " 'embeddings': None,\n",
       " 'metadatas': [{'source': './data/appendix-keywords.txt'},\n",
       "  {'source': './data/appendix-keywords.txt'},\n",
       "  {'source': './data/appendix-keywords.txt'},\n",
       "  {'source': './data/appendix-keywords.txt'},\n",
       "  {'source': './data/appendix-keywords.txt'},\n",
       "  {'source': './data/appendix-keywords.txt'},\n",
       "  {'chunk_id': 0, 'page_number': 0, 'source': './data/appendix-keywords.txt'},\n",
       "  {'source': './data/appendix-keywords.txt'},\n",
       "  {'source': './data/appendix-keywords.txt'},\n",
       "  {'source': './data/appendix-keywords.txt'},\n",
       "  {'source': './data/appendix-keywords.txt'},\n",
       "  {'source': './data/appendix-keywords.txt'},\n",
       "  {'chunk_id': 3, 'page_number': 1, 'source': './data/appendix-keywords.txt'},\n",
       "  {'source': './data/appendix-keywords.txt'},\n",
       "  {'source': './data/appendix-keywords.txt'},\n",
       "  {'source': './data/appendix-keywords.txt'},\n",
       "  {'source': './data/appendix-keywords.txt'},\n",
       "  {'source': './data/appendix-keywords.txt'},\n",
       "  {'source': './data/appendix-keywords.txt'},\n",
       "  {'source': './data/appendix-keywords.txt'},\n",
       "  {'source': './data/appendix-keywords.txt'},\n",
       "  {'source': './data/appendix-keywords.txt'},\n",
       "  {'source': './data/appendix-keywords.txt'},\n",
       "  {'source': './data/appendix-keywords.txt'},\n",
       "  {'source': './data/appendix-keywords.txt'},\n",
       "  {'source': './data/appendix-keywords.txt'},\n",
       "  {'source': './data/appendix-keywords.txt'},\n",
       "  {'source': './data/appendix-keywords.txt'},\n",
       "  {'source': './data/appendix-keywords.txt'},\n",
       "  {'source': './data/appendix-keywords.txt'},\n",
       "  {'source': './data/appendix-keywords.txt'},\n",
       "  {'source': './data/appendix-keywords.txt'},\n",
       "  {'source': './data/appendix-keywords.txt'},\n",
       "  {'source': './data/appendix-keywords.txt'},\n",
       "  {'source': './data/appendix-keywords.txt'},\n",
       "  {'source': './data/appendix-keywords.txt'},\n",
       "  {'source': './data/appendix-keywords.txt'},\n",
       "  {'source': './data/appendix-keywords.txt'},\n",
       "  {'source': './data/appendix-keywords.txt'},\n",
       "  {'source': './data/appendix-keywords.txt'},\n",
       "  {'source': './data/appendix-keywords.txt'},\n",
       "  {'source': './data/appendix-keywords.txt'},\n",
       "  {'source': './data/appendix-keywords.txt'},\n",
       "  {'source': './data/appendix-keywords.txt'},\n",
       "  {'source': './data/appendix-keywords.txt'},\n",
       "  {'source': './data/appendix-keywords.txt'},\n",
       "  {'source': './data/appendix-keywords.txt'},\n",
       "  {'source': './data/appendix-keywords.txt'},\n",
       "  {'source': './data/appendix-keywords.txt'},\n",
       "  {'source': './data/appendix-keywords.txt'},\n",
       "  {'source': './data/appendix-keywords.txt'},\n",
       "  {'source': './data/appendix-keywords.txt'},\n",
       "  {'source': './data/appendix-keywords.txt'},\n",
       "  {'source': './data/appendix-keywords.txt'},\n",
       "  {'source': './data/appendix-keywords.txt'},\n",
       "  {'source': './data/appendix-keywords.txt'},\n",
       "  {'source': './data/appendix-keywords.txt'},\n",
       "  {'source': './data/appendix-keywords.txt'},\n",
       "  {'source': './data/appendix-keywords.txt'},\n",
       "  {'source': './data/appendix-keywords.txt'},\n",
       "  {'source': './data/appendix-keywords.txt'},\n",
       "  {'source': './data/appendix-keywords.txt'}],\n",
       " 'documents': ['정의: 구조화된 데이터는 정해진 형식이나 스키마에 따라 조직된 데이터입니다. 이는 데이터베이스, 스프레드시트 등에서 쉽게 검색하고 분석할 수 있습니다.\\n예시: 관계형 데이터베이스에 저장된 고객 정보 테이블은 구조화된 데이터의 예입니다.\\n연관키워드: 데이터베이스, 데이터 분석, 데이터 모델링\\n\\nParser',\n",
       "  '정의: 키워드 검색은 사용자가 입력한 키워드를 기반으로 정보를 찾는 과정입니다. 이는 대부분의 검색 엔진과 데이터베이스 시스템에서 기본적인 검색 방식으로 사용됩니다.\\n예시: 사용자가 \"커피숍 서울\"이라고 검색하면, 관련된 커피숍 목록을 반환합니다.\\n연관키워드: 검색 엔진, 데이터 검색, 정보 검색\\n\\nPage Rank',\n",
       "  '정의: LLM은 대규모의 텍스트 데이터로 훈련된 큰 규모의 언어 모델을 의미합니다. 이러한 모델은 다양한 자연어 이해 및 생성 작업에 사용됩니다.\\n예시: OpenAI의 GPT 시리즈는 대표적인 대규모 언어 모델입니다.\\n연관키워드: 자연어 처리, 딥러닝, 텍스트 생성\\n\\nFAISS (Facebook AI Similarity Search)',\n",
       "  '정의: 트랜스포머는 자연어 처리에서 사용되는 딥러닝 모델의 한 유형으로, 주로 번역, 요약, 텍스트 생성 등에 사용됩니다. 이는 Attention 메커니즘을 기반으로 합니다.\\n예시: 구글 번역기는 트랜스포머 모델을 사용하여 다양한 언어 간의 번역을 수행합니다.\\n연관키워드: 딥러닝, 자연어 처리, Attention\\n\\nHuggingFace',\n",
       "  '정의: 파서는 주어진 데이터(문자열, 파일 등)를 분석하여 구조화된 형태로 변환하는 도구입니다. 이는 프로그래밍 언어의 구문 분석이나 파일 데이터 처리에 사용됩니다.\\n예시: HTML 문서를 구문 분석하여 웹 페이지의 DOM 구조를 생성하는 것은 파싱의 한 예입니다.\\n연관키워드: 구문 분석, 컴파일러, 데이터 처리\\n\\nTF-IDF (Term Frequency-Inverse Document Frequency)',\n",
       "  '정의: 벡터스토어는 벡터 형식으로 변환된 데이터를 저장하는 시스템입니다. 이는 검색, 분류 및 기타 데이터 분석 작업에 사용됩니다.\\n예시: 단어 임베딩 벡터들을 데이터베이스에 저장하여 빠르게 접근할 수 있습니다.\\n연관키워드: 임베딩, 데이터베이스, 벡터화\\n\\nSQL',\n",
       "  'Semantic Search\\n\\n정의: 의미론적 검색은 사용자의 질의를 단순한 키워드 매칭을 넘어서 그 의미를 파악하여 관련된 결과를 반환하는 검색 방식입니다.\\n예시: 사용자가 \"태양계 행성\"이라고 검색하면, \"목성\", \"화성\" 등과 같이 관련된 행성에 대한 정보를 반환합니다.\\n연관키워드: 자연어 처리, 검색 알고리즘, 데이터 마이닝\\n\\nEmbedding',\n",
       "  'Semantic Search\\n\\n정의: 의미론적 검색은 사용자의 질의를 단순한 키워드 매칭을 넘어서 그 의미를 파악하여 관련된 결과를 반환하는 검색 방식입니다.\\n예시: 사용자가 \"태양계 행성\"이라고 검색하면, \"목성\", \"화성\" 등과 같이 관련된 행성에 대한 정보를 반환합니다.\\n연관키워드: 자연어 처리, 검색 알고리즘, 데이터 마이닝\\n\\nEmbedding',\n",
       "  '정의: Word2Vec은 단어를 벡터 공간에 매핑하여 단어 간의 의미적 관계를 나타내는 자연어 처리 기술입니다. 이는 단어의 문맥적 유사성을 기반으로 벡터를 생성합니다.\\n예시: Word2Vec 모델에서 \"왕\"과 \"여왕\"은 서로 가까운 위치에 벡터로 표현됩니다.\\n연관키워드: 자연어 처리, 임베딩, 의미론적 유사성\\nLLM (Large Language Model)',\n",
       "  '정의: SQL(Structured Query Language)은 데이터베이스에서 데이터를 관리하기 위한 프로그래밍 언어입니다. 데이터 조회, 수정, 삽입, 삭제 등 다양한 작업을 수행할 수 있습니다.\\n예시: SELECT * FROM users WHERE age > 18;은 18세 이상의 사용자 정보를 조회합니다.\\n연관키워드: 데이터베이스, 쿼리, 데이터 관리\\n\\nCSV',\n",
       "  \"정의: Attention 메커니즘은 딥러닝에서 중요한 정보에 더 많은 '주의'를 기울이도록 하는 기법입니다. 이는 주로 시퀀스 데이터(예: 텍스트, 시계열 데이터)에서 사용됩니다.\\n예시: 번역 모델에서 Attention 메커니즘은 입력 문장의 중요한 부분에 더 집중하여 정확한 번역을 생성합니다.\\n연관키워드: 딥러닝, 자연어 처리, 시퀀스 모델링\\n\\n판다스 (Pandas)\",\n",
       "  '정의: CSV(Comma-Separated Values)는 데이터를 저장하는 파일 형식으로, 각 데이터 값은 쉼표로 구분됩니다. 표 형태의 데이터를 간단하게 저장하고 교환할 때 사용됩니다.\\n예시: 이름, 나이, 직업이라는 헤더를 가진 CSV 파일에는 홍길동, 30, 개발자와 같은 데이터가 포함될 수 있습니다.\\n연관키워드: 데이터 형식, 파일 처리, 데이터 교환\\n\\nJSON',\n",
       "  '정의: 토크나이저는 텍스트 데이터를 토큰으로 분할하는 도구입니다. 이는 자연어 처리에서 데이터를 전처리하는 데 사용됩니다.\\n예시: \"I love programming.\"이라는 문장을 [\"I\", \"love\", \"programming\", \".\"]으로 분할합니다.\\n연관키워드: 토큰화, 자연어 처리, 구문 분석\\n\\nVectorStore',\n",
       "  '정의: 구조화된 데이터는 정해진 형식이나 스키마에 따라 조직된 데이터입니다. 이는 데이터베이스, 스프레드시트 등에서 쉽게 검색하고 분석할 수 있습니다.\\n예시: 관계형 데이터베이스에 저장된 고객 정보 테이블은 구조화된 데이터의 예입니다.\\n연관키워드: 데이터베이스, 데이터 분석, 데이터 모델링\\n\\nParser',\n",
       "  '정의: 스키마는 데이터베이스나 파일의 구조를 정의하는 것으로, 데이터가 어떻게 저장되고 조직되는지에 대한 청사진을 제공합니다.\\n예시: 관계형 데이터베이스의 테이블 스키마는 열 이름, 데이터 타입, 키 제약 조건 등을 정의합니다.\\n연관키워드: 데이터베이스, 데이터 모델링, 데이터 관리\\n\\nDataFrame',\n",
       "  '정의: CSV(Comma-Separated Values)는 데이터를 저장하는 파일 형식으로, 각 데이터 값은 쉼표로 구분됩니다. 표 형태의 데이터를 간단하게 저장하고 교환할 때 사용됩니다.\\n예시: 이름, 나이, 직업이라는 헤더를 가진 CSV 파일에는 홍길동, 30, 개발자와 같은 데이터가 포함될 수 있습니다.\\n연관키워드: 데이터 형식, 파일 처리, 데이터 교환\\n\\nJSON',\n",
       "  '정의: HuggingFace는 자연어 처리를 위한 다양한 사전 훈련된 모델과 도구를 제공하는 라이브러리입니다. 이는 연구자와 개발자들이 쉽게 NLP 작업을 수행할 수 있도록 돕습니다.\\n예시: HuggingFace의 Transformers 라이브러리를 사용하여 감정 분석, 텍스트 생성 등의 작업을 수행할 수 있습니다.\\n연관키워드: 자연어 처리, 딥러닝, 라이브러리\\n\\nDigital Transformation',\n",
       "  '정의: 판다스는 파이썬 프로그래밍 언어를 위한 데이터 분석 및 조작 도구를 제공하는 라이브러리입니다. 이는 데이터 분석 작업을 효율적으로 수행할 수 있게 합니다.\\n예시: 판다스를 사용하여 CSV 파일을 읽고, 데이터를 정제하며, 다양한 분석을 수행할 수 있습니다.\\n연관키워드: 데이터 분석, 파이썬, 데이터 처리\\n\\nGPT (Generative Pretrained Transformer)',\n",
       "  '정의: 키워드 검색은 사용자가 입력한 키워드를 기반으로 정보를 찾는 과정입니다. 이는 대부분의 검색 엔진과 데이터베이스 시스템에서 기본적인 검색 방식으로 사용됩니다.\\n예시: 사용자가 \"커피숍 서울\"이라고 검색하면, 관련된 커피숍 목록을 반환합니다.\\n연관키워드: 검색 엔진, 데이터 검색, 정보 검색\\n\\nPage Rank',\n",
       "  '정의: DataFrame은 행과 열로 이루어진 테이블 형태의 데이터 구조로, 주로 데이터 분석 및 처리에 사용됩니다.\\n예시: 판다스 라이브러리에서 DataFrame은 다양한 데이터 타입의 열을 가질 수 있으며, 데이터 조작과 분석을 용이하게 합니다.\\n연관키워드: 데이터 분석, 판다스, 데이터 처리\\n\\nAttention 메커니즘',\n",
       "  '정의: GPT는 대규모의 데이터셋으로 사전 훈련된 생성적 언어 모델로, 다양한 텍스트 기반 작업에 활용됩니다. 이는 입력된 텍스트에 기반하여 자연스러운 언어를 생성할 수 있습니다.\\n예시: 사용자가 제공한 질문에 대해 자세한 답변을 생성하는 챗봇은 GPT 모델을 사용할 수 있습니다.\\n연관키워드: 자연어 처리, 텍스트 생성, 딥러닝\\n\\nInstructGPT',\n",
       "  '정의: 트랜스포머는 자연어 처리에서 사용되는 딥러닝 모델의 한 유형으로, 주로 번역, 요약, 텍스트 생성 등에 사용됩니다. 이는 Attention 메커니즘을 기반으로 합니다.\\n예시: 구글 번역기는 트랜스포머 모델을 사용하여 다양한 언어 간의 번역을 수행합니다.\\n연관키워드: 딥러닝, 자연어 처리, Attention\\n\\nHuggingFace',\n",
       "  'Semantic Search\\n\\n정의: 의미론적 검색은 사용자의 질의를 단순한 키워드 매칭을 넘어서 그 의미를 파악하여 관련된 결과를 반환하는 검색 방식입니다.\\n예시: 사용자가 \"태양계 행성\"이라고 검색하면, \"목성\", \"화성\" 등과 같이 관련된 행성에 대한 정보를 반환합니다.\\n연관키워드: 자연어 처리, 검색 알고리즘, 데이터 마이닝\\n\\nEmbedding',\n",
       "  '정의: 멀티모달은 여러 종류의 데이터 모드(예: 텍스트, 이미지, 소리 등)를 결합하여 처리하는 기술입니다. 이는 서로 다른 형식의 데이터 간의 상호 작용을 통해 보다 풍부하고 정확한 정보를 추출하거나 예측하는 데 사용됩니다.\\n예시: 이미지와 설명 텍스트를 함께 분석하여 더 정확한 이미지 분류를 수행하는 시스템은 멀티모달 기술의 예입니다.\\n연관키워드: 데이터 융합, 인공지능, 딥러닝',\n",
       "  '정의: 딥러닝은 인공신경망을 이용하여 복잡한 문제를 해결하는 머신러닝의 한 분야입니다. 이는 데이터에서 고수준의 표현을 학습하는 데 중점을 둡니다.\\n예시: 이미지 인식, 음성 인식, 자연어 처리 등에서 딥러닝 모델이 활용됩니다.\\n연관키워드: 인공신경망, 머신러닝, 데이터 분석\\n\\nSchema',\n",
       "  \"정의: Attention 메커니즘은 딥러닝에서 중요한 정보에 더 많은 '주의'를 기울이도록 하는 기법입니다. 이는 주로 시퀀스 데이터(예: 텍스트, 시계열 데이터)에서 사용됩니다.\\n예시: 번역 모델에서 Attention 메커니즘은 입력 문장의 중요한 부분에 더 집중하여 정확한 번역을 생성합니다.\\n연관키워드: 딥러닝, 자연어 처리, 시퀀스 모델링\\n\\n판다스 (Pandas)\",\n",
       "  '정의: 크롤링은 자동화된 방식으로 웹 페이지를 방문하여 데이터를 수집하는 과정입니다. 이는 검색 엔진 최적화나 데이터 분석에 자주 사용됩니다.\\n예시: 구글 검색 엔진이 인터넷 상의 웹사이트를 방문하여 콘텐츠를 수집하고 인덱싱하는 것이 크롤링입니다.\\n연관키워드: 데이터 수집, 웹 스크래핑, 검색 엔진\\n\\nWord2Vec',\n",
       "  '정의: 딥러닝은 인공신경망을 이용하여 복잡한 문제를 해결하는 머신러닝의 한 분야입니다. 이는 데이터에서 고수준의 표현을 학습하는 데 중점을 둡니다.\\n예시: 이미지 인식, 음성 인식, 자연어 처리 등에서 딥러닝 모델이 활용됩니다.\\n연관키워드: 인공신경망, 머신러닝, 데이터 분석\\n\\nSchema',\n",
       "  '정의: 토크나이저는 텍스트 데이터를 토큰으로 분할하는 도구입니다. 이는 자연어 처리에서 데이터를 전처리하는 데 사용됩니다.\\n예시: \"I love programming.\"이라는 문장을 [\"I\", \"love\", \"programming\", \".\"]으로 분할합니다.\\n연관키워드: 토큰화, 자연어 처리, 구문 분석\\n\\nVectorStore',\n",
       "  '정의: 토큰은 텍스트를 더 작은 단위로 분할하는 것을 의미합니다. 이는 일반적으로 단어, 문장, 또는 구절일 수 있습니다.\\n예시: 문장 \"나는 학교에 간다\"를 \"나는\", \"학교에\", \"간다\"로 분할합니다.\\n연관키워드: 토큰화, 자연어 처리, 구문 분석\\n\\nTokenizer',\n",
       "  '정의: JSON(JavaScript Object Notation)은 경량의 데이터 교환 형식으로, 사람과 기계 모두에게 읽기 쉬운 텍스트를 사용하여 데이터 객체를 표현합니다.\\n예시: {\"이름\": \"홍길동\", \"나이\": 30, \"직업\": \"개발자\"}는 JSON 형식의 데이터입니다.\\n연관키워드: 데이터 교환, 웹 개발, API\\n\\nTransformer',\n",
       "  '정의: FAISS는 페이스북에서 개발한 고속 유사성 검색 라이브러리로, 특히 대규모 벡터 집합에서 유사 벡터를 효과적으로 검색할 수 있도록 설계되었습니다.\\n예시: 수백만 개의 이미지 벡터 중에서 비슷한 이미지를 빠르게 찾는 데 FAISS가 사용될 수 있습니다.\\n연관키워드: 벡터 검색, 머신러닝, 데이터베이스 최적화\\n\\nOpen Source',\n",
       "  '정의: 벡터스토어는 벡터 형식으로 변환된 데이터를 저장하는 시스템입니다. 이는 검색, 분류 및 기타 데이터 분석 작업에 사용됩니다.\\n예시: 단어 임베딩 벡터들을 데이터베이스에 저장하여 빠르게 접근할 수 있습니다.\\n연관키워드: 임베딩, 데이터베이스, 벡터화\\n\\nSQL',\n",
       "  '정의: InstructGPT는 사용자의 지시에 따라 특정한 작업을 수행하기 위해 최적화된 GPT 모델입니다. 이 모델은 보다 정확하고 관련성 높은 결과를 생성하도록 설계되었습니다.\\n예시: 사용자가 \"이메일 초안 작성\"과 같은 특정 지시를 제공하면, InstructGPT는 관련 내용을 기반으로 이메일을 작성합니다.\\n연관키워드: 인공지능, 자연어 이해, 명령 기반 처리\\n\\nKeyword Search',\n",
       "  '정의: 토큰은 텍스트를 더 작은 단위로 분할하는 것을 의미합니다. 이는 일반적으로 단어, 문장, 또는 구절일 수 있습니다.\\n예시: 문장 \"나는 학교에 간다\"를 \"나는\", \"학교에\", \"간다\"로 분할합니다.\\n연관키워드: 토큰화, 자연어 처리, 구문 분석\\n\\nTokenizer',\n",
       "  '정의: GPT는 대규모의 데이터셋으로 사전 훈련된 생성적 언어 모델로, 다양한 텍스트 기반 작업에 활용됩니다. 이는 입력된 텍스트에 기반하여 자연스러운 언어를 생성할 수 있습니다.\\n예시: 사용자가 제공한 질문에 대해 자세한 답변을 생성하는 챗봇은 GPT 모델을 사용할 수 있습니다.\\n연관키워드: 자연어 처리, 텍스트 생성, 딥러닝\\n\\nInstructGPT',\n",
       "  '정의: 스키마는 데이터베이스나 파일의 구조를 정의하는 것으로, 데이터가 어떻게 저장되고 조직되는지에 대한 청사진을 제공합니다.\\n예시: 관계형 데이터베이스의 테이블 스키마는 열 이름, 데이터 타입, 키 제약 조건 등을 정의합니다.\\n연관키워드: 데이터베이스, 데이터 모델링, 데이터 관리\\n\\nDataFrame',\n",
       "  '정의: 임베딩은 단어나 문장 같은 텍스트 데이터를 저차원의 연속적인 벡터로 변환하는 과정입니다. 이를 통해 컴퓨터가 텍스트를 이해하고 처리할 수 있게 합니다.\\n예시: \"사과\"라는 단어를 [0.65, -0.23, 0.17]과 같은 벡터로 표현합니다.\\n연관키워드: 자연어 처리, 벡터화, 딥러닝\\n\\nToken',\n",
       "  '정의: 토크나이저는 텍스트 데이터를 토큰으로 분할하는 도구입니다. 이는 자연어 처리에서 데이터를 전처리하는 데 사용됩니다.\\n예시: \"I love programming.\"이라는 문장을 [\"I\", \"love\", \"programming\", \".\"]으로 분할합니다.\\n연관키워드: 토큰화, 자연어 처리, 구문 분석\\n\\nVectorStore',\n",
       "  '정의: 데이터 마이닝은 대량의 데이터에서 유용한 정보를 발굴하는 과정입니다. 이는 통계, 머신러닝, 패턴 인식 등의 기술을 활용합니다.\\n예시: 소매업체가 고객 구매 데이터를 분석하여 판매 전략을 수립하는 것은 데이터 마이닝의 예입니다.\\n연관키워드: 빅데이터, 패턴 인식, 예측 분석\\n\\n멀티모달 (Multimodal)',\n",
       "  '정의: Word2Vec은 단어를 벡터 공간에 매핑하여 단어 간의 의미적 관계를 나타내는 자연어 처리 기술입니다. 이는 단어의 문맥적 유사성을 기반으로 벡터를 생성합니다.\\n예시: Word2Vec 모델에서 \"왕\"과 \"여왕\"은 서로 가까운 위치에 벡터로 표현됩니다.\\n연관키워드: 자연어 처리, 임베딩, 의미론적 유사성\\nLLM (Large Language Model)',\n",
       "  '정의: 디지털 변환은 기술을 활용하여 기업의 서비스, 문화, 운영을 혁신하는 과정입니다. 이는 비즈니스 모델을 개선하고 디지털 기술을 통해 경쟁력을 높이는 데 중점을 둡니다.\\n예시: 기업이 클라우드 컴퓨팅을 도입하여 데이터 저장과 처리를 혁신하는 것은 디지털 변환의 예입니다.\\n연관키워드: 혁신, 기술, 비즈니스 모델\\n\\nCrawling',\n",
       "  '정의: DataFrame은 행과 열로 이루어진 테이블 형태의 데이터 구조로, 주로 데이터 분석 및 처리에 사용됩니다.\\n예시: 판다스 라이브러리에서 DataFrame은 다양한 데이터 타입의 열을 가질 수 있으며, 데이터 조작과 분석을 용이하게 합니다.\\n연관키워드: 데이터 분석, 판다스, 데이터 처리\\n\\nAttention 메커니즘',\n",
       "  '정의: 크롤링은 자동화된 방식으로 웹 페이지를 방문하여 데이터를 수집하는 과정입니다. 이는 검색 엔진 최적화나 데이터 분석에 자주 사용됩니다.\\n예시: 구글 검색 엔진이 인터넷 상의 웹사이트를 방문하여 콘텐츠를 수집하고 인덱싱하는 것이 크롤링입니다.\\n연관키워드: 데이터 수집, 웹 스크래핑, 검색 엔진\\n\\nWord2Vec',\n",
       "  '정의: 파서는 주어진 데이터(문자열, 파일 등)를 분석하여 구조화된 형태로 변환하는 도구입니다. 이는 프로그래밍 언어의 구문 분석이나 파일 데이터 처리에 사용됩니다.\\n예시: HTML 문서를 구문 분석하여 웹 페이지의 DOM 구조를 생성하는 것은 파싱의 한 예입니다.\\n연관키워드: 구문 분석, 컴파일러, 데이터 처리\\n\\nTF-IDF (Term Frequency-Inverse Document Frequency)',\n",
       "  '정의: InstructGPT는 사용자의 지시에 따라 특정한 작업을 수행하기 위해 최적화된 GPT 모델입니다. 이 모델은 보다 정확하고 관련성 높은 결과를 생성하도록 설계되었습니다.\\n예시: 사용자가 \"이메일 초안 작성\"과 같은 특정 지시를 제공하면, InstructGPT는 관련 내용을 기반으로 이메일을 작성합니다.\\n연관키워드: 인공지능, 자연어 이해, 명령 기반 처리\\n\\nKeyword Search',\n",
       "  '정의: 디지털 변환은 기술을 활용하여 기업의 서비스, 문화, 운영을 혁신하는 과정입니다. 이는 비즈니스 모델을 개선하고 디지털 기술을 통해 경쟁력을 높이는 데 중점을 둡니다.\\n예시: 기업이 클라우드 컴퓨팅을 도입하여 데이터 저장과 처리를 혁신하는 것은 디지털 변환의 예입니다.\\n연관키워드: 혁신, 기술, 비즈니스 모델\\n\\nCrawling',\n",
       "  '정의: 오픈 소스는 소스 코드가 공개되어 누구나 자유롭게 사용, 수정, 배포할 수 있는 소프트웨어를 의미합니다. 이는 협업과 혁신을 촉진하는 데 중요한 역할을 합니다.\\n예시: 리눅스 운영 체제는 대표적인 오픈 소스 프로젝트입니다.\\n연관키워드: 소프트웨어 개발, 커뮤니티, 기술 협업\\n\\nStructured Data',\n",
       "  '정의: FAISS는 페이스북에서 개발한 고속 유사성 검색 라이브러리로, 특히 대규모 벡터 집합에서 유사 벡터를 효과적으로 검색할 수 있도록 설계되었습니다.\\n예시: 수백만 개의 이미지 벡터 중에서 비슷한 이미지를 빠르게 찾는 데 FAISS가 사용될 수 있습니다.\\n연관키워드: 벡터 검색, 머신러닝, 데이터베이스 최적화\\n\\nOpen Source',\n",
       "  '정의: TF-IDF는 문서 내에서 단어의 중요도를 평가하는 데 사용되는 통계적 척도입니다. 이는 문서 내 단어의 빈도와 전체 문서 집합에서 그 단어의 희소성을 고려합니다.\\n예시: 많은 문서에서 자주 등장하지 않는 단어는 높은 TF-IDF 값을 가집니다.\\n연관키워드: 자연어 처리, 정보 검색, 데이터 마이닝\\n\\nDeep Learning',\n",
       "  '정의: JSON(JavaScript Object Notation)은 경량의 데이터 교환 형식으로, 사람과 기계 모두에게 읽기 쉬운 텍스트를 사용하여 데이터 객체를 표현합니다.\\n예시: {\"이름\": \"홍길동\", \"나이\": 30, \"직업\": \"개발자\"}는 JSON 형식의 데이터입니다.\\n연관키워드: 데이터 교환, 웹 개발, API\\n\\nTransformer',\n",
       "  '정의: 페이지 랭크는 웹 페이지의 중요도를 평가하는 알고리즘으로, 주로 검색 엔진 결과의 순위를 결정하는 데 사용됩니다. 이는 웹 페이지 간의 링크 구조를 분석하여 평가합니다.\\n예시: 구글 검색 엔진은 페이지 랭크 알고리즘을 사용하여 검색 결과의 순위를 정합니다.\\n연관키워드: 검색 엔진 최적화, 웹 분석, 링크 분석\\n\\n데이터 마이닝',\n",
       "  '정의: TF-IDF는 문서 내에서 단어의 중요도를 평가하는 데 사용되는 통계적 척도입니다. 이는 문서 내 단어의 빈도와 전체 문서 집합에서 그 단어의 희소성을 고려합니다.\\n예시: 많은 문서에서 자주 등장하지 않는 단어는 높은 TF-IDF 값을 가집니다.\\n연관키워드: 자연어 처리, 정보 검색, 데이터 마이닝\\n\\nDeep Learning',\n",
       "  '정의: HuggingFace는 자연어 처리를 위한 다양한 사전 훈련된 모델과 도구를 제공하는 라이브러리입니다. 이는 연구자와 개발자들이 쉽게 NLP 작업을 수행할 수 있도록 돕습니다.\\n예시: HuggingFace의 Transformers 라이브러리를 사용하여 감정 분석, 텍스트 생성 등의 작업을 수행할 수 있습니다.\\n연관키워드: 자연어 처리, 딥러닝, 라이브러리\\n\\nDigital Transformation',\n",
       "  '정의: SQL(Structured Query Language)은 데이터베이스에서 데이터를 관리하기 위한 프로그래밍 언어입니다. 데이터 조회, 수정, 삽입, 삭제 등 다양한 작업을 수행할 수 있습니다.\\n예시: SELECT * FROM users WHERE age > 18;은 18세 이상의 사용자 정보를 조회합니다.\\n연관키워드: 데이터베이스, 쿼리, 데이터 관리\\n\\nCSV',\n",
       "  '정의: 임베딩은 단어나 문장 같은 텍스트 데이터를 저차원의 연속적인 벡터로 변환하는 과정입니다. 이를 통해 컴퓨터가 텍스트를 이해하고 처리할 수 있게 합니다.\\n예시: \"사과\"라는 단어를 [0.65, -0.23, 0.17]과 같은 벡터로 표현합니다.\\n연관키워드: 자연어 처리, 벡터화, 딥러닝\\n\\nToken',\n",
       "  '정의: 멀티모달은 여러 종류의 데이터 모드(예: 텍스트, 이미지, 소리 등)를 결합하여 처리하는 기술입니다. 이는 서로 다른 형식의 데이터 간의 상호 작용을 통해 보다 풍부하고 정확한 정보를 추출하거나 예측하는 데 사용됩니다.\\n예시: 이미지와 설명 텍스트를 함께 분석하여 더 정확한 이미지 분류를 수행하는 시스템은 멀티모달 기술의 예입니다.\\n연관키워드: 데이터 융합, 인공지능, 딥러닝',\n",
       "  '정의: LLM은 대규모의 텍스트 데이터로 훈련된 큰 규모의 언어 모델을 의미합니다. 이러한 모델은 다양한 자연어 이해 및 생성 작업에 사용됩니다.\\n예시: OpenAI의 GPT 시리즈는 대표적인 대규모 언어 모델입니다.\\n연관키워드: 자연어 처리, 딥러닝, 텍스트 생성\\n\\nFAISS (Facebook AI Similarity Search)',\n",
       "  '정의: 페이지 랭크는 웹 페이지의 중요도를 평가하는 알고리즘으로, 주로 검색 엔진 결과의 순위를 결정하는 데 사용됩니다. 이는 웹 페이지 간의 링크 구조를 분석하여 평가합니다.\\n예시: 구글 검색 엔진은 페이지 랭크 알고리즘을 사용하여 검색 결과의 순위를 정합니다.\\n연관키워드: 검색 엔진 최적화, 웹 분석, 링크 분석\\n\\n데이터 마이닝',\n",
       "  '정의: 데이터 마이닝은 대량의 데이터에서 유용한 정보를 발굴하는 과정입니다. 이는 통계, 머신러닝, 패턴 인식 등의 기술을 활용합니다.\\n예시: 소매업체가 고객 구매 데이터를 분석하여 판매 전략을 수립하는 것은 데이터 마이닝의 예입니다.\\n연관키워드: 빅데이터, 패턴 인식, 예측 분석\\n\\n멀티모달 (Multimodal)',\n",
       "  '정의: 판다스는 파이썬 프로그래밍 언어를 위한 데이터 분석 및 조작 도구를 제공하는 라이브러리입니다. 이는 데이터 분석 작업을 효율적으로 수행할 수 있게 합니다.\\n예시: 판다스를 사용하여 CSV 파일을 읽고, 데이터를 정제하며, 다양한 분석을 수행할 수 있습니다.\\n연관키워드: 데이터 분석, 파이썬, 데이터 처리\\n\\nGPT (Generative Pretrained Transformer)',\n",
       "  '정의: 오픈 소스는 소스 코드가 공개되어 누구나 자유롭게 사용, 수정, 배포할 수 있는 소프트웨어를 의미합니다. 이는 협업과 혁신을 촉진하는 데 중요한 역할을 합니다.\\n예시: 리눅스 운영 체제는 대표적인 오픈 소스 프로젝트입니다.\\n연관키워드: 소프트웨어 개발, 커뮤니티, 기술 협업\\n\\nStructured Data'],\n",
       " 'uris': None,\n",
       " 'data': None}"
      ]
     },
     "execution_count": 32,
     "metadata": {},
     "output_type": "execute_result"
    }
   ],
   "source": [
    "# source 기준으로 필터링\n",
    "example_db.get(where={\"source\": \"./data/appendix-keywords.txt\"})"
   ]
  }
 ],
 "metadata": {
  "kernelspec": {
   "display_name": "py-test",
   "language": "python",
   "name": "python3"
  },
  "language_info": {
   "codemirror_mode": {
    "name": "ipython",
    "version": 3
   },
   "file_extension": ".py",
   "mimetype": "text/x-python",
   "name": "python",
   "nbconvert_exporter": "python",
   "pygments_lexer": "ipython3",
   "version": "3.10.13"
  }
 },
 "nbformat": 4,
 "nbformat_minor": 5
}
